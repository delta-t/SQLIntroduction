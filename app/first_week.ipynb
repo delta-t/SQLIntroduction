{
 "cells": [
  {
   "cell_type": "markdown",
   "metadata": {},
   "source": [
    "# Выборка данных\n",
    "## Содержание\n",
    "В этом уроке будет рассмотрен синтаксис и семантика следующих SQL запросов:\n",
    "\n",
    "* выборка всех данных из таблицы;\n",
    "* выборка данных из отдельных столбцов;\n",
    "* выборка отдельных столбцов и присвоение им новых имен;\n",
    "* создание вычисляемых столбцов;\n",
    "* вычисляемые столбцы, математические функции;\n",
    "* вычисляемые столбцы, логические функции;\n",
    "* выборка данных по простому условию;\n",
    "* выборка данных с использованием логических выражений и операций;\n",
    "* выборка данных, операторы BETWEEN, IN;\n",
    "* выборка текстовых данных по шаблону, оператор LIKE;\n",
    "* выборка данных с сортировкой.\n",
    "\n",
    "Структура и наполнение таблицы\n",
    "\n",
    "Все запросы будут формулироваться для таблицы book(создание, заполнение):\n",
    "\n",
    "![table](../images/sql_intro_book_table.png)"
   ]
  },
  {
   "cell_type": "code",
   "execution_count": 1,
   "metadata": {},
   "outputs": [],
   "source": [
    "import pandas as pd\n",
    "import numpy as np\n",
    "import mysql.connector"
   ]
  },
  {
   "cell_type": "code",
   "execution_count": 2,
   "metadata": {},
   "outputs": [],
   "source": [
    "config = {\n",
    "        'user': 'root',\n",
    "        'password': 'root',\n",
    "        'host': 'db',\n",
    "        'port': 3306,\n",
    "        'database': 'SQLIntro',\n",
    "        'charset': 'utf8'\n",
    "    }"
   ]
  },
  {
   "cell_type": "code",
   "execution_count": 3,
   "metadata": {},
   "outputs": [],
   "source": [
    "def select_data(query: str) -> pd.DataFrame:\n",
    "    connection = mysql.connector.connect(**config)\n",
    "    df_mysql = pd.read_sql(query, con=connection)\n",
    "    connection.close()\n",
    "    return df_mysql"
   ]
  },
  {
   "cell_type": "code",
   "execution_count": 4,
   "metadata": {},
   "outputs": [
    {
     "data": {
      "text/html": [
       "<style  type=\"text/css\" >\n",
       "</style><table id=\"T_6210431e_0e18_11eb_b7b5_0242ac150003\" ><thead>    <tr>        <th class=\"col_heading level0 col0\" >book_id</th>        <th class=\"col_heading level0 col1\" >title</th>        <th class=\"col_heading level0 col2\" >author</th>        <th class=\"col_heading level0 col3\" >price</th>        <th class=\"col_heading level0 col4\" >amount</th>    </tr></thead><tbody>\n",
       "                <tr>\n",
       "                                <td id=\"T_6210431e_0e18_11eb_b7b5_0242ac150003row0_col0\" class=\"data row0 col0\" >1</td>\n",
       "                        <td id=\"T_6210431e_0e18_11eb_b7b5_0242ac150003row0_col1\" class=\"data row0 col1\" >Мастер и Маргарита</td>\n",
       "                        <td id=\"T_6210431e_0e18_11eb_b7b5_0242ac150003row0_col2\" class=\"data row0 col2\" >Булгаков М.А.</td>\n",
       "                        <td id=\"T_6210431e_0e18_11eb_b7b5_0242ac150003row0_col3\" class=\"data row0 col3\" >670.990000</td>\n",
       "                        <td id=\"T_6210431e_0e18_11eb_b7b5_0242ac150003row0_col4\" class=\"data row0 col4\" >3</td>\n",
       "            </tr>\n",
       "            <tr>\n",
       "                                <td id=\"T_6210431e_0e18_11eb_b7b5_0242ac150003row1_col0\" class=\"data row1 col0\" >2</td>\n",
       "                        <td id=\"T_6210431e_0e18_11eb_b7b5_0242ac150003row1_col1\" class=\"data row1 col1\" >Белая гвардия</td>\n",
       "                        <td id=\"T_6210431e_0e18_11eb_b7b5_0242ac150003row1_col2\" class=\"data row1 col2\" >Булгаков М.А.</td>\n",
       "                        <td id=\"T_6210431e_0e18_11eb_b7b5_0242ac150003row1_col3\" class=\"data row1 col3\" >540.500000</td>\n",
       "                        <td id=\"T_6210431e_0e18_11eb_b7b5_0242ac150003row1_col4\" class=\"data row1 col4\" >5</td>\n",
       "            </tr>\n",
       "            <tr>\n",
       "                                <td id=\"T_6210431e_0e18_11eb_b7b5_0242ac150003row2_col0\" class=\"data row2 col0\" >3</td>\n",
       "                        <td id=\"T_6210431e_0e18_11eb_b7b5_0242ac150003row2_col1\" class=\"data row2 col1\" >Идиот</td>\n",
       "                        <td id=\"T_6210431e_0e18_11eb_b7b5_0242ac150003row2_col2\" class=\"data row2 col2\" >Достоевский Ф.М.</td>\n",
       "                        <td id=\"T_6210431e_0e18_11eb_b7b5_0242ac150003row2_col3\" class=\"data row2 col3\" >460.000000</td>\n",
       "                        <td id=\"T_6210431e_0e18_11eb_b7b5_0242ac150003row2_col4\" class=\"data row2 col4\" >10</td>\n",
       "            </tr>\n",
       "            <tr>\n",
       "                                <td id=\"T_6210431e_0e18_11eb_b7b5_0242ac150003row3_col0\" class=\"data row3 col0\" >4</td>\n",
       "                        <td id=\"T_6210431e_0e18_11eb_b7b5_0242ac150003row3_col1\" class=\"data row3 col1\" >Братья Карамазовы</td>\n",
       "                        <td id=\"T_6210431e_0e18_11eb_b7b5_0242ac150003row3_col2\" class=\"data row3 col2\" >Достоевский Ф.М.</td>\n",
       "                        <td id=\"T_6210431e_0e18_11eb_b7b5_0242ac150003row3_col3\" class=\"data row3 col3\" >799.010000</td>\n",
       "                        <td id=\"T_6210431e_0e18_11eb_b7b5_0242ac150003row3_col4\" class=\"data row3 col4\" >2</td>\n",
       "            </tr>\n",
       "            <tr>\n",
       "                                <td id=\"T_6210431e_0e18_11eb_b7b5_0242ac150003row4_col0\" class=\"data row4 col0\" >5</td>\n",
       "                        <td id=\"T_6210431e_0e18_11eb_b7b5_0242ac150003row4_col1\" class=\"data row4 col1\" >Игрок</td>\n",
       "                        <td id=\"T_6210431e_0e18_11eb_b7b5_0242ac150003row4_col2\" class=\"data row4 col2\" >Достоевский Ф.М.</td>\n",
       "                        <td id=\"T_6210431e_0e18_11eb_b7b5_0242ac150003row4_col3\" class=\"data row4 col3\" >480.500000</td>\n",
       "                        <td id=\"T_6210431e_0e18_11eb_b7b5_0242ac150003row4_col4\" class=\"data row4 col4\" >10</td>\n",
       "            </tr>\n",
       "            <tr>\n",
       "                                <td id=\"T_6210431e_0e18_11eb_b7b5_0242ac150003row5_col0\" class=\"data row5 col0\" >6</td>\n",
       "                        <td id=\"T_6210431e_0e18_11eb_b7b5_0242ac150003row5_col1\" class=\"data row5 col1\" >Стихотворения и поэмы</td>\n",
       "                        <td id=\"T_6210431e_0e18_11eb_b7b5_0242ac150003row5_col2\" class=\"data row5 col2\" >Есенин С.А.</td>\n",
       "                        <td id=\"T_6210431e_0e18_11eb_b7b5_0242ac150003row5_col3\" class=\"data row5 col3\" >650.000000</td>\n",
       "                        <td id=\"T_6210431e_0e18_11eb_b7b5_0242ac150003row5_col4\" class=\"data row5 col4\" >15</td>\n",
       "            </tr>\n",
       "    </tbody></table>"
      ],
      "text/plain": [
       "<pandas.io.formats.style.Styler at 0x7f4c71ed2a90>"
      ]
     },
     "execution_count": 4,
     "metadata": {},
     "output_type": "execute_result"
    }
   ],
   "source": [
    "query = '''\n",
    "        SELECT *\n",
    "        FROM book;\n",
    "        '''\n",
    "\n",
    "select_data(query).style.hide_index()"
   ]
  },
  {
   "cell_type": "code",
   "execution_count": 5,
   "metadata": {},
   "outputs": [
    {
     "data": {
      "text/html": [
       "<style  type=\"text/css\" >\n",
       "</style><table id=\"T_6211e8fe_0e18_11eb_b7b5_0242ac150003\" ><thead>    <tr>        <th class=\"col_heading level0 col0\" >author</th>        <th class=\"col_heading level0 col1\" >title</th>        <th class=\"col_heading level0 col2\" >price</th>    </tr></thead><tbody>\n",
       "                <tr>\n",
       "                                <td id=\"T_6211e8fe_0e18_11eb_b7b5_0242ac150003row0_col0\" class=\"data row0 col0\" >Булгаков М.А.</td>\n",
       "                        <td id=\"T_6211e8fe_0e18_11eb_b7b5_0242ac150003row0_col1\" class=\"data row0 col1\" >Мастер и Маргарита</td>\n",
       "                        <td id=\"T_6211e8fe_0e18_11eb_b7b5_0242ac150003row0_col2\" class=\"data row0 col2\" >670.990000</td>\n",
       "            </tr>\n",
       "            <tr>\n",
       "                                <td id=\"T_6211e8fe_0e18_11eb_b7b5_0242ac150003row1_col0\" class=\"data row1 col0\" >Булгаков М.А.</td>\n",
       "                        <td id=\"T_6211e8fe_0e18_11eb_b7b5_0242ac150003row1_col1\" class=\"data row1 col1\" >Белая гвардия</td>\n",
       "                        <td id=\"T_6211e8fe_0e18_11eb_b7b5_0242ac150003row1_col2\" class=\"data row1 col2\" >540.500000</td>\n",
       "            </tr>\n",
       "            <tr>\n",
       "                                <td id=\"T_6211e8fe_0e18_11eb_b7b5_0242ac150003row2_col0\" class=\"data row2 col0\" >Достоевский Ф.М.</td>\n",
       "                        <td id=\"T_6211e8fe_0e18_11eb_b7b5_0242ac150003row2_col1\" class=\"data row2 col1\" >Идиот</td>\n",
       "                        <td id=\"T_6211e8fe_0e18_11eb_b7b5_0242ac150003row2_col2\" class=\"data row2 col2\" >460.000000</td>\n",
       "            </tr>\n",
       "            <tr>\n",
       "                                <td id=\"T_6211e8fe_0e18_11eb_b7b5_0242ac150003row3_col0\" class=\"data row3 col0\" >Достоевский Ф.М.</td>\n",
       "                        <td id=\"T_6211e8fe_0e18_11eb_b7b5_0242ac150003row3_col1\" class=\"data row3 col1\" >Братья Карамазовы</td>\n",
       "                        <td id=\"T_6211e8fe_0e18_11eb_b7b5_0242ac150003row3_col2\" class=\"data row3 col2\" >799.010000</td>\n",
       "            </tr>\n",
       "            <tr>\n",
       "                                <td id=\"T_6211e8fe_0e18_11eb_b7b5_0242ac150003row4_col0\" class=\"data row4 col0\" >Достоевский Ф.М.</td>\n",
       "                        <td id=\"T_6211e8fe_0e18_11eb_b7b5_0242ac150003row4_col1\" class=\"data row4 col1\" >Игрок</td>\n",
       "                        <td id=\"T_6211e8fe_0e18_11eb_b7b5_0242ac150003row4_col2\" class=\"data row4 col2\" >480.500000</td>\n",
       "            </tr>\n",
       "            <tr>\n",
       "                                <td id=\"T_6211e8fe_0e18_11eb_b7b5_0242ac150003row5_col0\" class=\"data row5 col0\" >Есенин С.А.</td>\n",
       "                        <td id=\"T_6211e8fe_0e18_11eb_b7b5_0242ac150003row5_col1\" class=\"data row5 col1\" >Стихотворения и поэмы</td>\n",
       "                        <td id=\"T_6211e8fe_0e18_11eb_b7b5_0242ac150003row5_col2\" class=\"data row5 col2\" >650.000000</td>\n",
       "            </tr>\n",
       "    </tbody></table>"
      ],
      "text/plain": [
       "<pandas.io.formats.style.Styler at 0x7f4c71ed2ac0>"
      ]
     },
     "execution_count": 5,
     "metadata": {},
     "output_type": "execute_result"
    }
   ],
   "source": [
    "query = '''\n",
    "        SELECT author, title, price\n",
    "        FROM book;\n",
    "        '''\n",
    "\n",
    "select_data(query).style.hide_index()"
   ]
  },
  {
   "cell_type": "code",
   "execution_count": 6,
   "metadata": {},
   "outputs": [
    {
     "data": {
      "text/html": [
       "<style  type=\"text/css\" >\n",
       "</style><table id=\"T_6213ac2a_0e18_11eb_b7b5_0242ac150003\" ><thead>    <tr>        <th class=\"col_heading level0 col0\" >Название</th>        <th class=\"col_heading level0 col1\" >Автор</th>    </tr></thead><tbody>\n",
       "                <tr>\n",
       "                                <td id=\"T_6213ac2a_0e18_11eb_b7b5_0242ac150003row0_col0\" class=\"data row0 col0\" >Мастер и Маргарита</td>\n",
       "                        <td id=\"T_6213ac2a_0e18_11eb_b7b5_0242ac150003row0_col1\" class=\"data row0 col1\" >Булгаков М.А.</td>\n",
       "            </tr>\n",
       "            <tr>\n",
       "                                <td id=\"T_6213ac2a_0e18_11eb_b7b5_0242ac150003row1_col0\" class=\"data row1 col0\" >Белая гвардия</td>\n",
       "                        <td id=\"T_6213ac2a_0e18_11eb_b7b5_0242ac150003row1_col1\" class=\"data row1 col1\" >Булгаков М.А.</td>\n",
       "            </tr>\n",
       "            <tr>\n",
       "                                <td id=\"T_6213ac2a_0e18_11eb_b7b5_0242ac150003row2_col0\" class=\"data row2 col0\" >Идиот</td>\n",
       "                        <td id=\"T_6213ac2a_0e18_11eb_b7b5_0242ac150003row2_col1\" class=\"data row2 col1\" >Достоевский Ф.М.</td>\n",
       "            </tr>\n",
       "            <tr>\n",
       "                                <td id=\"T_6213ac2a_0e18_11eb_b7b5_0242ac150003row3_col0\" class=\"data row3 col0\" >Братья Карамазовы</td>\n",
       "                        <td id=\"T_6213ac2a_0e18_11eb_b7b5_0242ac150003row3_col1\" class=\"data row3 col1\" >Достоевский Ф.М.</td>\n",
       "            </tr>\n",
       "            <tr>\n",
       "                                <td id=\"T_6213ac2a_0e18_11eb_b7b5_0242ac150003row4_col0\" class=\"data row4 col0\" >Игрок</td>\n",
       "                        <td id=\"T_6213ac2a_0e18_11eb_b7b5_0242ac150003row4_col1\" class=\"data row4 col1\" >Достоевский Ф.М.</td>\n",
       "            </tr>\n",
       "            <tr>\n",
       "                                <td id=\"T_6213ac2a_0e18_11eb_b7b5_0242ac150003row5_col0\" class=\"data row5 col0\" >Стихотворения и поэмы</td>\n",
       "                        <td id=\"T_6213ac2a_0e18_11eb_b7b5_0242ac150003row5_col1\" class=\"data row5 col1\" >Есенин С.А.</td>\n",
       "            </tr>\n",
       "    </tbody></table>"
      ],
      "text/plain": [
       "<pandas.io.formats.style.Styler at 0x7f4c71ed2850>"
      ]
     },
     "execution_count": 6,
     "metadata": {},
     "output_type": "execute_result"
    }
   ],
   "source": [
    "query = '''\n",
    "        SELECT title as Название, author as Автор\n",
    "        FROM book;\n",
    "        '''\n",
    "\n",
    "select_data(query).style.hide_index()"
   ]
  },
  {
   "cell_type": "code",
   "execution_count": 7,
   "metadata": {},
   "outputs": [
    {
     "data": {
      "text/html": [
       "<style  type=\"text/css\" >\n",
       "</style><table id=\"T_621559f8_0e18_11eb_b7b5_0242ac150003\" ><thead>    <tr>        <th class=\"col_heading level0 col0\" >title</th>        <th class=\"col_heading level0 col1\" >amount</th>        <th class=\"col_heading level0 col2\" >pack</th>    </tr></thead><tbody>\n",
       "                <tr>\n",
       "                                <td id=\"T_621559f8_0e18_11eb_b7b5_0242ac150003row0_col0\" class=\"data row0 col0\" >Мастер и Маргарита</td>\n",
       "                        <td id=\"T_621559f8_0e18_11eb_b7b5_0242ac150003row0_col1\" class=\"data row0 col1\" >3</td>\n",
       "                        <td id=\"T_621559f8_0e18_11eb_b7b5_0242ac150003row0_col2\" class=\"data row0 col2\" >4.950000</td>\n",
       "            </tr>\n",
       "            <tr>\n",
       "                                <td id=\"T_621559f8_0e18_11eb_b7b5_0242ac150003row1_col0\" class=\"data row1 col0\" >Белая гвардия</td>\n",
       "                        <td id=\"T_621559f8_0e18_11eb_b7b5_0242ac150003row1_col1\" class=\"data row1 col1\" >5</td>\n",
       "                        <td id=\"T_621559f8_0e18_11eb_b7b5_0242ac150003row1_col2\" class=\"data row1 col2\" >8.250000</td>\n",
       "            </tr>\n",
       "            <tr>\n",
       "                                <td id=\"T_621559f8_0e18_11eb_b7b5_0242ac150003row2_col0\" class=\"data row2 col0\" >Идиот</td>\n",
       "                        <td id=\"T_621559f8_0e18_11eb_b7b5_0242ac150003row2_col1\" class=\"data row2 col1\" >10</td>\n",
       "                        <td id=\"T_621559f8_0e18_11eb_b7b5_0242ac150003row2_col2\" class=\"data row2 col2\" >16.500000</td>\n",
       "            </tr>\n",
       "            <tr>\n",
       "                                <td id=\"T_621559f8_0e18_11eb_b7b5_0242ac150003row3_col0\" class=\"data row3 col0\" >Братья Карамазовы</td>\n",
       "                        <td id=\"T_621559f8_0e18_11eb_b7b5_0242ac150003row3_col1\" class=\"data row3 col1\" >2</td>\n",
       "                        <td id=\"T_621559f8_0e18_11eb_b7b5_0242ac150003row3_col2\" class=\"data row3 col2\" >3.300000</td>\n",
       "            </tr>\n",
       "            <tr>\n",
       "                                <td id=\"T_621559f8_0e18_11eb_b7b5_0242ac150003row4_col0\" class=\"data row4 col0\" >Игрок</td>\n",
       "                        <td id=\"T_621559f8_0e18_11eb_b7b5_0242ac150003row4_col1\" class=\"data row4 col1\" >10</td>\n",
       "                        <td id=\"T_621559f8_0e18_11eb_b7b5_0242ac150003row4_col2\" class=\"data row4 col2\" >16.500000</td>\n",
       "            </tr>\n",
       "            <tr>\n",
       "                                <td id=\"T_621559f8_0e18_11eb_b7b5_0242ac150003row5_col0\" class=\"data row5 col0\" >Стихотворения и поэмы</td>\n",
       "                        <td id=\"T_621559f8_0e18_11eb_b7b5_0242ac150003row5_col1\" class=\"data row5 col1\" >15</td>\n",
       "                        <td id=\"T_621559f8_0e18_11eb_b7b5_0242ac150003row5_col2\" class=\"data row5 col2\" >24.750000</td>\n",
       "            </tr>\n",
       "    </tbody></table>"
      ],
      "text/plain": [
       "<pandas.io.formats.style.Styler at 0x7f4c26c69d90>"
      ]
     },
     "execution_count": 7,
     "metadata": {},
     "output_type": "execute_result"
    }
   ],
   "source": [
    "query = '''\n",
    "        SELECT title, amount, amount*1.65 AS pack\n",
    "        FROM book;\n",
    "        '''\n",
    "select_data(query).style.hide_index()"
   ]
  },
  {
   "cell_type": "code",
   "execution_count": 8,
   "metadata": {},
   "outputs": [
    {
     "data": {
      "text/html": [
       "<style  type=\"text/css\" >\n",
       "</style><table id=\"T_621754ce_0e18_11eb_b7b5_0242ac150003\" ><thead>    <tr>        <th class=\"col_heading level0 col0\" >title</th>        <th class=\"col_heading level0 col1\" >author</th>        <th class=\"col_heading level0 col2\" >amount</th>        <th class=\"col_heading level0 col3\" >new_price</th>    </tr></thead><tbody>\n",
       "                <tr>\n",
       "                                <td id=\"T_621754ce_0e18_11eb_b7b5_0242ac150003row0_col0\" class=\"data row0 col0\" >Мастер и Маргарита</td>\n",
       "                        <td id=\"T_621754ce_0e18_11eb_b7b5_0242ac150003row0_col1\" class=\"data row0 col1\" >Булгаков М.А.</td>\n",
       "                        <td id=\"T_621754ce_0e18_11eb_b7b5_0242ac150003row0_col2\" class=\"data row0 col2\" >3</td>\n",
       "                        <td id=\"T_621754ce_0e18_11eb_b7b5_0242ac150003row0_col3\" class=\"data row0 col3\" >469.690000</td>\n",
       "            </tr>\n",
       "            <tr>\n",
       "                                <td id=\"T_621754ce_0e18_11eb_b7b5_0242ac150003row1_col0\" class=\"data row1 col0\" >Белая гвардия</td>\n",
       "                        <td id=\"T_621754ce_0e18_11eb_b7b5_0242ac150003row1_col1\" class=\"data row1 col1\" >Булгаков М.А.</td>\n",
       "                        <td id=\"T_621754ce_0e18_11eb_b7b5_0242ac150003row1_col2\" class=\"data row1 col2\" >5</td>\n",
       "                        <td id=\"T_621754ce_0e18_11eb_b7b5_0242ac150003row1_col3\" class=\"data row1 col3\" >378.350000</td>\n",
       "            </tr>\n",
       "            <tr>\n",
       "                                <td id=\"T_621754ce_0e18_11eb_b7b5_0242ac150003row2_col0\" class=\"data row2 col0\" >Идиот</td>\n",
       "                        <td id=\"T_621754ce_0e18_11eb_b7b5_0242ac150003row2_col1\" class=\"data row2 col1\" >Достоевский Ф.М.</td>\n",
       "                        <td id=\"T_621754ce_0e18_11eb_b7b5_0242ac150003row2_col2\" class=\"data row2 col2\" >10</td>\n",
       "                        <td id=\"T_621754ce_0e18_11eb_b7b5_0242ac150003row2_col3\" class=\"data row2 col3\" >322.000000</td>\n",
       "            </tr>\n",
       "            <tr>\n",
       "                                <td id=\"T_621754ce_0e18_11eb_b7b5_0242ac150003row3_col0\" class=\"data row3 col0\" >Братья Карамазовы</td>\n",
       "                        <td id=\"T_621754ce_0e18_11eb_b7b5_0242ac150003row3_col1\" class=\"data row3 col1\" >Достоевский Ф.М.</td>\n",
       "                        <td id=\"T_621754ce_0e18_11eb_b7b5_0242ac150003row3_col2\" class=\"data row3 col2\" >2</td>\n",
       "                        <td id=\"T_621754ce_0e18_11eb_b7b5_0242ac150003row3_col3\" class=\"data row3 col3\" >559.310000</td>\n",
       "            </tr>\n",
       "            <tr>\n",
       "                                <td id=\"T_621754ce_0e18_11eb_b7b5_0242ac150003row4_col0\" class=\"data row4 col0\" >Игрок</td>\n",
       "                        <td id=\"T_621754ce_0e18_11eb_b7b5_0242ac150003row4_col1\" class=\"data row4 col1\" >Достоевский Ф.М.</td>\n",
       "                        <td id=\"T_621754ce_0e18_11eb_b7b5_0242ac150003row4_col2\" class=\"data row4 col2\" >10</td>\n",
       "                        <td id=\"T_621754ce_0e18_11eb_b7b5_0242ac150003row4_col3\" class=\"data row4 col3\" >336.350000</td>\n",
       "            </tr>\n",
       "            <tr>\n",
       "                                <td id=\"T_621754ce_0e18_11eb_b7b5_0242ac150003row5_col0\" class=\"data row5 col0\" >Стихотворения и поэмы</td>\n",
       "                        <td id=\"T_621754ce_0e18_11eb_b7b5_0242ac150003row5_col1\" class=\"data row5 col1\" >Есенин С.А.</td>\n",
       "                        <td id=\"T_621754ce_0e18_11eb_b7b5_0242ac150003row5_col2\" class=\"data row5 col2\" >15</td>\n",
       "                        <td id=\"T_621754ce_0e18_11eb_b7b5_0242ac150003row5_col3\" class=\"data row5 col3\" >455.000000</td>\n",
       "            </tr>\n",
       "    </tbody></table>"
      ],
      "text/plain": [
       "<pandas.io.formats.style.Styler at 0x7f4c71ed2670>"
      ]
     },
     "execution_count": 8,
     "metadata": {},
     "output_type": "execute_result"
    }
   ],
   "source": [
    "query = '''\n",
    "        SELECT title, author, amount, round(price*0.7, 2) AS new_price\n",
    "        FROM book;\n",
    "        '''\n",
    "\n",
    "select_data(query).style.hide_index()"
   ]
  },
  {
   "cell_type": "code",
   "execution_count": 9,
   "metadata": {},
   "outputs": [
    {
     "data": {
      "text/html": [
       "<style  type=\"text/css\" >\n",
       "</style><table id=\"T_62197222_0e18_11eb_b7b5_0242ac150003\" ><thead>    <tr>        <th class=\"col_heading level0 col0\" >author</th>        <th class=\"col_heading level0 col1\" >title</th>        <th class=\"col_heading level0 col2\" >new_price</th>    </tr></thead><tbody>\n",
       "                <tr>\n",
       "                                <td id=\"T_62197222_0e18_11eb_b7b5_0242ac150003row0_col0\" class=\"data row0 col0\" >Булгаков М.А.</td>\n",
       "                        <td id=\"T_62197222_0e18_11eb_b7b5_0242ac150003row0_col1\" class=\"data row0 col1\" >Мастер и Маргарита</td>\n",
       "                        <td id=\"T_62197222_0e18_11eb_b7b5_0242ac150003row0_col2\" class=\"data row0 col2\" >738.090000</td>\n",
       "            </tr>\n",
       "            <tr>\n",
       "                                <td id=\"T_62197222_0e18_11eb_b7b5_0242ac150003row1_col0\" class=\"data row1 col0\" >Булгаков М.А.</td>\n",
       "                        <td id=\"T_62197222_0e18_11eb_b7b5_0242ac150003row1_col1\" class=\"data row1 col1\" >Белая гвардия</td>\n",
       "                        <td id=\"T_62197222_0e18_11eb_b7b5_0242ac150003row1_col2\" class=\"data row1 col2\" >594.550000</td>\n",
       "            </tr>\n",
       "            <tr>\n",
       "                                <td id=\"T_62197222_0e18_11eb_b7b5_0242ac150003row2_col0\" class=\"data row2 col0\" >Достоевский Ф.М.</td>\n",
       "                        <td id=\"T_62197222_0e18_11eb_b7b5_0242ac150003row2_col1\" class=\"data row2 col1\" >Идиот</td>\n",
       "                        <td id=\"T_62197222_0e18_11eb_b7b5_0242ac150003row2_col2\" class=\"data row2 col2\" >460.000000</td>\n",
       "            </tr>\n",
       "            <tr>\n",
       "                                <td id=\"T_62197222_0e18_11eb_b7b5_0242ac150003row3_col0\" class=\"data row3 col0\" >Достоевский Ф.М.</td>\n",
       "                        <td id=\"T_62197222_0e18_11eb_b7b5_0242ac150003row3_col1\" class=\"data row3 col1\" >Братья Карамазовы</td>\n",
       "                        <td id=\"T_62197222_0e18_11eb_b7b5_0242ac150003row3_col2\" class=\"data row3 col2\" >799.010000</td>\n",
       "            </tr>\n",
       "            <tr>\n",
       "                                <td id=\"T_62197222_0e18_11eb_b7b5_0242ac150003row4_col0\" class=\"data row4 col0\" >Достоевский Ф.М.</td>\n",
       "                        <td id=\"T_62197222_0e18_11eb_b7b5_0242ac150003row4_col1\" class=\"data row4 col1\" >Игрок</td>\n",
       "                        <td id=\"T_62197222_0e18_11eb_b7b5_0242ac150003row4_col2\" class=\"data row4 col2\" >480.500000</td>\n",
       "            </tr>\n",
       "            <tr>\n",
       "                                <td id=\"T_62197222_0e18_11eb_b7b5_0242ac150003row5_col0\" class=\"data row5 col0\" >Есенин С.А.</td>\n",
       "                        <td id=\"T_62197222_0e18_11eb_b7b5_0242ac150003row5_col1\" class=\"data row5 col1\" >Стихотворения и поэмы</td>\n",
       "                        <td id=\"T_62197222_0e18_11eb_b7b5_0242ac150003row5_col2\" class=\"data row5 col2\" >682.500000</td>\n",
       "            </tr>\n",
       "    </tbody></table>"
      ],
      "text/plain": [
       "<pandas.io.formats.style.Styler at 0x7f4c26c9c910>"
      ]
     },
     "execution_count": 9,
     "metadata": {},
     "output_type": "execute_result"
    }
   ],
   "source": [
    "query = '''\n",
    "        SELECT author, title,\n",
    "               round(IF (author='Булгаков М.А.', price*1.10, IF(author='Есенин С.А.', price*1.05, price)), 2) AS new_price\n",
    "        FROM book;\n",
    "        '''\n",
    "\n",
    "select_data(query).style.hide_index()"
   ]
  },
  {
   "cell_type": "code",
   "execution_count": 10,
   "metadata": {},
   "outputs": [
    {
     "data": {
      "text/html": [
       "<style  type=\"text/css\" >\n",
       "</style><table id=\"T_621b36ac_0e18_11eb_b7b5_0242ac150003\" ><thead>    <tr>        <th class=\"col_heading level0 col0\" >author</th>        <th class=\"col_heading level0 col1\" >title</th>        <th class=\"col_heading level0 col2\" >price</th>    </tr></thead><tbody>\n",
       "                <tr>\n",
       "                                <td id=\"T_621b36ac_0e18_11eb_b7b5_0242ac150003row0_col0\" class=\"data row0 col0\" >Булгаков М.А.</td>\n",
       "                        <td id=\"T_621b36ac_0e18_11eb_b7b5_0242ac150003row0_col1\" class=\"data row0 col1\" >Мастер и Маргарита</td>\n",
       "                        <td id=\"T_621b36ac_0e18_11eb_b7b5_0242ac150003row0_col2\" class=\"data row0 col2\" >670.990000</td>\n",
       "            </tr>\n",
       "            <tr>\n",
       "                                <td id=\"T_621b36ac_0e18_11eb_b7b5_0242ac150003row1_col0\" class=\"data row1 col0\" >Булгаков М.А.</td>\n",
       "                        <td id=\"T_621b36ac_0e18_11eb_b7b5_0242ac150003row1_col1\" class=\"data row1 col1\" >Белая гвардия</td>\n",
       "                        <td id=\"T_621b36ac_0e18_11eb_b7b5_0242ac150003row1_col2\" class=\"data row1 col2\" >540.500000</td>\n",
       "            </tr>\n",
       "            <tr>\n",
       "                                <td id=\"T_621b36ac_0e18_11eb_b7b5_0242ac150003row2_col0\" class=\"data row2 col0\" >Достоевский Ф.М.</td>\n",
       "                        <td id=\"T_621b36ac_0e18_11eb_b7b5_0242ac150003row2_col1\" class=\"data row2 col1\" >Братья Карамазовы</td>\n",
       "                        <td id=\"T_621b36ac_0e18_11eb_b7b5_0242ac150003row2_col2\" class=\"data row2 col2\" >799.010000</td>\n",
       "            </tr>\n",
       "    </tbody></table>"
      ],
      "text/plain": [
       "<pandas.io.formats.style.Styler at 0x7f4c6c95ba00>"
      ]
     },
     "execution_count": 10,
     "metadata": {},
     "output_type": "execute_result"
    }
   ],
   "source": [
    "query = '''\n",
    "        SELECT author, title, price\n",
    "        FROM book\n",
    "        WHERE amount < 10;\n",
    "        '''\n",
    "\n",
    "select_data(query).style.hide_index()"
   ]
  },
  {
   "cell_type": "code",
   "execution_count": 11,
   "metadata": {},
   "outputs": [
    {
     "data": {
      "text/html": [
       "<style  type=\"text/css\" >\n",
       "</style><table id=\"T_621cdfac_0e18_11eb_b7b5_0242ac150003\" ><thead>    <tr>        <th class=\"col_heading level0 col0\" >title</th>        <th class=\"col_heading level0 col1\" >author</th>        <th class=\"col_heading level0 col2\" >price</th>        <th class=\"col_heading level0 col3\" >amount</th>    </tr></thead><tbody>\n",
       "                <tr>\n",
       "                                <td id=\"T_621cdfac_0e18_11eb_b7b5_0242ac150003row0_col0\" class=\"data row0 col0\" >Стихотворения и поэмы</td>\n",
       "                        <td id=\"T_621cdfac_0e18_11eb_b7b5_0242ac150003row0_col1\" class=\"data row0 col1\" >Есенин С.А.</td>\n",
       "                        <td id=\"T_621cdfac_0e18_11eb_b7b5_0242ac150003row0_col2\" class=\"data row0 col2\" >650.000000</td>\n",
       "                        <td id=\"T_621cdfac_0e18_11eb_b7b5_0242ac150003row0_col3\" class=\"data row0 col3\" >15</td>\n",
       "            </tr>\n",
       "    </tbody></table>"
      ],
      "text/plain": [
       "<pandas.io.formats.style.Styler at 0x7f4c26c696a0>"
      ]
     },
     "execution_count": 11,
     "metadata": {},
     "output_type": "execute_result"
    }
   ],
   "source": [
    "query = '''\n",
    "        SELECT title, author, price, amount\n",
    "        FROM book\n",
    "        WHERE price*amount >= 5000 and (price < 500 or price > 600);\n",
    "        '''\n",
    "\n",
    "select_data(query).style.hide_index()"
   ]
  },
  {
   "cell_type": "code",
   "execution_count": 12,
   "metadata": {},
   "outputs": [
    {
     "data": {
      "text/html": [
       "<style  type=\"text/css\" >\n",
       "</style><table id=\"T_621e8348_0e18_11eb_b7b5_0242ac150003\" ><thead>    <tr>        <th class=\"col_heading level0 col0\" >title</th>        <th class=\"col_heading level0 col1\" >author</th>    </tr></thead><tbody>\n",
       "                <tr>\n",
       "                                <td id=\"T_621e8348_0e18_11eb_b7b5_0242ac150003row0_col0\" class=\"data row0 col0\" >Мастер и Маргарита</td>\n",
       "                        <td id=\"T_621e8348_0e18_11eb_b7b5_0242ac150003row0_col1\" class=\"data row0 col1\" >Булгаков М.А.</td>\n",
       "            </tr>\n",
       "            <tr>\n",
       "                                <td id=\"T_621e8348_0e18_11eb_b7b5_0242ac150003row1_col0\" class=\"data row1 col0\" >Белая гвардия</td>\n",
       "                        <td id=\"T_621e8348_0e18_11eb_b7b5_0242ac150003row1_col1\" class=\"data row1 col1\" >Булгаков М.А.</td>\n",
       "            </tr>\n",
       "            <tr>\n",
       "                                <td id=\"T_621e8348_0e18_11eb_b7b5_0242ac150003row2_col0\" class=\"data row2 col0\" >Братья Карамазовы</td>\n",
       "                        <td id=\"T_621e8348_0e18_11eb_b7b5_0242ac150003row2_col1\" class=\"data row2 col1\" >Достоевский Ф.М.</td>\n",
       "            </tr>\n",
       "    </tbody></table>"
      ],
      "text/plain": [
       "<pandas.io.formats.style.Styler at 0x7f4c6f9da040>"
      ]
     },
     "execution_count": 12,
     "metadata": {},
     "output_type": "execute_result"
    }
   ],
   "source": [
    "query = '''\n",
    "        SELECT title, author\n",
    "        FROM book\n",
    "        WHERE (price BETWEEN 540.50 and 800) and    amount IN (2, 3, 5, 7);\n",
    "        '''\n",
    "\n",
    "select_data(query).style.hide_index()"
   ]
  },
  {
   "cell_type": "code",
   "execution_count": 13,
   "metadata": {},
   "outputs": [
    {
     "data": {
      "text/html": [
       "<style  type=\"text/css\" >\n",
       "</style><table id=\"T_621ffe76_0e18_11eb_b7b5_0242ac150003\" ><thead>    <tr>        <th class=\"col_heading level0 col0\" >title</th>        <th class=\"col_heading level0 col1\" >author</th>    </tr></thead><tbody>\n",
       "                <tr>\n",
       "                                <td id=\"T_621ffe76_0e18_11eb_b7b5_0242ac150003row0_col0\" class=\"data row0 col0\" >Стихотворения и поэмы</td>\n",
       "                        <td id=\"T_621ffe76_0e18_11eb_b7b5_0242ac150003row0_col1\" class=\"data row0 col1\" >Есенин С.А.</td>\n",
       "            </tr>\n",
       "    </tbody></table>"
      ],
      "text/plain": [
       "<pandas.io.formats.style.Styler at 0x7f4c6f9da910>"
      ]
     },
     "execution_count": 13,
     "metadata": {},
     "output_type": "execute_result"
    }
   ],
   "source": [
    "query = '''\n",
    "        SELECT title, author\n",
    "        FROM book\n",
    "        WHERE title LIKE '% %' AND author LIKE '%С.%';\n",
    "        '''\n",
    "\n",
    "select_data(query).style.hide_index()"
   ]
  },
  {
   "cell_type": "code",
   "execution_count": 14,
   "metadata": {},
   "outputs": [
    {
     "data": {
      "text/html": [
       "<style  type=\"text/css\" >\n",
       "</style><table id=\"T_62218d86_0e18_11eb_b7b5_0242ac150003\" ><thead>    <tr>        <th class=\"col_heading level0 col0\" >author</th>        <th class=\"col_heading level0 col1\" >title</th>    </tr></thead><tbody>\n",
       "                <tr>\n",
       "                                <td id=\"T_62218d86_0e18_11eb_b7b5_0242ac150003row0_col0\" class=\"data row0 col0\" >Достоевский Ф.М.</td>\n",
       "                        <td id=\"T_62218d86_0e18_11eb_b7b5_0242ac150003row0_col1\" class=\"data row0 col1\" >Братья Карамазовы</td>\n",
       "            </tr>\n",
       "            <tr>\n",
       "                                <td id=\"T_62218d86_0e18_11eb_b7b5_0242ac150003row1_col0\" class=\"data row1 col0\" >Достоевский Ф.М.</td>\n",
       "                        <td id=\"T_62218d86_0e18_11eb_b7b5_0242ac150003row1_col1\" class=\"data row1 col1\" >Игрок</td>\n",
       "            </tr>\n",
       "            <tr>\n",
       "                                <td id=\"T_62218d86_0e18_11eb_b7b5_0242ac150003row2_col0\" class=\"data row2 col0\" >Достоевский Ф.М.</td>\n",
       "                        <td id=\"T_62218d86_0e18_11eb_b7b5_0242ac150003row2_col1\" class=\"data row2 col1\" >Идиот</td>\n",
       "            </tr>\n",
       "            <tr>\n",
       "                                <td id=\"T_62218d86_0e18_11eb_b7b5_0242ac150003row3_col0\" class=\"data row3 col0\" >Булгаков М.А.</td>\n",
       "                        <td id=\"T_62218d86_0e18_11eb_b7b5_0242ac150003row3_col1\" class=\"data row3 col1\" >Белая гвардия</td>\n",
       "            </tr>\n",
       "            <tr>\n",
       "                                <td id=\"T_62218d86_0e18_11eb_b7b5_0242ac150003row4_col0\" class=\"data row4 col0\" >Булгаков М.А.</td>\n",
       "                        <td id=\"T_62218d86_0e18_11eb_b7b5_0242ac150003row4_col1\" class=\"data row4 col1\" >Мастер и Маргарита</td>\n",
       "            </tr>\n",
       "    </tbody></table>"
      ],
      "text/plain": [
       "<pandas.io.formats.style.Styler at 0x7f4c6f9daa90>"
      ]
     },
     "execution_count": 14,
     "metadata": {},
     "output_type": "execute_result"
    }
   ],
   "source": [
    "query = '''\n",
    "        SELECT author, title\n",
    "        FROM book\n",
    "        WHERE amount BETWEEN 2 AND 14 \n",
    "        ORDER BY author DESC, title ASC;\n",
    "        '''\n",
    "\n",
    "select_data(query).style.hide_index()"
   ]
  },
  {
   "cell_type": "code",
   "execution_count": 15,
   "metadata": {},
   "outputs": [
    {
     "data": {
      "text/html": [
       "<style  type=\"text/css\" >\n",
       "</style><table id=\"T_87e9f3a0_0e18_11eb_b7b5_0242ac150003\" ><thead>    <tr>        <th class=\"col_heading level0 col0\" >amount</th>    </tr></thead><tbody>\n",
       "                <tr>\n",
       "                                <td id=\"T_87e9f3a0_0e18_11eb_b7b5_0242ac150003row0_col0\" class=\"data row0 col0\" >3</td>\n",
       "            </tr>\n",
       "            <tr>\n",
       "                                <td id=\"T_87e9f3a0_0e18_11eb_b7b5_0242ac150003row1_col0\" class=\"data row1 col0\" >5</td>\n",
       "            </tr>\n",
       "            <tr>\n",
       "                                <td id=\"T_87e9f3a0_0e18_11eb_b7b5_0242ac150003row2_col0\" class=\"data row2 col0\" >10</td>\n",
       "            </tr>\n",
       "            <tr>\n",
       "                                <td id=\"T_87e9f3a0_0e18_11eb_b7b5_0242ac150003row3_col0\" class=\"data row3 col0\" >2</td>\n",
       "            </tr>\n",
       "            <tr>\n",
       "                                <td id=\"T_87e9f3a0_0e18_11eb_b7b5_0242ac150003row4_col0\" class=\"data row4 col0\" >15</td>\n",
       "            </tr>\n",
       "    </tbody></table>"
      ],
      "text/plain": [
       "<pandas.io.formats.style.Styler at 0x7f4c71eb2f40>"
      ]
     },
     "execution_count": 15,
     "metadata": {},
     "output_type": "execute_result"
    }
   ],
   "source": [
    "query = '''\n",
    "        SELECT DISTINCT amount\n",
    "        FROM book;\n",
    "        '''\n",
    "\n",
    "select_data(query).style.hide_index()"
   ]
  },
  {
   "cell_type": "code",
   "execution_count": 16,
   "metadata": {},
   "outputs": [
    {
     "data": {
      "text/html": [
       "<style  type=\"text/css\" >\n",
       "</style><table id=\"T_a2908a02_0e18_11eb_b7b5_0242ac150003\" ><thead>    <tr>        <th class=\"col_heading level0 col0\" >Автор</th>        <th class=\"col_heading level0 col1\" >Различных_книг</th>        <th class=\"col_heading level0 col2\" >Количество_экземпляров</th>    </tr></thead><tbody>\n",
       "                <tr>\n",
       "                                <td id=\"T_a2908a02_0e18_11eb_b7b5_0242ac150003row0_col0\" class=\"data row0 col0\" >Булгаков М.А.</td>\n",
       "                        <td id=\"T_a2908a02_0e18_11eb_b7b5_0242ac150003row0_col1\" class=\"data row0 col1\" >2</td>\n",
       "                        <td id=\"T_a2908a02_0e18_11eb_b7b5_0242ac150003row0_col2\" class=\"data row0 col2\" >8.000000</td>\n",
       "            </tr>\n",
       "            <tr>\n",
       "                                <td id=\"T_a2908a02_0e18_11eb_b7b5_0242ac150003row1_col0\" class=\"data row1 col0\" >Достоевский Ф.М.</td>\n",
       "                        <td id=\"T_a2908a02_0e18_11eb_b7b5_0242ac150003row1_col1\" class=\"data row1 col1\" >3</td>\n",
       "                        <td id=\"T_a2908a02_0e18_11eb_b7b5_0242ac150003row1_col2\" class=\"data row1 col2\" >22.000000</td>\n",
       "            </tr>\n",
       "            <tr>\n",
       "                                <td id=\"T_a2908a02_0e18_11eb_b7b5_0242ac150003row2_col0\" class=\"data row2 col0\" >Есенин С.А.</td>\n",
       "                        <td id=\"T_a2908a02_0e18_11eb_b7b5_0242ac150003row2_col1\" class=\"data row2 col1\" >1</td>\n",
       "                        <td id=\"T_a2908a02_0e18_11eb_b7b5_0242ac150003row2_col2\" class=\"data row2 col2\" >15.000000</td>\n",
       "            </tr>\n",
       "    </tbody></table>"
      ],
      "text/plain": [
       "<pandas.io.formats.style.Styler at 0x7f4c6f9da340>"
      ]
     },
     "execution_count": 16,
     "metadata": {},
     "output_type": "execute_result"
    }
   ],
   "source": [
    "query = '''\n",
    "        SELECT author AS 'Автор', COUNT(author) AS 'Различных_книг', SUM(amount) AS 'Количество_экземпляров'\n",
    "        FROM book\n",
    "        GROUP BY author;\n",
    "        '''\n",
    "\n",
    "select_data(query).style.hide_index()"
   ]
  },
  {
   "cell_type": "code",
   "execution_count": 18,
   "metadata": {},
   "outputs": [
    {
     "data": {
      "text/html": [
       "<style  type=\"text/css\" >\n",
       "</style><table id=\"T_5dc2d776_0e19_11eb_b7b5_0242ac150003\" ><thead>    <tr>        <th class=\"col_heading level0 col0\" >author</th>        <th class=\"col_heading level0 col1\" >Минимальная цена</th>        <th class=\"col_heading level0 col2\" >Максимальная цена</th>        <th class=\"col_heading level0 col3\" >Средняя цена</th>    </tr></thead><tbody>\n",
       "                <tr>\n",
       "                                <td id=\"T_5dc2d776_0e19_11eb_b7b5_0242ac150003row0_col0\" class=\"data row0 col0\" >Булгаков М.А.</td>\n",
       "                        <td id=\"T_5dc2d776_0e19_11eb_b7b5_0242ac150003row0_col1\" class=\"data row0 col1\" >540.500000</td>\n",
       "                        <td id=\"T_5dc2d776_0e19_11eb_b7b5_0242ac150003row0_col2\" class=\"data row0 col2\" >670.990000</td>\n",
       "                        <td id=\"T_5dc2d776_0e19_11eb_b7b5_0242ac150003row0_col3\" class=\"data row0 col3\" >605.745000</td>\n",
       "            </tr>\n",
       "            <tr>\n",
       "                                <td id=\"T_5dc2d776_0e19_11eb_b7b5_0242ac150003row1_col0\" class=\"data row1 col0\" >Достоевский Ф.М.</td>\n",
       "                        <td id=\"T_5dc2d776_0e19_11eb_b7b5_0242ac150003row1_col1\" class=\"data row1 col1\" >460.000000</td>\n",
       "                        <td id=\"T_5dc2d776_0e19_11eb_b7b5_0242ac150003row1_col2\" class=\"data row1 col2\" >799.010000</td>\n",
       "                        <td id=\"T_5dc2d776_0e19_11eb_b7b5_0242ac150003row1_col3\" class=\"data row1 col3\" >579.836667</td>\n",
       "            </tr>\n",
       "            <tr>\n",
       "                                <td id=\"T_5dc2d776_0e19_11eb_b7b5_0242ac150003row2_col0\" class=\"data row2 col0\" >Есенин С.А.</td>\n",
       "                        <td id=\"T_5dc2d776_0e19_11eb_b7b5_0242ac150003row2_col1\" class=\"data row2 col1\" >650.000000</td>\n",
       "                        <td id=\"T_5dc2d776_0e19_11eb_b7b5_0242ac150003row2_col2\" class=\"data row2 col2\" >650.000000</td>\n",
       "                        <td id=\"T_5dc2d776_0e19_11eb_b7b5_0242ac150003row2_col3\" class=\"data row2 col3\" >650.000000</td>\n",
       "            </tr>\n",
       "    </tbody></table>"
      ],
      "text/plain": [
       "<pandas.io.formats.style.Styler at 0x7f4c6f9da490>"
      ]
     },
     "execution_count": 18,
     "metadata": {},
     "output_type": "execute_result"
    }
   ],
   "source": [
    "query = '''\n",
    "        SELECT author, MIN(price) AS 'Минимальная цена', MAX(price) AS 'Максимальная цена', AVG(price) AS 'Средняя цена'\n",
    "        FROM book\n",
    "        GROUP BY author;\n",
    "        '''\n",
    "\n",
    "select_data(query).style.hide_index()"
   ]
  },
  {
   "cell_type": "code",
   "execution_count": 19,
   "metadata": {},
   "outputs": [
    {
     "data": {
      "text/html": [
       "<style  type=\"text/css\" >\n",
       "</style><table id=\"T_7adc7632_0e19_11eb_b7b5_0242ac150003\" ><thead>    <tr>        <th class=\"col_heading level0 col0\" >author</th>        <th class=\"col_heading level0 col1\" >Стоимость</th>        <th class=\"col_heading level0 col2\" >НДС</th>        <th class=\"col_heading level0 col3\" >Стоимость_без_НДС</th>    </tr></thead><tbody>\n",
       "                <tr>\n",
       "                                <td id=\"T_7adc7632_0e19_11eb_b7b5_0242ac150003row0_col0\" class=\"data row0 col0\" >Булгаков М.А.</td>\n",
       "                        <td id=\"T_7adc7632_0e19_11eb_b7b5_0242ac150003row0_col1\" class=\"data row0 col1\" >4715.470000</td>\n",
       "                        <td id=\"T_7adc7632_0e19_11eb_b7b5_0242ac150003row0_col2\" class=\"data row0 col2\" >719.310000</td>\n",
       "                        <td id=\"T_7adc7632_0e19_11eb_b7b5_0242ac150003row0_col3\" class=\"data row0 col3\" >3996.160000</td>\n",
       "            </tr>\n",
       "            <tr>\n",
       "                                <td id=\"T_7adc7632_0e19_11eb_b7b5_0242ac150003row1_col0\" class=\"data row1 col0\" >Достоевский Ф.М.</td>\n",
       "                        <td id=\"T_7adc7632_0e19_11eb_b7b5_0242ac150003row1_col1\" class=\"data row1 col1\" >11003.020000</td>\n",
       "                        <td id=\"T_7adc7632_0e19_11eb_b7b5_0242ac150003row1_col2\" class=\"data row1 col2\" >1678.430000</td>\n",
       "                        <td id=\"T_7adc7632_0e19_11eb_b7b5_0242ac150003row1_col3\" class=\"data row1 col3\" >9324.590000</td>\n",
       "            </tr>\n",
       "            <tr>\n",
       "                                <td id=\"T_7adc7632_0e19_11eb_b7b5_0242ac150003row2_col0\" class=\"data row2 col0\" >Есенин С.А.</td>\n",
       "                        <td id=\"T_7adc7632_0e19_11eb_b7b5_0242ac150003row2_col1\" class=\"data row2 col1\" >9750.000000</td>\n",
       "                        <td id=\"T_7adc7632_0e19_11eb_b7b5_0242ac150003row2_col2\" class=\"data row2 col2\" >1487.290000</td>\n",
       "                        <td id=\"T_7adc7632_0e19_11eb_b7b5_0242ac150003row2_col3\" class=\"data row2 col3\" >8262.710000</td>\n",
       "            </tr>\n",
       "    </tbody></table>"
      ],
      "text/plain": [
       "<pandas.io.formats.style.Styler at 0x7f4c26c78580>"
      ]
     },
     "execution_count": 19,
     "metadata": {},
     "output_type": "execute_result"
    }
   ],
   "source": [
    "query = '''\n",
    "        SELECT author, round(SUM(price*amount), 2) AS 'Стоимость', round(SUM(price*amount) * 0.18 / (1 + 0.18), 2) AS 'НДС',\n",
    "               round(SUM(price*amount) / (1 + 0.18), 2) AS 'Стоимость_без_НДС'\n",
    "        FROM book\n",
    "        GROUP BY author;\n",
    "        '''\n",
    "\n",
    "select_data(query).style.hide_index()"
   ]
  },
  {
   "cell_type": "code",
   "execution_count": 20,
   "metadata": {},
   "outputs": [
    {
     "data": {
      "text/html": [
       "<style  type=\"text/css\" >\n",
       "</style><table id=\"T_f82db34e_0e19_11eb_b7b5_0242ac150003\" ><thead>    <tr>        <th class=\"col_heading level0 col0\" >Минимальная_цена</th>        <th class=\"col_heading level0 col1\" >Максимальная_цена</th>        <th class=\"col_heading level0 col2\" >Средняя_цена</th>    </tr></thead><tbody>\n",
       "                <tr>\n",
       "                                <td id=\"T_f82db34e_0e19_11eb_b7b5_0242ac150003row0_col0\" class=\"data row0 col0\" >460.000000</td>\n",
       "                        <td id=\"T_f82db34e_0e19_11eb_b7b5_0242ac150003row0_col1\" class=\"data row0 col1\" >799.010000</td>\n",
       "                        <td id=\"T_f82db34e_0e19_11eb_b7b5_0242ac150003row0_col2\" class=\"data row0 col2\" >600.170000</td>\n",
       "            </tr>\n",
       "    </tbody></table>"
      ],
      "text/plain": [
       "<pandas.io.formats.style.Styler at 0x7f4c26c71220>"
      ]
     },
     "execution_count": 20,
     "metadata": {},
     "output_type": "execute_result"
    }
   ],
   "source": [
    "query = '''\n",
    "        SELECT MIN(price) AS 'Минимальная_цена', MAX(price) AS 'Максимальная_цена', ROUND(AVG(price), 2) AS 'Средняя_цена'\n",
    "        FROM book;\n",
    "        '''\n",
    "\n",
    "select_data(query).style.hide_index()"
   ]
  },
  {
   "cell_type": "code",
   "execution_count": 21,
   "metadata": {},
   "outputs": [
    {
     "data": {
      "text/html": [
       "<style  type=\"text/css\" >\n",
       "</style><table id=\"T_1e9c374e_0e1a_11eb_b7b5_0242ac150003\" ><thead>    <tr>        <th class=\"col_heading level0 col0\" >Средняя_цена</th>        <th class=\"col_heading level0 col1\" >Стоимость</th>    </tr></thead><tbody>\n",
       "                <tr>\n",
       "                                <td id=\"T_1e9c374e_0e1a_11eb_b7b5_0242ac150003row0_col0\" class=\"data row0 col0\" >493.670000</td>\n",
       "                        <td id=\"T_1e9c374e_0e1a_11eb_b7b5_0242ac150003row0_col1\" class=\"data row0 col1\" >12107.500000</td>\n",
       "            </tr>\n",
       "    </tbody></table>"
      ],
      "text/plain": [
       "<pandas.io.formats.style.Styler at 0x7f4c26c71eb0>"
      ]
     },
     "execution_count": 21,
     "metadata": {},
     "output_type": "execute_result"
    }
   ],
   "source": [
    "query = '''\n",
    "        SELECT ROUND(AVG(price), 2) AS 'Средняя_цена', ROUND(SUM(price*amount), 2) AS 'Стоимость'\n",
    "        FROM book\n",
    "        WHERE amount BETWEEN 5 and 14;\n",
    "        '''\n",
    "\n",
    "select_data(query).style.hide_index()"
   ]
  },
  {
   "cell_type": "code",
   "execution_count": 22,
   "metadata": {},
   "outputs": [
    {
     "data": {
      "text/html": [
       "<style  type=\"text/css\" >\n",
       "</style><table id=\"T_380bb236_0e1a_11eb_b7b5_0242ac150003\" ><thead>    <tr>        <th class=\"col_heading level0 col0\" >author</th>        <th class=\"col_heading level0 col1\" >Стоимость</th>    </tr></thead><tbody>\n",
       "                <tr>\n",
       "                                <td id=\"T_380bb236_0e1a_11eb_b7b5_0242ac150003row0_col0\" class=\"data row0 col0\" >Есенин С.А.</td>\n",
       "                        <td id=\"T_380bb236_0e1a_11eb_b7b5_0242ac150003row0_col1\" class=\"data row0 col1\" >9750.000000</td>\n",
       "            </tr>\n",
       "            <tr>\n",
       "                                <td id=\"T_380bb236_0e1a_11eb_b7b5_0242ac150003row1_col0\" class=\"data row1 col0\" >Достоевский Ф.М.</td>\n",
       "                        <td id=\"T_380bb236_0e1a_11eb_b7b5_0242ac150003row1_col1\" class=\"data row1 col1\" >6403.020000</td>\n",
       "            </tr>\n",
       "    </tbody></table>"
      ],
      "text/plain": [
       "<pandas.io.formats.style.Styler at 0x7f4c25ea3730>"
      ]
     },
     "execution_count": 22,
     "metadata": {},
     "output_type": "execute_result"
    }
   ],
   "source": [
    "query = '''\n",
    "        SELECT author, SUM(price*amount) AS 'Стоимость'\n",
    "        FROM book\n",
    "        WHERE title <> 'Идиот' and title <> 'Белая гвардия'\n",
    "        GROUP BY author\n",
    "        HAVING Стоимость > 5000\n",
    "        ORDER BY Стоимость DESC;\n",
    "        '''\n",
    "\n",
    "select_data(query).style.hide_index()"
   ]
  },
  {
   "cell_type": "code",
   "execution_count": 23,
   "metadata": {},
   "outputs": [
    {
     "data": {
      "text/html": [
       "<style  type=\"text/css\" >\n",
       "</style><table id=\"T_5a831d36_0e1a_11eb_b7b5_0242ac150003\" ><thead>    <tr>        <th class=\"col_heading level0 col0\" >author</th>        <th class=\"col_heading level0 col1\" >title</th>        <th class=\"col_heading level0 col2\" >price</th>    </tr></thead><tbody>\n",
       "                <tr>\n",
       "                                <td id=\"T_5a831d36_0e1a_11eb_b7b5_0242ac150003row0_col0\" class=\"data row0 col0\" >Булгаков М.А.</td>\n",
       "                        <td id=\"T_5a831d36_0e1a_11eb_b7b5_0242ac150003row0_col1\" class=\"data row0 col1\" >Белая гвардия</td>\n",
       "                        <td id=\"T_5a831d36_0e1a_11eb_b7b5_0242ac150003row0_col2\" class=\"data row0 col2\" >540.500000</td>\n",
       "            </tr>\n",
       "            <tr>\n",
       "                                <td id=\"T_5a831d36_0e1a_11eb_b7b5_0242ac150003row1_col0\" class=\"data row1 col0\" >Достоевский Ф.М.</td>\n",
       "                        <td id=\"T_5a831d36_0e1a_11eb_b7b5_0242ac150003row1_col1\" class=\"data row1 col1\" >Игрок</td>\n",
       "                        <td id=\"T_5a831d36_0e1a_11eb_b7b5_0242ac150003row1_col2\" class=\"data row1 col2\" >480.500000</td>\n",
       "            </tr>\n",
       "            <tr>\n",
       "                                <td id=\"T_5a831d36_0e1a_11eb_b7b5_0242ac150003row2_col0\" class=\"data row2 col0\" >Достоевский Ф.М.</td>\n",
       "                        <td id=\"T_5a831d36_0e1a_11eb_b7b5_0242ac150003row2_col1\" class=\"data row2 col1\" >Идиот</td>\n",
       "                        <td id=\"T_5a831d36_0e1a_11eb_b7b5_0242ac150003row2_col2\" class=\"data row2 col2\" >460.000000</td>\n",
       "            </tr>\n",
       "    </tbody></table>"
      ],
      "text/plain": [
       "<pandas.io.formats.style.Styler at 0x7f4c26c256d0>"
      ]
     },
     "execution_count": 23,
     "metadata": {},
     "output_type": "execute_result"
    }
   ],
   "source": [
    "query = '''\n",
    "        SELECT author, title, price\n",
    "        FROM book\n",
    "        WHERE price <= (SELECT AVG(price) FROM book)\n",
    "        ORDER BY price DESC;\n",
    "        '''\n",
    "\n",
    "select_data(query).style.hide_index()"
   ]
  },
  {
   "cell_type": "code",
   "execution_count": 24,
   "metadata": {},
   "outputs": [
    {
     "data": {
      "text/html": [
       "<style  type=\"text/css\" >\n",
       "</style><table id=\"T_705c5ca8_0e1a_11eb_b7b5_0242ac150003\" ><thead>    <tr>        <th class=\"col_heading level0 col0\" >author</th>        <th class=\"col_heading level0 col1\" >title</th>        <th class=\"col_heading level0 col2\" >price</th>    </tr></thead><tbody>\n",
       "                <tr>\n",
       "                                <td id=\"T_705c5ca8_0e1a_11eb_b7b5_0242ac150003row0_col0\" class=\"data row0 col0\" >Достоевский Ф.М.</td>\n",
       "                        <td id=\"T_705c5ca8_0e1a_11eb_b7b5_0242ac150003row0_col1\" class=\"data row0 col1\" >Идиот</td>\n",
       "                        <td id=\"T_705c5ca8_0e1a_11eb_b7b5_0242ac150003row0_col2\" class=\"data row0 col2\" >460.000000</td>\n",
       "            </tr>\n",
       "            <tr>\n",
       "                                <td id=\"T_705c5ca8_0e1a_11eb_b7b5_0242ac150003row1_col0\" class=\"data row1 col0\" >Достоевский Ф.М.</td>\n",
       "                        <td id=\"T_705c5ca8_0e1a_11eb_b7b5_0242ac150003row1_col1\" class=\"data row1 col1\" >Игрок</td>\n",
       "                        <td id=\"T_705c5ca8_0e1a_11eb_b7b5_0242ac150003row1_col2\" class=\"data row1 col2\" >480.500000</td>\n",
       "            </tr>\n",
       "            <tr>\n",
       "                                <td id=\"T_705c5ca8_0e1a_11eb_b7b5_0242ac150003row2_col0\" class=\"data row2 col0\" >Булгаков М.А.</td>\n",
       "                        <td id=\"T_705c5ca8_0e1a_11eb_b7b5_0242ac150003row2_col1\" class=\"data row2 col1\" >Белая гвардия</td>\n",
       "                        <td id=\"T_705c5ca8_0e1a_11eb_b7b5_0242ac150003row2_col2\" class=\"data row2 col2\" >540.500000</td>\n",
       "            </tr>\n",
       "    </tbody></table>"
      ],
      "text/plain": [
       "<pandas.io.formats.style.Styler at 0x7f4c25ea3bb0>"
      ]
     },
     "execution_count": 24,
     "metadata": {},
     "output_type": "execute_result"
    }
   ],
   "source": [
    "query = '''\n",
    "        SELECT author, title, price\n",
    "        FROM book\n",
    "        WHERE price - (SELECT MIN(price) FROM book) <= 150\n",
    "        ORDER BY price;\n",
    "        '''\n",
    "\n",
    "select_data(query).style.hide_index()"
   ]
  },
  {
   "cell_type": "code",
   "execution_count": 25,
   "metadata": {},
   "outputs": [
    {
     "data": {
      "text/html": [
       "<style  type=\"text/css\" >\n",
       "</style><table id=\"T_87a4c418_0e1a_11eb_b7b5_0242ac150003\" ><thead>    <tr>        <th class=\"col_heading level0 col0\" >author</th>        <th class=\"col_heading level0 col1\" >title</th>        <th class=\"col_heading level0 col2\" >amount</th>    </tr></thead><tbody>\n",
       "                <tr>\n",
       "                                <td id=\"T_87a4c418_0e1a_11eb_b7b5_0242ac150003row0_col0\" class=\"data row0 col0\" >Булгаков М.А.</td>\n",
       "                        <td id=\"T_87a4c418_0e1a_11eb_b7b5_0242ac150003row0_col1\" class=\"data row0 col1\" >Мастер и Маргарита</td>\n",
       "                        <td id=\"T_87a4c418_0e1a_11eb_b7b5_0242ac150003row0_col2\" class=\"data row0 col2\" >3</td>\n",
       "            </tr>\n",
       "            <tr>\n",
       "                                <td id=\"T_87a4c418_0e1a_11eb_b7b5_0242ac150003row1_col0\" class=\"data row1 col0\" >Булгаков М.А.</td>\n",
       "                        <td id=\"T_87a4c418_0e1a_11eb_b7b5_0242ac150003row1_col1\" class=\"data row1 col1\" >Белая гвардия</td>\n",
       "                        <td id=\"T_87a4c418_0e1a_11eb_b7b5_0242ac150003row1_col2\" class=\"data row1 col2\" >5</td>\n",
       "            </tr>\n",
       "            <tr>\n",
       "                                <td id=\"T_87a4c418_0e1a_11eb_b7b5_0242ac150003row2_col0\" class=\"data row2 col0\" >Достоевский Ф.М.</td>\n",
       "                        <td id=\"T_87a4c418_0e1a_11eb_b7b5_0242ac150003row2_col1\" class=\"data row2 col1\" >Братья Карамазовы</td>\n",
       "                        <td id=\"T_87a4c418_0e1a_11eb_b7b5_0242ac150003row2_col2\" class=\"data row2 col2\" >2</td>\n",
       "            </tr>\n",
       "            <tr>\n",
       "                                <td id=\"T_87a4c418_0e1a_11eb_b7b5_0242ac150003row3_col0\" class=\"data row3 col0\" >Есенин С.А.</td>\n",
       "                        <td id=\"T_87a4c418_0e1a_11eb_b7b5_0242ac150003row3_col1\" class=\"data row3 col1\" >Стихотворения и поэмы</td>\n",
       "                        <td id=\"T_87a4c418_0e1a_11eb_b7b5_0242ac150003row3_col2\" class=\"data row3 col2\" >15</td>\n",
       "            </tr>\n",
       "    </tbody></table>"
      ],
      "text/plain": [
       "<pandas.io.formats.style.Styler at 0x7f4c25ea3520>"
      ]
     },
     "execution_count": 25,
     "metadata": {},
     "output_type": "execute_result"
    }
   ],
   "source": [
    "query = '''\n",
    "        SELECT author, title, amount\n",
    "        FROM book\n",
    "        WHERE amount IN (SELECT amount FROM book GROUP BY amount HAVING COUNT(amount) = 1);\n",
    "        '''\n",
    "\n",
    "select_data(query).style.hide_index()"
   ]
  },
  {
   "cell_type": "code",
   "execution_count": 26,
   "metadata": {},
   "outputs": [
    {
     "data": {
      "text/html": [
       "<style  type=\"text/css\" >\n",
       "</style><table id=\"T_a4ebd2c8_0e1a_11eb_b7b5_0242ac150003\" ><thead>    <tr>        <th class=\"col_heading level0 col0\" >author</th>        <th class=\"col_heading level0 col1\" >title</th>        <th class=\"col_heading level0 col2\" >price</th>    </tr></thead><tbody>\n",
       "                <tr>\n",
       "                                <td id=\"T_a4ebd2c8_0e1a_11eb_b7b5_0242ac150003row0_col0\" class=\"data row0 col0\" >Булгаков М.А.</td>\n",
       "                        <td id=\"T_a4ebd2c8_0e1a_11eb_b7b5_0242ac150003row0_col1\" class=\"data row0 col1\" >Мастер и Маргарита</td>\n",
       "                        <td id=\"T_a4ebd2c8_0e1a_11eb_b7b5_0242ac150003row0_col2\" class=\"data row0 col2\" >670.990000</td>\n",
       "            </tr>\n",
       "            <tr>\n",
       "                                <td id=\"T_a4ebd2c8_0e1a_11eb_b7b5_0242ac150003row1_col0\" class=\"data row1 col0\" >Булгаков М.А.</td>\n",
       "                        <td id=\"T_a4ebd2c8_0e1a_11eb_b7b5_0242ac150003row1_col1\" class=\"data row1 col1\" >Белая гвардия</td>\n",
       "                        <td id=\"T_a4ebd2c8_0e1a_11eb_b7b5_0242ac150003row1_col2\" class=\"data row1 col2\" >540.500000</td>\n",
       "            </tr>\n",
       "            <tr>\n",
       "                                <td id=\"T_a4ebd2c8_0e1a_11eb_b7b5_0242ac150003row2_col0\" class=\"data row2 col0\" >Есенин С.А.</td>\n",
       "                        <td id=\"T_a4ebd2c8_0e1a_11eb_b7b5_0242ac150003row2_col1\" class=\"data row2 col1\" >Стихотворения и поэмы</td>\n",
       "                        <td id=\"T_a4ebd2c8_0e1a_11eb_b7b5_0242ac150003row2_col2\" class=\"data row2 col2\" >650.000000</td>\n",
       "            </tr>\n",
       "    </tbody></table>"
      ],
      "text/plain": [
       "<pandas.io.formats.style.Styler at 0x7f4c26c9c850>"
      ]
     },
     "execution_count": 26,
     "metadata": {},
     "output_type": "execute_result"
    }
   ],
   "source": [
    "query = '''\n",
    "        SELECT author, title, price\n",
    "        FROM book\n",
    "        WHERE author = ANY (SELECT author FROM book GROUP BY author HAVING AVG(price) > (SELECT AVG(price) FROM book));\n",
    "        '''\n",
    "\n",
    "select_data(query).style.hide_index()"
   ]
  },
  {
   "cell_type": "code",
   "execution_count": 27,
   "metadata": {},
   "outputs": [
    {
     "data": {
      "text/html": [
       "<style  type=\"text/css\" >\n",
       "</style><table id=\"T_c7ed4cca_0e1a_11eb_b7b5_0242ac150003\" ><thead>    <tr>        <th class=\"col_heading level0 col0\" >title</th>        <th class=\"col_heading level0 col1\" >author</th>        <th class=\"col_heading level0 col2\" >amount</th>        <th class=\"col_heading level0 col3\" >Заказ</th>    </tr></thead><tbody>\n",
       "                <tr>\n",
       "                                <td id=\"T_c7ed4cca_0e1a_11eb_b7b5_0242ac150003row0_col0\" class=\"data row0 col0\" >Мастер и Маргарита</td>\n",
       "                        <td id=\"T_c7ed4cca_0e1a_11eb_b7b5_0242ac150003row0_col1\" class=\"data row0 col1\" >Булгаков М.А.</td>\n",
       "                        <td id=\"T_c7ed4cca_0e1a_11eb_b7b5_0242ac150003row0_col2\" class=\"data row0 col2\" >3</td>\n",
       "                        <td id=\"T_c7ed4cca_0e1a_11eb_b7b5_0242ac150003row0_col3\" class=\"data row0 col3\" >12</td>\n",
       "            </tr>\n",
       "            <tr>\n",
       "                                <td id=\"T_c7ed4cca_0e1a_11eb_b7b5_0242ac150003row1_col0\" class=\"data row1 col0\" >Белая гвардия</td>\n",
       "                        <td id=\"T_c7ed4cca_0e1a_11eb_b7b5_0242ac150003row1_col1\" class=\"data row1 col1\" >Булгаков М.А.</td>\n",
       "                        <td id=\"T_c7ed4cca_0e1a_11eb_b7b5_0242ac150003row1_col2\" class=\"data row1 col2\" >5</td>\n",
       "                        <td id=\"T_c7ed4cca_0e1a_11eb_b7b5_0242ac150003row1_col3\" class=\"data row1 col3\" >10</td>\n",
       "            </tr>\n",
       "            <tr>\n",
       "                                <td id=\"T_c7ed4cca_0e1a_11eb_b7b5_0242ac150003row2_col0\" class=\"data row2 col0\" >Идиот</td>\n",
       "                        <td id=\"T_c7ed4cca_0e1a_11eb_b7b5_0242ac150003row2_col1\" class=\"data row2 col1\" >Достоевский Ф.М.</td>\n",
       "                        <td id=\"T_c7ed4cca_0e1a_11eb_b7b5_0242ac150003row2_col2\" class=\"data row2 col2\" >10</td>\n",
       "                        <td id=\"T_c7ed4cca_0e1a_11eb_b7b5_0242ac150003row2_col3\" class=\"data row2 col3\" >5</td>\n",
       "            </tr>\n",
       "            <tr>\n",
       "                                <td id=\"T_c7ed4cca_0e1a_11eb_b7b5_0242ac150003row3_col0\" class=\"data row3 col0\" >Братья Карамазовы</td>\n",
       "                        <td id=\"T_c7ed4cca_0e1a_11eb_b7b5_0242ac150003row3_col1\" class=\"data row3 col1\" >Достоевский Ф.М.</td>\n",
       "                        <td id=\"T_c7ed4cca_0e1a_11eb_b7b5_0242ac150003row3_col2\" class=\"data row3 col2\" >2</td>\n",
       "                        <td id=\"T_c7ed4cca_0e1a_11eb_b7b5_0242ac150003row3_col3\" class=\"data row3 col3\" >13</td>\n",
       "            </tr>\n",
       "            <tr>\n",
       "                                <td id=\"T_c7ed4cca_0e1a_11eb_b7b5_0242ac150003row4_col0\" class=\"data row4 col0\" >Игрок</td>\n",
       "                        <td id=\"T_c7ed4cca_0e1a_11eb_b7b5_0242ac150003row4_col1\" class=\"data row4 col1\" >Достоевский Ф.М.</td>\n",
       "                        <td id=\"T_c7ed4cca_0e1a_11eb_b7b5_0242ac150003row4_col2\" class=\"data row4 col2\" >10</td>\n",
       "                        <td id=\"T_c7ed4cca_0e1a_11eb_b7b5_0242ac150003row4_col3\" class=\"data row4 col3\" >5</td>\n",
       "            </tr>\n",
       "    </tbody></table>"
      ],
      "text/plain": [
       "<pandas.io.formats.style.Styler at 0x7f4c26c788e0>"
      ]
     },
     "execution_count": 27,
     "metadata": {},
     "output_type": "execute_result"
    }
   ],
   "source": [
    "query = '''\n",
    "        SELECT title, author, amount, (SELECT MAX(amount) FROM book) - amount AS 'Заказ'\n",
    "        FROM book\n",
    "        WHERE amount <> (SELECT MAX(amount) FROM book);\n",
    "        '''\n",
    "\n",
    "select_data(query).style.hide_index()"
   ]
  },
  {
   "cell_type": "code",
   "execution_count": null,
   "metadata": {},
   "outputs": [],
   "source": [
    "query = '''\n",
    "        SELECT title, author, amount, (SELECT MAX(amount) FROM book) - amount AS 'Заказ'\n",
    "        FROM book\n",
    "        WHERE amount <> (SELECT MAX(amount) FROM book);\n",
    "        '''\n",
    "\n",
    "select_data(query).style.hide_index()"
   ]
  }
 ],
 "metadata": {
  "kernelspec": {
   "display_name": "Python 3",
   "language": "python",
   "name": "python3"
  },
  "language_info": {
   "codemirror_mode": {
    "name": "ipython",
    "version": 3
   },
   "file_extension": ".py",
   "mimetype": "text/x-python",
   "name": "python",
   "nbconvert_exporter": "python",
   "pygments_lexer": "ipython3",
   "version": "3.8.5"
  }
 },
 "nbformat": 4,
 "nbformat_minor": 4
}
