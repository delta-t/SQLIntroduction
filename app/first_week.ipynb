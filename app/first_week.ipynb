{
 "cells": [
  {
   "cell_type": "markdown",
   "metadata": {},
   "source": [
    "# Создание таблицы и получение выборки данных\n",
    "## Содержание\n",
    "В этом уроке будет рассмотрен синтаксис и семантика следующих SQL запросов:\n",
    "\n",
    "* создание таблиц и вставка значений;\n",
    "* выборка всех данных из таблицы;\n",
    "* выборка данных из отдельных столбцов;\n",
    "* выборка отдельных столбцов и присвоение им новых имен;\n",
    "* создание вычисляемых столбцов;\n",
    "* вычисляемые столбцы, математические функции;\n",
    "* вычисляемые столбцы, логические функции;\n",
    "* выборка данных по простому условию;\n",
    "* выборка данных с использованием логических выражений и операций;\n",
    "* выборка данных, операторы BETWEEN, IN;\n",
    "* выборка текстовых данных по шаблону, оператор LIKE;\n",
    "* выборка данных с сортировкой.\n",
    "\n",
    "Структура и наполнение таблицы\n",
    "\n",
    "Все запросы будут формулироваться для таблицы book:\n",
    "\n",
    "![table](./images/sql_intro_book_table.png)"
   ]
  },
  {
   "cell_type": "markdown",
   "metadata": {},
   "source": [
    "## Создание таблицы и заполнение"
   ]
  },
  {
   "cell_type": "code",
   "execution_count": 1,
   "metadata": {},
   "outputs": [],
   "source": [
    "import pandas as pd\n",
    "import numpy as np\n",
    "import mysql.connector"
   ]
  },
  {
   "cell_type": "code",
   "execution_count": 2,
   "metadata": {},
   "outputs": [],
   "source": [
    "config = {\n",
    "        'user': 'root',\n",
    "        'password': 'root',\n",
    "        'host': 'db',\n",
    "        'port': 3306,\n",
    "        'database': 'SQLIntro',\n",
    "        'charset': 'utf8'\n",
    "    }"
   ]
  },
  {
   "cell_type": "code",
   "execution_count": 3,
   "metadata": {},
   "outputs": [],
   "source": [
    "def create_table(query: str) -> None:\n",
    "    connection = mysql.connector.connect(**config)\n",
    "    cursor = connection.cursor()\n",
    "    cursor.execute(query)\n",
    "    cursor.close()\n",
    "    connection.close()"
   ]
  },
  {
   "cell_type": "code",
   "execution_count": 4,
   "metadata": {},
   "outputs": [],
   "source": [
    "def insert_values(query: str) -> None:\n",
    "    connection = mysql.connector.connect(**config)\n",
    "    cursor = connection.cursor()\n",
    "    \n",
    "    try:\n",
    "        cursor.execute(query)\n",
    "        connection.commit()\n",
    "    except Exception as e:\n",
    "        print(repr(e))\n",
    "        connection.rollback()\n",
    "    finally:\n",
    "        cursor.close()\n",
    "        connection.close()"
   ]
  },
  {
   "cell_type": "code",
   "execution_count": 5,
   "metadata": {},
   "outputs": [],
   "source": [
    "# query = '''\n",
    "#         CREATE TABLE book(\n",
    "#                             book_id INT PRIMARY KEY AUTO_INCREMENT,\n",
    "#                             title   VARCHAR(50),\n",
    "#                             author  VARCHAR(30),\n",
    "#                             price   DECIMAL(8, 2),\n",
    "#                             amount  INT\n",
    "#                          );\n",
    "#         '''\n",
    "# create_table(query)"
   ]
  },
  {
   "cell_type": "code",
   "execution_count": 6,
   "metadata": {},
   "outputs": [],
   "source": [
    "# query = '''\n",
    "#         INSERT INTO book (title, author, price, amount) VALUES ('Мастер и Маргарита', 'Булгаков М.А.', 670.99, 3),\n",
    "#                                                                ('Белая гвардия', 'Булгаков М.А.', 540.50, 5),\n",
    "#                                                                ('Идиот', 'Достоевский Ф.М.', 460.00, 10),\n",
    "#                                                                ('Братья Карамазовы', 'Достоевский Ф.М.', 799.01, 2),\n",
    "#                                                                ('Игрок', 'Достоевский Ф.М.', 480.50, 10),\n",
    "#                                                                ('Стихотворения и поэмы', 'Есенин С.А.', 650.00, 15);\n",
    "\n",
    "#         '''\n",
    "# insert_values(query)"
   ]
  },
  {
   "cell_type": "markdown",
   "metadata": {},
   "source": [
    "## Выборка данных"
   ]
  },
  {
   "cell_type": "code",
   "execution_count": 7,
   "metadata": {},
   "outputs": [],
   "source": [
    "def select_data(query: str) -> pd.DataFrame:\n",
    "    connection = mysql.connector.connect(**config)\n",
    "    df_mysql = pd.read_sql(query, con=connection)\n",
    "    connection.close()\n",
    "    return df_mysql"
   ]
  },
  {
   "cell_type": "code",
   "execution_count": 8,
   "metadata": {},
   "outputs": [
    {
     "data": {
      "text/html": [
       "<style  type=\"text/css\" >\n",
       "</style><table id=\"T_a81ec9ba_11e3_11eb_aaa0_0242ac150003\" ><thead>    <tr>        <th class=\"col_heading level0 col0\" >book_id</th>        <th class=\"col_heading level0 col1\" >title</th>        <th class=\"col_heading level0 col2\" >author</th>        <th class=\"col_heading level0 col3\" >price</th>        <th class=\"col_heading level0 col4\" >amount</th>    </tr></thead><tbody>\n",
       "                <tr>\n",
       "                                <td id=\"T_a81ec9ba_11e3_11eb_aaa0_0242ac150003row0_col0\" class=\"data row0 col0\" >1</td>\n",
       "                        <td id=\"T_a81ec9ba_11e3_11eb_aaa0_0242ac150003row0_col1\" class=\"data row0 col1\" >Мастер и Маргарита</td>\n",
       "                        <td id=\"T_a81ec9ba_11e3_11eb_aaa0_0242ac150003row0_col2\" class=\"data row0 col2\" >Булгаков М.А.</td>\n",
       "                        <td id=\"T_a81ec9ba_11e3_11eb_aaa0_0242ac150003row0_col3\" class=\"data row0 col3\" >670.990000</td>\n",
       "                        <td id=\"T_a81ec9ba_11e3_11eb_aaa0_0242ac150003row0_col4\" class=\"data row0 col4\" >3</td>\n",
       "            </tr>\n",
       "            <tr>\n",
       "                                <td id=\"T_a81ec9ba_11e3_11eb_aaa0_0242ac150003row1_col0\" class=\"data row1 col0\" >2</td>\n",
       "                        <td id=\"T_a81ec9ba_11e3_11eb_aaa0_0242ac150003row1_col1\" class=\"data row1 col1\" >Белая гвардия</td>\n",
       "                        <td id=\"T_a81ec9ba_11e3_11eb_aaa0_0242ac150003row1_col2\" class=\"data row1 col2\" >Булгаков М.А.</td>\n",
       "                        <td id=\"T_a81ec9ba_11e3_11eb_aaa0_0242ac150003row1_col3\" class=\"data row1 col3\" >540.500000</td>\n",
       "                        <td id=\"T_a81ec9ba_11e3_11eb_aaa0_0242ac150003row1_col4\" class=\"data row1 col4\" >5</td>\n",
       "            </tr>\n",
       "            <tr>\n",
       "                                <td id=\"T_a81ec9ba_11e3_11eb_aaa0_0242ac150003row2_col0\" class=\"data row2 col0\" >3</td>\n",
       "                        <td id=\"T_a81ec9ba_11e3_11eb_aaa0_0242ac150003row2_col1\" class=\"data row2 col1\" >Идиот</td>\n",
       "                        <td id=\"T_a81ec9ba_11e3_11eb_aaa0_0242ac150003row2_col2\" class=\"data row2 col2\" >Достоевский Ф.М.</td>\n",
       "                        <td id=\"T_a81ec9ba_11e3_11eb_aaa0_0242ac150003row2_col3\" class=\"data row2 col3\" >460.000000</td>\n",
       "                        <td id=\"T_a81ec9ba_11e3_11eb_aaa0_0242ac150003row2_col4\" class=\"data row2 col4\" >10</td>\n",
       "            </tr>\n",
       "            <tr>\n",
       "                                <td id=\"T_a81ec9ba_11e3_11eb_aaa0_0242ac150003row3_col0\" class=\"data row3 col0\" >4</td>\n",
       "                        <td id=\"T_a81ec9ba_11e3_11eb_aaa0_0242ac150003row3_col1\" class=\"data row3 col1\" >Братья Карамазовы</td>\n",
       "                        <td id=\"T_a81ec9ba_11e3_11eb_aaa0_0242ac150003row3_col2\" class=\"data row3 col2\" >Достоевский Ф.М.</td>\n",
       "                        <td id=\"T_a81ec9ba_11e3_11eb_aaa0_0242ac150003row3_col3\" class=\"data row3 col3\" >799.010000</td>\n",
       "                        <td id=\"T_a81ec9ba_11e3_11eb_aaa0_0242ac150003row3_col4\" class=\"data row3 col4\" >2</td>\n",
       "            </tr>\n",
       "            <tr>\n",
       "                                <td id=\"T_a81ec9ba_11e3_11eb_aaa0_0242ac150003row4_col0\" class=\"data row4 col0\" >5</td>\n",
       "                        <td id=\"T_a81ec9ba_11e3_11eb_aaa0_0242ac150003row4_col1\" class=\"data row4 col1\" >Игрок</td>\n",
       "                        <td id=\"T_a81ec9ba_11e3_11eb_aaa0_0242ac150003row4_col2\" class=\"data row4 col2\" >Достоевский Ф.М.</td>\n",
       "                        <td id=\"T_a81ec9ba_11e3_11eb_aaa0_0242ac150003row4_col3\" class=\"data row4 col3\" >480.500000</td>\n",
       "                        <td id=\"T_a81ec9ba_11e3_11eb_aaa0_0242ac150003row4_col4\" class=\"data row4 col4\" >10</td>\n",
       "            </tr>\n",
       "            <tr>\n",
       "                                <td id=\"T_a81ec9ba_11e3_11eb_aaa0_0242ac150003row5_col0\" class=\"data row5 col0\" >6</td>\n",
       "                        <td id=\"T_a81ec9ba_11e3_11eb_aaa0_0242ac150003row5_col1\" class=\"data row5 col1\" >Стихотворения и поэмы</td>\n",
       "                        <td id=\"T_a81ec9ba_11e3_11eb_aaa0_0242ac150003row5_col2\" class=\"data row5 col2\" >Есенин С.А.</td>\n",
       "                        <td id=\"T_a81ec9ba_11e3_11eb_aaa0_0242ac150003row5_col3\" class=\"data row5 col3\" >650.000000</td>\n",
       "                        <td id=\"T_a81ec9ba_11e3_11eb_aaa0_0242ac150003row5_col4\" class=\"data row5 col4\" >15</td>\n",
       "            </tr>\n",
       "    </tbody></table>"
      ],
      "text/plain": [
       "<pandas.io.formats.style.Styler at 0x7fcbbe927340>"
      ]
     },
     "execution_count": 8,
     "metadata": {},
     "output_type": "execute_result"
    }
   ],
   "source": [
    "query = '''\n",
    "        SELECT *\n",
    "        FROM book;\n",
    "        '''\n",
    "\n",
    "select_data(query).style.hide_index()"
   ]
  },
  {
   "cell_type": "code",
   "execution_count": 9,
   "metadata": {},
   "outputs": [
    {
     "data": {
      "text/html": [
       "<style  type=\"text/css\" >\n",
       "</style><table id=\"T_a820a5be_11e3_11eb_aaa0_0242ac150003\" ><thead>    <tr>        <th class=\"col_heading level0 col0\" >author</th>        <th class=\"col_heading level0 col1\" >title</th>        <th class=\"col_heading level0 col2\" >price</th>    </tr></thead><tbody>\n",
       "                <tr>\n",
       "                                <td id=\"T_a820a5be_11e3_11eb_aaa0_0242ac150003row0_col0\" class=\"data row0 col0\" >Булгаков М.А.</td>\n",
       "                        <td id=\"T_a820a5be_11e3_11eb_aaa0_0242ac150003row0_col1\" class=\"data row0 col1\" >Мастер и Маргарита</td>\n",
       "                        <td id=\"T_a820a5be_11e3_11eb_aaa0_0242ac150003row0_col2\" class=\"data row0 col2\" >670.990000</td>\n",
       "            </tr>\n",
       "            <tr>\n",
       "                                <td id=\"T_a820a5be_11e3_11eb_aaa0_0242ac150003row1_col0\" class=\"data row1 col0\" >Булгаков М.А.</td>\n",
       "                        <td id=\"T_a820a5be_11e3_11eb_aaa0_0242ac150003row1_col1\" class=\"data row1 col1\" >Белая гвардия</td>\n",
       "                        <td id=\"T_a820a5be_11e3_11eb_aaa0_0242ac150003row1_col2\" class=\"data row1 col2\" >540.500000</td>\n",
       "            </tr>\n",
       "            <tr>\n",
       "                                <td id=\"T_a820a5be_11e3_11eb_aaa0_0242ac150003row2_col0\" class=\"data row2 col0\" >Достоевский Ф.М.</td>\n",
       "                        <td id=\"T_a820a5be_11e3_11eb_aaa0_0242ac150003row2_col1\" class=\"data row2 col1\" >Идиот</td>\n",
       "                        <td id=\"T_a820a5be_11e3_11eb_aaa0_0242ac150003row2_col2\" class=\"data row2 col2\" >460.000000</td>\n",
       "            </tr>\n",
       "            <tr>\n",
       "                                <td id=\"T_a820a5be_11e3_11eb_aaa0_0242ac150003row3_col0\" class=\"data row3 col0\" >Достоевский Ф.М.</td>\n",
       "                        <td id=\"T_a820a5be_11e3_11eb_aaa0_0242ac150003row3_col1\" class=\"data row3 col1\" >Братья Карамазовы</td>\n",
       "                        <td id=\"T_a820a5be_11e3_11eb_aaa0_0242ac150003row3_col2\" class=\"data row3 col2\" >799.010000</td>\n",
       "            </tr>\n",
       "            <tr>\n",
       "                                <td id=\"T_a820a5be_11e3_11eb_aaa0_0242ac150003row4_col0\" class=\"data row4 col0\" >Достоевский Ф.М.</td>\n",
       "                        <td id=\"T_a820a5be_11e3_11eb_aaa0_0242ac150003row4_col1\" class=\"data row4 col1\" >Игрок</td>\n",
       "                        <td id=\"T_a820a5be_11e3_11eb_aaa0_0242ac150003row4_col2\" class=\"data row4 col2\" >480.500000</td>\n",
       "            </tr>\n",
       "            <tr>\n",
       "                                <td id=\"T_a820a5be_11e3_11eb_aaa0_0242ac150003row5_col0\" class=\"data row5 col0\" >Есенин С.А.</td>\n",
       "                        <td id=\"T_a820a5be_11e3_11eb_aaa0_0242ac150003row5_col1\" class=\"data row5 col1\" >Стихотворения и поэмы</td>\n",
       "                        <td id=\"T_a820a5be_11e3_11eb_aaa0_0242ac150003row5_col2\" class=\"data row5 col2\" >650.000000</td>\n",
       "            </tr>\n",
       "    </tbody></table>"
      ],
      "text/plain": [
       "<pandas.io.formats.style.Styler at 0x7fcb73920bb0>"
      ]
     },
     "execution_count": 9,
     "metadata": {},
     "output_type": "execute_result"
    }
   ],
   "source": [
    "query = '''\n",
    "        SELECT author, title, price\n",
    "        FROM book;\n",
    "        '''\n",
    "\n",
    "select_data(query).style.hide_index()"
   ]
  },
  {
   "cell_type": "code",
   "execution_count": 10,
   "metadata": {},
   "outputs": [
    {
     "data": {
      "text/html": [
       "<style  type=\"text/css\" >\n",
       "</style><table id=\"T_a822cc7c_11e3_11eb_aaa0_0242ac150003\" ><thead>    <tr>        <th class=\"col_heading level0 col0\" >Название</th>        <th class=\"col_heading level0 col1\" >Автор</th>    </tr></thead><tbody>\n",
       "                <tr>\n",
       "                                <td id=\"T_a822cc7c_11e3_11eb_aaa0_0242ac150003row0_col0\" class=\"data row0 col0\" >Мастер и Маргарита</td>\n",
       "                        <td id=\"T_a822cc7c_11e3_11eb_aaa0_0242ac150003row0_col1\" class=\"data row0 col1\" >Булгаков М.А.</td>\n",
       "            </tr>\n",
       "            <tr>\n",
       "                                <td id=\"T_a822cc7c_11e3_11eb_aaa0_0242ac150003row1_col0\" class=\"data row1 col0\" >Белая гвардия</td>\n",
       "                        <td id=\"T_a822cc7c_11e3_11eb_aaa0_0242ac150003row1_col1\" class=\"data row1 col1\" >Булгаков М.А.</td>\n",
       "            </tr>\n",
       "            <tr>\n",
       "                                <td id=\"T_a822cc7c_11e3_11eb_aaa0_0242ac150003row2_col0\" class=\"data row2 col0\" >Идиот</td>\n",
       "                        <td id=\"T_a822cc7c_11e3_11eb_aaa0_0242ac150003row2_col1\" class=\"data row2 col1\" >Достоевский Ф.М.</td>\n",
       "            </tr>\n",
       "            <tr>\n",
       "                                <td id=\"T_a822cc7c_11e3_11eb_aaa0_0242ac150003row3_col0\" class=\"data row3 col0\" >Братья Карамазовы</td>\n",
       "                        <td id=\"T_a822cc7c_11e3_11eb_aaa0_0242ac150003row3_col1\" class=\"data row3 col1\" >Достоевский Ф.М.</td>\n",
       "            </tr>\n",
       "            <tr>\n",
       "                                <td id=\"T_a822cc7c_11e3_11eb_aaa0_0242ac150003row4_col0\" class=\"data row4 col0\" >Игрок</td>\n",
       "                        <td id=\"T_a822cc7c_11e3_11eb_aaa0_0242ac150003row4_col1\" class=\"data row4 col1\" >Достоевский Ф.М.</td>\n",
       "            </tr>\n",
       "            <tr>\n",
       "                                <td id=\"T_a822cc7c_11e3_11eb_aaa0_0242ac150003row5_col0\" class=\"data row5 col0\" >Стихотворения и поэмы</td>\n",
       "                        <td id=\"T_a822cc7c_11e3_11eb_aaa0_0242ac150003row5_col1\" class=\"data row5 col1\" >Есенин С.А.</td>\n",
       "            </tr>\n",
       "    </tbody></table>"
      ],
      "text/plain": [
       "<pandas.io.formats.style.Styler at 0x7fcbbe8c10d0>"
      ]
     },
     "execution_count": 10,
     "metadata": {},
     "output_type": "execute_result"
    }
   ],
   "source": [
    "query = '''\n",
    "        SELECT title as Название, author as Автор\n",
    "        FROM book;\n",
    "        '''\n",
    "\n",
    "select_data(query).style.hide_index()"
   ]
  },
  {
   "cell_type": "code",
   "execution_count": 11,
   "metadata": {},
   "outputs": [
    {
     "data": {
      "text/html": [
       "<style  type=\"text/css\" >\n",
       "</style><table id=\"T_a824ac22_11e3_11eb_aaa0_0242ac150003\" ><thead>    <tr>        <th class=\"col_heading level0 col0\" >title</th>        <th class=\"col_heading level0 col1\" >amount</th>        <th class=\"col_heading level0 col2\" >pack</th>    </tr></thead><tbody>\n",
       "                <tr>\n",
       "                                <td id=\"T_a824ac22_11e3_11eb_aaa0_0242ac150003row0_col0\" class=\"data row0 col0\" >Мастер и Маргарита</td>\n",
       "                        <td id=\"T_a824ac22_11e3_11eb_aaa0_0242ac150003row0_col1\" class=\"data row0 col1\" >3</td>\n",
       "                        <td id=\"T_a824ac22_11e3_11eb_aaa0_0242ac150003row0_col2\" class=\"data row0 col2\" >4.950000</td>\n",
       "            </tr>\n",
       "            <tr>\n",
       "                                <td id=\"T_a824ac22_11e3_11eb_aaa0_0242ac150003row1_col0\" class=\"data row1 col0\" >Белая гвардия</td>\n",
       "                        <td id=\"T_a824ac22_11e3_11eb_aaa0_0242ac150003row1_col1\" class=\"data row1 col1\" >5</td>\n",
       "                        <td id=\"T_a824ac22_11e3_11eb_aaa0_0242ac150003row1_col2\" class=\"data row1 col2\" >8.250000</td>\n",
       "            </tr>\n",
       "            <tr>\n",
       "                                <td id=\"T_a824ac22_11e3_11eb_aaa0_0242ac150003row2_col0\" class=\"data row2 col0\" >Идиот</td>\n",
       "                        <td id=\"T_a824ac22_11e3_11eb_aaa0_0242ac150003row2_col1\" class=\"data row2 col1\" >10</td>\n",
       "                        <td id=\"T_a824ac22_11e3_11eb_aaa0_0242ac150003row2_col2\" class=\"data row2 col2\" >16.500000</td>\n",
       "            </tr>\n",
       "            <tr>\n",
       "                                <td id=\"T_a824ac22_11e3_11eb_aaa0_0242ac150003row3_col0\" class=\"data row3 col0\" >Братья Карамазовы</td>\n",
       "                        <td id=\"T_a824ac22_11e3_11eb_aaa0_0242ac150003row3_col1\" class=\"data row3 col1\" >2</td>\n",
       "                        <td id=\"T_a824ac22_11e3_11eb_aaa0_0242ac150003row3_col2\" class=\"data row3 col2\" >3.300000</td>\n",
       "            </tr>\n",
       "            <tr>\n",
       "                                <td id=\"T_a824ac22_11e3_11eb_aaa0_0242ac150003row4_col0\" class=\"data row4 col0\" >Игрок</td>\n",
       "                        <td id=\"T_a824ac22_11e3_11eb_aaa0_0242ac150003row4_col1\" class=\"data row4 col1\" >10</td>\n",
       "                        <td id=\"T_a824ac22_11e3_11eb_aaa0_0242ac150003row4_col2\" class=\"data row4 col2\" >16.500000</td>\n",
       "            </tr>\n",
       "            <tr>\n",
       "                                <td id=\"T_a824ac22_11e3_11eb_aaa0_0242ac150003row5_col0\" class=\"data row5 col0\" >Стихотворения и поэмы</td>\n",
       "                        <td id=\"T_a824ac22_11e3_11eb_aaa0_0242ac150003row5_col1\" class=\"data row5 col1\" >15</td>\n",
       "                        <td id=\"T_a824ac22_11e3_11eb_aaa0_0242ac150003row5_col2\" class=\"data row5 col2\" >24.750000</td>\n",
       "            </tr>\n",
       "    </tbody></table>"
      ],
      "text/plain": [
       "<pandas.io.formats.style.Styler at 0x7fcbbc42fdc0>"
      ]
     },
     "execution_count": 11,
     "metadata": {},
     "output_type": "execute_result"
    }
   ],
   "source": [
    "query = '''\n",
    "        SELECT title, amount, amount*1.65 AS pack\n",
    "        FROM book;\n",
    "        '''\n",
    "select_data(query).style.hide_index()"
   ]
  },
  {
   "cell_type": "code",
   "execution_count": 12,
   "metadata": {},
   "outputs": [
    {
     "data": {
      "text/html": [
       "<style  type=\"text/css\" >\n",
       "</style><table id=\"T_a826a5fe_11e3_11eb_aaa0_0242ac150003\" ><thead>    <tr>        <th class=\"col_heading level0 col0\" >title</th>        <th class=\"col_heading level0 col1\" >author</th>        <th class=\"col_heading level0 col2\" >amount</th>        <th class=\"col_heading level0 col3\" >new_price</th>    </tr></thead><tbody>\n",
       "                <tr>\n",
       "                                <td id=\"T_a826a5fe_11e3_11eb_aaa0_0242ac150003row0_col0\" class=\"data row0 col0\" >Мастер и Маргарита</td>\n",
       "                        <td id=\"T_a826a5fe_11e3_11eb_aaa0_0242ac150003row0_col1\" class=\"data row0 col1\" >Булгаков М.А.</td>\n",
       "                        <td id=\"T_a826a5fe_11e3_11eb_aaa0_0242ac150003row0_col2\" class=\"data row0 col2\" >3</td>\n",
       "                        <td id=\"T_a826a5fe_11e3_11eb_aaa0_0242ac150003row0_col3\" class=\"data row0 col3\" >469.690000</td>\n",
       "            </tr>\n",
       "            <tr>\n",
       "                                <td id=\"T_a826a5fe_11e3_11eb_aaa0_0242ac150003row1_col0\" class=\"data row1 col0\" >Белая гвардия</td>\n",
       "                        <td id=\"T_a826a5fe_11e3_11eb_aaa0_0242ac150003row1_col1\" class=\"data row1 col1\" >Булгаков М.А.</td>\n",
       "                        <td id=\"T_a826a5fe_11e3_11eb_aaa0_0242ac150003row1_col2\" class=\"data row1 col2\" >5</td>\n",
       "                        <td id=\"T_a826a5fe_11e3_11eb_aaa0_0242ac150003row1_col3\" class=\"data row1 col3\" >378.350000</td>\n",
       "            </tr>\n",
       "            <tr>\n",
       "                                <td id=\"T_a826a5fe_11e3_11eb_aaa0_0242ac150003row2_col0\" class=\"data row2 col0\" >Идиот</td>\n",
       "                        <td id=\"T_a826a5fe_11e3_11eb_aaa0_0242ac150003row2_col1\" class=\"data row2 col1\" >Достоевский Ф.М.</td>\n",
       "                        <td id=\"T_a826a5fe_11e3_11eb_aaa0_0242ac150003row2_col2\" class=\"data row2 col2\" >10</td>\n",
       "                        <td id=\"T_a826a5fe_11e3_11eb_aaa0_0242ac150003row2_col3\" class=\"data row2 col3\" >322.000000</td>\n",
       "            </tr>\n",
       "            <tr>\n",
       "                                <td id=\"T_a826a5fe_11e3_11eb_aaa0_0242ac150003row3_col0\" class=\"data row3 col0\" >Братья Карамазовы</td>\n",
       "                        <td id=\"T_a826a5fe_11e3_11eb_aaa0_0242ac150003row3_col1\" class=\"data row3 col1\" >Достоевский Ф.М.</td>\n",
       "                        <td id=\"T_a826a5fe_11e3_11eb_aaa0_0242ac150003row3_col2\" class=\"data row3 col2\" >2</td>\n",
       "                        <td id=\"T_a826a5fe_11e3_11eb_aaa0_0242ac150003row3_col3\" class=\"data row3 col3\" >559.310000</td>\n",
       "            </tr>\n",
       "            <tr>\n",
       "                                <td id=\"T_a826a5fe_11e3_11eb_aaa0_0242ac150003row4_col0\" class=\"data row4 col0\" >Игрок</td>\n",
       "                        <td id=\"T_a826a5fe_11e3_11eb_aaa0_0242ac150003row4_col1\" class=\"data row4 col1\" >Достоевский Ф.М.</td>\n",
       "                        <td id=\"T_a826a5fe_11e3_11eb_aaa0_0242ac150003row4_col2\" class=\"data row4 col2\" >10</td>\n",
       "                        <td id=\"T_a826a5fe_11e3_11eb_aaa0_0242ac150003row4_col3\" class=\"data row4 col3\" >336.350000</td>\n",
       "            </tr>\n",
       "            <tr>\n",
       "                                <td id=\"T_a826a5fe_11e3_11eb_aaa0_0242ac150003row5_col0\" class=\"data row5 col0\" >Стихотворения и поэмы</td>\n",
       "                        <td id=\"T_a826a5fe_11e3_11eb_aaa0_0242ac150003row5_col1\" class=\"data row5 col1\" >Есенин С.А.</td>\n",
       "                        <td id=\"T_a826a5fe_11e3_11eb_aaa0_0242ac150003row5_col2\" class=\"data row5 col2\" >15</td>\n",
       "                        <td id=\"T_a826a5fe_11e3_11eb_aaa0_0242ac150003row5_col3\" class=\"data row5 col3\" >455.000000</td>\n",
       "            </tr>\n",
       "    </tbody></table>"
      ],
      "text/plain": [
       "<pandas.io.formats.style.Styler at 0x7fcbbc42f970>"
      ]
     },
     "execution_count": 12,
     "metadata": {},
     "output_type": "execute_result"
    }
   ],
   "source": [
    "query = '''\n",
    "        SELECT title, author, amount, round(price*0.7, 2) AS new_price\n",
    "        FROM book;\n",
    "        '''\n",
    "\n",
    "select_data(query).style.hide_index()"
   ]
  },
  {
   "cell_type": "code",
   "execution_count": 13,
   "metadata": {},
   "outputs": [
    {
     "data": {
      "text/html": [
       "<style  type=\"text/css\" >\n",
       "</style><table id=\"T_a828e7f6_11e3_11eb_aaa0_0242ac150003\" ><thead>    <tr>        <th class=\"col_heading level0 col0\" >author</th>        <th class=\"col_heading level0 col1\" >title</th>        <th class=\"col_heading level0 col2\" >new_price</th>    </tr></thead><tbody>\n",
       "                <tr>\n",
       "                                <td id=\"T_a828e7f6_11e3_11eb_aaa0_0242ac150003row0_col0\" class=\"data row0 col0\" >Булгаков М.А.</td>\n",
       "                        <td id=\"T_a828e7f6_11e3_11eb_aaa0_0242ac150003row0_col1\" class=\"data row0 col1\" >Мастер и Маргарита</td>\n",
       "                        <td id=\"T_a828e7f6_11e3_11eb_aaa0_0242ac150003row0_col2\" class=\"data row0 col2\" >738.090000</td>\n",
       "            </tr>\n",
       "            <tr>\n",
       "                                <td id=\"T_a828e7f6_11e3_11eb_aaa0_0242ac150003row1_col0\" class=\"data row1 col0\" >Булгаков М.А.</td>\n",
       "                        <td id=\"T_a828e7f6_11e3_11eb_aaa0_0242ac150003row1_col1\" class=\"data row1 col1\" >Белая гвардия</td>\n",
       "                        <td id=\"T_a828e7f6_11e3_11eb_aaa0_0242ac150003row1_col2\" class=\"data row1 col2\" >594.550000</td>\n",
       "            </tr>\n",
       "            <tr>\n",
       "                                <td id=\"T_a828e7f6_11e3_11eb_aaa0_0242ac150003row2_col0\" class=\"data row2 col0\" >Достоевский Ф.М.</td>\n",
       "                        <td id=\"T_a828e7f6_11e3_11eb_aaa0_0242ac150003row2_col1\" class=\"data row2 col1\" >Идиот</td>\n",
       "                        <td id=\"T_a828e7f6_11e3_11eb_aaa0_0242ac150003row2_col2\" class=\"data row2 col2\" >460.000000</td>\n",
       "            </tr>\n",
       "            <tr>\n",
       "                                <td id=\"T_a828e7f6_11e3_11eb_aaa0_0242ac150003row3_col0\" class=\"data row3 col0\" >Достоевский Ф.М.</td>\n",
       "                        <td id=\"T_a828e7f6_11e3_11eb_aaa0_0242ac150003row3_col1\" class=\"data row3 col1\" >Братья Карамазовы</td>\n",
       "                        <td id=\"T_a828e7f6_11e3_11eb_aaa0_0242ac150003row3_col2\" class=\"data row3 col2\" >799.010000</td>\n",
       "            </tr>\n",
       "            <tr>\n",
       "                                <td id=\"T_a828e7f6_11e3_11eb_aaa0_0242ac150003row4_col0\" class=\"data row4 col0\" >Достоевский Ф.М.</td>\n",
       "                        <td id=\"T_a828e7f6_11e3_11eb_aaa0_0242ac150003row4_col1\" class=\"data row4 col1\" >Игрок</td>\n",
       "                        <td id=\"T_a828e7f6_11e3_11eb_aaa0_0242ac150003row4_col2\" class=\"data row4 col2\" >480.500000</td>\n",
       "            </tr>\n",
       "            <tr>\n",
       "                                <td id=\"T_a828e7f6_11e3_11eb_aaa0_0242ac150003row5_col0\" class=\"data row5 col0\" >Есенин С.А.</td>\n",
       "                        <td id=\"T_a828e7f6_11e3_11eb_aaa0_0242ac150003row5_col1\" class=\"data row5 col1\" >Стихотворения и поэмы</td>\n",
       "                        <td id=\"T_a828e7f6_11e3_11eb_aaa0_0242ac150003row5_col2\" class=\"data row5 col2\" >682.500000</td>\n",
       "            </tr>\n",
       "    </tbody></table>"
      ],
      "text/plain": [
       "<pandas.io.formats.style.Styler at 0x7fcb736d6f40>"
      ]
     },
     "execution_count": 13,
     "metadata": {},
     "output_type": "execute_result"
    }
   ],
   "source": [
    "query = '''\n",
    "        SELECT author, title,\n",
    "               round(IF (author='Булгаков М.А.', price*1.10, IF(author='Есенин С.А.', price*1.05, price)), 2) AS new_price\n",
    "        FROM book;\n",
    "        '''\n",
    "\n",
    "select_data(query).style.hide_index()"
   ]
  },
  {
   "cell_type": "code",
   "execution_count": 14,
   "metadata": {},
   "outputs": [
    {
     "data": {
      "text/html": [
       "<style  type=\"text/css\" >\n",
       "</style><table id=\"T_a82ac210_11e3_11eb_aaa0_0242ac150003\" ><thead>    <tr>        <th class=\"col_heading level0 col0\" >author</th>        <th class=\"col_heading level0 col1\" >title</th>        <th class=\"col_heading level0 col2\" >price</th>    </tr></thead><tbody>\n",
       "                <tr>\n",
       "                                <td id=\"T_a82ac210_11e3_11eb_aaa0_0242ac150003row0_col0\" class=\"data row0 col0\" >Булгаков М.А.</td>\n",
       "                        <td id=\"T_a82ac210_11e3_11eb_aaa0_0242ac150003row0_col1\" class=\"data row0 col1\" >Мастер и Маргарита</td>\n",
       "                        <td id=\"T_a82ac210_11e3_11eb_aaa0_0242ac150003row0_col2\" class=\"data row0 col2\" >670.990000</td>\n",
       "            </tr>\n",
       "            <tr>\n",
       "                                <td id=\"T_a82ac210_11e3_11eb_aaa0_0242ac150003row1_col0\" class=\"data row1 col0\" >Булгаков М.А.</td>\n",
       "                        <td id=\"T_a82ac210_11e3_11eb_aaa0_0242ac150003row1_col1\" class=\"data row1 col1\" >Белая гвардия</td>\n",
       "                        <td id=\"T_a82ac210_11e3_11eb_aaa0_0242ac150003row1_col2\" class=\"data row1 col2\" >540.500000</td>\n",
       "            </tr>\n",
       "            <tr>\n",
       "                                <td id=\"T_a82ac210_11e3_11eb_aaa0_0242ac150003row2_col0\" class=\"data row2 col0\" >Достоевский Ф.М.</td>\n",
       "                        <td id=\"T_a82ac210_11e3_11eb_aaa0_0242ac150003row2_col1\" class=\"data row2 col1\" >Братья Карамазовы</td>\n",
       "                        <td id=\"T_a82ac210_11e3_11eb_aaa0_0242ac150003row2_col2\" class=\"data row2 col2\" >799.010000</td>\n",
       "            </tr>\n",
       "    </tbody></table>"
      ],
      "text/plain": [
       "<pandas.io.formats.style.Styler at 0x7fcb736d6880>"
      ]
     },
     "execution_count": 14,
     "metadata": {},
     "output_type": "execute_result"
    }
   ],
   "source": [
    "query = '''\n",
    "        SELECT author, title, price\n",
    "        FROM book\n",
    "        WHERE amount < 10;\n",
    "        '''\n",
    "\n",
    "select_data(query).style.hide_index()"
   ]
  },
  {
   "cell_type": "code",
   "execution_count": 15,
   "metadata": {},
   "outputs": [
    {
     "data": {
      "text/html": [
       "<style  type=\"text/css\" >\n",
       "</style><table id=\"T_a82c2b28_11e3_11eb_aaa0_0242ac150003\" ><thead>    <tr>        <th class=\"col_heading level0 col0\" >title</th>        <th class=\"col_heading level0 col1\" >author</th>        <th class=\"col_heading level0 col2\" >price</th>        <th class=\"col_heading level0 col3\" >amount</th>    </tr></thead><tbody>\n",
       "                <tr>\n",
       "                                <td id=\"T_a82c2b28_11e3_11eb_aaa0_0242ac150003row0_col0\" class=\"data row0 col0\" >Стихотворения и поэмы</td>\n",
       "                        <td id=\"T_a82c2b28_11e3_11eb_aaa0_0242ac150003row0_col1\" class=\"data row0 col1\" >Есенин С.А.</td>\n",
       "                        <td id=\"T_a82c2b28_11e3_11eb_aaa0_0242ac150003row0_col2\" class=\"data row0 col2\" >650.000000</td>\n",
       "                        <td id=\"T_a82c2b28_11e3_11eb_aaa0_0242ac150003row0_col3\" class=\"data row0 col3\" >15</td>\n",
       "            </tr>\n",
       "    </tbody></table>"
      ],
      "text/plain": [
       "<pandas.io.formats.style.Styler at 0x7fcb736dcd60>"
      ]
     },
     "execution_count": 15,
     "metadata": {},
     "output_type": "execute_result"
    }
   ],
   "source": [
    "query = '''\n",
    "        SELECT title, author, price, amount\n",
    "        FROM book\n",
    "        WHERE price*amount >= 5000 and (price < 500 or price > 600);\n",
    "        '''\n",
    "\n",
    "select_data(query).style.hide_index()"
   ]
  },
  {
   "cell_type": "code",
   "execution_count": 16,
   "metadata": {},
   "outputs": [
    {
     "data": {
      "text/html": [
       "<style  type=\"text/css\" >\n",
       "</style><table id=\"T_a82de9e0_11e3_11eb_aaa0_0242ac150003\" ><thead>    <tr>        <th class=\"col_heading level0 col0\" >title</th>        <th class=\"col_heading level0 col1\" >author</th>    </tr></thead><tbody>\n",
       "                <tr>\n",
       "                                <td id=\"T_a82de9e0_11e3_11eb_aaa0_0242ac150003row0_col0\" class=\"data row0 col0\" >Мастер и Маргарита</td>\n",
       "                        <td id=\"T_a82de9e0_11e3_11eb_aaa0_0242ac150003row0_col1\" class=\"data row0 col1\" >Булгаков М.А.</td>\n",
       "            </tr>\n",
       "            <tr>\n",
       "                                <td id=\"T_a82de9e0_11e3_11eb_aaa0_0242ac150003row1_col0\" class=\"data row1 col0\" >Белая гвардия</td>\n",
       "                        <td id=\"T_a82de9e0_11e3_11eb_aaa0_0242ac150003row1_col1\" class=\"data row1 col1\" >Булгаков М.А.</td>\n",
       "            </tr>\n",
       "            <tr>\n",
       "                                <td id=\"T_a82de9e0_11e3_11eb_aaa0_0242ac150003row2_col0\" class=\"data row2 col0\" >Братья Карамазовы</td>\n",
       "                        <td id=\"T_a82de9e0_11e3_11eb_aaa0_0242ac150003row2_col1\" class=\"data row2 col1\" >Достоевский Ф.М.</td>\n",
       "            </tr>\n",
       "    </tbody></table>"
      ],
      "text/plain": [
       "<pandas.io.formats.style.Styler at 0x7fcb736dc400>"
      ]
     },
     "execution_count": 16,
     "metadata": {},
     "output_type": "execute_result"
    }
   ],
   "source": [
    "query = '''\n",
    "        SELECT title, author\n",
    "        FROM book\n",
    "        WHERE (price BETWEEN 540.50 and 800) and    amount IN (2, 3, 5, 7);\n",
    "        '''\n",
    "\n",
    "select_data(query).style.hide_index()"
   ]
  },
  {
   "cell_type": "code",
   "execution_count": 17,
   "metadata": {},
   "outputs": [
    {
     "data": {
      "text/html": [
       "<style  type=\"text/css\" >\n",
       "</style><table id=\"T_a82f88d6_11e3_11eb_aaa0_0242ac150003\" ><thead>    <tr>        <th class=\"col_heading level0 col0\" >title</th>        <th class=\"col_heading level0 col1\" >author</th>    </tr></thead><tbody>\n",
       "                <tr>\n",
       "                                <td id=\"T_a82f88d6_11e3_11eb_aaa0_0242ac150003row0_col0\" class=\"data row0 col0\" >Стихотворения и поэмы</td>\n",
       "                        <td id=\"T_a82f88d6_11e3_11eb_aaa0_0242ac150003row0_col1\" class=\"data row0 col1\" >Есенин С.А.</td>\n",
       "            </tr>\n",
       "    </tbody></table>"
      ],
      "text/plain": [
       "<pandas.io.formats.style.Styler at 0x7fcb73685df0>"
      ]
     },
     "execution_count": 17,
     "metadata": {},
     "output_type": "execute_result"
    }
   ],
   "source": [
    "query = '''\n",
    "        SELECT title, author\n",
    "        FROM book\n",
    "        WHERE title LIKE '% %' AND author LIKE '%С.%';\n",
    "        '''\n",
    "\n",
    "select_data(query).style.hide_index()"
   ]
  },
  {
   "cell_type": "code",
   "execution_count": 18,
   "metadata": {},
   "outputs": [
    {
     "data": {
      "text/html": [
       "<style  type=\"text/css\" >\n",
       "</style><table id=\"T_a8312c90_11e3_11eb_aaa0_0242ac150003\" ><thead>    <tr>        <th class=\"col_heading level0 col0\" >author</th>        <th class=\"col_heading level0 col1\" >title</th>    </tr></thead><tbody>\n",
       "                <tr>\n",
       "                                <td id=\"T_a8312c90_11e3_11eb_aaa0_0242ac150003row0_col0\" class=\"data row0 col0\" >Достоевский Ф.М.</td>\n",
       "                        <td id=\"T_a8312c90_11e3_11eb_aaa0_0242ac150003row0_col1\" class=\"data row0 col1\" >Братья Карамазовы</td>\n",
       "            </tr>\n",
       "            <tr>\n",
       "                                <td id=\"T_a8312c90_11e3_11eb_aaa0_0242ac150003row1_col0\" class=\"data row1 col0\" >Достоевский Ф.М.</td>\n",
       "                        <td id=\"T_a8312c90_11e3_11eb_aaa0_0242ac150003row1_col1\" class=\"data row1 col1\" >Игрок</td>\n",
       "            </tr>\n",
       "            <tr>\n",
       "                                <td id=\"T_a8312c90_11e3_11eb_aaa0_0242ac150003row2_col0\" class=\"data row2 col0\" >Достоевский Ф.М.</td>\n",
       "                        <td id=\"T_a8312c90_11e3_11eb_aaa0_0242ac150003row2_col1\" class=\"data row2 col1\" >Идиот</td>\n",
       "            </tr>\n",
       "            <tr>\n",
       "                                <td id=\"T_a8312c90_11e3_11eb_aaa0_0242ac150003row3_col0\" class=\"data row3 col0\" >Булгаков М.А.</td>\n",
       "                        <td id=\"T_a8312c90_11e3_11eb_aaa0_0242ac150003row3_col1\" class=\"data row3 col1\" >Белая гвардия</td>\n",
       "            </tr>\n",
       "            <tr>\n",
       "                                <td id=\"T_a8312c90_11e3_11eb_aaa0_0242ac150003row4_col0\" class=\"data row4 col0\" >Булгаков М.А.</td>\n",
       "                        <td id=\"T_a8312c90_11e3_11eb_aaa0_0242ac150003row4_col1\" class=\"data row4 col1\" >Мастер и Маргарита</td>\n",
       "            </tr>\n",
       "    </tbody></table>"
      ],
      "text/plain": [
       "<pandas.io.formats.style.Styler at 0x7fcb73685550>"
      ]
     },
     "execution_count": 18,
     "metadata": {},
     "output_type": "execute_result"
    }
   ],
   "source": [
    "query = '''\n",
    "        SELECT author, title\n",
    "        FROM book\n",
    "        WHERE amount BETWEEN 2 AND 14 \n",
    "        ORDER BY author DESC, title ASC;\n",
    "        '''\n",
    "\n",
    "select_data(query).style.hide_index()"
   ]
  },
  {
   "cell_type": "markdown",
   "metadata": {},
   "source": [
    "## Групповые операции"
   ]
  },
  {
   "cell_type": "code",
   "execution_count": 19,
   "metadata": {},
   "outputs": [
    {
     "data": {
      "text/html": [
       "<style  type=\"text/css\" >\n",
       "</style><table id=\"T_a832f476_11e3_11eb_aaa0_0242ac150003\" ><thead>    <tr>        <th class=\"col_heading level0 col0\" >amount</th>    </tr></thead><tbody>\n",
       "                <tr>\n",
       "                                <td id=\"T_a832f476_11e3_11eb_aaa0_0242ac150003row0_col0\" class=\"data row0 col0\" >3</td>\n",
       "            </tr>\n",
       "            <tr>\n",
       "                                <td id=\"T_a832f476_11e3_11eb_aaa0_0242ac150003row1_col0\" class=\"data row1 col0\" >5</td>\n",
       "            </tr>\n",
       "            <tr>\n",
       "                                <td id=\"T_a832f476_11e3_11eb_aaa0_0242ac150003row2_col0\" class=\"data row2 col0\" >10</td>\n",
       "            </tr>\n",
       "            <tr>\n",
       "                                <td id=\"T_a832f476_11e3_11eb_aaa0_0242ac150003row3_col0\" class=\"data row3 col0\" >2</td>\n",
       "            </tr>\n",
       "            <tr>\n",
       "                                <td id=\"T_a832f476_11e3_11eb_aaa0_0242ac150003row4_col0\" class=\"data row4 col0\" >15</td>\n",
       "            </tr>\n",
       "    </tbody></table>"
      ],
      "text/plain": [
       "<pandas.io.formats.style.Styler at 0x7fcb7368ed60>"
      ]
     },
     "execution_count": 19,
     "metadata": {},
     "output_type": "execute_result"
    }
   ],
   "source": [
    "query = '''\n",
    "        SELECT DISTINCT amount\n",
    "        FROM book;\n",
    "        '''\n",
    "\n",
    "select_data(query).style.hide_index()"
   ]
  },
  {
   "cell_type": "code",
   "execution_count": 20,
   "metadata": {},
   "outputs": [
    {
     "data": {
      "text/html": [
       "<style  type=\"text/css\" >\n",
       "</style><table id=\"T_a835270a_11e3_11eb_aaa0_0242ac150003\" ><thead>    <tr>        <th class=\"col_heading level0 col0\" >Автор</th>        <th class=\"col_heading level0 col1\" >Различных_книг</th>        <th class=\"col_heading level0 col2\" >Количество_экземпляров</th>    </tr></thead><tbody>\n",
       "                <tr>\n",
       "                                <td id=\"T_a835270a_11e3_11eb_aaa0_0242ac150003row0_col0\" class=\"data row0 col0\" >Булгаков М.А.</td>\n",
       "                        <td id=\"T_a835270a_11e3_11eb_aaa0_0242ac150003row0_col1\" class=\"data row0 col1\" >2</td>\n",
       "                        <td id=\"T_a835270a_11e3_11eb_aaa0_0242ac150003row0_col2\" class=\"data row0 col2\" >8.000000</td>\n",
       "            </tr>\n",
       "            <tr>\n",
       "                                <td id=\"T_a835270a_11e3_11eb_aaa0_0242ac150003row1_col0\" class=\"data row1 col0\" >Достоевский Ф.М.</td>\n",
       "                        <td id=\"T_a835270a_11e3_11eb_aaa0_0242ac150003row1_col1\" class=\"data row1 col1\" >3</td>\n",
       "                        <td id=\"T_a835270a_11e3_11eb_aaa0_0242ac150003row1_col2\" class=\"data row1 col2\" >22.000000</td>\n",
       "            </tr>\n",
       "            <tr>\n",
       "                                <td id=\"T_a835270a_11e3_11eb_aaa0_0242ac150003row2_col0\" class=\"data row2 col0\" >Есенин С.А.</td>\n",
       "                        <td id=\"T_a835270a_11e3_11eb_aaa0_0242ac150003row2_col1\" class=\"data row2 col1\" >1</td>\n",
       "                        <td id=\"T_a835270a_11e3_11eb_aaa0_0242ac150003row2_col2\" class=\"data row2 col2\" >15.000000</td>\n",
       "            </tr>\n",
       "    </tbody></table>"
      ],
      "text/plain": [
       "<pandas.io.formats.style.Styler at 0x7fcb7368eaf0>"
      ]
     },
     "execution_count": 20,
     "metadata": {},
     "output_type": "execute_result"
    }
   ],
   "source": [
    "query = '''\n",
    "        SELECT author AS 'Автор', COUNT(author) AS 'Различных_книг', SUM(amount) AS 'Количество_экземпляров'\n",
    "        FROM book\n",
    "        GROUP BY author;\n",
    "        '''\n",
    "\n",
    "select_data(query).style.hide_index()"
   ]
  },
  {
   "cell_type": "code",
   "execution_count": 21,
   "metadata": {},
   "outputs": [
    {
     "data": {
      "text/html": [
       "<style  type=\"text/css\" >\n",
       "</style><table id=\"T_a836a2c4_11e3_11eb_aaa0_0242ac150003\" ><thead>    <tr>        <th class=\"col_heading level0 col0\" >author</th>        <th class=\"col_heading level0 col1\" >Минимальная цена</th>        <th class=\"col_heading level0 col2\" >Максимальная цена</th>        <th class=\"col_heading level0 col3\" >Средняя цена</th>    </tr></thead><tbody>\n",
       "                <tr>\n",
       "                                <td id=\"T_a836a2c4_11e3_11eb_aaa0_0242ac150003row0_col0\" class=\"data row0 col0\" >Булгаков М.А.</td>\n",
       "                        <td id=\"T_a836a2c4_11e3_11eb_aaa0_0242ac150003row0_col1\" class=\"data row0 col1\" >540.500000</td>\n",
       "                        <td id=\"T_a836a2c4_11e3_11eb_aaa0_0242ac150003row0_col2\" class=\"data row0 col2\" >670.990000</td>\n",
       "                        <td id=\"T_a836a2c4_11e3_11eb_aaa0_0242ac150003row0_col3\" class=\"data row0 col3\" >605.745000</td>\n",
       "            </tr>\n",
       "            <tr>\n",
       "                                <td id=\"T_a836a2c4_11e3_11eb_aaa0_0242ac150003row1_col0\" class=\"data row1 col0\" >Достоевский Ф.М.</td>\n",
       "                        <td id=\"T_a836a2c4_11e3_11eb_aaa0_0242ac150003row1_col1\" class=\"data row1 col1\" >460.000000</td>\n",
       "                        <td id=\"T_a836a2c4_11e3_11eb_aaa0_0242ac150003row1_col2\" class=\"data row1 col2\" >799.010000</td>\n",
       "                        <td id=\"T_a836a2c4_11e3_11eb_aaa0_0242ac150003row1_col3\" class=\"data row1 col3\" >579.836667</td>\n",
       "            </tr>\n",
       "            <tr>\n",
       "                                <td id=\"T_a836a2c4_11e3_11eb_aaa0_0242ac150003row2_col0\" class=\"data row2 col0\" >Есенин С.А.</td>\n",
       "                        <td id=\"T_a836a2c4_11e3_11eb_aaa0_0242ac150003row2_col1\" class=\"data row2 col1\" >650.000000</td>\n",
       "                        <td id=\"T_a836a2c4_11e3_11eb_aaa0_0242ac150003row2_col2\" class=\"data row2 col2\" >650.000000</td>\n",
       "                        <td id=\"T_a836a2c4_11e3_11eb_aaa0_0242ac150003row2_col3\" class=\"data row2 col3\" >650.000000</td>\n",
       "            </tr>\n",
       "    </tbody></table>"
      ],
      "text/plain": [
       "<pandas.io.formats.style.Styler at 0x7fcb7368e910>"
      ]
     },
     "execution_count": 21,
     "metadata": {},
     "output_type": "execute_result"
    }
   ],
   "source": [
    "query = '''\n",
    "        SELECT author, MIN(price) AS 'Минимальная цена', MAX(price) AS 'Максимальная цена', AVG(price) AS 'Средняя цена'\n",
    "        FROM book\n",
    "        GROUP BY author;\n",
    "        '''\n",
    "\n",
    "select_data(query).style.hide_index()"
   ]
  },
  {
   "cell_type": "code",
   "execution_count": 22,
   "metadata": {},
   "outputs": [
    {
     "data": {
      "text/html": [
       "<style  type=\"text/css\" >\n",
       "</style><table id=\"T_a8387162_11e3_11eb_aaa0_0242ac150003\" ><thead>    <tr>        <th class=\"col_heading level0 col0\" >author</th>        <th class=\"col_heading level0 col1\" >Стоимость</th>        <th class=\"col_heading level0 col2\" >НДС</th>        <th class=\"col_heading level0 col3\" >Стоимость_без_НДС</th>    </tr></thead><tbody>\n",
       "                <tr>\n",
       "                                <td id=\"T_a8387162_11e3_11eb_aaa0_0242ac150003row0_col0\" class=\"data row0 col0\" >Булгаков М.А.</td>\n",
       "                        <td id=\"T_a8387162_11e3_11eb_aaa0_0242ac150003row0_col1\" class=\"data row0 col1\" >4715.470000</td>\n",
       "                        <td id=\"T_a8387162_11e3_11eb_aaa0_0242ac150003row0_col2\" class=\"data row0 col2\" >719.310000</td>\n",
       "                        <td id=\"T_a8387162_11e3_11eb_aaa0_0242ac150003row0_col3\" class=\"data row0 col3\" >3996.160000</td>\n",
       "            </tr>\n",
       "            <tr>\n",
       "                                <td id=\"T_a8387162_11e3_11eb_aaa0_0242ac150003row1_col0\" class=\"data row1 col0\" >Достоевский Ф.М.</td>\n",
       "                        <td id=\"T_a8387162_11e3_11eb_aaa0_0242ac150003row1_col1\" class=\"data row1 col1\" >11003.020000</td>\n",
       "                        <td id=\"T_a8387162_11e3_11eb_aaa0_0242ac150003row1_col2\" class=\"data row1 col2\" >1678.430000</td>\n",
       "                        <td id=\"T_a8387162_11e3_11eb_aaa0_0242ac150003row1_col3\" class=\"data row1 col3\" >9324.590000</td>\n",
       "            </tr>\n",
       "            <tr>\n",
       "                                <td id=\"T_a8387162_11e3_11eb_aaa0_0242ac150003row2_col0\" class=\"data row2 col0\" >Есенин С.А.</td>\n",
       "                        <td id=\"T_a8387162_11e3_11eb_aaa0_0242ac150003row2_col1\" class=\"data row2 col1\" >9750.000000</td>\n",
       "                        <td id=\"T_a8387162_11e3_11eb_aaa0_0242ac150003row2_col2\" class=\"data row2 col2\" >1487.290000</td>\n",
       "                        <td id=\"T_a8387162_11e3_11eb_aaa0_0242ac150003row2_col3\" class=\"data row2 col3\" >8262.710000</td>\n",
       "            </tr>\n",
       "    </tbody></table>"
      ],
      "text/plain": [
       "<pandas.io.formats.style.Styler at 0x7fcb73694af0>"
      ]
     },
     "execution_count": 22,
     "metadata": {},
     "output_type": "execute_result"
    }
   ],
   "source": [
    "query = '''\n",
    "        SELECT author, round(SUM(price*amount), 2) AS 'Стоимость', round(SUM(price*amount) * 0.18 / (1 + 0.18), 2) AS 'НДС',\n",
    "               round(SUM(price*amount) / (1 + 0.18), 2) AS 'Стоимость_без_НДС'\n",
    "        FROM book\n",
    "        GROUP BY author;\n",
    "        '''\n",
    "\n",
    "select_data(query).style.hide_index()"
   ]
  },
  {
   "cell_type": "code",
   "execution_count": 23,
   "metadata": {},
   "outputs": [
    {
     "data": {
      "text/html": [
       "<style  type=\"text/css\" >\n",
       "</style><table id=\"T_a83ae46a_11e3_11eb_aaa0_0242ac150003\" ><thead>    <tr>        <th class=\"col_heading level0 col0\" >Минимальная_цена</th>        <th class=\"col_heading level0 col1\" >Максимальная_цена</th>        <th class=\"col_heading level0 col2\" >Средняя_цена</th>    </tr></thead><tbody>\n",
       "                <tr>\n",
       "                                <td id=\"T_a83ae46a_11e3_11eb_aaa0_0242ac150003row0_col0\" class=\"data row0 col0\" >460.000000</td>\n",
       "                        <td id=\"T_a83ae46a_11e3_11eb_aaa0_0242ac150003row0_col1\" class=\"data row0 col1\" >799.010000</td>\n",
       "                        <td id=\"T_a83ae46a_11e3_11eb_aaa0_0242ac150003row0_col2\" class=\"data row0 col2\" >600.170000</td>\n",
       "            </tr>\n",
       "    </tbody></table>"
      ],
      "text/plain": [
       "<pandas.io.formats.style.Styler at 0x7fcbb93aa970>"
      ]
     },
     "execution_count": 23,
     "metadata": {},
     "output_type": "execute_result"
    }
   ],
   "source": [
    "query = '''\n",
    "        SELECT MIN(price) AS 'Минимальная_цена', MAX(price) AS 'Максимальная_цена', ROUND(AVG(price), 2) AS 'Средняя_цена'\n",
    "        FROM book;\n",
    "        '''\n",
    "\n",
    "select_data(query).style.hide_index()"
   ]
  },
  {
   "cell_type": "code",
   "execution_count": 24,
   "metadata": {},
   "outputs": [
    {
     "data": {
      "text/html": [
       "<style  type=\"text/css\" >\n",
       "</style><table id=\"T_a83c6cd6_11e3_11eb_aaa0_0242ac150003\" ><thead>    <tr>        <th class=\"col_heading level0 col0\" >Средняя_цена</th>        <th class=\"col_heading level0 col1\" >Стоимость</th>    </tr></thead><tbody>\n",
       "                <tr>\n",
       "                                <td id=\"T_a83c6cd6_11e3_11eb_aaa0_0242ac150003row0_col0\" class=\"data row0 col0\" >493.670000</td>\n",
       "                        <td id=\"T_a83c6cd6_11e3_11eb_aaa0_0242ac150003row0_col1\" class=\"data row0 col1\" >12107.500000</td>\n",
       "            </tr>\n",
       "    </tbody></table>"
      ],
      "text/plain": [
       "<pandas.io.formats.style.Styler at 0x7fcb736854f0>"
      ]
     },
     "execution_count": 24,
     "metadata": {},
     "output_type": "execute_result"
    }
   ],
   "source": [
    "query = '''\n",
    "        SELECT ROUND(AVG(price), 2) AS 'Средняя_цена', ROUND(SUM(price*amount), 2) AS 'Стоимость'\n",
    "        FROM book\n",
    "        WHERE amount BETWEEN 5 and 14;\n",
    "        '''\n",
    "\n",
    "select_data(query).style.hide_index()"
   ]
  },
  {
   "cell_type": "code",
   "execution_count": 25,
   "metadata": {},
   "outputs": [
    {
     "data": {
      "text/html": [
       "<style  type=\"text/css\" >\n",
       "</style><table id=\"T_a83de106_11e3_11eb_aaa0_0242ac150003\" ><thead>    <tr>        <th class=\"col_heading level0 col0\" >author</th>        <th class=\"col_heading level0 col1\" >Стоимость</th>    </tr></thead><tbody>\n",
       "                <tr>\n",
       "                                <td id=\"T_a83de106_11e3_11eb_aaa0_0242ac150003row0_col0\" class=\"data row0 col0\" >Есенин С.А.</td>\n",
       "                        <td id=\"T_a83de106_11e3_11eb_aaa0_0242ac150003row0_col1\" class=\"data row0 col1\" >9750.000000</td>\n",
       "            </tr>\n",
       "            <tr>\n",
       "                                <td id=\"T_a83de106_11e3_11eb_aaa0_0242ac150003row1_col0\" class=\"data row1 col0\" >Достоевский Ф.М.</td>\n",
       "                        <td id=\"T_a83de106_11e3_11eb_aaa0_0242ac150003row1_col1\" class=\"data row1 col1\" >6403.020000</td>\n",
       "            </tr>\n",
       "    </tbody></table>"
      ],
      "text/plain": [
       "<pandas.io.formats.style.Styler at 0x7fcb7368e4f0>"
      ]
     },
     "execution_count": 25,
     "metadata": {},
     "output_type": "execute_result"
    }
   ],
   "source": [
    "query = '''\n",
    "        SELECT author, SUM(price*amount) AS 'Стоимость'\n",
    "        FROM book\n",
    "        WHERE title <> 'Идиот' and title <> 'Белая гвардия'\n",
    "        GROUP BY author\n",
    "        HAVING Стоимость > 5000\n",
    "        ORDER BY Стоимость DESC;\n",
    "        '''\n",
    "\n",
    "select_data(query).style.hide_index()"
   ]
  },
  {
   "cell_type": "markdown",
   "metadata": {},
   "source": [
    "## Вложенные запросы"
   ]
  },
  {
   "cell_type": "code",
   "execution_count": 26,
   "metadata": {},
   "outputs": [
    {
     "data": {
      "text/html": [
       "<style  type=\"text/css\" >\n",
       "</style><table id=\"T_a83f7c78_11e3_11eb_aaa0_0242ac150003\" ><thead>    <tr>        <th class=\"col_heading level0 col0\" >author</th>        <th class=\"col_heading level0 col1\" >title</th>        <th class=\"col_heading level0 col2\" >price</th>    </tr></thead><tbody>\n",
       "                <tr>\n",
       "                                <td id=\"T_a83f7c78_11e3_11eb_aaa0_0242ac150003row0_col0\" class=\"data row0 col0\" >Булгаков М.А.</td>\n",
       "                        <td id=\"T_a83f7c78_11e3_11eb_aaa0_0242ac150003row0_col1\" class=\"data row0 col1\" >Белая гвардия</td>\n",
       "                        <td id=\"T_a83f7c78_11e3_11eb_aaa0_0242ac150003row0_col2\" class=\"data row0 col2\" >540.500000</td>\n",
       "            </tr>\n",
       "            <tr>\n",
       "                                <td id=\"T_a83f7c78_11e3_11eb_aaa0_0242ac150003row1_col0\" class=\"data row1 col0\" >Достоевский Ф.М.</td>\n",
       "                        <td id=\"T_a83f7c78_11e3_11eb_aaa0_0242ac150003row1_col1\" class=\"data row1 col1\" >Игрок</td>\n",
       "                        <td id=\"T_a83f7c78_11e3_11eb_aaa0_0242ac150003row1_col2\" class=\"data row1 col2\" >480.500000</td>\n",
       "            </tr>\n",
       "            <tr>\n",
       "                                <td id=\"T_a83f7c78_11e3_11eb_aaa0_0242ac150003row2_col0\" class=\"data row2 col0\" >Достоевский Ф.М.</td>\n",
       "                        <td id=\"T_a83f7c78_11e3_11eb_aaa0_0242ac150003row2_col1\" class=\"data row2 col1\" >Идиот</td>\n",
       "                        <td id=\"T_a83f7c78_11e3_11eb_aaa0_0242ac150003row2_col2\" class=\"data row2 col2\" >460.000000</td>\n",
       "            </tr>\n",
       "    </tbody></table>"
      ],
      "text/plain": [
       "<pandas.io.formats.style.Styler at 0x7fcbbc42f4f0>"
      ]
     },
     "execution_count": 26,
     "metadata": {},
     "output_type": "execute_result"
    }
   ],
   "source": [
    "query = '''\n",
    "        SELECT author, title, price\n",
    "        FROM book\n",
    "        WHERE price <= (SELECT AVG(price) FROM book)\n",
    "        ORDER BY price DESC;\n",
    "        '''\n",
    "\n",
    "select_data(query).style.hide_index()"
   ]
  },
  {
   "cell_type": "code",
   "execution_count": 27,
   "metadata": {},
   "outputs": [
    {
     "data": {
      "text/html": [
       "<style  type=\"text/css\" >\n",
       "</style><table id=\"T_a84177f8_11e3_11eb_aaa0_0242ac150003\" ><thead>    <tr>        <th class=\"col_heading level0 col0\" >author</th>        <th class=\"col_heading level0 col1\" >title</th>        <th class=\"col_heading level0 col2\" >price</th>    </tr></thead><tbody>\n",
       "                <tr>\n",
       "                                <td id=\"T_a84177f8_11e3_11eb_aaa0_0242ac150003row0_col0\" class=\"data row0 col0\" >Достоевский Ф.М.</td>\n",
       "                        <td id=\"T_a84177f8_11e3_11eb_aaa0_0242ac150003row0_col1\" class=\"data row0 col1\" >Идиот</td>\n",
       "                        <td id=\"T_a84177f8_11e3_11eb_aaa0_0242ac150003row0_col2\" class=\"data row0 col2\" >460.000000</td>\n",
       "            </tr>\n",
       "            <tr>\n",
       "                                <td id=\"T_a84177f8_11e3_11eb_aaa0_0242ac150003row1_col0\" class=\"data row1 col0\" >Достоевский Ф.М.</td>\n",
       "                        <td id=\"T_a84177f8_11e3_11eb_aaa0_0242ac150003row1_col1\" class=\"data row1 col1\" >Игрок</td>\n",
       "                        <td id=\"T_a84177f8_11e3_11eb_aaa0_0242ac150003row1_col2\" class=\"data row1 col2\" >480.500000</td>\n",
       "            </tr>\n",
       "            <tr>\n",
       "                                <td id=\"T_a84177f8_11e3_11eb_aaa0_0242ac150003row2_col0\" class=\"data row2 col0\" >Булгаков М.А.</td>\n",
       "                        <td id=\"T_a84177f8_11e3_11eb_aaa0_0242ac150003row2_col1\" class=\"data row2 col1\" >Белая гвардия</td>\n",
       "                        <td id=\"T_a84177f8_11e3_11eb_aaa0_0242ac150003row2_col2\" class=\"data row2 col2\" >540.500000</td>\n",
       "            </tr>\n",
       "    </tbody></table>"
      ],
      "text/plain": [
       "<pandas.io.formats.style.Styler at 0x7fcbbc42feb0>"
      ]
     },
     "execution_count": 27,
     "metadata": {},
     "output_type": "execute_result"
    }
   ],
   "source": [
    "query = '''\n",
    "        SELECT author, title, price\n",
    "        FROM book\n",
    "        WHERE price - (SELECT MIN(price) FROM book) <= 150\n",
    "        ORDER BY price;\n",
    "        '''\n",
    "\n",
    "select_data(query).style.hide_index()"
   ]
  },
  {
   "cell_type": "code",
   "execution_count": 28,
   "metadata": {},
   "outputs": [
    {
     "data": {
      "text/html": [
       "<style  type=\"text/css\" >\n",
       "</style><table id=\"T_a843998e_11e3_11eb_aaa0_0242ac150003\" ><thead>    <tr>        <th class=\"col_heading level0 col0\" >author</th>        <th class=\"col_heading level0 col1\" >title</th>        <th class=\"col_heading level0 col2\" >amount</th>    </tr></thead><tbody>\n",
       "                <tr>\n",
       "                                <td id=\"T_a843998e_11e3_11eb_aaa0_0242ac150003row0_col0\" class=\"data row0 col0\" >Булгаков М.А.</td>\n",
       "                        <td id=\"T_a843998e_11e3_11eb_aaa0_0242ac150003row0_col1\" class=\"data row0 col1\" >Мастер и Маргарита</td>\n",
       "                        <td id=\"T_a843998e_11e3_11eb_aaa0_0242ac150003row0_col2\" class=\"data row0 col2\" >3</td>\n",
       "            </tr>\n",
       "            <tr>\n",
       "                                <td id=\"T_a843998e_11e3_11eb_aaa0_0242ac150003row1_col0\" class=\"data row1 col0\" >Булгаков М.А.</td>\n",
       "                        <td id=\"T_a843998e_11e3_11eb_aaa0_0242ac150003row1_col1\" class=\"data row1 col1\" >Белая гвардия</td>\n",
       "                        <td id=\"T_a843998e_11e3_11eb_aaa0_0242ac150003row1_col2\" class=\"data row1 col2\" >5</td>\n",
       "            </tr>\n",
       "            <tr>\n",
       "                                <td id=\"T_a843998e_11e3_11eb_aaa0_0242ac150003row2_col0\" class=\"data row2 col0\" >Достоевский Ф.М.</td>\n",
       "                        <td id=\"T_a843998e_11e3_11eb_aaa0_0242ac150003row2_col1\" class=\"data row2 col1\" >Братья Карамазовы</td>\n",
       "                        <td id=\"T_a843998e_11e3_11eb_aaa0_0242ac150003row2_col2\" class=\"data row2 col2\" >2</td>\n",
       "            </tr>\n",
       "            <tr>\n",
       "                                <td id=\"T_a843998e_11e3_11eb_aaa0_0242ac150003row3_col0\" class=\"data row3 col0\" >Есенин С.А.</td>\n",
       "                        <td id=\"T_a843998e_11e3_11eb_aaa0_0242ac150003row3_col1\" class=\"data row3 col1\" >Стихотворения и поэмы</td>\n",
       "                        <td id=\"T_a843998e_11e3_11eb_aaa0_0242ac150003row3_col2\" class=\"data row3 col2\" >15</td>\n",
       "            </tr>\n",
       "    </tbody></table>"
      ],
      "text/plain": [
       "<pandas.io.formats.style.Styler at 0x7fcb73694c10>"
      ]
     },
     "execution_count": 28,
     "metadata": {},
     "output_type": "execute_result"
    }
   ],
   "source": [
    "query = '''\n",
    "        SELECT author, title, amount\n",
    "        FROM book\n",
    "        WHERE amount IN (SELECT amount FROM book GROUP BY amount HAVING COUNT(amount) = 1);\n",
    "        '''\n",
    "\n",
    "select_data(query).style.hide_index()"
   ]
  },
  {
   "cell_type": "code",
   "execution_count": 29,
   "metadata": {},
   "outputs": [
    {
     "data": {
      "text/html": [
       "<style  type=\"text/css\" >\n",
       "</style><table id=\"T_a84555da_11e3_11eb_aaa0_0242ac150003\" ><thead>    <tr>        <th class=\"col_heading level0 col0\" >author</th>        <th class=\"col_heading level0 col1\" >title</th>        <th class=\"col_heading level0 col2\" >price</th>    </tr></thead><tbody>\n",
       "                <tr>\n",
       "                                <td id=\"T_a84555da_11e3_11eb_aaa0_0242ac150003row0_col0\" class=\"data row0 col0\" >Булгаков М.А.</td>\n",
       "                        <td id=\"T_a84555da_11e3_11eb_aaa0_0242ac150003row0_col1\" class=\"data row0 col1\" >Мастер и Маргарита</td>\n",
       "                        <td id=\"T_a84555da_11e3_11eb_aaa0_0242ac150003row0_col2\" class=\"data row0 col2\" >670.990000</td>\n",
       "            </tr>\n",
       "            <tr>\n",
       "                                <td id=\"T_a84555da_11e3_11eb_aaa0_0242ac150003row1_col0\" class=\"data row1 col0\" >Булгаков М.А.</td>\n",
       "                        <td id=\"T_a84555da_11e3_11eb_aaa0_0242ac150003row1_col1\" class=\"data row1 col1\" >Белая гвардия</td>\n",
       "                        <td id=\"T_a84555da_11e3_11eb_aaa0_0242ac150003row1_col2\" class=\"data row1 col2\" >540.500000</td>\n",
       "            </tr>\n",
       "            <tr>\n",
       "                                <td id=\"T_a84555da_11e3_11eb_aaa0_0242ac150003row2_col0\" class=\"data row2 col0\" >Есенин С.А.</td>\n",
       "                        <td id=\"T_a84555da_11e3_11eb_aaa0_0242ac150003row2_col1\" class=\"data row2 col1\" >Стихотворения и поэмы</td>\n",
       "                        <td id=\"T_a84555da_11e3_11eb_aaa0_0242ac150003row2_col2\" class=\"data row2 col2\" >650.000000</td>\n",
       "            </tr>\n",
       "    </tbody></table>"
      ],
      "text/plain": [
       "<pandas.io.formats.style.Styler at 0x7fcb736941f0>"
      ]
     },
     "execution_count": 29,
     "metadata": {},
     "output_type": "execute_result"
    }
   ],
   "source": [
    "query = '''\n",
    "        SELECT author, title, price\n",
    "        FROM book\n",
    "        WHERE author = ANY (SELECT author FROM book GROUP BY author HAVING AVG(price) > (SELECT AVG(price) FROM book));\n",
    "        '''\n",
    "\n",
    "select_data(query).style.hide_index()"
   ]
  },
  {
   "cell_type": "code",
   "execution_count": 30,
   "metadata": {},
   "outputs": [
    {
     "data": {
      "text/html": [
       "<style  type=\"text/css\" >\n",
       "</style><table id=\"T_a846f1e2_11e3_11eb_aaa0_0242ac150003\" ><thead>    <tr>        <th class=\"col_heading level0 col0\" >title</th>        <th class=\"col_heading level0 col1\" >author</th>        <th class=\"col_heading level0 col2\" >amount</th>        <th class=\"col_heading level0 col3\" >Заказ</th>    </tr></thead><tbody>\n",
       "                <tr>\n",
       "                                <td id=\"T_a846f1e2_11e3_11eb_aaa0_0242ac150003row0_col0\" class=\"data row0 col0\" >Мастер и Маргарита</td>\n",
       "                        <td id=\"T_a846f1e2_11e3_11eb_aaa0_0242ac150003row0_col1\" class=\"data row0 col1\" >Булгаков М.А.</td>\n",
       "                        <td id=\"T_a846f1e2_11e3_11eb_aaa0_0242ac150003row0_col2\" class=\"data row0 col2\" >3</td>\n",
       "                        <td id=\"T_a846f1e2_11e3_11eb_aaa0_0242ac150003row0_col3\" class=\"data row0 col3\" >12</td>\n",
       "            </tr>\n",
       "            <tr>\n",
       "                                <td id=\"T_a846f1e2_11e3_11eb_aaa0_0242ac150003row1_col0\" class=\"data row1 col0\" >Белая гвардия</td>\n",
       "                        <td id=\"T_a846f1e2_11e3_11eb_aaa0_0242ac150003row1_col1\" class=\"data row1 col1\" >Булгаков М.А.</td>\n",
       "                        <td id=\"T_a846f1e2_11e3_11eb_aaa0_0242ac150003row1_col2\" class=\"data row1 col2\" >5</td>\n",
       "                        <td id=\"T_a846f1e2_11e3_11eb_aaa0_0242ac150003row1_col3\" class=\"data row1 col3\" >10</td>\n",
       "            </tr>\n",
       "            <tr>\n",
       "                                <td id=\"T_a846f1e2_11e3_11eb_aaa0_0242ac150003row2_col0\" class=\"data row2 col0\" >Идиот</td>\n",
       "                        <td id=\"T_a846f1e2_11e3_11eb_aaa0_0242ac150003row2_col1\" class=\"data row2 col1\" >Достоевский Ф.М.</td>\n",
       "                        <td id=\"T_a846f1e2_11e3_11eb_aaa0_0242ac150003row2_col2\" class=\"data row2 col2\" >10</td>\n",
       "                        <td id=\"T_a846f1e2_11e3_11eb_aaa0_0242ac150003row2_col3\" class=\"data row2 col3\" >5</td>\n",
       "            </tr>\n",
       "            <tr>\n",
       "                                <td id=\"T_a846f1e2_11e3_11eb_aaa0_0242ac150003row3_col0\" class=\"data row3 col0\" >Братья Карамазовы</td>\n",
       "                        <td id=\"T_a846f1e2_11e3_11eb_aaa0_0242ac150003row3_col1\" class=\"data row3 col1\" >Достоевский Ф.М.</td>\n",
       "                        <td id=\"T_a846f1e2_11e3_11eb_aaa0_0242ac150003row3_col2\" class=\"data row3 col2\" >2</td>\n",
       "                        <td id=\"T_a846f1e2_11e3_11eb_aaa0_0242ac150003row3_col3\" class=\"data row3 col3\" >13</td>\n",
       "            </tr>\n",
       "            <tr>\n",
       "                                <td id=\"T_a846f1e2_11e3_11eb_aaa0_0242ac150003row4_col0\" class=\"data row4 col0\" >Игрок</td>\n",
       "                        <td id=\"T_a846f1e2_11e3_11eb_aaa0_0242ac150003row4_col1\" class=\"data row4 col1\" >Достоевский Ф.М.</td>\n",
       "                        <td id=\"T_a846f1e2_11e3_11eb_aaa0_0242ac150003row4_col2\" class=\"data row4 col2\" >10</td>\n",
       "                        <td id=\"T_a846f1e2_11e3_11eb_aaa0_0242ac150003row4_col3\" class=\"data row4 col3\" >5</td>\n",
       "            </tr>\n",
       "    </tbody></table>"
      ],
      "text/plain": [
       "<pandas.io.formats.style.Styler at 0x7fcbb93aaa30>"
      ]
     },
     "execution_count": 30,
     "metadata": {},
     "output_type": "execute_result"
    }
   ],
   "source": [
    "query = '''\n",
    "        SELECT title, author, amount, (SELECT MAX(amount) FROM book) - amount AS 'Заказ'\n",
    "        FROM book\n",
    "        WHERE amount <> (SELECT MAX(amount) FROM book);\n",
    "        '''\n",
    "\n",
    "select_data(query).style.hide_index()"
   ]
  },
  {
   "cell_type": "code",
   "execution_count": 31,
   "metadata": {},
   "outputs": [
    {
     "data": {
      "text/html": [
       "<style  type=\"text/css\" >\n",
       "</style><table id=\"T_a8489baa_11e3_11eb_aaa0_0242ac150003\" ><thead>    <tr>        <th class=\"col_heading level0 col0\" >title</th>        <th class=\"col_heading level0 col1\" >author</th>        <th class=\"col_heading level0 col2\" >amount</th>        <th class=\"col_heading level0 col3\" >Заказ</th>    </tr></thead><tbody>\n",
       "                <tr>\n",
       "                                <td id=\"T_a8489baa_11e3_11eb_aaa0_0242ac150003row0_col0\" class=\"data row0 col0\" >Мастер и Маргарита</td>\n",
       "                        <td id=\"T_a8489baa_11e3_11eb_aaa0_0242ac150003row0_col1\" class=\"data row0 col1\" >Булгаков М.А.</td>\n",
       "                        <td id=\"T_a8489baa_11e3_11eb_aaa0_0242ac150003row0_col2\" class=\"data row0 col2\" >3</td>\n",
       "                        <td id=\"T_a8489baa_11e3_11eb_aaa0_0242ac150003row0_col3\" class=\"data row0 col3\" >12</td>\n",
       "            </tr>\n",
       "            <tr>\n",
       "                                <td id=\"T_a8489baa_11e3_11eb_aaa0_0242ac150003row1_col0\" class=\"data row1 col0\" >Белая гвардия</td>\n",
       "                        <td id=\"T_a8489baa_11e3_11eb_aaa0_0242ac150003row1_col1\" class=\"data row1 col1\" >Булгаков М.А.</td>\n",
       "                        <td id=\"T_a8489baa_11e3_11eb_aaa0_0242ac150003row1_col2\" class=\"data row1 col2\" >5</td>\n",
       "                        <td id=\"T_a8489baa_11e3_11eb_aaa0_0242ac150003row1_col3\" class=\"data row1 col3\" >10</td>\n",
       "            </tr>\n",
       "            <tr>\n",
       "                                <td id=\"T_a8489baa_11e3_11eb_aaa0_0242ac150003row2_col0\" class=\"data row2 col0\" >Идиот</td>\n",
       "                        <td id=\"T_a8489baa_11e3_11eb_aaa0_0242ac150003row2_col1\" class=\"data row2 col1\" >Достоевский Ф.М.</td>\n",
       "                        <td id=\"T_a8489baa_11e3_11eb_aaa0_0242ac150003row2_col2\" class=\"data row2 col2\" >10</td>\n",
       "                        <td id=\"T_a8489baa_11e3_11eb_aaa0_0242ac150003row2_col3\" class=\"data row2 col3\" >5</td>\n",
       "            </tr>\n",
       "            <tr>\n",
       "                                <td id=\"T_a8489baa_11e3_11eb_aaa0_0242ac150003row3_col0\" class=\"data row3 col0\" >Братья Карамазовы</td>\n",
       "                        <td id=\"T_a8489baa_11e3_11eb_aaa0_0242ac150003row3_col1\" class=\"data row3 col1\" >Достоевский Ф.М.</td>\n",
       "                        <td id=\"T_a8489baa_11e3_11eb_aaa0_0242ac150003row3_col2\" class=\"data row3 col2\" >2</td>\n",
       "                        <td id=\"T_a8489baa_11e3_11eb_aaa0_0242ac150003row3_col3\" class=\"data row3 col3\" >13</td>\n",
       "            </tr>\n",
       "            <tr>\n",
       "                                <td id=\"T_a8489baa_11e3_11eb_aaa0_0242ac150003row4_col0\" class=\"data row4 col0\" >Игрок</td>\n",
       "                        <td id=\"T_a8489baa_11e3_11eb_aaa0_0242ac150003row4_col1\" class=\"data row4 col1\" >Достоевский Ф.М.</td>\n",
       "                        <td id=\"T_a8489baa_11e3_11eb_aaa0_0242ac150003row4_col2\" class=\"data row4 col2\" >10</td>\n",
       "                        <td id=\"T_a8489baa_11e3_11eb_aaa0_0242ac150003row4_col3\" class=\"data row4 col3\" >5</td>\n",
       "            </tr>\n",
       "    </tbody></table>"
      ],
      "text/plain": [
       "<pandas.io.formats.style.Styler at 0x7fcb7369db20>"
      ]
     },
     "execution_count": 31,
     "metadata": {},
     "output_type": "execute_result"
    }
   ],
   "source": [
    "query = '''\n",
    "        SELECT title, author, amount, (SELECT MAX(amount) FROM book) - amount AS 'Заказ'\n",
    "        FROM book\n",
    "        WHERE amount <> (SELECT MAX(amount) FROM book);\n",
    "        '''\n",
    "\n",
    "select_data(query).style.hide_index()"
   ]
  },
  {
   "cell_type": "markdown",
   "metadata": {},
   "source": [
    "## Запросы корректировки данных"
   ]
  },
  {
   "cell_type": "code",
   "execution_count": 32,
   "metadata": {},
   "outputs": [],
   "source": [
    "# query = '''\n",
    "#         CREATE TABLE supply(supply_id INT PRIMARY KEY AUTO_INCREMENT,\n",
    "#                             title VARCHAR(50),\n",
    "#                             author VARCHAR(30),\n",
    "#                             price DECIMAL(8, 2),\n",
    "#                             amount INT);\n",
    "#         '''\n",
    "# create_table(query)"
   ]
  },
  {
   "cell_type": "code",
   "execution_count": 33,
   "metadata": {},
   "outputs": [],
   "source": [
    "# query = '''\n",
    "#         INSERT INTO supply (title, author, price, amount) VALUES ('Лирика', 'Пастернак Б.Л.', 518.99, 2),\n",
    "#                                                                  ('Черный человек', 'Есенин С.А.', 570.20, 6),\n",
    "#                                                                  ('Белая гвардия', 'Булгаков М.А.', 540.50, 7),\n",
    "#                                                                  ('Идиот', 'Достоевский Ф.М.', 360.80, 3);\n",
    "#         '''\n",
    "# insert_values(query)"
   ]
  },
  {
   "cell_type": "code",
   "execution_count": 34,
   "metadata": {},
   "outputs": [
    {
     "data": {
      "text/html": [
       "<style  type=\"text/css\" >\n",
       "</style><table id=\"T_adbf03e4_11e3_11eb_aaa0_0242ac150003\" ><thead>    <tr>        <th class=\"col_heading level0 col0\" >title</th>        <th class=\"col_heading level0 col1\" >author</th>        <th class=\"col_heading level0 col2\" >price</th>        <th class=\"col_heading level0 col3\" >amount</th>    </tr></thead><tbody>\n",
       "                <tr>\n",
       "                                <td id=\"T_adbf03e4_11e3_11eb_aaa0_0242ac150003row0_col0\" class=\"data row0 col0\" >Лирика</td>\n",
       "                        <td id=\"T_adbf03e4_11e3_11eb_aaa0_0242ac150003row0_col1\" class=\"data row0 col1\" >Пастернак Б.Л.</td>\n",
       "                        <td id=\"T_adbf03e4_11e3_11eb_aaa0_0242ac150003row0_col2\" class=\"data row0 col2\" >518.990000</td>\n",
       "                        <td id=\"T_adbf03e4_11e3_11eb_aaa0_0242ac150003row0_col3\" class=\"data row0 col3\" >2</td>\n",
       "            </tr>\n",
       "            <tr>\n",
       "                                <td id=\"T_adbf03e4_11e3_11eb_aaa0_0242ac150003row1_col0\" class=\"data row1 col0\" >Черный человек</td>\n",
       "                        <td id=\"T_adbf03e4_11e3_11eb_aaa0_0242ac150003row1_col1\" class=\"data row1 col1\" >Есенин С.А.</td>\n",
       "                        <td id=\"T_adbf03e4_11e3_11eb_aaa0_0242ac150003row1_col2\" class=\"data row1 col2\" >570.200000</td>\n",
       "                        <td id=\"T_adbf03e4_11e3_11eb_aaa0_0242ac150003row1_col3\" class=\"data row1 col3\" >6</td>\n",
       "            </tr>\n",
       "            <tr>\n",
       "                                <td id=\"T_adbf03e4_11e3_11eb_aaa0_0242ac150003row2_col0\" class=\"data row2 col0\" >Белая гвардия</td>\n",
       "                        <td id=\"T_adbf03e4_11e3_11eb_aaa0_0242ac150003row2_col1\" class=\"data row2 col1\" >Булгаков М.А.</td>\n",
       "                        <td id=\"T_adbf03e4_11e3_11eb_aaa0_0242ac150003row2_col2\" class=\"data row2 col2\" >540.500000</td>\n",
       "                        <td id=\"T_adbf03e4_11e3_11eb_aaa0_0242ac150003row2_col3\" class=\"data row2 col3\" >7</td>\n",
       "            </tr>\n",
       "            <tr>\n",
       "                                <td id=\"T_adbf03e4_11e3_11eb_aaa0_0242ac150003row3_col0\" class=\"data row3 col0\" >Идиот</td>\n",
       "                        <td id=\"T_adbf03e4_11e3_11eb_aaa0_0242ac150003row3_col1\" class=\"data row3 col1\" >Достоевский Ф.М.</td>\n",
       "                        <td id=\"T_adbf03e4_11e3_11eb_aaa0_0242ac150003row3_col2\" class=\"data row3 col2\" >360.800000</td>\n",
       "                        <td id=\"T_adbf03e4_11e3_11eb_aaa0_0242ac150003row3_col3\" class=\"data row3 col3\" >3</td>\n",
       "            </tr>\n",
       "    </tbody></table>"
      ],
      "text/plain": [
       "<pandas.io.formats.style.Styler at 0x7fcb7368e8b0>"
      ]
     },
     "execution_count": 34,
     "metadata": {},
     "output_type": "execute_result"
    }
   ],
   "source": [
    "query = '''\n",
    "        SELECT title, author, price, amount\n",
    "        FROM supply\n",
    "        '''\n",
    "\n",
    "select_data(query).style.hide_index()"
   ]
  },
  {
   "cell_type": "code",
   "execution_count": 35,
   "metadata": {},
   "outputs": [],
   "source": [
    "query = '''\n",
    "        INSERT INTO book (title, author, price, amount)\n",
    "            SELECT title, author, price, amount\n",
    "            FROM supply\n",
    "            WHERE author NOT IN ('Булгаков М.А.', 'Достоевский Ф.М.');\n",
    "        '''\n",
    "\n",
    "insert_values(query)"
   ]
  },
  {
   "cell_type": "code",
   "execution_count": 36,
   "metadata": {},
   "outputs": [
    {
     "data": {
      "text/html": [
       "<style  type=\"text/css\" >\n",
       "</style><table id=\"T_b4fd0e44_11e3_11eb_aaa0_0242ac150003\" ><thead>    <tr>        <th class=\"col_heading level0 col0\" >title</th>        <th class=\"col_heading level0 col1\" >author</th>        <th class=\"col_heading level0 col2\" >price</th>        <th class=\"col_heading level0 col3\" >amount</th>    </tr></thead><tbody>\n",
       "                <tr>\n",
       "                                <td id=\"T_b4fd0e44_11e3_11eb_aaa0_0242ac150003row0_col0\" class=\"data row0 col0\" >Мастер и Маргарита</td>\n",
       "                        <td id=\"T_b4fd0e44_11e3_11eb_aaa0_0242ac150003row0_col1\" class=\"data row0 col1\" >Булгаков М.А.</td>\n",
       "                        <td id=\"T_b4fd0e44_11e3_11eb_aaa0_0242ac150003row0_col2\" class=\"data row0 col2\" >670.990000</td>\n",
       "                        <td id=\"T_b4fd0e44_11e3_11eb_aaa0_0242ac150003row0_col3\" class=\"data row0 col3\" >3</td>\n",
       "            </tr>\n",
       "            <tr>\n",
       "                                <td id=\"T_b4fd0e44_11e3_11eb_aaa0_0242ac150003row1_col0\" class=\"data row1 col0\" >Белая гвардия</td>\n",
       "                        <td id=\"T_b4fd0e44_11e3_11eb_aaa0_0242ac150003row1_col1\" class=\"data row1 col1\" >Булгаков М.А.</td>\n",
       "                        <td id=\"T_b4fd0e44_11e3_11eb_aaa0_0242ac150003row1_col2\" class=\"data row1 col2\" >540.500000</td>\n",
       "                        <td id=\"T_b4fd0e44_11e3_11eb_aaa0_0242ac150003row1_col3\" class=\"data row1 col3\" >5</td>\n",
       "            </tr>\n",
       "            <tr>\n",
       "                                <td id=\"T_b4fd0e44_11e3_11eb_aaa0_0242ac150003row2_col0\" class=\"data row2 col0\" >Идиот</td>\n",
       "                        <td id=\"T_b4fd0e44_11e3_11eb_aaa0_0242ac150003row2_col1\" class=\"data row2 col1\" >Достоевский Ф.М.</td>\n",
       "                        <td id=\"T_b4fd0e44_11e3_11eb_aaa0_0242ac150003row2_col2\" class=\"data row2 col2\" >460.000000</td>\n",
       "                        <td id=\"T_b4fd0e44_11e3_11eb_aaa0_0242ac150003row2_col3\" class=\"data row2 col3\" >10</td>\n",
       "            </tr>\n",
       "            <tr>\n",
       "                                <td id=\"T_b4fd0e44_11e3_11eb_aaa0_0242ac150003row3_col0\" class=\"data row3 col0\" >Братья Карамазовы</td>\n",
       "                        <td id=\"T_b4fd0e44_11e3_11eb_aaa0_0242ac150003row3_col1\" class=\"data row3 col1\" >Достоевский Ф.М.</td>\n",
       "                        <td id=\"T_b4fd0e44_11e3_11eb_aaa0_0242ac150003row3_col2\" class=\"data row3 col2\" >799.010000</td>\n",
       "                        <td id=\"T_b4fd0e44_11e3_11eb_aaa0_0242ac150003row3_col3\" class=\"data row3 col3\" >2</td>\n",
       "            </tr>\n",
       "            <tr>\n",
       "                                <td id=\"T_b4fd0e44_11e3_11eb_aaa0_0242ac150003row4_col0\" class=\"data row4 col0\" >Игрок</td>\n",
       "                        <td id=\"T_b4fd0e44_11e3_11eb_aaa0_0242ac150003row4_col1\" class=\"data row4 col1\" >Достоевский Ф.М.</td>\n",
       "                        <td id=\"T_b4fd0e44_11e3_11eb_aaa0_0242ac150003row4_col2\" class=\"data row4 col2\" >480.500000</td>\n",
       "                        <td id=\"T_b4fd0e44_11e3_11eb_aaa0_0242ac150003row4_col3\" class=\"data row4 col3\" >10</td>\n",
       "            </tr>\n",
       "            <tr>\n",
       "                                <td id=\"T_b4fd0e44_11e3_11eb_aaa0_0242ac150003row5_col0\" class=\"data row5 col0\" >Стихотворения и поэмы</td>\n",
       "                        <td id=\"T_b4fd0e44_11e3_11eb_aaa0_0242ac150003row5_col1\" class=\"data row5 col1\" >Есенин С.А.</td>\n",
       "                        <td id=\"T_b4fd0e44_11e3_11eb_aaa0_0242ac150003row5_col2\" class=\"data row5 col2\" >650.000000</td>\n",
       "                        <td id=\"T_b4fd0e44_11e3_11eb_aaa0_0242ac150003row5_col3\" class=\"data row5 col3\" >15</td>\n",
       "            </tr>\n",
       "            <tr>\n",
       "                                <td id=\"T_b4fd0e44_11e3_11eb_aaa0_0242ac150003row6_col0\" class=\"data row6 col0\" >Лирика</td>\n",
       "                        <td id=\"T_b4fd0e44_11e3_11eb_aaa0_0242ac150003row6_col1\" class=\"data row6 col1\" >Пастернак Б.Л.</td>\n",
       "                        <td id=\"T_b4fd0e44_11e3_11eb_aaa0_0242ac150003row6_col2\" class=\"data row6 col2\" >518.990000</td>\n",
       "                        <td id=\"T_b4fd0e44_11e3_11eb_aaa0_0242ac150003row6_col3\" class=\"data row6 col3\" >2</td>\n",
       "            </tr>\n",
       "            <tr>\n",
       "                                <td id=\"T_b4fd0e44_11e3_11eb_aaa0_0242ac150003row7_col0\" class=\"data row7 col0\" >Черный человек</td>\n",
       "                        <td id=\"T_b4fd0e44_11e3_11eb_aaa0_0242ac150003row7_col1\" class=\"data row7 col1\" >Есенин С.А.</td>\n",
       "                        <td id=\"T_b4fd0e44_11e3_11eb_aaa0_0242ac150003row7_col2\" class=\"data row7 col2\" >570.200000</td>\n",
       "                        <td id=\"T_b4fd0e44_11e3_11eb_aaa0_0242ac150003row7_col3\" class=\"data row7 col3\" >6</td>\n",
       "            </tr>\n",
       "    </tbody></table>"
      ],
      "text/plain": [
       "<pandas.io.formats.style.Styler at 0x7fcbbc42f490>"
      ]
     },
     "execution_count": 36,
     "metadata": {},
     "output_type": "execute_result"
    }
   ],
   "source": [
    "query = '''\n",
    "        SELECT title, author, price, amount\n",
    "        FROM book\n",
    "        '''\n",
    "\n",
    "select_data(query).style.hide_index()"
   ]
  },
  {
   "cell_type": "code",
   "execution_count": 37,
   "metadata": {},
   "outputs": [],
   "source": [
    "query = '''\n",
    "        INSERT INTO book (title, author, price, amount)\n",
    "               SELECT title, author, price, amount\n",
    "               FROM supply\n",
    "               WHERE author NOT IN (SELECT author FROM book);\n",
    "        '''\n",
    "\n",
    "insert_values(query)"
   ]
  },
  {
   "cell_type": "code",
   "execution_count": 38,
   "metadata": {},
   "outputs": [
    {
     "data": {
      "text/html": [
       "<style  type=\"text/css\" >\n",
       "</style><table id=\"T_c80afe38_11e3_11eb_aaa0_0242ac150003\" ><thead>    <tr>        <th class=\"col_heading level0 col0\" >title</th>        <th class=\"col_heading level0 col1\" >author</th>        <th class=\"col_heading level0 col2\" >price</th>        <th class=\"col_heading level0 col3\" >amount</th>    </tr></thead><tbody>\n",
       "                <tr>\n",
       "                                <td id=\"T_c80afe38_11e3_11eb_aaa0_0242ac150003row0_col0\" class=\"data row0 col0\" >Мастер и Маргарита</td>\n",
       "                        <td id=\"T_c80afe38_11e3_11eb_aaa0_0242ac150003row0_col1\" class=\"data row0 col1\" >Булгаков М.А.</td>\n",
       "                        <td id=\"T_c80afe38_11e3_11eb_aaa0_0242ac150003row0_col2\" class=\"data row0 col2\" >670.990000</td>\n",
       "                        <td id=\"T_c80afe38_11e3_11eb_aaa0_0242ac150003row0_col3\" class=\"data row0 col3\" >3</td>\n",
       "            </tr>\n",
       "            <tr>\n",
       "                                <td id=\"T_c80afe38_11e3_11eb_aaa0_0242ac150003row1_col0\" class=\"data row1 col0\" >Белая гвардия</td>\n",
       "                        <td id=\"T_c80afe38_11e3_11eb_aaa0_0242ac150003row1_col1\" class=\"data row1 col1\" >Булгаков М.А.</td>\n",
       "                        <td id=\"T_c80afe38_11e3_11eb_aaa0_0242ac150003row1_col2\" class=\"data row1 col2\" >540.500000</td>\n",
       "                        <td id=\"T_c80afe38_11e3_11eb_aaa0_0242ac150003row1_col3\" class=\"data row1 col3\" >5</td>\n",
       "            </tr>\n",
       "            <tr>\n",
       "                                <td id=\"T_c80afe38_11e3_11eb_aaa0_0242ac150003row2_col0\" class=\"data row2 col0\" >Идиот</td>\n",
       "                        <td id=\"T_c80afe38_11e3_11eb_aaa0_0242ac150003row2_col1\" class=\"data row2 col1\" >Достоевский Ф.М.</td>\n",
       "                        <td id=\"T_c80afe38_11e3_11eb_aaa0_0242ac150003row2_col2\" class=\"data row2 col2\" >460.000000</td>\n",
       "                        <td id=\"T_c80afe38_11e3_11eb_aaa0_0242ac150003row2_col3\" class=\"data row2 col3\" >10</td>\n",
       "            </tr>\n",
       "            <tr>\n",
       "                                <td id=\"T_c80afe38_11e3_11eb_aaa0_0242ac150003row3_col0\" class=\"data row3 col0\" >Братья Карамазовы</td>\n",
       "                        <td id=\"T_c80afe38_11e3_11eb_aaa0_0242ac150003row3_col1\" class=\"data row3 col1\" >Достоевский Ф.М.</td>\n",
       "                        <td id=\"T_c80afe38_11e3_11eb_aaa0_0242ac150003row3_col2\" class=\"data row3 col2\" >799.010000</td>\n",
       "                        <td id=\"T_c80afe38_11e3_11eb_aaa0_0242ac150003row3_col3\" class=\"data row3 col3\" >2</td>\n",
       "            </tr>\n",
       "            <tr>\n",
       "                                <td id=\"T_c80afe38_11e3_11eb_aaa0_0242ac150003row4_col0\" class=\"data row4 col0\" >Игрок</td>\n",
       "                        <td id=\"T_c80afe38_11e3_11eb_aaa0_0242ac150003row4_col1\" class=\"data row4 col1\" >Достоевский Ф.М.</td>\n",
       "                        <td id=\"T_c80afe38_11e3_11eb_aaa0_0242ac150003row4_col2\" class=\"data row4 col2\" >480.500000</td>\n",
       "                        <td id=\"T_c80afe38_11e3_11eb_aaa0_0242ac150003row4_col3\" class=\"data row4 col3\" >10</td>\n",
       "            </tr>\n",
       "            <tr>\n",
       "                                <td id=\"T_c80afe38_11e3_11eb_aaa0_0242ac150003row5_col0\" class=\"data row5 col0\" >Стихотворения и поэмы</td>\n",
       "                        <td id=\"T_c80afe38_11e3_11eb_aaa0_0242ac150003row5_col1\" class=\"data row5 col1\" >Есенин С.А.</td>\n",
       "                        <td id=\"T_c80afe38_11e3_11eb_aaa0_0242ac150003row5_col2\" class=\"data row5 col2\" >650.000000</td>\n",
       "                        <td id=\"T_c80afe38_11e3_11eb_aaa0_0242ac150003row5_col3\" class=\"data row5 col3\" >15</td>\n",
       "            </tr>\n",
       "            <tr>\n",
       "                                <td id=\"T_c80afe38_11e3_11eb_aaa0_0242ac150003row6_col0\" class=\"data row6 col0\" >Лирика</td>\n",
       "                        <td id=\"T_c80afe38_11e3_11eb_aaa0_0242ac150003row6_col1\" class=\"data row6 col1\" >Пастернак Б.Л.</td>\n",
       "                        <td id=\"T_c80afe38_11e3_11eb_aaa0_0242ac150003row6_col2\" class=\"data row6 col2\" >518.990000</td>\n",
       "                        <td id=\"T_c80afe38_11e3_11eb_aaa0_0242ac150003row6_col3\" class=\"data row6 col3\" >2</td>\n",
       "            </tr>\n",
       "            <tr>\n",
       "                                <td id=\"T_c80afe38_11e3_11eb_aaa0_0242ac150003row7_col0\" class=\"data row7 col0\" >Черный человек</td>\n",
       "                        <td id=\"T_c80afe38_11e3_11eb_aaa0_0242ac150003row7_col1\" class=\"data row7 col1\" >Есенин С.А.</td>\n",
       "                        <td id=\"T_c80afe38_11e3_11eb_aaa0_0242ac150003row7_col2\" class=\"data row7 col2\" >570.200000</td>\n",
       "                        <td id=\"T_c80afe38_11e3_11eb_aaa0_0242ac150003row7_col3\" class=\"data row7 col3\" >6</td>\n",
       "            </tr>\n",
       "    </tbody></table>"
      ],
      "text/plain": [
       "<pandas.io.formats.style.Styler at 0x7fcb73685e50>"
      ]
     },
     "execution_count": 38,
     "metadata": {},
     "output_type": "execute_result"
    }
   ],
   "source": [
    "query = '''\n",
    "        SELECT title, author, price, amount\n",
    "        FROM book\n",
    "        '''\n",
    "\n",
    "select_data(query).style.hide_index()"
   ]
  },
  {
   "cell_type": "code",
   "execution_count": 39,
   "metadata": {},
   "outputs": [],
   "source": [
    "query = '''\n",
    "        UPDATE book SET price = 0.9 * price\n",
    "                    WHERE amount BETWEEN 5 and 10;\n",
    "        '''\n",
    "\n",
    "insert_values(query)"
   ]
  },
  {
   "cell_type": "code",
   "execution_count": 40,
   "metadata": {},
   "outputs": [
    {
     "data": {
      "text/html": [
       "<style  type=\"text/css\" >\n",
       "</style><table id=\"T_cce5c7d0_11e3_11eb_aaa0_0242ac150003\" ><thead>    <tr>        <th class=\"col_heading level0 col0\" >title</th>        <th class=\"col_heading level0 col1\" >author</th>        <th class=\"col_heading level0 col2\" >price</th>        <th class=\"col_heading level0 col3\" >amount</th>    </tr></thead><tbody>\n",
       "                <tr>\n",
       "                                <td id=\"T_cce5c7d0_11e3_11eb_aaa0_0242ac150003row0_col0\" class=\"data row0 col0\" >Мастер и Маргарита</td>\n",
       "                        <td id=\"T_cce5c7d0_11e3_11eb_aaa0_0242ac150003row0_col1\" class=\"data row0 col1\" >Булгаков М.А.</td>\n",
       "                        <td id=\"T_cce5c7d0_11e3_11eb_aaa0_0242ac150003row0_col2\" class=\"data row0 col2\" >670.990000</td>\n",
       "                        <td id=\"T_cce5c7d0_11e3_11eb_aaa0_0242ac150003row0_col3\" class=\"data row0 col3\" >3</td>\n",
       "            </tr>\n",
       "            <tr>\n",
       "                                <td id=\"T_cce5c7d0_11e3_11eb_aaa0_0242ac150003row1_col0\" class=\"data row1 col0\" >Белая гвардия</td>\n",
       "                        <td id=\"T_cce5c7d0_11e3_11eb_aaa0_0242ac150003row1_col1\" class=\"data row1 col1\" >Булгаков М.А.</td>\n",
       "                        <td id=\"T_cce5c7d0_11e3_11eb_aaa0_0242ac150003row1_col2\" class=\"data row1 col2\" >486.450000</td>\n",
       "                        <td id=\"T_cce5c7d0_11e3_11eb_aaa0_0242ac150003row1_col3\" class=\"data row1 col3\" >5</td>\n",
       "            </tr>\n",
       "            <tr>\n",
       "                                <td id=\"T_cce5c7d0_11e3_11eb_aaa0_0242ac150003row2_col0\" class=\"data row2 col0\" >Идиот</td>\n",
       "                        <td id=\"T_cce5c7d0_11e3_11eb_aaa0_0242ac150003row2_col1\" class=\"data row2 col1\" >Достоевский Ф.М.</td>\n",
       "                        <td id=\"T_cce5c7d0_11e3_11eb_aaa0_0242ac150003row2_col2\" class=\"data row2 col2\" >414.000000</td>\n",
       "                        <td id=\"T_cce5c7d0_11e3_11eb_aaa0_0242ac150003row2_col3\" class=\"data row2 col3\" >10</td>\n",
       "            </tr>\n",
       "            <tr>\n",
       "                                <td id=\"T_cce5c7d0_11e3_11eb_aaa0_0242ac150003row3_col0\" class=\"data row3 col0\" >Братья Карамазовы</td>\n",
       "                        <td id=\"T_cce5c7d0_11e3_11eb_aaa0_0242ac150003row3_col1\" class=\"data row3 col1\" >Достоевский Ф.М.</td>\n",
       "                        <td id=\"T_cce5c7d0_11e3_11eb_aaa0_0242ac150003row3_col2\" class=\"data row3 col2\" >799.010000</td>\n",
       "                        <td id=\"T_cce5c7d0_11e3_11eb_aaa0_0242ac150003row3_col3\" class=\"data row3 col3\" >2</td>\n",
       "            </tr>\n",
       "            <tr>\n",
       "                                <td id=\"T_cce5c7d0_11e3_11eb_aaa0_0242ac150003row4_col0\" class=\"data row4 col0\" >Игрок</td>\n",
       "                        <td id=\"T_cce5c7d0_11e3_11eb_aaa0_0242ac150003row4_col1\" class=\"data row4 col1\" >Достоевский Ф.М.</td>\n",
       "                        <td id=\"T_cce5c7d0_11e3_11eb_aaa0_0242ac150003row4_col2\" class=\"data row4 col2\" >432.450000</td>\n",
       "                        <td id=\"T_cce5c7d0_11e3_11eb_aaa0_0242ac150003row4_col3\" class=\"data row4 col3\" >10</td>\n",
       "            </tr>\n",
       "            <tr>\n",
       "                                <td id=\"T_cce5c7d0_11e3_11eb_aaa0_0242ac150003row5_col0\" class=\"data row5 col0\" >Стихотворения и поэмы</td>\n",
       "                        <td id=\"T_cce5c7d0_11e3_11eb_aaa0_0242ac150003row5_col1\" class=\"data row5 col1\" >Есенин С.А.</td>\n",
       "                        <td id=\"T_cce5c7d0_11e3_11eb_aaa0_0242ac150003row5_col2\" class=\"data row5 col2\" >650.000000</td>\n",
       "                        <td id=\"T_cce5c7d0_11e3_11eb_aaa0_0242ac150003row5_col3\" class=\"data row5 col3\" >15</td>\n",
       "            </tr>\n",
       "            <tr>\n",
       "                                <td id=\"T_cce5c7d0_11e3_11eb_aaa0_0242ac150003row6_col0\" class=\"data row6 col0\" >Лирика</td>\n",
       "                        <td id=\"T_cce5c7d0_11e3_11eb_aaa0_0242ac150003row6_col1\" class=\"data row6 col1\" >Пастернак Б.Л.</td>\n",
       "                        <td id=\"T_cce5c7d0_11e3_11eb_aaa0_0242ac150003row6_col2\" class=\"data row6 col2\" >518.990000</td>\n",
       "                        <td id=\"T_cce5c7d0_11e3_11eb_aaa0_0242ac150003row6_col3\" class=\"data row6 col3\" >2</td>\n",
       "            </tr>\n",
       "            <tr>\n",
       "                                <td id=\"T_cce5c7d0_11e3_11eb_aaa0_0242ac150003row7_col0\" class=\"data row7 col0\" >Черный человек</td>\n",
       "                        <td id=\"T_cce5c7d0_11e3_11eb_aaa0_0242ac150003row7_col1\" class=\"data row7 col1\" >Есенин С.А.</td>\n",
       "                        <td id=\"T_cce5c7d0_11e3_11eb_aaa0_0242ac150003row7_col2\" class=\"data row7 col2\" >513.180000</td>\n",
       "                        <td id=\"T_cce5c7d0_11e3_11eb_aaa0_0242ac150003row7_col3\" class=\"data row7 col3\" >6</td>\n",
       "            </tr>\n",
       "    </tbody></table>"
      ],
      "text/plain": [
       "<pandas.io.formats.style.Styler at 0x7fcbb93aaf10>"
      ]
     },
     "execution_count": 40,
     "metadata": {},
     "output_type": "execute_result"
    }
   ],
   "source": [
    "query = '''\n",
    "        SELECT title, author, price, amount\n",
    "        FROM book\n",
    "        '''\n",
    "\n",
    "select_data(query).style.hide_index()"
   ]
  },
  {
   "cell_type": "code",
   "execution_count": 41,
   "metadata": {},
   "outputs": [],
   "source": [
    "\n",
    "query = '''\n",
    "        ALTER TABLE book\n",
    "        ADD COLUMN buy INT DEFAULT 0;\n",
    "        '''\n",
    "\n",
    "insert_values(query)"
   ]
  },
  {
   "cell_type": "code",
   "execution_count": 42,
   "metadata": {},
   "outputs": [],
   "source": [
    "query = '''\n",
    "        UPDATE book SET buy = IF(title = 'Белая гвардия', 3, IF(title = 'Идиот', 8, IF(title = 'Стихотворения и поэмы', 15, buy)));\n",
    "        '''\n",
    "\n",
    "insert_values(query)"
   ]
  },
  {
   "cell_type": "code",
   "execution_count": 43,
   "metadata": {},
   "outputs": [],
   "source": [
    "query = '''\n",
    "        UPDATE book SET buy = IF(buy <= amount, buy, amount);\n",
    "        '''\n",
    "\n",
    "insert_values(query)"
   ]
  },
  {
   "cell_type": "code",
   "execution_count": 44,
   "metadata": {},
   "outputs": [
    {
     "data": {
      "text/html": [
       "<style  type=\"text/css\" >\n",
       "</style><table id=\"T_d57ea72c_11e3_11eb_aaa0_0242ac150003\" ><thead>    <tr>        <th class=\"col_heading level0 col0\" >title</th>        <th class=\"col_heading level0 col1\" >author</th>        <th class=\"col_heading level0 col2\" >price</th>        <th class=\"col_heading level0 col3\" >amount</th>        <th class=\"col_heading level0 col4\" >buy</th>    </tr></thead><tbody>\n",
       "                <tr>\n",
       "                                <td id=\"T_d57ea72c_11e3_11eb_aaa0_0242ac150003row0_col0\" class=\"data row0 col0\" >Мастер и Маргарита</td>\n",
       "                        <td id=\"T_d57ea72c_11e3_11eb_aaa0_0242ac150003row0_col1\" class=\"data row0 col1\" >Булгаков М.А.</td>\n",
       "                        <td id=\"T_d57ea72c_11e3_11eb_aaa0_0242ac150003row0_col2\" class=\"data row0 col2\" >670.990000</td>\n",
       "                        <td id=\"T_d57ea72c_11e3_11eb_aaa0_0242ac150003row0_col3\" class=\"data row0 col3\" >3</td>\n",
       "                        <td id=\"T_d57ea72c_11e3_11eb_aaa0_0242ac150003row0_col4\" class=\"data row0 col4\" >0</td>\n",
       "            </tr>\n",
       "            <tr>\n",
       "                                <td id=\"T_d57ea72c_11e3_11eb_aaa0_0242ac150003row1_col0\" class=\"data row1 col0\" >Белая гвардия</td>\n",
       "                        <td id=\"T_d57ea72c_11e3_11eb_aaa0_0242ac150003row1_col1\" class=\"data row1 col1\" >Булгаков М.А.</td>\n",
       "                        <td id=\"T_d57ea72c_11e3_11eb_aaa0_0242ac150003row1_col2\" class=\"data row1 col2\" >486.450000</td>\n",
       "                        <td id=\"T_d57ea72c_11e3_11eb_aaa0_0242ac150003row1_col3\" class=\"data row1 col3\" >5</td>\n",
       "                        <td id=\"T_d57ea72c_11e3_11eb_aaa0_0242ac150003row1_col4\" class=\"data row1 col4\" >3</td>\n",
       "            </tr>\n",
       "            <tr>\n",
       "                                <td id=\"T_d57ea72c_11e3_11eb_aaa0_0242ac150003row2_col0\" class=\"data row2 col0\" >Идиот</td>\n",
       "                        <td id=\"T_d57ea72c_11e3_11eb_aaa0_0242ac150003row2_col1\" class=\"data row2 col1\" >Достоевский Ф.М.</td>\n",
       "                        <td id=\"T_d57ea72c_11e3_11eb_aaa0_0242ac150003row2_col2\" class=\"data row2 col2\" >414.000000</td>\n",
       "                        <td id=\"T_d57ea72c_11e3_11eb_aaa0_0242ac150003row2_col3\" class=\"data row2 col3\" >10</td>\n",
       "                        <td id=\"T_d57ea72c_11e3_11eb_aaa0_0242ac150003row2_col4\" class=\"data row2 col4\" >8</td>\n",
       "            </tr>\n",
       "            <tr>\n",
       "                                <td id=\"T_d57ea72c_11e3_11eb_aaa0_0242ac150003row3_col0\" class=\"data row3 col0\" >Братья Карамазовы</td>\n",
       "                        <td id=\"T_d57ea72c_11e3_11eb_aaa0_0242ac150003row3_col1\" class=\"data row3 col1\" >Достоевский Ф.М.</td>\n",
       "                        <td id=\"T_d57ea72c_11e3_11eb_aaa0_0242ac150003row3_col2\" class=\"data row3 col2\" >799.010000</td>\n",
       "                        <td id=\"T_d57ea72c_11e3_11eb_aaa0_0242ac150003row3_col3\" class=\"data row3 col3\" >2</td>\n",
       "                        <td id=\"T_d57ea72c_11e3_11eb_aaa0_0242ac150003row3_col4\" class=\"data row3 col4\" >0</td>\n",
       "            </tr>\n",
       "            <tr>\n",
       "                                <td id=\"T_d57ea72c_11e3_11eb_aaa0_0242ac150003row4_col0\" class=\"data row4 col0\" >Игрок</td>\n",
       "                        <td id=\"T_d57ea72c_11e3_11eb_aaa0_0242ac150003row4_col1\" class=\"data row4 col1\" >Достоевский Ф.М.</td>\n",
       "                        <td id=\"T_d57ea72c_11e3_11eb_aaa0_0242ac150003row4_col2\" class=\"data row4 col2\" >432.450000</td>\n",
       "                        <td id=\"T_d57ea72c_11e3_11eb_aaa0_0242ac150003row4_col3\" class=\"data row4 col3\" >10</td>\n",
       "                        <td id=\"T_d57ea72c_11e3_11eb_aaa0_0242ac150003row4_col4\" class=\"data row4 col4\" >0</td>\n",
       "            </tr>\n",
       "            <tr>\n",
       "                                <td id=\"T_d57ea72c_11e3_11eb_aaa0_0242ac150003row5_col0\" class=\"data row5 col0\" >Стихотворения и поэмы</td>\n",
       "                        <td id=\"T_d57ea72c_11e3_11eb_aaa0_0242ac150003row5_col1\" class=\"data row5 col1\" >Есенин С.А.</td>\n",
       "                        <td id=\"T_d57ea72c_11e3_11eb_aaa0_0242ac150003row5_col2\" class=\"data row5 col2\" >650.000000</td>\n",
       "                        <td id=\"T_d57ea72c_11e3_11eb_aaa0_0242ac150003row5_col3\" class=\"data row5 col3\" >15</td>\n",
       "                        <td id=\"T_d57ea72c_11e3_11eb_aaa0_0242ac150003row5_col4\" class=\"data row5 col4\" >15</td>\n",
       "            </tr>\n",
       "            <tr>\n",
       "                                <td id=\"T_d57ea72c_11e3_11eb_aaa0_0242ac150003row6_col0\" class=\"data row6 col0\" >Лирика</td>\n",
       "                        <td id=\"T_d57ea72c_11e3_11eb_aaa0_0242ac150003row6_col1\" class=\"data row6 col1\" >Пастернак Б.Л.</td>\n",
       "                        <td id=\"T_d57ea72c_11e3_11eb_aaa0_0242ac150003row6_col2\" class=\"data row6 col2\" >518.990000</td>\n",
       "                        <td id=\"T_d57ea72c_11e3_11eb_aaa0_0242ac150003row6_col3\" class=\"data row6 col3\" >2</td>\n",
       "                        <td id=\"T_d57ea72c_11e3_11eb_aaa0_0242ac150003row6_col4\" class=\"data row6 col4\" >0</td>\n",
       "            </tr>\n",
       "            <tr>\n",
       "                                <td id=\"T_d57ea72c_11e3_11eb_aaa0_0242ac150003row7_col0\" class=\"data row7 col0\" >Черный человек</td>\n",
       "                        <td id=\"T_d57ea72c_11e3_11eb_aaa0_0242ac150003row7_col1\" class=\"data row7 col1\" >Есенин С.А.</td>\n",
       "                        <td id=\"T_d57ea72c_11e3_11eb_aaa0_0242ac150003row7_col2\" class=\"data row7 col2\" >513.180000</td>\n",
       "                        <td id=\"T_d57ea72c_11e3_11eb_aaa0_0242ac150003row7_col3\" class=\"data row7 col3\" >6</td>\n",
       "                        <td id=\"T_d57ea72c_11e3_11eb_aaa0_0242ac150003row7_col4\" class=\"data row7 col4\" >0</td>\n",
       "            </tr>\n",
       "    </tbody></table>"
      ],
      "text/plain": [
       "<pandas.io.formats.style.Styler at 0x7fcbb9392e20>"
      ]
     },
     "execution_count": 44,
     "metadata": {},
     "output_type": "execute_result"
    }
   ],
   "source": [
    "query = '''\n",
    "        SELECT title, author, price, amount, buy\n",
    "        FROM book\n",
    "        '''\n",
    "\n",
    "select_data(query).style.hide_index()"
   ]
  },
  {
   "cell_type": "code",
   "execution_count": 45,
   "metadata": {},
   "outputs": [],
   "source": [
    "query = '''\n",
    "        UPDATE book, supply SET book.amount = book.amount + supply.amount,\n",
    "                                book.price = IF(book.price <> supply.price, round((book.price + supply.price) / 2, 2), book.price)\n",
    "        WHERE book.title = supply.title and book.author = supply.author;\n",
    "        '''\n",
    "\n",
    "insert_values(query)"
   ]
  },
  {
   "cell_type": "code",
   "execution_count": 46,
   "metadata": {},
   "outputs": [
    {
     "data": {
      "text/html": [
       "<style  type=\"text/css\" >\n",
       "</style><table id=\"T_1cde1062_11e4_11eb_aaa0_0242ac150003\" ><thead>    <tr>        <th class=\"col_heading level0 col0\" >title</th>        <th class=\"col_heading level0 col1\" >author</th>        <th class=\"col_heading level0 col2\" >price</th>        <th class=\"col_heading level0 col3\" >amount</th>        <th class=\"col_heading level0 col4\" >buy</th>    </tr></thead><tbody>\n",
       "                <tr>\n",
       "                                <td id=\"T_1cde1062_11e4_11eb_aaa0_0242ac150003row0_col0\" class=\"data row0 col0\" >Мастер и Маргарита</td>\n",
       "                        <td id=\"T_1cde1062_11e4_11eb_aaa0_0242ac150003row0_col1\" class=\"data row0 col1\" >Булгаков М.А.</td>\n",
       "                        <td id=\"T_1cde1062_11e4_11eb_aaa0_0242ac150003row0_col2\" class=\"data row0 col2\" >670.990000</td>\n",
       "                        <td id=\"T_1cde1062_11e4_11eb_aaa0_0242ac150003row0_col3\" class=\"data row0 col3\" >3</td>\n",
       "                        <td id=\"T_1cde1062_11e4_11eb_aaa0_0242ac150003row0_col4\" class=\"data row0 col4\" >0</td>\n",
       "            </tr>\n",
       "            <tr>\n",
       "                                <td id=\"T_1cde1062_11e4_11eb_aaa0_0242ac150003row1_col0\" class=\"data row1 col0\" >Белая гвардия</td>\n",
       "                        <td id=\"T_1cde1062_11e4_11eb_aaa0_0242ac150003row1_col1\" class=\"data row1 col1\" >Булгаков М.А.</td>\n",
       "                        <td id=\"T_1cde1062_11e4_11eb_aaa0_0242ac150003row1_col2\" class=\"data row1 col2\" >513.480000</td>\n",
       "                        <td id=\"T_1cde1062_11e4_11eb_aaa0_0242ac150003row1_col3\" class=\"data row1 col3\" >12</td>\n",
       "                        <td id=\"T_1cde1062_11e4_11eb_aaa0_0242ac150003row1_col4\" class=\"data row1 col4\" >3</td>\n",
       "            </tr>\n",
       "            <tr>\n",
       "                                <td id=\"T_1cde1062_11e4_11eb_aaa0_0242ac150003row2_col0\" class=\"data row2 col0\" >Идиот</td>\n",
       "                        <td id=\"T_1cde1062_11e4_11eb_aaa0_0242ac150003row2_col1\" class=\"data row2 col1\" >Достоевский Ф.М.</td>\n",
       "                        <td id=\"T_1cde1062_11e4_11eb_aaa0_0242ac150003row2_col2\" class=\"data row2 col2\" >387.400000</td>\n",
       "                        <td id=\"T_1cde1062_11e4_11eb_aaa0_0242ac150003row2_col3\" class=\"data row2 col3\" >13</td>\n",
       "                        <td id=\"T_1cde1062_11e4_11eb_aaa0_0242ac150003row2_col4\" class=\"data row2 col4\" >8</td>\n",
       "            </tr>\n",
       "            <tr>\n",
       "                                <td id=\"T_1cde1062_11e4_11eb_aaa0_0242ac150003row3_col0\" class=\"data row3 col0\" >Братья Карамазовы</td>\n",
       "                        <td id=\"T_1cde1062_11e4_11eb_aaa0_0242ac150003row3_col1\" class=\"data row3 col1\" >Достоевский Ф.М.</td>\n",
       "                        <td id=\"T_1cde1062_11e4_11eb_aaa0_0242ac150003row3_col2\" class=\"data row3 col2\" >799.010000</td>\n",
       "                        <td id=\"T_1cde1062_11e4_11eb_aaa0_0242ac150003row3_col3\" class=\"data row3 col3\" >2</td>\n",
       "                        <td id=\"T_1cde1062_11e4_11eb_aaa0_0242ac150003row3_col4\" class=\"data row3 col4\" >0</td>\n",
       "            </tr>\n",
       "            <tr>\n",
       "                                <td id=\"T_1cde1062_11e4_11eb_aaa0_0242ac150003row4_col0\" class=\"data row4 col0\" >Игрок</td>\n",
       "                        <td id=\"T_1cde1062_11e4_11eb_aaa0_0242ac150003row4_col1\" class=\"data row4 col1\" >Достоевский Ф.М.</td>\n",
       "                        <td id=\"T_1cde1062_11e4_11eb_aaa0_0242ac150003row4_col2\" class=\"data row4 col2\" >432.450000</td>\n",
       "                        <td id=\"T_1cde1062_11e4_11eb_aaa0_0242ac150003row4_col3\" class=\"data row4 col3\" >10</td>\n",
       "                        <td id=\"T_1cde1062_11e4_11eb_aaa0_0242ac150003row4_col4\" class=\"data row4 col4\" >0</td>\n",
       "            </tr>\n",
       "            <tr>\n",
       "                                <td id=\"T_1cde1062_11e4_11eb_aaa0_0242ac150003row5_col0\" class=\"data row5 col0\" >Стихотворения и поэмы</td>\n",
       "                        <td id=\"T_1cde1062_11e4_11eb_aaa0_0242ac150003row5_col1\" class=\"data row5 col1\" >Есенин С.А.</td>\n",
       "                        <td id=\"T_1cde1062_11e4_11eb_aaa0_0242ac150003row5_col2\" class=\"data row5 col2\" >650.000000</td>\n",
       "                        <td id=\"T_1cde1062_11e4_11eb_aaa0_0242ac150003row5_col3\" class=\"data row5 col3\" >15</td>\n",
       "                        <td id=\"T_1cde1062_11e4_11eb_aaa0_0242ac150003row5_col4\" class=\"data row5 col4\" >15</td>\n",
       "            </tr>\n",
       "            <tr>\n",
       "                                <td id=\"T_1cde1062_11e4_11eb_aaa0_0242ac150003row6_col0\" class=\"data row6 col0\" >Лирика</td>\n",
       "                        <td id=\"T_1cde1062_11e4_11eb_aaa0_0242ac150003row6_col1\" class=\"data row6 col1\" >Пастернак Б.Л.</td>\n",
       "                        <td id=\"T_1cde1062_11e4_11eb_aaa0_0242ac150003row6_col2\" class=\"data row6 col2\" >518.990000</td>\n",
       "                        <td id=\"T_1cde1062_11e4_11eb_aaa0_0242ac150003row6_col3\" class=\"data row6 col3\" >4</td>\n",
       "                        <td id=\"T_1cde1062_11e4_11eb_aaa0_0242ac150003row6_col4\" class=\"data row6 col4\" >0</td>\n",
       "            </tr>\n",
       "            <tr>\n",
       "                                <td id=\"T_1cde1062_11e4_11eb_aaa0_0242ac150003row7_col0\" class=\"data row7 col0\" >Черный человек</td>\n",
       "                        <td id=\"T_1cde1062_11e4_11eb_aaa0_0242ac150003row7_col1\" class=\"data row7 col1\" >Есенин С.А.</td>\n",
       "                        <td id=\"T_1cde1062_11e4_11eb_aaa0_0242ac150003row7_col2\" class=\"data row7 col2\" >541.690000</td>\n",
       "                        <td id=\"T_1cde1062_11e4_11eb_aaa0_0242ac150003row7_col3\" class=\"data row7 col3\" >12</td>\n",
       "                        <td id=\"T_1cde1062_11e4_11eb_aaa0_0242ac150003row7_col4\" class=\"data row7 col4\" >0</td>\n",
       "            </tr>\n",
       "    </tbody></table>"
      ],
      "text/plain": [
       "<pandas.io.formats.style.Styler at 0x7fcb736d6610>"
      ]
     },
     "execution_count": 46,
     "metadata": {},
     "output_type": "execute_result"
    }
   ],
   "source": [
    "query = '''\n",
    "        SELECT title, author, price, amount, buy\n",
    "        FROM book\n",
    "        '''\n",
    "\n",
    "select_data(query).style.hide_index()"
   ]
  },
  {
   "cell_type": "code",
   "execution_count": 47,
   "metadata": {},
   "outputs": [],
   "source": [
    "query = '''\n",
    "        DELETE FROM supply\n",
    "        WHERE title IN (SELECT title FROM book WHERE book.price = supply.price);\n",
    "        '''\n",
    "\n",
    "insert_values(query)"
   ]
  },
  {
   "cell_type": "code",
   "execution_count": 49,
   "metadata": {},
   "outputs": [
    {
     "data": {
      "text/html": [
       "<style  type=\"text/css\" >\n",
       "</style><table id=\"T_7a5f35cc_11e4_11eb_aaa0_0242ac150003\" ><thead>    <tr>        <th class=\"col_heading level0 col0\" >title</th>        <th class=\"col_heading level0 col1\" >author</th>        <th class=\"col_heading level0 col2\" >price</th>        <th class=\"col_heading level0 col3\" >amount</th>    </tr></thead><tbody>\n",
       "                <tr>\n",
       "                                <td id=\"T_7a5f35cc_11e4_11eb_aaa0_0242ac150003row0_col0\" class=\"data row0 col0\" >Черный человек</td>\n",
       "                        <td id=\"T_7a5f35cc_11e4_11eb_aaa0_0242ac150003row0_col1\" class=\"data row0 col1\" >Есенин С.А.</td>\n",
       "                        <td id=\"T_7a5f35cc_11e4_11eb_aaa0_0242ac150003row0_col2\" class=\"data row0 col2\" >570.200000</td>\n",
       "                        <td id=\"T_7a5f35cc_11e4_11eb_aaa0_0242ac150003row0_col3\" class=\"data row0 col3\" >6</td>\n",
       "            </tr>\n",
       "            <tr>\n",
       "                                <td id=\"T_7a5f35cc_11e4_11eb_aaa0_0242ac150003row1_col0\" class=\"data row1 col0\" >Белая гвардия</td>\n",
       "                        <td id=\"T_7a5f35cc_11e4_11eb_aaa0_0242ac150003row1_col1\" class=\"data row1 col1\" >Булгаков М.А.</td>\n",
       "                        <td id=\"T_7a5f35cc_11e4_11eb_aaa0_0242ac150003row1_col2\" class=\"data row1 col2\" >540.500000</td>\n",
       "                        <td id=\"T_7a5f35cc_11e4_11eb_aaa0_0242ac150003row1_col3\" class=\"data row1 col3\" >7</td>\n",
       "            </tr>\n",
       "            <tr>\n",
       "                                <td id=\"T_7a5f35cc_11e4_11eb_aaa0_0242ac150003row2_col0\" class=\"data row2 col0\" >Идиот</td>\n",
       "                        <td id=\"T_7a5f35cc_11e4_11eb_aaa0_0242ac150003row2_col1\" class=\"data row2 col1\" >Достоевский Ф.М.</td>\n",
       "                        <td id=\"T_7a5f35cc_11e4_11eb_aaa0_0242ac150003row2_col2\" class=\"data row2 col2\" >360.800000</td>\n",
       "                        <td id=\"T_7a5f35cc_11e4_11eb_aaa0_0242ac150003row2_col3\" class=\"data row2 col3\" >3</td>\n",
       "            </tr>\n",
       "    </tbody></table>"
      ],
      "text/plain": [
       "<pandas.io.formats.style.Styler at 0x7fcbbe927460>"
      ]
     },
     "execution_count": 49,
     "metadata": {},
     "output_type": "execute_result"
    }
   ],
   "source": [
    "query = '''\n",
    "        SELECT title, author, price, amount\n",
    "        FROM supply\n",
    "        '''\n",
    "\n",
    "select_data(query).style.hide_index()"
   ]
  },
  {
   "cell_type": "code",
   "execution_count": 51,
   "metadata": {},
   "outputs": [],
   "source": [
    "query = '''\n",
    "        CREATE TABLE ordering AS\n",
    "                SELECT author, title, \n",
    "                       (SELECT round(AVG(amount)) FROM book) AS amount\n",
    "                FROM book\n",
    "                WHERE amount < (SELECT round(AVG(amount)) FROM book);\n",
    "        '''\n",
    "\n",
    "create_table(query)"
   ]
  },
  {
   "cell_type": "code",
   "execution_count": 52,
   "metadata": {},
   "outputs": [
    {
     "data": {
      "text/html": [
       "<style  type=\"text/css\" >\n",
       "</style><table id=\"T_d07cd036_11e4_11eb_aaa0_0242ac150003\" ><thead>    <tr>        <th class=\"col_heading level0 col0\" >author</th>        <th class=\"col_heading level0 col1\" >title</th>        <th class=\"col_heading level0 col2\" >amount</th>    </tr></thead><tbody>\n",
       "                <tr>\n",
       "                                <td id=\"T_d07cd036_11e4_11eb_aaa0_0242ac150003row0_col0\" class=\"data row0 col0\" >Булгаков М.А.</td>\n",
       "                        <td id=\"T_d07cd036_11e4_11eb_aaa0_0242ac150003row0_col1\" class=\"data row0 col1\" >Мастер и Маргарита</td>\n",
       "                        <td id=\"T_d07cd036_11e4_11eb_aaa0_0242ac150003row0_col2\" class=\"data row0 col2\" >9.000000</td>\n",
       "            </tr>\n",
       "            <tr>\n",
       "                                <td id=\"T_d07cd036_11e4_11eb_aaa0_0242ac150003row1_col0\" class=\"data row1 col0\" >Достоевский Ф.М.</td>\n",
       "                        <td id=\"T_d07cd036_11e4_11eb_aaa0_0242ac150003row1_col1\" class=\"data row1 col1\" >Братья Карамазовы</td>\n",
       "                        <td id=\"T_d07cd036_11e4_11eb_aaa0_0242ac150003row1_col2\" class=\"data row1 col2\" >9.000000</td>\n",
       "            </tr>\n",
       "            <tr>\n",
       "                                <td id=\"T_d07cd036_11e4_11eb_aaa0_0242ac150003row2_col0\" class=\"data row2 col0\" >Пастернак Б.Л.</td>\n",
       "                        <td id=\"T_d07cd036_11e4_11eb_aaa0_0242ac150003row2_col1\" class=\"data row2 col1\" >Лирика</td>\n",
       "                        <td id=\"T_d07cd036_11e4_11eb_aaa0_0242ac150003row2_col2\" class=\"data row2 col2\" >9.000000</td>\n",
       "            </tr>\n",
       "    </tbody></table>"
      ],
      "text/plain": [
       "<pandas.io.formats.style.Styler at 0x7fcbb93aa880>"
      ]
     },
     "execution_count": 52,
     "metadata": {},
     "output_type": "execute_result"
    }
   ],
   "source": [
    "query = '''\n",
    "        SELECT *\n",
    "        FROM ordering;\n",
    "        '''\n",
    "\n",
    "select_data(query).style.hide_index()"
   ]
  },
  {
   "cell_type": "markdown",
   "metadata": {},
   "source": [
    "## Таблица \"Командировки\", запросы на выборку"
   ]
  },
  {
   "cell_type": "code",
   "execution_count": 53,
   "metadata": {},
   "outputs": [],
   "source": [
    "# query = '''\n",
    "#         CREATE TABLE trip (\n",
    "#                              trip_id INT PRIMARY KEY AUTO_INCREMENT, \n",
    "#                              name VARCHAR(30), \n",
    "#                              city VARCHAR(25), \n",
    "#                              per_diem DECIMAL (8,2), \n",
    "#                              date_first DATE, \n",
    "#                              date_last DATE \n",
    "#                           );\n",
    "#         '''\n",
    "\n",
    "# create_table(query)"
   ]
  },
  {
   "cell_type": "code",
   "execution_count": 56,
   "metadata": {},
   "outputs": [],
   "source": [
    "# query = '''\n",
    "#         INSERT INTO trip (name, city, per_diem, date_first, date_last)\n",
    "#         VALUES ('Абрамова К.А.', 'Владивосток', 450.00, STR_TO_DATE('2020-07-02', '%Y-%m-%d'), STR_TO_DATE('2020-07-13', '%Y-%m-%d')),\n",
    "#                ('Федорова А.Ю.', 'Томск', 450.00, STR_TO_DATE('2020-06-20', '%Y-%m-%d'), STR_TO_DATE('2020-06-26', '%Y-%m-%d')),\n",
    "#                ('Абрамова К.А.', 'Санкт-Петербург', 700.00, STR_TO_DATE('2020-05-28', '%Y-%m-%d'), STR_TO_DATE('2020-06-04', '%Y-%m-%d')),\n",
    "#                ('Федорова А.Ю.', 'Новосибирск', 450.00, STR_TO_DATE('2020-05-25', '%Y-%m-%d'), STR_TO_DATE('2020-06-04', '%Y-%m-%d')),\n",
    "#                ('Абрамова К.А.', 'Москва', 700.00, STR_TO_DATE('2020-04-06', '%Y-%m-%d'), STR_TO_DATE('2020-04-14', '%Y-%m-%d')),\n",
    "#                ('Абрамова К.А.', 'Москва', 700.00, STR_TO_DATE('2020-02-23', '%Y-%m-%d'), STR_TO_DATE('2020-03-01', '%Y-%m-%d')),\n",
    "#                ('Абрамова К.А.', 'Владивосток', 450.00, STR_TO_DATE('2020-01-14', '%Y-%m-%d'), STR_TO_DATE('2020-01-27', '%Y-%m-%d'));\n",
    "#         '''\n",
    "\n",
    "# insert_values(query)"
   ]
  },
  {
   "cell_type": "code",
   "execution_count": 57,
   "metadata": {},
   "outputs": [
    {
     "data": {
      "text/html": [
       "<style  type=\"text/css\" >\n",
       "</style><table id=\"T_5c839cdc_11e9_11eb_aaa0_0242ac150003\" ><thead>    <tr>        <th class=\"col_heading level0 col0\" >name</th>        <th class=\"col_heading level0 col1\" >city</th>        <th class=\"col_heading level0 col2\" >per_diem</th>        <th class=\"col_heading level0 col3\" >date_first</th>        <th class=\"col_heading level0 col4\" >date_last</th>    </tr></thead><tbody>\n",
       "                <tr>\n",
       "                                <td id=\"T_5c839cdc_11e9_11eb_aaa0_0242ac150003row0_col0\" class=\"data row0 col0\" >Абрамова К.А.</td>\n",
       "                        <td id=\"T_5c839cdc_11e9_11eb_aaa0_0242ac150003row0_col1\" class=\"data row0 col1\" >Владивосток</td>\n",
       "                        <td id=\"T_5c839cdc_11e9_11eb_aaa0_0242ac150003row0_col2\" class=\"data row0 col2\" >450.000000</td>\n",
       "                        <td id=\"T_5c839cdc_11e9_11eb_aaa0_0242ac150003row0_col3\" class=\"data row0 col3\" >2020-07-02</td>\n",
       "                        <td id=\"T_5c839cdc_11e9_11eb_aaa0_0242ac150003row0_col4\" class=\"data row0 col4\" >2020-07-13</td>\n",
       "            </tr>\n",
       "            <tr>\n",
       "                                <td id=\"T_5c839cdc_11e9_11eb_aaa0_0242ac150003row1_col0\" class=\"data row1 col0\" >Федорова А.Ю.</td>\n",
       "                        <td id=\"T_5c839cdc_11e9_11eb_aaa0_0242ac150003row1_col1\" class=\"data row1 col1\" >Томск</td>\n",
       "                        <td id=\"T_5c839cdc_11e9_11eb_aaa0_0242ac150003row1_col2\" class=\"data row1 col2\" >450.000000</td>\n",
       "                        <td id=\"T_5c839cdc_11e9_11eb_aaa0_0242ac150003row1_col3\" class=\"data row1 col3\" >2020-06-20</td>\n",
       "                        <td id=\"T_5c839cdc_11e9_11eb_aaa0_0242ac150003row1_col4\" class=\"data row1 col4\" >2020-06-26</td>\n",
       "            </tr>\n",
       "            <tr>\n",
       "                                <td id=\"T_5c839cdc_11e9_11eb_aaa0_0242ac150003row2_col0\" class=\"data row2 col0\" >Абрамова К.А.</td>\n",
       "                        <td id=\"T_5c839cdc_11e9_11eb_aaa0_0242ac150003row2_col1\" class=\"data row2 col1\" >Санкт-Петербург</td>\n",
       "                        <td id=\"T_5c839cdc_11e9_11eb_aaa0_0242ac150003row2_col2\" class=\"data row2 col2\" >700.000000</td>\n",
       "                        <td id=\"T_5c839cdc_11e9_11eb_aaa0_0242ac150003row2_col3\" class=\"data row2 col3\" >2020-05-28</td>\n",
       "                        <td id=\"T_5c839cdc_11e9_11eb_aaa0_0242ac150003row2_col4\" class=\"data row2 col4\" >2020-06-04</td>\n",
       "            </tr>\n",
       "            <tr>\n",
       "                                <td id=\"T_5c839cdc_11e9_11eb_aaa0_0242ac150003row3_col0\" class=\"data row3 col0\" >Федорова А.Ю.</td>\n",
       "                        <td id=\"T_5c839cdc_11e9_11eb_aaa0_0242ac150003row3_col1\" class=\"data row3 col1\" >Новосибирск</td>\n",
       "                        <td id=\"T_5c839cdc_11e9_11eb_aaa0_0242ac150003row3_col2\" class=\"data row3 col2\" >450.000000</td>\n",
       "                        <td id=\"T_5c839cdc_11e9_11eb_aaa0_0242ac150003row3_col3\" class=\"data row3 col3\" >2020-05-25</td>\n",
       "                        <td id=\"T_5c839cdc_11e9_11eb_aaa0_0242ac150003row3_col4\" class=\"data row3 col4\" >2020-06-04</td>\n",
       "            </tr>\n",
       "            <tr>\n",
       "                                <td id=\"T_5c839cdc_11e9_11eb_aaa0_0242ac150003row4_col0\" class=\"data row4 col0\" >Абрамова К.А.</td>\n",
       "                        <td id=\"T_5c839cdc_11e9_11eb_aaa0_0242ac150003row4_col1\" class=\"data row4 col1\" >Москва</td>\n",
       "                        <td id=\"T_5c839cdc_11e9_11eb_aaa0_0242ac150003row4_col2\" class=\"data row4 col2\" >700.000000</td>\n",
       "                        <td id=\"T_5c839cdc_11e9_11eb_aaa0_0242ac150003row4_col3\" class=\"data row4 col3\" >2020-04-06</td>\n",
       "                        <td id=\"T_5c839cdc_11e9_11eb_aaa0_0242ac150003row4_col4\" class=\"data row4 col4\" >2020-04-14</td>\n",
       "            </tr>\n",
       "            <tr>\n",
       "                                <td id=\"T_5c839cdc_11e9_11eb_aaa0_0242ac150003row5_col0\" class=\"data row5 col0\" >Абрамова К.А.</td>\n",
       "                        <td id=\"T_5c839cdc_11e9_11eb_aaa0_0242ac150003row5_col1\" class=\"data row5 col1\" >Москва</td>\n",
       "                        <td id=\"T_5c839cdc_11e9_11eb_aaa0_0242ac150003row5_col2\" class=\"data row5 col2\" >700.000000</td>\n",
       "                        <td id=\"T_5c839cdc_11e9_11eb_aaa0_0242ac150003row5_col3\" class=\"data row5 col3\" >2020-02-23</td>\n",
       "                        <td id=\"T_5c839cdc_11e9_11eb_aaa0_0242ac150003row5_col4\" class=\"data row5 col4\" >2020-03-01</td>\n",
       "            </tr>\n",
       "            <tr>\n",
       "                                <td id=\"T_5c839cdc_11e9_11eb_aaa0_0242ac150003row6_col0\" class=\"data row6 col0\" >Абрамова К.А.</td>\n",
       "                        <td id=\"T_5c839cdc_11e9_11eb_aaa0_0242ac150003row6_col1\" class=\"data row6 col1\" >Владивосток</td>\n",
       "                        <td id=\"T_5c839cdc_11e9_11eb_aaa0_0242ac150003row6_col2\" class=\"data row6 col2\" >450.000000</td>\n",
       "                        <td id=\"T_5c839cdc_11e9_11eb_aaa0_0242ac150003row6_col3\" class=\"data row6 col3\" >2020-01-14</td>\n",
       "                        <td id=\"T_5c839cdc_11e9_11eb_aaa0_0242ac150003row6_col4\" class=\"data row6 col4\" >2020-01-27</td>\n",
       "            </tr>\n",
       "    </tbody></table>"
      ],
      "text/plain": [
       "<pandas.io.formats.style.Styler at 0x7fcb736362b0>"
      ]
     },
     "execution_count": 57,
     "metadata": {},
     "output_type": "execute_result"
    }
   ],
   "source": [
    "query = '''\n",
    "        SELECT name, city, per_diem, date_first, date_last\n",
    "        FROM trip\n",
    "        WHERE name LIKE '%а %'\n",
    "        ORDER BY date_last DESC;\n",
    "        '''\n",
    "\n",
    "select_data(query).style.hide_index()"
   ]
  }
 ],
 "metadata": {
  "kernelspec": {
   "display_name": "Python 3",
   "language": "python",
   "name": "python3"
  },
  "language_info": {
   "codemirror_mode": {
    "name": "ipython",
    "version": 3
   },
   "file_extension": ".py",
   "mimetype": "text/x-python",
   "name": "python",
   "nbconvert_exporter": "python",
   "pygments_lexer": "ipython3",
   "version": "3.8.5"
  }
 },
 "nbformat": 4,
 "nbformat_minor": 4
}
