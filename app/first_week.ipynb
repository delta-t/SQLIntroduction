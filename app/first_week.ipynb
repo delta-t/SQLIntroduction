{
 "cells": [
  {
   "cell_type": "code",
   "execution_count": 1,
   "metadata": {},
   "outputs": [],
   "source": [
    "import pandas as pd\n",
    "import mysql.connector"
   ]
  },
  {
   "cell_type": "code",
   "execution_count": 7,
   "metadata": {},
   "outputs": [
    {
     "data": {
      "text/plain": [
       "'utf-8'"
      ]
     },
     "execution_count": 7,
     "metadata": {},
     "output_type": "execute_result"
    }
   ],
   "source": [
    "import sys\n",
    "# reload(sys)\n",
    "# sys.setdefaultencoding('utf-8')\n",
    "sys.getdefaultencoding()"
   ]
  },
  {
   "cell_type": "code",
   "execution_count": null,
   "metadata": {},
   "outputs": [],
   "source": []
  },
  {
   "cell_type": "code",
   "execution_count": 8,
   "metadata": {},
   "outputs": [],
   "source": [
    "config = {\n",
    "        'user': 'root',\n",
    "        'password': 'root',\n",
    "        'host': 'db',\n",
    "        'port': 3306,\n",
    "        'database': 'SQLIntro',\n",
    "#         'init_command': 'set names utf8',\n",
    "        'charset': 'cp1251'\n",
    "    }"
   ]
  },
  {
   "cell_type": "code",
   "execution_count": 9,
   "metadata": {},
   "outputs": [],
   "source": [
    "connection = mysql.connector.connect(**config)\n",
    "# cursor = connection.cursor()\n",
    "# cursor.execute('SELECT * FROM favorite_colors')"
   ]
  },
  {
   "cell_type": "code",
   "execution_count": 10,
   "metadata": {},
   "outputs": [
    {
     "name": "stdout",
     "output_type": "stream",
     "text": [
      "loaded dataframe from MySQL. records: 4\n"
     ]
    }
   ],
   "source": [
    "# mysql_cn= MySQLdb.connect(**config)\n",
    "df_mysql = pd.read_sql('select * from book;', con=connection)    \n",
    "print ('loaded dataframe from MySQL. records:', len(df_mysql))\n",
    "connection.close()"
   ]
  },
  {
   "cell_type": "code",
   "execution_count": 11,
   "metadata": {},
   "outputs": [
    {
     "data": {
      "text/html": [
       "<div>\n",
       "<style scoped>\n",
       "    .dataframe tbody tr th:only-of-type {\n",
       "        vertical-align: middle;\n",
       "    }\n",
       "\n",
       "    .dataframe tbody tr th {\n",
       "        vertical-align: top;\n",
       "    }\n",
       "\n",
       "    .dataframe thead th {\n",
       "        text-align: right;\n",
       "    }\n",
       "</style>\n",
       "<table border=\"1\" class=\"dataframe\">\n",
       "  <thead>\n",
       "    <tr style=\"text-align: right;\">\n",
       "      <th></th>\n",
       "      <th>book_id</th>\n",
       "      <th>title</th>\n",
       "      <th>author</th>\n",
       "      <th>price</th>\n",
       "      <th>amount</th>\n",
       "    </tr>\n",
       "  </thead>\n",
       "  <tbody>\n",
       "    <tr>\n",
       "      <th>0</th>\n",
       "      <td>1</td>\n",
       "      <td>???°???‚?µ?€ ?? ???°?€???°?€???‚?°</td>\n",
       "      <td>?‘???»???°?????? ??.??.</td>\n",
       "      <td>670.99</td>\n",
       "      <td>3</td>\n",
       "    </tr>\n",
       "    <tr>\n",
       "      <th>1</th>\n",
       "      <td>2</td>\n",
       "      <td>?‘?µ?»?°?? ?????°?€??????</td>\n",
       "      <td>?‘???»???°?????? ??.??.</td>\n",
       "      <td>540.50</td>\n",
       "      <td>5</td>\n",
       "    </tr>\n",
       "    <tr>\n",
       "      <th>2</th>\n",
       "      <td>3</td>\n",
       "      <td>?????????‚</td>\n",
       "      <td>?”?????‚???µ?????????? ?¤.??.</td>\n",
       "      <td>460.00</td>\n",
       "      <td>10</td>\n",
       "    </tr>\n",
       "    <tr>\n",
       "      <th>3</th>\n",
       "      <td>4</td>\n",
       "      <td>?‘?€?°?‚???? ???°?€?°???°?·?????‹</td>\n",
       "      <td>?”?????‚???µ?????????? ?¤.??.</td>\n",
       "      <td>799.01</td>\n",
       "      <td>2</td>\n",
       "    </tr>\n",
       "  </tbody>\n",
       "</table>\n",
       "</div>"
      ],
      "text/plain": [
       "   book_id                               title                         author  \\\n",
       "0        1  ???°???‚?µ?€ ?? ???°?€???°?€???‚?°        ?‘???»???°?????? ??.??.   \n",
       "1        2           ?‘?µ?»?°?? ?????°?€??????        ?‘???»???°?????? ??.??.   \n",
       "2        3                          ?????????‚  ?”?????‚???µ?????????? ?¤.??.   \n",
       "3        4   ?‘?€?°?‚???? ???°?€?°???°?·?????‹  ?”?????‚???µ?????????? ?¤.??.   \n",
       "\n",
       "    price  amount  \n",
       "0  670.99       3  \n",
       "1  540.50       5  \n",
       "2  460.00      10  \n",
       "3  799.01       2  "
      ]
     },
     "execution_count": 11,
     "metadata": {},
     "output_type": "execute_result"
    }
   ],
   "source": [
    "df_mysql"
   ]
  }
 ],
 "metadata": {
  "kernelspec": {
   "display_name": "Python 3",
   "language": "python",
   "name": "python3"
  },
  "language_info": {
   "codemirror_mode": {
    "name": "ipython",
    "version": 3
   },
   "file_extension": ".py",
   "mimetype": "text/x-python",
   "name": "python",
   "nbconvert_exporter": "python",
   "pygments_lexer": "ipython3",
   "version": "3.6.12"
  }
 },
 "nbformat": 4,
 "nbformat_minor": 4
}
