{
 "cells": [
  {
   "cell_type": "markdown",
   "metadata": {},
   "source": [
    "# Создание таблицы и получение выборки данных\n",
    "## Содержание\n",
    "В этом уроке будет рассмотрен синтаксис и семантика следующих SQL запросов:\n",
    "\n",
    "* создание таблиц и вставка значений;\n",
    "* выборка всех данных из таблицы;\n",
    "* выборка данных из отдельных столбцов;\n",
    "* выборка отдельных столбцов и присвоение им новых имен;\n",
    "* создание вычисляемых столбцов;\n",
    "* вычисляемые столбцы, математические функции;\n",
    "* вычисляемые столбцы, логические функции;\n",
    "* выборка данных по простому условию;\n",
    "* выборка данных с использованием логических выражений и операций;\n",
    "* выборка данных, операторы BETWEEN, IN;\n",
    "* выборка текстовых данных по шаблону, оператор LIKE;\n",
    "* выборка данных с сортировкой.\n",
    "\n",
    "Структура и наполнение таблицы\n",
    "\n",
    "Все запросы будут формулироваться для таблицы book:\n",
    "\n",
    "![table](./images/sql_intro_book_table.png)"
   ]
  },
  {
   "cell_type": "markdown",
   "metadata": {},
   "source": [
    "## Создание таблицы и заполнение"
   ]
  },
  {
   "cell_type": "code",
   "execution_count": 9,
   "metadata": {},
   "outputs": [],
   "source": [
    "import pandas as pd\n",
    "import numpy as np\n",
    "import mysql.connector"
   ]
  },
  {
   "cell_type": "code",
   "execution_count": 10,
   "metadata": {},
   "outputs": [],
   "source": [
    "config = {\n",
    "        'user': 'root',\n",
    "        'password': 'root',\n",
    "        'host': 'db',\n",
    "        'port': 3306,\n",
    "        'database': 'SQLIntro',\n",
    "        'charset': 'utf8'\n",
    "    }"
   ]
  },
  {
   "cell_type": "code",
   "execution_count": 11,
   "metadata": {},
   "outputs": [],
   "source": [
    "def create_table(query: str) -> None:\n",
    "    connection = mysql.connector.connect(**config)\n",
    "    cursor = connection.cursor()\n",
    "    cursor.execute(query)\n",
    "    cursor.close()\n",
    "    connection.close()"
   ]
  },
  {
   "cell_type": "code",
   "execution_count": 12,
   "metadata": {},
   "outputs": [],
   "source": [
    "def insert_values(query: str) -> None:\n",
    "    connection = mysql.connector.connect(**config)\n",
    "    cursor = connection.cursor()\n",
    "    \n",
    "    try:\n",
    "        cursor.execute(query)\n",
    "        connection.commit()\n",
    "    except Exception as e:\n",
    "        print(repr(e))\n",
    "        connection.rollback()\n",
    "    finally:\n",
    "        cursor.close()\n",
    "        connection.close()"
   ]
  },
  {
   "cell_type": "code",
   "execution_count": 13,
   "metadata": {},
   "outputs": [],
   "source": [
    "# query = '''\n",
    "#         CREATE TABLE book(\n",
    "#                             book_id INT PRIMARY KEY AUTO_INCREMENT,\n",
    "#                             title   VARCHAR(50),\n",
    "#                             author  VARCHAR(30),\n",
    "#                             price   DECIMAL(8, 2),\n",
    "#                             amount  INT\n",
    "#                          );\n",
    "#         '''\n",
    "# create_table(query)"
   ]
  },
  {
   "cell_type": "code",
   "execution_count": 14,
   "metadata": {},
   "outputs": [],
   "source": [
    "# query = '''\n",
    "#         INSERT INTO book (title, author, price, amount) VALUES ('Мастер и Маргарита', 'Булгаков М.А.', 670.99, 3),\n",
    "#                                                                ('Белая гвардия', 'Булгаков М.А.', 540.50, 5),\n",
    "#                                                                ('Идиот', 'Достоевский Ф.М.', 460.00, 10),\n",
    "#                                                                ('Братья Карамазовы', 'Достоевский Ф.М.', 799.01, 2),\n",
    "#                                                                ('Игрок', 'Достоевский Ф.М.', 480.50, 10),\n",
    "#                                                                ('Стихотворения и поэмы', 'Есенин С.А.', 650.00, 15);\n",
    "\n",
    "#         '''\n",
    "# insert_values(query)"
   ]
  },
  {
   "cell_type": "markdown",
   "metadata": {},
   "source": [
    "## Выборка данных"
   ]
  },
  {
   "cell_type": "code",
   "execution_count": 15,
   "metadata": {},
   "outputs": [],
   "source": [
    "def select_data(query: str) -> pd.DataFrame:\n",
    "    connection = mysql.connector.connect(**config)\n",
    "    df_mysql = pd.read_sql(query, con=connection)\n",
    "    connection.close()\n",
    "    return df_mysql"
   ]
  },
  {
   "cell_type": "code",
   "execution_count": 16,
   "metadata": {},
   "outputs": [
    {
     "data": {
      "text/html": [
       "<style  type=\"text/css\" >\n",
       "</style><table id=\"T_992755dc_11f5_11eb_9c22_0242ac150003\" ><thead>    <tr>        <th class=\"col_heading level0 col0\" >book_id</th>        <th class=\"col_heading level0 col1\" >title</th>        <th class=\"col_heading level0 col2\" >author</th>        <th class=\"col_heading level0 col3\" >price</th>        <th class=\"col_heading level0 col4\" >amount</th>        <th class=\"col_heading level0 col5\" >buy</th>    </tr></thead><tbody>\n",
       "                <tr>\n",
       "                                <td id=\"T_992755dc_11f5_11eb_9c22_0242ac150003row0_col0\" class=\"data row0 col0\" >1</td>\n",
       "                        <td id=\"T_992755dc_11f5_11eb_9c22_0242ac150003row0_col1\" class=\"data row0 col1\" >Мастер и Маргарита</td>\n",
       "                        <td id=\"T_992755dc_11f5_11eb_9c22_0242ac150003row0_col2\" class=\"data row0 col2\" >Булгаков М.А.</td>\n",
       "                        <td id=\"T_992755dc_11f5_11eb_9c22_0242ac150003row0_col3\" class=\"data row0 col3\" >670.990000</td>\n",
       "                        <td id=\"T_992755dc_11f5_11eb_9c22_0242ac150003row0_col4\" class=\"data row0 col4\" >3</td>\n",
       "                        <td id=\"T_992755dc_11f5_11eb_9c22_0242ac150003row0_col5\" class=\"data row0 col5\" >0</td>\n",
       "            </tr>\n",
       "            <tr>\n",
       "                                <td id=\"T_992755dc_11f5_11eb_9c22_0242ac150003row1_col0\" class=\"data row1 col0\" >2</td>\n",
       "                        <td id=\"T_992755dc_11f5_11eb_9c22_0242ac150003row1_col1\" class=\"data row1 col1\" >Белая гвардия</td>\n",
       "                        <td id=\"T_992755dc_11f5_11eb_9c22_0242ac150003row1_col2\" class=\"data row1 col2\" >Булгаков М.А.</td>\n",
       "                        <td id=\"T_992755dc_11f5_11eb_9c22_0242ac150003row1_col3\" class=\"data row1 col3\" >513.480000</td>\n",
       "                        <td id=\"T_992755dc_11f5_11eb_9c22_0242ac150003row1_col4\" class=\"data row1 col4\" >12</td>\n",
       "                        <td id=\"T_992755dc_11f5_11eb_9c22_0242ac150003row1_col5\" class=\"data row1 col5\" >3</td>\n",
       "            </tr>\n",
       "            <tr>\n",
       "                                <td id=\"T_992755dc_11f5_11eb_9c22_0242ac150003row2_col0\" class=\"data row2 col0\" >3</td>\n",
       "                        <td id=\"T_992755dc_11f5_11eb_9c22_0242ac150003row2_col1\" class=\"data row2 col1\" >Идиот</td>\n",
       "                        <td id=\"T_992755dc_11f5_11eb_9c22_0242ac150003row2_col2\" class=\"data row2 col2\" >Достоевский Ф.М.</td>\n",
       "                        <td id=\"T_992755dc_11f5_11eb_9c22_0242ac150003row2_col3\" class=\"data row2 col3\" >387.400000</td>\n",
       "                        <td id=\"T_992755dc_11f5_11eb_9c22_0242ac150003row2_col4\" class=\"data row2 col4\" >13</td>\n",
       "                        <td id=\"T_992755dc_11f5_11eb_9c22_0242ac150003row2_col5\" class=\"data row2 col5\" >8</td>\n",
       "            </tr>\n",
       "            <tr>\n",
       "                                <td id=\"T_992755dc_11f5_11eb_9c22_0242ac150003row3_col0\" class=\"data row3 col0\" >4</td>\n",
       "                        <td id=\"T_992755dc_11f5_11eb_9c22_0242ac150003row3_col1\" class=\"data row3 col1\" >Братья Карамазовы</td>\n",
       "                        <td id=\"T_992755dc_11f5_11eb_9c22_0242ac150003row3_col2\" class=\"data row3 col2\" >Достоевский Ф.М.</td>\n",
       "                        <td id=\"T_992755dc_11f5_11eb_9c22_0242ac150003row3_col3\" class=\"data row3 col3\" >799.010000</td>\n",
       "                        <td id=\"T_992755dc_11f5_11eb_9c22_0242ac150003row3_col4\" class=\"data row3 col4\" >2</td>\n",
       "                        <td id=\"T_992755dc_11f5_11eb_9c22_0242ac150003row3_col5\" class=\"data row3 col5\" >0</td>\n",
       "            </tr>\n",
       "            <tr>\n",
       "                                <td id=\"T_992755dc_11f5_11eb_9c22_0242ac150003row4_col0\" class=\"data row4 col0\" >5</td>\n",
       "                        <td id=\"T_992755dc_11f5_11eb_9c22_0242ac150003row4_col1\" class=\"data row4 col1\" >Игрок</td>\n",
       "                        <td id=\"T_992755dc_11f5_11eb_9c22_0242ac150003row4_col2\" class=\"data row4 col2\" >Достоевский Ф.М.</td>\n",
       "                        <td id=\"T_992755dc_11f5_11eb_9c22_0242ac150003row4_col3\" class=\"data row4 col3\" >432.450000</td>\n",
       "                        <td id=\"T_992755dc_11f5_11eb_9c22_0242ac150003row4_col4\" class=\"data row4 col4\" >10</td>\n",
       "                        <td id=\"T_992755dc_11f5_11eb_9c22_0242ac150003row4_col5\" class=\"data row4 col5\" >0</td>\n",
       "            </tr>\n",
       "            <tr>\n",
       "                                <td id=\"T_992755dc_11f5_11eb_9c22_0242ac150003row5_col0\" class=\"data row5 col0\" >6</td>\n",
       "                        <td id=\"T_992755dc_11f5_11eb_9c22_0242ac150003row5_col1\" class=\"data row5 col1\" >Стихотворения и поэмы</td>\n",
       "                        <td id=\"T_992755dc_11f5_11eb_9c22_0242ac150003row5_col2\" class=\"data row5 col2\" >Есенин С.А.</td>\n",
       "                        <td id=\"T_992755dc_11f5_11eb_9c22_0242ac150003row5_col3\" class=\"data row5 col3\" >650.000000</td>\n",
       "                        <td id=\"T_992755dc_11f5_11eb_9c22_0242ac150003row5_col4\" class=\"data row5 col4\" >15</td>\n",
       "                        <td id=\"T_992755dc_11f5_11eb_9c22_0242ac150003row5_col5\" class=\"data row5 col5\" >15</td>\n",
       "            </tr>\n",
       "            <tr>\n",
       "                                <td id=\"T_992755dc_11f5_11eb_9c22_0242ac150003row6_col0\" class=\"data row6 col0\" >7</td>\n",
       "                        <td id=\"T_992755dc_11f5_11eb_9c22_0242ac150003row6_col1\" class=\"data row6 col1\" >Лирика</td>\n",
       "                        <td id=\"T_992755dc_11f5_11eb_9c22_0242ac150003row6_col2\" class=\"data row6 col2\" >Пастернак Б.Л.</td>\n",
       "                        <td id=\"T_992755dc_11f5_11eb_9c22_0242ac150003row6_col3\" class=\"data row6 col3\" >518.990000</td>\n",
       "                        <td id=\"T_992755dc_11f5_11eb_9c22_0242ac150003row6_col4\" class=\"data row6 col4\" >4</td>\n",
       "                        <td id=\"T_992755dc_11f5_11eb_9c22_0242ac150003row6_col5\" class=\"data row6 col5\" >0</td>\n",
       "            </tr>\n",
       "            <tr>\n",
       "                                <td id=\"T_992755dc_11f5_11eb_9c22_0242ac150003row7_col0\" class=\"data row7 col0\" >8</td>\n",
       "                        <td id=\"T_992755dc_11f5_11eb_9c22_0242ac150003row7_col1\" class=\"data row7 col1\" >Черный человек</td>\n",
       "                        <td id=\"T_992755dc_11f5_11eb_9c22_0242ac150003row7_col2\" class=\"data row7 col2\" >Есенин С.А.</td>\n",
       "                        <td id=\"T_992755dc_11f5_11eb_9c22_0242ac150003row7_col3\" class=\"data row7 col3\" >541.690000</td>\n",
       "                        <td id=\"T_992755dc_11f5_11eb_9c22_0242ac150003row7_col4\" class=\"data row7 col4\" >12</td>\n",
       "                        <td id=\"T_992755dc_11f5_11eb_9c22_0242ac150003row7_col5\" class=\"data row7 col5\" >0</td>\n",
       "            </tr>\n",
       "    </tbody></table>"
      ],
      "text/plain": [
       "<pandas.io.formats.style.Styler at 0x7fa9cfc36190>"
      ]
     },
     "execution_count": 16,
     "metadata": {},
     "output_type": "execute_result"
    }
   ],
   "source": [
    "query = '''\n",
    "        SELECT *\n",
    "        FROM book;\n",
    "        '''\n",
    "\n",
    "select_data(query).style.hide_index()"
   ]
  },
  {
   "cell_type": "code",
   "execution_count": 17,
   "metadata": {},
   "outputs": [
    {
     "data": {
      "text/html": [
       "<style  type=\"text/css\" >\n",
       "</style><table id=\"T_99294a04_11f5_11eb_9c22_0242ac150003\" ><thead>    <tr>        <th class=\"col_heading level0 col0\" >author</th>        <th class=\"col_heading level0 col1\" >title</th>        <th class=\"col_heading level0 col2\" >price</th>    </tr></thead><tbody>\n",
       "                <tr>\n",
       "                                <td id=\"T_99294a04_11f5_11eb_9c22_0242ac150003row0_col0\" class=\"data row0 col0\" >Булгаков М.А.</td>\n",
       "                        <td id=\"T_99294a04_11f5_11eb_9c22_0242ac150003row0_col1\" class=\"data row0 col1\" >Мастер и Маргарита</td>\n",
       "                        <td id=\"T_99294a04_11f5_11eb_9c22_0242ac150003row0_col2\" class=\"data row0 col2\" >670.990000</td>\n",
       "            </tr>\n",
       "            <tr>\n",
       "                                <td id=\"T_99294a04_11f5_11eb_9c22_0242ac150003row1_col0\" class=\"data row1 col0\" >Булгаков М.А.</td>\n",
       "                        <td id=\"T_99294a04_11f5_11eb_9c22_0242ac150003row1_col1\" class=\"data row1 col1\" >Белая гвардия</td>\n",
       "                        <td id=\"T_99294a04_11f5_11eb_9c22_0242ac150003row1_col2\" class=\"data row1 col2\" >513.480000</td>\n",
       "            </tr>\n",
       "            <tr>\n",
       "                                <td id=\"T_99294a04_11f5_11eb_9c22_0242ac150003row2_col0\" class=\"data row2 col0\" >Достоевский Ф.М.</td>\n",
       "                        <td id=\"T_99294a04_11f5_11eb_9c22_0242ac150003row2_col1\" class=\"data row2 col1\" >Идиот</td>\n",
       "                        <td id=\"T_99294a04_11f5_11eb_9c22_0242ac150003row2_col2\" class=\"data row2 col2\" >387.400000</td>\n",
       "            </tr>\n",
       "            <tr>\n",
       "                                <td id=\"T_99294a04_11f5_11eb_9c22_0242ac150003row3_col0\" class=\"data row3 col0\" >Достоевский Ф.М.</td>\n",
       "                        <td id=\"T_99294a04_11f5_11eb_9c22_0242ac150003row3_col1\" class=\"data row3 col1\" >Братья Карамазовы</td>\n",
       "                        <td id=\"T_99294a04_11f5_11eb_9c22_0242ac150003row3_col2\" class=\"data row3 col2\" >799.010000</td>\n",
       "            </tr>\n",
       "            <tr>\n",
       "                                <td id=\"T_99294a04_11f5_11eb_9c22_0242ac150003row4_col0\" class=\"data row4 col0\" >Достоевский Ф.М.</td>\n",
       "                        <td id=\"T_99294a04_11f5_11eb_9c22_0242ac150003row4_col1\" class=\"data row4 col1\" >Игрок</td>\n",
       "                        <td id=\"T_99294a04_11f5_11eb_9c22_0242ac150003row4_col2\" class=\"data row4 col2\" >432.450000</td>\n",
       "            </tr>\n",
       "            <tr>\n",
       "                                <td id=\"T_99294a04_11f5_11eb_9c22_0242ac150003row5_col0\" class=\"data row5 col0\" >Есенин С.А.</td>\n",
       "                        <td id=\"T_99294a04_11f5_11eb_9c22_0242ac150003row5_col1\" class=\"data row5 col1\" >Стихотворения и поэмы</td>\n",
       "                        <td id=\"T_99294a04_11f5_11eb_9c22_0242ac150003row5_col2\" class=\"data row5 col2\" >650.000000</td>\n",
       "            </tr>\n",
       "            <tr>\n",
       "                                <td id=\"T_99294a04_11f5_11eb_9c22_0242ac150003row6_col0\" class=\"data row6 col0\" >Пастернак Б.Л.</td>\n",
       "                        <td id=\"T_99294a04_11f5_11eb_9c22_0242ac150003row6_col1\" class=\"data row6 col1\" >Лирика</td>\n",
       "                        <td id=\"T_99294a04_11f5_11eb_9c22_0242ac150003row6_col2\" class=\"data row6 col2\" >518.990000</td>\n",
       "            </tr>\n",
       "            <tr>\n",
       "                                <td id=\"T_99294a04_11f5_11eb_9c22_0242ac150003row7_col0\" class=\"data row7 col0\" >Есенин С.А.</td>\n",
       "                        <td id=\"T_99294a04_11f5_11eb_9c22_0242ac150003row7_col1\" class=\"data row7 col1\" >Черный человек</td>\n",
       "                        <td id=\"T_99294a04_11f5_11eb_9c22_0242ac150003row7_col2\" class=\"data row7 col2\" >541.690000</td>\n",
       "            </tr>\n",
       "    </tbody></table>"
      ],
      "text/plain": [
       "<pandas.io.formats.style.Styler at 0x7faa15917fa0>"
      ]
     },
     "execution_count": 17,
     "metadata": {},
     "output_type": "execute_result"
    }
   ],
   "source": [
    "query = '''\n",
    "        SELECT author, title, price\n",
    "        FROM book;\n",
    "        '''\n",
    "\n",
    "select_data(query).style.hide_index()"
   ]
  },
  {
   "cell_type": "code",
   "execution_count": 18,
   "metadata": {},
   "outputs": [
    {
     "data": {
      "text/html": [
       "<style  type=\"text/css\" >\n",
       "</style><table id=\"T_992afba6_11f5_11eb_9c22_0242ac150003\" ><thead>    <tr>        <th class=\"col_heading level0 col0\" >Название</th>        <th class=\"col_heading level0 col1\" >Автор</th>    </tr></thead><tbody>\n",
       "                <tr>\n",
       "                                <td id=\"T_992afba6_11f5_11eb_9c22_0242ac150003row0_col0\" class=\"data row0 col0\" >Мастер и Маргарита</td>\n",
       "                        <td id=\"T_992afba6_11f5_11eb_9c22_0242ac150003row0_col1\" class=\"data row0 col1\" >Булгаков М.А.</td>\n",
       "            </tr>\n",
       "            <tr>\n",
       "                                <td id=\"T_992afba6_11f5_11eb_9c22_0242ac150003row1_col0\" class=\"data row1 col0\" >Белая гвардия</td>\n",
       "                        <td id=\"T_992afba6_11f5_11eb_9c22_0242ac150003row1_col1\" class=\"data row1 col1\" >Булгаков М.А.</td>\n",
       "            </tr>\n",
       "            <tr>\n",
       "                                <td id=\"T_992afba6_11f5_11eb_9c22_0242ac150003row2_col0\" class=\"data row2 col0\" >Идиот</td>\n",
       "                        <td id=\"T_992afba6_11f5_11eb_9c22_0242ac150003row2_col1\" class=\"data row2 col1\" >Достоевский Ф.М.</td>\n",
       "            </tr>\n",
       "            <tr>\n",
       "                                <td id=\"T_992afba6_11f5_11eb_9c22_0242ac150003row3_col0\" class=\"data row3 col0\" >Братья Карамазовы</td>\n",
       "                        <td id=\"T_992afba6_11f5_11eb_9c22_0242ac150003row3_col1\" class=\"data row3 col1\" >Достоевский Ф.М.</td>\n",
       "            </tr>\n",
       "            <tr>\n",
       "                                <td id=\"T_992afba6_11f5_11eb_9c22_0242ac150003row4_col0\" class=\"data row4 col0\" >Игрок</td>\n",
       "                        <td id=\"T_992afba6_11f5_11eb_9c22_0242ac150003row4_col1\" class=\"data row4 col1\" >Достоевский Ф.М.</td>\n",
       "            </tr>\n",
       "            <tr>\n",
       "                                <td id=\"T_992afba6_11f5_11eb_9c22_0242ac150003row5_col0\" class=\"data row5 col0\" >Стихотворения и поэмы</td>\n",
       "                        <td id=\"T_992afba6_11f5_11eb_9c22_0242ac150003row5_col1\" class=\"data row5 col1\" >Есенин С.А.</td>\n",
       "            </tr>\n",
       "            <tr>\n",
       "                                <td id=\"T_992afba6_11f5_11eb_9c22_0242ac150003row6_col0\" class=\"data row6 col0\" >Лирика</td>\n",
       "                        <td id=\"T_992afba6_11f5_11eb_9c22_0242ac150003row6_col1\" class=\"data row6 col1\" >Пастернак Б.Л.</td>\n",
       "            </tr>\n",
       "            <tr>\n",
       "                                <td id=\"T_992afba6_11f5_11eb_9c22_0242ac150003row7_col0\" class=\"data row7 col0\" >Черный человек</td>\n",
       "                        <td id=\"T_992afba6_11f5_11eb_9c22_0242ac150003row7_col1\" class=\"data row7 col1\" >Есенин С.А.</td>\n",
       "            </tr>\n",
       "    </tbody></table>"
      ],
      "text/plain": [
       "<pandas.io.formats.style.Styler at 0x7faa1ae983a0>"
      ]
     },
     "execution_count": 18,
     "metadata": {},
     "output_type": "execute_result"
    }
   ],
   "source": [
    "query = '''\n",
    "        SELECT title as Название, author as Автор\n",
    "        FROM book;\n",
    "        '''\n",
    "\n",
    "select_data(query).style.hide_index()"
   ]
  },
  {
   "cell_type": "code",
   "execution_count": 19,
   "metadata": {},
   "outputs": [
    {
     "data": {
      "text/html": [
       "<style  type=\"text/css\" >\n",
       "</style><table id=\"T_992cebe6_11f5_11eb_9c22_0242ac150003\" ><thead>    <tr>        <th class=\"col_heading level0 col0\" >title</th>        <th class=\"col_heading level0 col1\" >amount</th>        <th class=\"col_heading level0 col2\" >pack</th>    </tr></thead><tbody>\n",
       "                <tr>\n",
       "                                <td id=\"T_992cebe6_11f5_11eb_9c22_0242ac150003row0_col0\" class=\"data row0 col0\" >Мастер и Маргарита</td>\n",
       "                        <td id=\"T_992cebe6_11f5_11eb_9c22_0242ac150003row0_col1\" class=\"data row0 col1\" >3</td>\n",
       "                        <td id=\"T_992cebe6_11f5_11eb_9c22_0242ac150003row0_col2\" class=\"data row0 col2\" >4.950000</td>\n",
       "            </tr>\n",
       "            <tr>\n",
       "                                <td id=\"T_992cebe6_11f5_11eb_9c22_0242ac150003row1_col0\" class=\"data row1 col0\" >Белая гвардия</td>\n",
       "                        <td id=\"T_992cebe6_11f5_11eb_9c22_0242ac150003row1_col1\" class=\"data row1 col1\" >12</td>\n",
       "                        <td id=\"T_992cebe6_11f5_11eb_9c22_0242ac150003row1_col2\" class=\"data row1 col2\" >19.800000</td>\n",
       "            </tr>\n",
       "            <tr>\n",
       "                                <td id=\"T_992cebe6_11f5_11eb_9c22_0242ac150003row2_col0\" class=\"data row2 col0\" >Идиот</td>\n",
       "                        <td id=\"T_992cebe6_11f5_11eb_9c22_0242ac150003row2_col1\" class=\"data row2 col1\" >13</td>\n",
       "                        <td id=\"T_992cebe6_11f5_11eb_9c22_0242ac150003row2_col2\" class=\"data row2 col2\" >21.450000</td>\n",
       "            </tr>\n",
       "            <tr>\n",
       "                                <td id=\"T_992cebe6_11f5_11eb_9c22_0242ac150003row3_col0\" class=\"data row3 col0\" >Братья Карамазовы</td>\n",
       "                        <td id=\"T_992cebe6_11f5_11eb_9c22_0242ac150003row3_col1\" class=\"data row3 col1\" >2</td>\n",
       "                        <td id=\"T_992cebe6_11f5_11eb_9c22_0242ac150003row3_col2\" class=\"data row3 col2\" >3.300000</td>\n",
       "            </tr>\n",
       "            <tr>\n",
       "                                <td id=\"T_992cebe6_11f5_11eb_9c22_0242ac150003row4_col0\" class=\"data row4 col0\" >Игрок</td>\n",
       "                        <td id=\"T_992cebe6_11f5_11eb_9c22_0242ac150003row4_col1\" class=\"data row4 col1\" >10</td>\n",
       "                        <td id=\"T_992cebe6_11f5_11eb_9c22_0242ac150003row4_col2\" class=\"data row4 col2\" >16.500000</td>\n",
       "            </tr>\n",
       "            <tr>\n",
       "                                <td id=\"T_992cebe6_11f5_11eb_9c22_0242ac150003row5_col0\" class=\"data row5 col0\" >Стихотворения и поэмы</td>\n",
       "                        <td id=\"T_992cebe6_11f5_11eb_9c22_0242ac150003row5_col1\" class=\"data row5 col1\" >15</td>\n",
       "                        <td id=\"T_992cebe6_11f5_11eb_9c22_0242ac150003row5_col2\" class=\"data row5 col2\" >24.750000</td>\n",
       "            </tr>\n",
       "            <tr>\n",
       "                                <td id=\"T_992cebe6_11f5_11eb_9c22_0242ac150003row6_col0\" class=\"data row6 col0\" >Лирика</td>\n",
       "                        <td id=\"T_992cebe6_11f5_11eb_9c22_0242ac150003row6_col1\" class=\"data row6 col1\" >4</td>\n",
       "                        <td id=\"T_992cebe6_11f5_11eb_9c22_0242ac150003row6_col2\" class=\"data row6 col2\" >6.600000</td>\n",
       "            </tr>\n",
       "            <tr>\n",
       "                                <td id=\"T_992cebe6_11f5_11eb_9c22_0242ac150003row7_col0\" class=\"data row7 col0\" >Черный человек</td>\n",
       "                        <td id=\"T_992cebe6_11f5_11eb_9c22_0242ac150003row7_col1\" class=\"data row7 col1\" >12</td>\n",
       "                        <td id=\"T_992cebe6_11f5_11eb_9c22_0242ac150003row7_col2\" class=\"data row7 col2\" >19.800000</td>\n",
       "            </tr>\n",
       "    </tbody></table>"
      ],
      "text/plain": [
       "<pandas.io.formats.style.Styler at 0x7fa9cfc364c0>"
      ]
     },
     "execution_count": 19,
     "metadata": {},
     "output_type": "execute_result"
    }
   ],
   "source": [
    "query = '''\n",
    "        SELECT title, amount, amount*1.65 AS pack\n",
    "        FROM book;\n",
    "        '''\n",
    "select_data(query).style.hide_index()"
   ]
  },
  {
   "cell_type": "code",
   "execution_count": 20,
   "metadata": {},
   "outputs": [
    {
     "data": {
      "text/html": [
       "<style  type=\"text/css\" >\n",
       "</style><table id=\"T_992f3446_11f5_11eb_9c22_0242ac150003\" ><thead>    <tr>        <th class=\"col_heading level0 col0\" >title</th>        <th class=\"col_heading level0 col1\" >author</th>        <th class=\"col_heading level0 col2\" >amount</th>        <th class=\"col_heading level0 col3\" >new_price</th>    </tr></thead><tbody>\n",
       "                <tr>\n",
       "                                <td id=\"T_992f3446_11f5_11eb_9c22_0242ac150003row0_col0\" class=\"data row0 col0\" >Мастер и Маргарита</td>\n",
       "                        <td id=\"T_992f3446_11f5_11eb_9c22_0242ac150003row0_col1\" class=\"data row0 col1\" >Булгаков М.А.</td>\n",
       "                        <td id=\"T_992f3446_11f5_11eb_9c22_0242ac150003row0_col2\" class=\"data row0 col2\" >3</td>\n",
       "                        <td id=\"T_992f3446_11f5_11eb_9c22_0242ac150003row0_col3\" class=\"data row0 col3\" >469.690000</td>\n",
       "            </tr>\n",
       "            <tr>\n",
       "                                <td id=\"T_992f3446_11f5_11eb_9c22_0242ac150003row1_col0\" class=\"data row1 col0\" >Белая гвардия</td>\n",
       "                        <td id=\"T_992f3446_11f5_11eb_9c22_0242ac150003row1_col1\" class=\"data row1 col1\" >Булгаков М.А.</td>\n",
       "                        <td id=\"T_992f3446_11f5_11eb_9c22_0242ac150003row1_col2\" class=\"data row1 col2\" >12</td>\n",
       "                        <td id=\"T_992f3446_11f5_11eb_9c22_0242ac150003row1_col3\" class=\"data row1 col3\" >359.440000</td>\n",
       "            </tr>\n",
       "            <tr>\n",
       "                                <td id=\"T_992f3446_11f5_11eb_9c22_0242ac150003row2_col0\" class=\"data row2 col0\" >Идиот</td>\n",
       "                        <td id=\"T_992f3446_11f5_11eb_9c22_0242ac150003row2_col1\" class=\"data row2 col1\" >Достоевский Ф.М.</td>\n",
       "                        <td id=\"T_992f3446_11f5_11eb_9c22_0242ac150003row2_col2\" class=\"data row2 col2\" >13</td>\n",
       "                        <td id=\"T_992f3446_11f5_11eb_9c22_0242ac150003row2_col3\" class=\"data row2 col3\" >271.180000</td>\n",
       "            </tr>\n",
       "            <tr>\n",
       "                                <td id=\"T_992f3446_11f5_11eb_9c22_0242ac150003row3_col0\" class=\"data row3 col0\" >Братья Карамазовы</td>\n",
       "                        <td id=\"T_992f3446_11f5_11eb_9c22_0242ac150003row3_col1\" class=\"data row3 col1\" >Достоевский Ф.М.</td>\n",
       "                        <td id=\"T_992f3446_11f5_11eb_9c22_0242ac150003row3_col2\" class=\"data row3 col2\" >2</td>\n",
       "                        <td id=\"T_992f3446_11f5_11eb_9c22_0242ac150003row3_col3\" class=\"data row3 col3\" >559.310000</td>\n",
       "            </tr>\n",
       "            <tr>\n",
       "                                <td id=\"T_992f3446_11f5_11eb_9c22_0242ac150003row4_col0\" class=\"data row4 col0\" >Игрок</td>\n",
       "                        <td id=\"T_992f3446_11f5_11eb_9c22_0242ac150003row4_col1\" class=\"data row4 col1\" >Достоевский Ф.М.</td>\n",
       "                        <td id=\"T_992f3446_11f5_11eb_9c22_0242ac150003row4_col2\" class=\"data row4 col2\" >10</td>\n",
       "                        <td id=\"T_992f3446_11f5_11eb_9c22_0242ac150003row4_col3\" class=\"data row4 col3\" >302.720000</td>\n",
       "            </tr>\n",
       "            <tr>\n",
       "                                <td id=\"T_992f3446_11f5_11eb_9c22_0242ac150003row5_col0\" class=\"data row5 col0\" >Стихотворения и поэмы</td>\n",
       "                        <td id=\"T_992f3446_11f5_11eb_9c22_0242ac150003row5_col1\" class=\"data row5 col1\" >Есенин С.А.</td>\n",
       "                        <td id=\"T_992f3446_11f5_11eb_9c22_0242ac150003row5_col2\" class=\"data row5 col2\" >15</td>\n",
       "                        <td id=\"T_992f3446_11f5_11eb_9c22_0242ac150003row5_col3\" class=\"data row5 col3\" >455.000000</td>\n",
       "            </tr>\n",
       "            <tr>\n",
       "                                <td id=\"T_992f3446_11f5_11eb_9c22_0242ac150003row6_col0\" class=\"data row6 col0\" >Лирика</td>\n",
       "                        <td id=\"T_992f3446_11f5_11eb_9c22_0242ac150003row6_col1\" class=\"data row6 col1\" >Пастернак Б.Л.</td>\n",
       "                        <td id=\"T_992f3446_11f5_11eb_9c22_0242ac150003row6_col2\" class=\"data row6 col2\" >4</td>\n",
       "                        <td id=\"T_992f3446_11f5_11eb_9c22_0242ac150003row6_col3\" class=\"data row6 col3\" >363.290000</td>\n",
       "            </tr>\n",
       "            <tr>\n",
       "                                <td id=\"T_992f3446_11f5_11eb_9c22_0242ac150003row7_col0\" class=\"data row7 col0\" >Черный человек</td>\n",
       "                        <td id=\"T_992f3446_11f5_11eb_9c22_0242ac150003row7_col1\" class=\"data row7 col1\" >Есенин С.А.</td>\n",
       "                        <td id=\"T_992f3446_11f5_11eb_9c22_0242ac150003row7_col2\" class=\"data row7 col2\" >12</td>\n",
       "                        <td id=\"T_992f3446_11f5_11eb_9c22_0242ac150003row7_col3\" class=\"data row7 col3\" >379.180000</td>\n",
       "            </tr>\n",
       "    </tbody></table>"
      ],
      "text/plain": [
       "<pandas.io.formats.style.Styler at 0x7fa9cfc2b8b0>"
      ]
     },
     "execution_count": 20,
     "metadata": {},
     "output_type": "execute_result"
    }
   ],
   "source": [
    "query = '''\n",
    "        SELECT title, author, amount, round(price*0.7, 2) AS new_price\n",
    "        FROM book;\n",
    "        '''\n",
    "\n",
    "select_data(query).style.hide_index()"
   ]
  },
  {
   "cell_type": "code",
   "execution_count": 21,
   "metadata": {},
   "outputs": [
    {
     "data": {
      "text/html": [
       "<style  type=\"text/css\" >\n",
       "</style><table id=\"T_99311dd8_11f5_11eb_9c22_0242ac150003\" ><thead>    <tr>        <th class=\"col_heading level0 col0\" >author</th>        <th class=\"col_heading level0 col1\" >title</th>        <th class=\"col_heading level0 col2\" >new_price</th>    </tr></thead><tbody>\n",
       "                <tr>\n",
       "                                <td id=\"T_99311dd8_11f5_11eb_9c22_0242ac150003row0_col0\" class=\"data row0 col0\" >Булгаков М.А.</td>\n",
       "                        <td id=\"T_99311dd8_11f5_11eb_9c22_0242ac150003row0_col1\" class=\"data row0 col1\" >Мастер и Маргарита</td>\n",
       "                        <td id=\"T_99311dd8_11f5_11eb_9c22_0242ac150003row0_col2\" class=\"data row0 col2\" >738.090000</td>\n",
       "            </tr>\n",
       "            <tr>\n",
       "                                <td id=\"T_99311dd8_11f5_11eb_9c22_0242ac150003row1_col0\" class=\"data row1 col0\" >Булгаков М.А.</td>\n",
       "                        <td id=\"T_99311dd8_11f5_11eb_9c22_0242ac150003row1_col1\" class=\"data row1 col1\" >Белая гвардия</td>\n",
       "                        <td id=\"T_99311dd8_11f5_11eb_9c22_0242ac150003row1_col2\" class=\"data row1 col2\" >564.830000</td>\n",
       "            </tr>\n",
       "            <tr>\n",
       "                                <td id=\"T_99311dd8_11f5_11eb_9c22_0242ac150003row2_col0\" class=\"data row2 col0\" >Достоевский Ф.М.</td>\n",
       "                        <td id=\"T_99311dd8_11f5_11eb_9c22_0242ac150003row2_col1\" class=\"data row2 col1\" >Идиот</td>\n",
       "                        <td id=\"T_99311dd8_11f5_11eb_9c22_0242ac150003row2_col2\" class=\"data row2 col2\" >387.400000</td>\n",
       "            </tr>\n",
       "            <tr>\n",
       "                                <td id=\"T_99311dd8_11f5_11eb_9c22_0242ac150003row3_col0\" class=\"data row3 col0\" >Достоевский Ф.М.</td>\n",
       "                        <td id=\"T_99311dd8_11f5_11eb_9c22_0242ac150003row3_col1\" class=\"data row3 col1\" >Братья Карамазовы</td>\n",
       "                        <td id=\"T_99311dd8_11f5_11eb_9c22_0242ac150003row3_col2\" class=\"data row3 col2\" >799.010000</td>\n",
       "            </tr>\n",
       "            <tr>\n",
       "                                <td id=\"T_99311dd8_11f5_11eb_9c22_0242ac150003row4_col0\" class=\"data row4 col0\" >Достоевский Ф.М.</td>\n",
       "                        <td id=\"T_99311dd8_11f5_11eb_9c22_0242ac150003row4_col1\" class=\"data row4 col1\" >Игрок</td>\n",
       "                        <td id=\"T_99311dd8_11f5_11eb_9c22_0242ac150003row4_col2\" class=\"data row4 col2\" >432.450000</td>\n",
       "            </tr>\n",
       "            <tr>\n",
       "                                <td id=\"T_99311dd8_11f5_11eb_9c22_0242ac150003row5_col0\" class=\"data row5 col0\" >Есенин С.А.</td>\n",
       "                        <td id=\"T_99311dd8_11f5_11eb_9c22_0242ac150003row5_col1\" class=\"data row5 col1\" >Стихотворения и поэмы</td>\n",
       "                        <td id=\"T_99311dd8_11f5_11eb_9c22_0242ac150003row5_col2\" class=\"data row5 col2\" >682.500000</td>\n",
       "            </tr>\n",
       "            <tr>\n",
       "                                <td id=\"T_99311dd8_11f5_11eb_9c22_0242ac150003row6_col0\" class=\"data row6 col0\" >Пастернак Б.Л.</td>\n",
       "                        <td id=\"T_99311dd8_11f5_11eb_9c22_0242ac150003row6_col1\" class=\"data row6 col1\" >Лирика</td>\n",
       "                        <td id=\"T_99311dd8_11f5_11eb_9c22_0242ac150003row6_col2\" class=\"data row6 col2\" >518.990000</td>\n",
       "            </tr>\n",
       "            <tr>\n",
       "                                <td id=\"T_99311dd8_11f5_11eb_9c22_0242ac150003row7_col0\" class=\"data row7 col0\" >Есенин С.А.</td>\n",
       "                        <td id=\"T_99311dd8_11f5_11eb_9c22_0242ac150003row7_col1\" class=\"data row7 col1\" >Черный человек</td>\n",
       "                        <td id=\"T_99311dd8_11f5_11eb_9c22_0242ac150003row7_col2\" class=\"data row7 col2\" >568.770000</td>\n",
       "            </tr>\n",
       "    </tbody></table>"
      ],
      "text/plain": [
       "<pandas.io.formats.style.Styler at 0x7fa9cfc2b310>"
      ]
     },
     "execution_count": 21,
     "metadata": {},
     "output_type": "execute_result"
    }
   ],
   "source": [
    "query = '''\n",
    "        SELECT author, title,\n",
    "               round(IF (author='Булгаков М.А.', price*1.10, IF(author='Есенин С.А.', price*1.05, price)), 2) AS new_price\n",
    "        FROM book;\n",
    "        '''\n",
    "\n",
    "select_data(query).style.hide_index()"
   ]
  },
  {
   "cell_type": "code",
   "execution_count": 22,
   "metadata": {},
   "outputs": [
    {
     "data": {
      "text/html": [
       "<style  type=\"text/css\" >\n",
       "</style><table id=\"T_9932df10_11f5_11eb_9c22_0242ac150003\" ><thead>    <tr>        <th class=\"col_heading level0 col0\" >author</th>        <th class=\"col_heading level0 col1\" >title</th>        <th class=\"col_heading level0 col2\" >price</th>    </tr></thead><tbody>\n",
       "                <tr>\n",
       "                                <td id=\"T_9932df10_11f5_11eb_9c22_0242ac150003row0_col0\" class=\"data row0 col0\" >Булгаков М.А.</td>\n",
       "                        <td id=\"T_9932df10_11f5_11eb_9c22_0242ac150003row0_col1\" class=\"data row0 col1\" >Мастер и Маргарита</td>\n",
       "                        <td id=\"T_9932df10_11f5_11eb_9c22_0242ac150003row0_col2\" class=\"data row0 col2\" >670.990000</td>\n",
       "            </tr>\n",
       "            <tr>\n",
       "                                <td id=\"T_9932df10_11f5_11eb_9c22_0242ac150003row1_col0\" class=\"data row1 col0\" >Достоевский Ф.М.</td>\n",
       "                        <td id=\"T_9932df10_11f5_11eb_9c22_0242ac150003row1_col1\" class=\"data row1 col1\" >Братья Карамазовы</td>\n",
       "                        <td id=\"T_9932df10_11f5_11eb_9c22_0242ac150003row1_col2\" class=\"data row1 col2\" >799.010000</td>\n",
       "            </tr>\n",
       "            <tr>\n",
       "                                <td id=\"T_9932df10_11f5_11eb_9c22_0242ac150003row2_col0\" class=\"data row2 col0\" >Пастернак Б.Л.</td>\n",
       "                        <td id=\"T_9932df10_11f5_11eb_9c22_0242ac150003row2_col1\" class=\"data row2 col1\" >Лирика</td>\n",
       "                        <td id=\"T_9932df10_11f5_11eb_9c22_0242ac150003row2_col2\" class=\"data row2 col2\" >518.990000</td>\n",
       "            </tr>\n",
       "    </tbody></table>"
      ],
      "text/plain": [
       "<pandas.io.formats.style.Styler at 0x7fa9cfc31e80>"
      ]
     },
     "execution_count": 22,
     "metadata": {},
     "output_type": "execute_result"
    }
   ],
   "source": [
    "query = '''\n",
    "        SELECT author, title, price\n",
    "        FROM book\n",
    "        WHERE amount < 10;\n",
    "        '''\n",
    "\n",
    "select_data(query).style.hide_index()"
   ]
  },
  {
   "cell_type": "code",
   "execution_count": 23,
   "metadata": {},
   "outputs": [
    {
     "data": {
      "text/html": [
       "<style  type=\"text/css\" >\n",
       "</style><table id=\"T_99347582_11f5_11eb_9c22_0242ac150003\" ><thead>    <tr>        <th class=\"col_heading level0 col0\" >title</th>        <th class=\"col_heading level0 col1\" >author</th>        <th class=\"col_heading level0 col2\" >price</th>        <th class=\"col_heading level0 col3\" >amount</th>    </tr></thead><tbody>\n",
       "                <tr>\n",
       "                                <td id=\"T_99347582_11f5_11eb_9c22_0242ac150003row0_col0\" class=\"data row0 col0\" >Идиот</td>\n",
       "                        <td id=\"T_99347582_11f5_11eb_9c22_0242ac150003row0_col1\" class=\"data row0 col1\" >Достоевский Ф.М.</td>\n",
       "                        <td id=\"T_99347582_11f5_11eb_9c22_0242ac150003row0_col2\" class=\"data row0 col2\" >387.400000</td>\n",
       "                        <td id=\"T_99347582_11f5_11eb_9c22_0242ac150003row0_col3\" class=\"data row0 col3\" >13</td>\n",
       "            </tr>\n",
       "            <tr>\n",
       "                                <td id=\"T_99347582_11f5_11eb_9c22_0242ac150003row1_col0\" class=\"data row1 col0\" >Стихотворения и поэмы</td>\n",
       "                        <td id=\"T_99347582_11f5_11eb_9c22_0242ac150003row1_col1\" class=\"data row1 col1\" >Есенин С.А.</td>\n",
       "                        <td id=\"T_99347582_11f5_11eb_9c22_0242ac150003row1_col2\" class=\"data row1 col2\" >650.000000</td>\n",
       "                        <td id=\"T_99347582_11f5_11eb_9c22_0242ac150003row1_col3\" class=\"data row1 col3\" >15</td>\n",
       "            </tr>\n",
       "    </tbody></table>"
      ],
      "text/plain": [
       "<pandas.io.formats.style.Styler at 0x7fa9cfc31160>"
      ]
     },
     "execution_count": 23,
     "metadata": {},
     "output_type": "execute_result"
    }
   ],
   "source": [
    "query = '''\n",
    "        SELECT title, author, price, amount\n",
    "        FROM book\n",
    "        WHERE price*amount >= 5000 and (price < 500 or price > 600);\n",
    "        '''\n",
    "\n",
    "select_data(query).style.hide_index()"
   ]
  },
  {
   "cell_type": "code",
   "execution_count": 24,
   "metadata": {},
   "outputs": [
    {
     "data": {
      "text/html": [
       "<style  type=\"text/css\" >\n",
       "</style><table id=\"T_99361220_11f5_11eb_9c22_0242ac150003\" ><thead>    <tr>        <th class=\"col_heading level0 col0\" >title</th>        <th class=\"col_heading level0 col1\" >author</th>    </tr></thead><tbody>\n",
       "                <tr>\n",
       "                                <td id=\"T_99361220_11f5_11eb_9c22_0242ac150003row0_col0\" class=\"data row0 col0\" >Мастер и Маргарита</td>\n",
       "                        <td id=\"T_99361220_11f5_11eb_9c22_0242ac150003row0_col1\" class=\"data row0 col1\" >Булгаков М.А.</td>\n",
       "            </tr>\n",
       "            <tr>\n",
       "                                <td id=\"T_99361220_11f5_11eb_9c22_0242ac150003row1_col0\" class=\"data row1 col0\" >Братья Карамазовы</td>\n",
       "                        <td id=\"T_99361220_11f5_11eb_9c22_0242ac150003row1_col1\" class=\"data row1 col1\" >Достоевский Ф.М.</td>\n",
       "            </tr>\n",
       "    </tbody></table>"
      ],
      "text/plain": [
       "<pandas.io.formats.style.Styler at 0x7fa9cfbe6f70>"
      ]
     },
     "execution_count": 24,
     "metadata": {},
     "output_type": "execute_result"
    }
   ],
   "source": [
    "query = '''\n",
    "        SELECT title, author\n",
    "        FROM book\n",
    "        WHERE (price BETWEEN 540.50 and 800) and    amount IN (2, 3, 5, 7);\n",
    "        '''\n",
    "\n",
    "select_data(query).style.hide_index()"
   ]
  },
  {
   "cell_type": "code",
   "execution_count": 25,
   "metadata": {},
   "outputs": [
    {
     "data": {
      "text/html": [
       "<style  type=\"text/css\" >\n",
       "</style><table id=\"T_9937a5fe_11f5_11eb_9c22_0242ac150003\" ><thead>    <tr>        <th class=\"col_heading level0 col0\" >title</th>        <th class=\"col_heading level0 col1\" >author</th>    </tr></thead><tbody>\n",
       "                <tr>\n",
       "                                <td id=\"T_9937a5fe_11f5_11eb_9c22_0242ac150003row0_col0\" class=\"data row0 col0\" >Стихотворения и поэмы</td>\n",
       "                        <td id=\"T_9937a5fe_11f5_11eb_9c22_0242ac150003row0_col1\" class=\"data row0 col1\" >Есенин С.А.</td>\n",
       "            </tr>\n",
       "            <tr>\n",
       "                                <td id=\"T_9937a5fe_11f5_11eb_9c22_0242ac150003row1_col0\" class=\"data row1 col0\" >Черный человек</td>\n",
       "                        <td id=\"T_9937a5fe_11f5_11eb_9c22_0242ac150003row1_col1\" class=\"data row1 col1\" >Есенин С.А.</td>\n",
       "            </tr>\n",
       "    </tbody></table>"
      ],
      "text/plain": [
       "<pandas.io.formats.style.Styler at 0x7fa9cfbe6d90>"
      ]
     },
     "execution_count": 25,
     "metadata": {},
     "output_type": "execute_result"
    }
   ],
   "source": [
    "query = '''\n",
    "        SELECT title, author\n",
    "        FROM book\n",
    "        WHERE title LIKE '% %' AND author LIKE '%С.%';\n",
    "        '''\n",
    "\n",
    "select_data(query).style.hide_index()"
   ]
  },
  {
   "cell_type": "code",
   "execution_count": 26,
   "metadata": {},
   "outputs": [
    {
     "data": {
      "text/html": [
       "<style  type=\"text/css\" >\n",
       "</style><table id=\"T_9939c820_11f5_11eb_9c22_0242ac150003\" ><thead>    <tr>        <th class=\"col_heading level0 col0\" >author</th>        <th class=\"col_heading level0 col1\" >title</th>    </tr></thead><tbody>\n",
       "                <tr>\n",
       "                                <td id=\"T_9939c820_11f5_11eb_9c22_0242ac150003row0_col0\" class=\"data row0 col0\" >Пастернак Б.Л.</td>\n",
       "                        <td id=\"T_9939c820_11f5_11eb_9c22_0242ac150003row0_col1\" class=\"data row0 col1\" >Лирика</td>\n",
       "            </tr>\n",
       "            <tr>\n",
       "                                <td id=\"T_9939c820_11f5_11eb_9c22_0242ac150003row1_col0\" class=\"data row1 col0\" >Есенин С.А.</td>\n",
       "                        <td id=\"T_9939c820_11f5_11eb_9c22_0242ac150003row1_col1\" class=\"data row1 col1\" >Черный человек</td>\n",
       "            </tr>\n",
       "            <tr>\n",
       "                                <td id=\"T_9939c820_11f5_11eb_9c22_0242ac150003row2_col0\" class=\"data row2 col0\" >Достоевский Ф.М.</td>\n",
       "                        <td id=\"T_9939c820_11f5_11eb_9c22_0242ac150003row2_col1\" class=\"data row2 col1\" >Братья Карамазовы</td>\n",
       "            </tr>\n",
       "            <tr>\n",
       "                                <td id=\"T_9939c820_11f5_11eb_9c22_0242ac150003row3_col0\" class=\"data row3 col0\" >Достоевский Ф.М.</td>\n",
       "                        <td id=\"T_9939c820_11f5_11eb_9c22_0242ac150003row3_col1\" class=\"data row3 col1\" >Игрок</td>\n",
       "            </tr>\n",
       "            <tr>\n",
       "                                <td id=\"T_9939c820_11f5_11eb_9c22_0242ac150003row4_col0\" class=\"data row4 col0\" >Достоевский Ф.М.</td>\n",
       "                        <td id=\"T_9939c820_11f5_11eb_9c22_0242ac150003row4_col1\" class=\"data row4 col1\" >Идиот</td>\n",
       "            </tr>\n",
       "            <tr>\n",
       "                                <td id=\"T_9939c820_11f5_11eb_9c22_0242ac150003row5_col0\" class=\"data row5 col0\" >Булгаков М.А.</td>\n",
       "                        <td id=\"T_9939c820_11f5_11eb_9c22_0242ac150003row5_col1\" class=\"data row5 col1\" >Белая гвардия</td>\n",
       "            </tr>\n",
       "            <tr>\n",
       "                                <td id=\"T_9939c820_11f5_11eb_9c22_0242ac150003row6_col0\" class=\"data row6 col0\" >Булгаков М.А.</td>\n",
       "                        <td id=\"T_9939c820_11f5_11eb_9c22_0242ac150003row6_col1\" class=\"data row6 col1\" >Мастер и Маргарита</td>\n",
       "            </tr>\n",
       "    </tbody></table>"
      ],
      "text/plain": [
       "<pandas.io.formats.style.Styler at 0x7fa9cfc2bc70>"
      ]
     },
     "execution_count": 26,
     "metadata": {},
     "output_type": "execute_result"
    }
   ],
   "source": [
    "query = '''\n",
    "        SELECT author, title\n",
    "        FROM book\n",
    "        WHERE amount BETWEEN 2 AND 14 \n",
    "        ORDER BY author DESC, title ASC;\n",
    "        '''\n",
    "\n",
    "select_data(query).style.hide_index()"
   ]
  },
  {
   "cell_type": "markdown",
   "metadata": {},
   "source": [
    "## Групповые операции"
   ]
  },
  {
   "cell_type": "code",
   "execution_count": 27,
   "metadata": {},
   "outputs": [
    {
     "data": {
      "text/html": [
       "<style  type=\"text/css\" >\n",
       "</style><table id=\"T_993b8764_11f5_11eb_9c22_0242ac150003\" ><thead>    <tr>        <th class=\"col_heading level0 col0\" >amount</th>    </tr></thead><tbody>\n",
       "                <tr>\n",
       "                                <td id=\"T_993b8764_11f5_11eb_9c22_0242ac150003row0_col0\" class=\"data row0 col0\" >3</td>\n",
       "            </tr>\n",
       "            <tr>\n",
       "                                <td id=\"T_993b8764_11f5_11eb_9c22_0242ac150003row1_col0\" class=\"data row1 col0\" >12</td>\n",
       "            </tr>\n",
       "            <tr>\n",
       "                                <td id=\"T_993b8764_11f5_11eb_9c22_0242ac150003row2_col0\" class=\"data row2 col0\" >13</td>\n",
       "            </tr>\n",
       "            <tr>\n",
       "                                <td id=\"T_993b8764_11f5_11eb_9c22_0242ac150003row3_col0\" class=\"data row3 col0\" >2</td>\n",
       "            </tr>\n",
       "            <tr>\n",
       "                                <td id=\"T_993b8764_11f5_11eb_9c22_0242ac150003row4_col0\" class=\"data row4 col0\" >10</td>\n",
       "            </tr>\n",
       "            <tr>\n",
       "                                <td id=\"T_993b8764_11f5_11eb_9c22_0242ac150003row5_col0\" class=\"data row5 col0\" >15</td>\n",
       "            </tr>\n",
       "            <tr>\n",
       "                                <td id=\"T_993b8764_11f5_11eb_9c22_0242ac150003row6_col0\" class=\"data row6 col0\" >4</td>\n",
       "            </tr>\n",
       "    </tbody></table>"
      ],
      "text/plain": [
       "<pandas.io.formats.style.Styler at 0x7faa1591fc10>"
      ]
     },
     "execution_count": 27,
     "metadata": {},
     "output_type": "execute_result"
    }
   ],
   "source": [
    "query = '''\n",
    "        SELECT DISTINCT amount\n",
    "        FROM book;\n",
    "        '''\n",
    "\n",
    "select_data(query).style.hide_index()"
   ]
  },
  {
   "cell_type": "code",
   "execution_count": 28,
   "metadata": {},
   "outputs": [
    {
     "data": {
      "text/html": [
       "<style  type=\"text/css\" >\n",
       "</style><table id=\"T_993d04fe_11f5_11eb_9c22_0242ac150003\" ><thead>    <tr>        <th class=\"col_heading level0 col0\" >Автор</th>        <th class=\"col_heading level0 col1\" >Различных_книг</th>        <th class=\"col_heading level0 col2\" >Количество_экземпляров</th>    </tr></thead><tbody>\n",
       "                <tr>\n",
       "                                <td id=\"T_993d04fe_11f5_11eb_9c22_0242ac150003row0_col0\" class=\"data row0 col0\" >Булгаков М.А.</td>\n",
       "                        <td id=\"T_993d04fe_11f5_11eb_9c22_0242ac150003row0_col1\" class=\"data row0 col1\" >2</td>\n",
       "                        <td id=\"T_993d04fe_11f5_11eb_9c22_0242ac150003row0_col2\" class=\"data row0 col2\" >15.000000</td>\n",
       "            </tr>\n",
       "            <tr>\n",
       "                                <td id=\"T_993d04fe_11f5_11eb_9c22_0242ac150003row1_col0\" class=\"data row1 col0\" >Достоевский Ф.М.</td>\n",
       "                        <td id=\"T_993d04fe_11f5_11eb_9c22_0242ac150003row1_col1\" class=\"data row1 col1\" >3</td>\n",
       "                        <td id=\"T_993d04fe_11f5_11eb_9c22_0242ac150003row1_col2\" class=\"data row1 col2\" >25.000000</td>\n",
       "            </tr>\n",
       "            <tr>\n",
       "                                <td id=\"T_993d04fe_11f5_11eb_9c22_0242ac150003row2_col0\" class=\"data row2 col0\" >Есенин С.А.</td>\n",
       "                        <td id=\"T_993d04fe_11f5_11eb_9c22_0242ac150003row2_col1\" class=\"data row2 col1\" >2</td>\n",
       "                        <td id=\"T_993d04fe_11f5_11eb_9c22_0242ac150003row2_col2\" class=\"data row2 col2\" >27.000000</td>\n",
       "            </tr>\n",
       "            <tr>\n",
       "                                <td id=\"T_993d04fe_11f5_11eb_9c22_0242ac150003row3_col0\" class=\"data row3 col0\" >Пастернак Б.Л.</td>\n",
       "                        <td id=\"T_993d04fe_11f5_11eb_9c22_0242ac150003row3_col1\" class=\"data row3 col1\" >1</td>\n",
       "                        <td id=\"T_993d04fe_11f5_11eb_9c22_0242ac150003row3_col2\" class=\"data row3 col2\" >4.000000</td>\n",
       "            </tr>\n",
       "    </tbody></table>"
      ],
      "text/plain": [
       "<pandas.io.formats.style.Styler at 0x7fa9cfc366a0>"
      ]
     },
     "execution_count": 28,
     "metadata": {},
     "output_type": "execute_result"
    }
   ],
   "source": [
    "query = '''\n",
    "        SELECT author AS 'Автор', COUNT(author) AS 'Различных_книг', SUM(amount) AS 'Количество_экземпляров'\n",
    "        FROM book\n",
    "        GROUP BY author;\n",
    "        '''\n",
    "\n",
    "select_data(query).style.hide_index()"
   ]
  },
  {
   "cell_type": "code",
   "execution_count": 29,
   "metadata": {},
   "outputs": [
    {
     "data": {
      "text/html": [
       "<style  type=\"text/css\" >\n",
       "</style><table id=\"T_993e95a8_11f5_11eb_9c22_0242ac150003\" ><thead>    <tr>        <th class=\"col_heading level0 col0\" >author</th>        <th class=\"col_heading level0 col1\" >Минимальная цена</th>        <th class=\"col_heading level0 col2\" >Максимальная цена</th>        <th class=\"col_heading level0 col3\" >Средняя цена</th>    </tr></thead><tbody>\n",
       "                <tr>\n",
       "                                <td id=\"T_993e95a8_11f5_11eb_9c22_0242ac150003row0_col0\" class=\"data row0 col0\" >Булгаков М.А.</td>\n",
       "                        <td id=\"T_993e95a8_11f5_11eb_9c22_0242ac150003row0_col1\" class=\"data row0 col1\" >513.480000</td>\n",
       "                        <td id=\"T_993e95a8_11f5_11eb_9c22_0242ac150003row0_col2\" class=\"data row0 col2\" >670.990000</td>\n",
       "                        <td id=\"T_993e95a8_11f5_11eb_9c22_0242ac150003row0_col3\" class=\"data row0 col3\" >592.235000</td>\n",
       "            </tr>\n",
       "            <tr>\n",
       "                                <td id=\"T_993e95a8_11f5_11eb_9c22_0242ac150003row1_col0\" class=\"data row1 col0\" >Достоевский Ф.М.</td>\n",
       "                        <td id=\"T_993e95a8_11f5_11eb_9c22_0242ac150003row1_col1\" class=\"data row1 col1\" >387.400000</td>\n",
       "                        <td id=\"T_993e95a8_11f5_11eb_9c22_0242ac150003row1_col2\" class=\"data row1 col2\" >799.010000</td>\n",
       "                        <td id=\"T_993e95a8_11f5_11eb_9c22_0242ac150003row1_col3\" class=\"data row1 col3\" >539.620000</td>\n",
       "            </tr>\n",
       "            <tr>\n",
       "                                <td id=\"T_993e95a8_11f5_11eb_9c22_0242ac150003row2_col0\" class=\"data row2 col0\" >Есенин С.А.</td>\n",
       "                        <td id=\"T_993e95a8_11f5_11eb_9c22_0242ac150003row2_col1\" class=\"data row2 col1\" >541.690000</td>\n",
       "                        <td id=\"T_993e95a8_11f5_11eb_9c22_0242ac150003row2_col2\" class=\"data row2 col2\" >650.000000</td>\n",
       "                        <td id=\"T_993e95a8_11f5_11eb_9c22_0242ac150003row2_col3\" class=\"data row2 col3\" >595.845000</td>\n",
       "            </tr>\n",
       "            <tr>\n",
       "                                <td id=\"T_993e95a8_11f5_11eb_9c22_0242ac150003row3_col0\" class=\"data row3 col0\" >Пастернак Б.Л.</td>\n",
       "                        <td id=\"T_993e95a8_11f5_11eb_9c22_0242ac150003row3_col1\" class=\"data row3 col1\" >518.990000</td>\n",
       "                        <td id=\"T_993e95a8_11f5_11eb_9c22_0242ac150003row3_col2\" class=\"data row3 col2\" >518.990000</td>\n",
       "                        <td id=\"T_993e95a8_11f5_11eb_9c22_0242ac150003row3_col3\" class=\"data row3 col3\" >518.990000</td>\n",
       "            </tr>\n",
       "    </tbody></table>"
      ],
      "text/plain": [
       "<pandas.io.formats.style.Styler at 0x7faa1899de20>"
      ]
     },
     "execution_count": 29,
     "metadata": {},
     "output_type": "execute_result"
    }
   ],
   "source": [
    "query = '''\n",
    "        SELECT author, MIN(price) AS 'Минимальная цена', MAX(price) AS 'Максимальная цена', AVG(price) AS 'Средняя цена'\n",
    "        FROM book\n",
    "        GROUP BY author;\n",
    "        '''\n",
    "\n",
    "select_data(query).style.hide_index()"
   ]
  },
  {
   "cell_type": "code",
   "execution_count": 30,
   "metadata": {},
   "outputs": [
    {
     "data": {
      "text/html": [
       "<style  type=\"text/css\" >\n",
       "</style><table id=\"T_99402b3e_11f5_11eb_9c22_0242ac150003\" ><thead>    <tr>        <th class=\"col_heading level0 col0\" >author</th>        <th class=\"col_heading level0 col1\" >Стоимость</th>        <th class=\"col_heading level0 col2\" >НДС</th>        <th class=\"col_heading level0 col3\" >Стоимость_без_НДС</th>    </tr></thead><tbody>\n",
       "                <tr>\n",
       "                                <td id=\"T_99402b3e_11f5_11eb_9c22_0242ac150003row0_col0\" class=\"data row0 col0\" >Булгаков М.А.</td>\n",
       "                        <td id=\"T_99402b3e_11f5_11eb_9c22_0242ac150003row0_col1\" class=\"data row0 col1\" >8174.730000</td>\n",
       "                        <td id=\"T_99402b3e_11f5_11eb_9c22_0242ac150003row0_col2\" class=\"data row0 col2\" >1246.990000</td>\n",
       "                        <td id=\"T_99402b3e_11f5_11eb_9c22_0242ac150003row0_col3\" class=\"data row0 col3\" >6927.740000</td>\n",
       "            </tr>\n",
       "            <tr>\n",
       "                                <td id=\"T_99402b3e_11f5_11eb_9c22_0242ac150003row1_col0\" class=\"data row1 col0\" >Достоевский Ф.М.</td>\n",
       "                        <td id=\"T_99402b3e_11f5_11eb_9c22_0242ac150003row1_col1\" class=\"data row1 col1\" >10958.720000</td>\n",
       "                        <td id=\"T_99402b3e_11f5_11eb_9c22_0242ac150003row1_col2\" class=\"data row1 col2\" >1671.670000</td>\n",
       "                        <td id=\"T_99402b3e_11f5_11eb_9c22_0242ac150003row1_col3\" class=\"data row1 col3\" >9287.050000</td>\n",
       "            </tr>\n",
       "            <tr>\n",
       "                                <td id=\"T_99402b3e_11f5_11eb_9c22_0242ac150003row2_col0\" class=\"data row2 col0\" >Есенин С.А.</td>\n",
       "                        <td id=\"T_99402b3e_11f5_11eb_9c22_0242ac150003row2_col1\" class=\"data row2 col1\" >16250.280000</td>\n",
       "                        <td id=\"T_99402b3e_11f5_11eb_9c22_0242ac150003row2_col2\" class=\"data row2 col2\" >2478.860000</td>\n",
       "                        <td id=\"T_99402b3e_11f5_11eb_9c22_0242ac150003row2_col3\" class=\"data row2 col3\" >13771.420000</td>\n",
       "            </tr>\n",
       "            <tr>\n",
       "                                <td id=\"T_99402b3e_11f5_11eb_9c22_0242ac150003row3_col0\" class=\"data row3 col0\" >Пастернак Б.Л.</td>\n",
       "                        <td id=\"T_99402b3e_11f5_11eb_9c22_0242ac150003row3_col1\" class=\"data row3 col1\" >2075.960000</td>\n",
       "                        <td id=\"T_99402b3e_11f5_11eb_9c22_0242ac150003row3_col2\" class=\"data row3 col2\" >316.670000</td>\n",
       "                        <td id=\"T_99402b3e_11f5_11eb_9c22_0242ac150003row3_col3\" class=\"data row3 col3\" >1759.290000</td>\n",
       "            </tr>\n",
       "    </tbody></table>"
      ],
      "text/plain": [
       "<pandas.io.formats.style.Styler at 0x7faa15917e20>"
      ]
     },
     "execution_count": 30,
     "metadata": {},
     "output_type": "execute_result"
    }
   ],
   "source": [
    "query = '''\n",
    "        SELECT author, round(SUM(price*amount), 2) AS 'Стоимость', round(SUM(price*amount) * 0.18 / (1 + 0.18), 2) AS 'НДС',\n",
    "               round(SUM(price*amount) / (1 + 0.18), 2) AS 'Стоимость_без_НДС'\n",
    "        FROM book\n",
    "        GROUP BY author;\n",
    "        '''\n",
    "\n",
    "select_data(query).style.hide_index()"
   ]
  },
  {
   "cell_type": "code",
   "execution_count": 31,
   "metadata": {},
   "outputs": [
    {
     "data": {
      "text/html": [
       "<style  type=\"text/css\" >\n",
       "</style><table id=\"T_9941a482_11f5_11eb_9c22_0242ac150003\" ><thead>    <tr>        <th class=\"col_heading level0 col0\" >Минимальная_цена</th>        <th class=\"col_heading level0 col1\" >Максимальная_цена</th>        <th class=\"col_heading level0 col2\" >Средняя_цена</th>    </tr></thead><tbody>\n",
       "                <tr>\n",
       "                                <td id=\"T_9941a482_11f5_11eb_9c22_0242ac150003row0_col0\" class=\"data row0 col0\" >387.400000</td>\n",
       "                        <td id=\"T_9941a482_11f5_11eb_9c22_0242ac150003row0_col1\" class=\"data row0 col1\" >799.010000</td>\n",
       "                        <td id=\"T_9941a482_11f5_11eb_9c22_0242ac150003row0_col2\" class=\"data row0 col2\" >564.250000</td>\n",
       "            </tr>\n",
       "    </tbody></table>"
      ],
      "text/plain": [
       "<pandas.io.formats.style.Styler at 0x7faa18977b20>"
      ]
     },
     "execution_count": 31,
     "metadata": {},
     "output_type": "execute_result"
    }
   ],
   "source": [
    "query = '''\n",
    "        SELECT MIN(price) AS 'Минимальная_цена', MAX(price) AS 'Максимальная_цена', ROUND(AVG(price), 2) AS 'Средняя_цена'\n",
    "        FROM book;\n",
    "        '''\n",
    "\n",
    "select_data(query).style.hide_index()"
   ]
  },
  {
   "cell_type": "code",
   "execution_count": 32,
   "metadata": {},
   "outputs": [
    {
     "data": {
      "text/html": [
       "<style  type=\"text/css\" >\n",
       "</style><table id=\"T_9942f04e_11f5_11eb_9c22_0242ac150003\" ><thead>    <tr>        <th class=\"col_heading level0 col0\" >Средняя_цена</th>        <th class=\"col_heading level0 col1\" >Стоимость</th>    </tr></thead><tbody>\n",
       "                <tr>\n",
       "                                <td id=\"T_9942f04e_11f5_11eb_9c22_0242ac150003row0_col0\" class=\"data row0 col0\" >468.760000</td>\n",
       "                        <td id=\"T_9942f04e_11f5_11eb_9c22_0242ac150003row0_col1\" class=\"data row0 col1\" >22022.740000</td>\n",
       "            </tr>\n",
       "    </tbody></table>"
      ],
      "text/plain": [
       "<pandas.io.formats.style.Styler at 0x7fa9cfbecfa0>"
      ]
     },
     "execution_count": 32,
     "metadata": {},
     "output_type": "execute_result"
    }
   ],
   "source": [
    "query = '''\n",
    "        SELECT ROUND(AVG(price), 2) AS 'Средняя_цена', ROUND(SUM(price*amount), 2) AS 'Стоимость'\n",
    "        FROM book\n",
    "        WHERE amount BETWEEN 5 and 14;\n",
    "        '''\n",
    "\n",
    "select_data(query).style.hide_index()"
   ]
  },
  {
   "cell_type": "code",
   "execution_count": 33,
   "metadata": {},
   "outputs": [
    {
     "data": {
      "text/html": [
       "<style  type=\"text/css\" >\n",
       "</style><table id=\"T_9944784c_11f5_11eb_9c22_0242ac150003\" ><thead>    <tr>        <th class=\"col_heading level0 col0\" >author</th>        <th class=\"col_heading level0 col1\" >Стоимость</th>    </tr></thead><tbody>\n",
       "                <tr>\n",
       "                                <td id=\"T_9944784c_11f5_11eb_9c22_0242ac150003row0_col0\" class=\"data row0 col0\" >Есенин С.А.</td>\n",
       "                        <td id=\"T_9944784c_11f5_11eb_9c22_0242ac150003row0_col1\" class=\"data row0 col1\" >16250.280000</td>\n",
       "            </tr>\n",
       "            <tr>\n",
       "                                <td id=\"T_9944784c_11f5_11eb_9c22_0242ac150003row1_col0\" class=\"data row1 col0\" >Достоевский Ф.М.</td>\n",
       "                        <td id=\"T_9944784c_11f5_11eb_9c22_0242ac150003row1_col1\" class=\"data row1 col1\" >5922.520000</td>\n",
       "            </tr>\n",
       "    </tbody></table>"
      ],
      "text/plain": [
       "<pandas.io.formats.style.Styler at 0x7fa9cfc31d00>"
      ]
     },
     "execution_count": 33,
     "metadata": {},
     "output_type": "execute_result"
    }
   ],
   "source": [
    "query = '''\n",
    "        SELECT author, SUM(price*amount) AS 'Стоимость'\n",
    "        FROM book\n",
    "        WHERE title <> 'Идиот' and title <> 'Белая гвардия'\n",
    "        GROUP BY author\n",
    "        HAVING Стоимость > 5000\n",
    "        ORDER BY Стоимость DESC;\n",
    "        '''\n",
    "\n",
    "select_data(query).style.hide_index()"
   ]
  },
  {
   "cell_type": "markdown",
   "metadata": {},
   "source": [
    "## Вложенные запросы"
   ]
  },
  {
   "cell_type": "code",
   "execution_count": 34,
   "metadata": {},
   "outputs": [
    {
     "data": {
      "text/html": [
       "<style  type=\"text/css\" >\n",
       "</style><table id=\"T_99460db0_11f5_11eb_9c22_0242ac150003\" ><thead>    <tr>        <th class=\"col_heading level0 col0\" >author</th>        <th class=\"col_heading level0 col1\" >title</th>        <th class=\"col_heading level0 col2\" >price</th>    </tr></thead><tbody>\n",
       "                <tr>\n",
       "                                <td id=\"T_99460db0_11f5_11eb_9c22_0242ac150003row0_col0\" class=\"data row0 col0\" >Есенин С.А.</td>\n",
       "                        <td id=\"T_99460db0_11f5_11eb_9c22_0242ac150003row0_col1\" class=\"data row0 col1\" >Черный человек</td>\n",
       "                        <td id=\"T_99460db0_11f5_11eb_9c22_0242ac150003row0_col2\" class=\"data row0 col2\" >541.690000</td>\n",
       "            </tr>\n",
       "            <tr>\n",
       "                                <td id=\"T_99460db0_11f5_11eb_9c22_0242ac150003row1_col0\" class=\"data row1 col0\" >Пастернак Б.Л.</td>\n",
       "                        <td id=\"T_99460db0_11f5_11eb_9c22_0242ac150003row1_col1\" class=\"data row1 col1\" >Лирика</td>\n",
       "                        <td id=\"T_99460db0_11f5_11eb_9c22_0242ac150003row1_col2\" class=\"data row1 col2\" >518.990000</td>\n",
       "            </tr>\n",
       "            <tr>\n",
       "                                <td id=\"T_99460db0_11f5_11eb_9c22_0242ac150003row2_col0\" class=\"data row2 col0\" >Булгаков М.А.</td>\n",
       "                        <td id=\"T_99460db0_11f5_11eb_9c22_0242ac150003row2_col1\" class=\"data row2 col1\" >Белая гвардия</td>\n",
       "                        <td id=\"T_99460db0_11f5_11eb_9c22_0242ac150003row2_col2\" class=\"data row2 col2\" >513.480000</td>\n",
       "            </tr>\n",
       "            <tr>\n",
       "                                <td id=\"T_99460db0_11f5_11eb_9c22_0242ac150003row3_col0\" class=\"data row3 col0\" >Достоевский Ф.М.</td>\n",
       "                        <td id=\"T_99460db0_11f5_11eb_9c22_0242ac150003row3_col1\" class=\"data row3 col1\" >Игрок</td>\n",
       "                        <td id=\"T_99460db0_11f5_11eb_9c22_0242ac150003row3_col2\" class=\"data row3 col2\" >432.450000</td>\n",
       "            </tr>\n",
       "            <tr>\n",
       "                                <td id=\"T_99460db0_11f5_11eb_9c22_0242ac150003row4_col0\" class=\"data row4 col0\" >Достоевский Ф.М.</td>\n",
       "                        <td id=\"T_99460db0_11f5_11eb_9c22_0242ac150003row4_col1\" class=\"data row4 col1\" >Идиот</td>\n",
       "                        <td id=\"T_99460db0_11f5_11eb_9c22_0242ac150003row4_col2\" class=\"data row4 col2\" >387.400000</td>\n",
       "            </tr>\n",
       "    </tbody></table>"
      ],
      "text/plain": [
       "<pandas.io.formats.style.Styler at 0x7fa9cfbec880>"
      ]
     },
     "execution_count": 34,
     "metadata": {},
     "output_type": "execute_result"
    }
   ],
   "source": [
    "query = '''\n",
    "        SELECT author, title, price\n",
    "        FROM book\n",
    "        WHERE price <= (SELECT AVG(price) FROM book)\n",
    "        ORDER BY price DESC;\n",
    "        '''\n",
    "\n",
    "select_data(query).style.hide_index()"
   ]
  },
  {
   "cell_type": "code",
   "execution_count": 35,
   "metadata": {},
   "outputs": [
    {
     "data": {
      "text/html": [
       "<style  type=\"text/css\" >\n",
       "</style><table id=\"T_9947931a_11f5_11eb_9c22_0242ac150003\" ><thead>    <tr>        <th class=\"col_heading level0 col0\" >author</th>        <th class=\"col_heading level0 col1\" >title</th>        <th class=\"col_heading level0 col2\" >price</th>    </tr></thead><tbody>\n",
       "                <tr>\n",
       "                                <td id=\"T_9947931a_11f5_11eb_9c22_0242ac150003row0_col0\" class=\"data row0 col0\" >Достоевский Ф.М.</td>\n",
       "                        <td id=\"T_9947931a_11f5_11eb_9c22_0242ac150003row0_col1\" class=\"data row0 col1\" >Идиот</td>\n",
       "                        <td id=\"T_9947931a_11f5_11eb_9c22_0242ac150003row0_col2\" class=\"data row0 col2\" >387.400000</td>\n",
       "            </tr>\n",
       "            <tr>\n",
       "                                <td id=\"T_9947931a_11f5_11eb_9c22_0242ac150003row1_col0\" class=\"data row1 col0\" >Достоевский Ф.М.</td>\n",
       "                        <td id=\"T_9947931a_11f5_11eb_9c22_0242ac150003row1_col1\" class=\"data row1 col1\" >Игрок</td>\n",
       "                        <td id=\"T_9947931a_11f5_11eb_9c22_0242ac150003row1_col2\" class=\"data row1 col2\" >432.450000</td>\n",
       "            </tr>\n",
       "            <tr>\n",
       "                                <td id=\"T_9947931a_11f5_11eb_9c22_0242ac150003row2_col0\" class=\"data row2 col0\" >Булгаков М.А.</td>\n",
       "                        <td id=\"T_9947931a_11f5_11eb_9c22_0242ac150003row2_col1\" class=\"data row2 col1\" >Белая гвардия</td>\n",
       "                        <td id=\"T_9947931a_11f5_11eb_9c22_0242ac150003row2_col2\" class=\"data row2 col2\" >513.480000</td>\n",
       "            </tr>\n",
       "            <tr>\n",
       "                                <td id=\"T_9947931a_11f5_11eb_9c22_0242ac150003row3_col0\" class=\"data row3 col0\" >Пастернак Б.Л.</td>\n",
       "                        <td id=\"T_9947931a_11f5_11eb_9c22_0242ac150003row3_col1\" class=\"data row3 col1\" >Лирика</td>\n",
       "                        <td id=\"T_9947931a_11f5_11eb_9c22_0242ac150003row3_col2\" class=\"data row3 col2\" >518.990000</td>\n",
       "            </tr>\n",
       "    </tbody></table>"
      ],
      "text/plain": [
       "<pandas.io.formats.style.Styler at 0x7fa9cfb8dd60>"
      ]
     },
     "execution_count": 35,
     "metadata": {},
     "output_type": "execute_result"
    }
   ],
   "source": [
    "query = '''\n",
    "        SELECT author, title, price\n",
    "        FROM book\n",
    "        WHERE price - (SELECT MIN(price) FROM book) <= 150\n",
    "        ORDER BY price;\n",
    "        '''\n",
    "\n",
    "select_data(query).style.hide_index()"
   ]
  },
  {
   "cell_type": "code",
   "execution_count": 36,
   "metadata": {},
   "outputs": [
    {
     "data": {
      "text/html": [
       "<style  type=\"text/css\" >\n",
       "</style><table id=\"T_99493580_11f5_11eb_9c22_0242ac150003\" ><thead>    <tr>        <th class=\"col_heading level0 col0\" >author</th>        <th class=\"col_heading level0 col1\" >title</th>        <th class=\"col_heading level0 col2\" >amount</th>    </tr></thead><tbody>\n",
       "                <tr>\n",
       "                                <td id=\"T_99493580_11f5_11eb_9c22_0242ac150003row0_col0\" class=\"data row0 col0\" >Булгаков М.А.</td>\n",
       "                        <td id=\"T_99493580_11f5_11eb_9c22_0242ac150003row0_col1\" class=\"data row0 col1\" >Мастер и Маргарита</td>\n",
       "                        <td id=\"T_99493580_11f5_11eb_9c22_0242ac150003row0_col2\" class=\"data row0 col2\" >3</td>\n",
       "            </tr>\n",
       "            <tr>\n",
       "                                <td id=\"T_99493580_11f5_11eb_9c22_0242ac150003row1_col0\" class=\"data row1 col0\" >Достоевский Ф.М.</td>\n",
       "                        <td id=\"T_99493580_11f5_11eb_9c22_0242ac150003row1_col1\" class=\"data row1 col1\" >Идиот</td>\n",
       "                        <td id=\"T_99493580_11f5_11eb_9c22_0242ac150003row1_col2\" class=\"data row1 col2\" >13</td>\n",
       "            </tr>\n",
       "            <tr>\n",
       "                                <td id=\"T_99493580_11f5_11eb_9c22_0242ac150003row2_col0\" class=\"data row2 col0\" >Достоевский Ф.М.</td>\n",
       "                        <td id=\"T_99493580_11f5_11eb_9c22_0242ac150003row2_col1\" class=\"data row2 col1\" >Братья Карамазовы</td>\n",
       "                        <td id=\"T_99493580_11f5_11eb_9c22_0242ac150003row2_col2\" class=\"data row2 col2\" >2</td>\n",
       "            </tr>\n",
       "            <tr>\n",
       "                                <td id=\"T_99493580_11f5_11eb_9c22_0242ac150003row3_col0\" class=\"data row3 col0\" >Достоевский Ф.М.</td>\n",
       "                        <td id=\"T_99493580_11f5_11eb_9c22_0242ac150003row3_col1\" class=\"data row3 col1\" >Игрок</td>\n",
       "                        <td id=\"T_99493580_11f5_11eb_9c22_0242ac150003row3_col2\" class=\"data row3 col2\" >10</td>\n",
       "            </tr>\n",
       "            <tr>\n",
       "                                <td id=\"T_99493580_11f5_11eb_9c22_0242ac150003row4_col0\" class=\"data row4 col0\" >Есенин С.А.</td>\n",
       "                        <td id=\"T_99493580_11f5_11eb_9c22_0242ac150003row4_col1\" class=\"data row4 col1\" >Стихотворения и поэмы</td>\n",
       "                        <td id=\"T_99493580_11f5_11eb_9c22_0242ac150003row4_col2\" class=\"data row4 col2\" >15</td>\n",
       "            </tr>\n",
       "            <tr>\n",
       "                                <td id=\"T_99493580_11f5_11eb_9c22_0242ac150003row5_col0\" class=\"data row5 col0\" >Пастернак Б.Л.</td>\n",
       "                        <td id=\"T_99493580_11f5_11eb_9c22_0242ac150003row5_col1\" class=\"data row5 col1\" >Лирика</td>\n",
       "                        <td id=\"T_99493580_11f5_11eb_9c22_0242ac150003row5_col2\" class=\"data row5 col2\" >4</td>\n",
       "            </tr>\n",
       "    </tbody></table>"
      ],
      "text/plain": [
       "<pandas.io.formats.style.Styler at 0x7fa9cfb8da90>"
      ]
     },
     "execution_count": 36,
     "metadata": {},
     "output_type": "execute_result"
    }
   ],
   "source": [
    "query = '''\n",
    "        SELECT author, title, amount\n",
    "        FROM book\n",
    "        WHERE amount IN (SELECT amount FROM book GROUP BY amount HAVING COUNT(amount) = 1);\n",
    "        '''\n",
    "\n",
    "select_data(query).style.hide_index()"
   ]
  },
  {
   "cell_type": "code",
   "execution_count": 37,
   "metadata": {},
   "outputs": [
    {
     "data": {
      "text/html": [
       "<style  type=\"text/css\" >\n",
       "</style><table id=\"T_994ab2d4_11f5_11eb_9c22_0242ac150003\" ><thead>    <tr>        <th class=\"col_heading level0 col0\" >author</th>        <th class=\"col_heading level0 col1\" >title</th>        <th class=\"col_heading level0 col2\" >price</th>    </tr></thead><tbody>\n",
       "                <tr>\n",
       "                                <td id=\"T_994ab2d4_11f5_11eb_9c22_0242ac150003row0_col0\" class=\"data row0 col0\" >Булгаков М.А.</td>\n",
       "                        <td id=\"T_994ab2d4_11f5_11eb_9c22_0242ac150003row0_col1\" class=\"data row0 col1\" >Мастер и Маргарита</td>\n",
       "                        <td id=\"T_994ab2d4_11f5_11eb_9c22_0242ac150003row0_col2\" class=\"data row0 col2\" >670.990000</td>\n",
       "            </tr>\n",
       "            <tr>\n",
       "                                <td id=\"T_994ab2d4_11f5_11eb_9c22_0242ac150003row1_col0\" class=\"data row1 col0\" >Булгаков М.А.</td>\n",
       "                        <td id=\"T_994ab2d4_11f5_11eb_9c22_0242ac150003row1_col1\" class=\"data row1 col1\" >Белая гвардия</td>\n",
       "                        <td id=\"T_994ab2d4_11f5_11eb_9c22_0242ac150003row1_col2\" class=\"data row1 col2\" >513.480000</td>\n",
       "            </tr>\n",
       "            <tr>\n",
       "                                <td id=\"T_994ab2d4_11f5_11eb_9c22_0242ac150003row2_col0\" class=\"data row2 col0\" >Есенин С.А.</td>\n",
       "                        <td id=\"T_994ab2d4_11f5_11eb_9c22_0242ac150003row2_col1\" class=\"data row2 col1\" >Стихотворения и поэмы</td>\n",
       "                        <td id=\"T_994ab2d4_11f5_11eb_9c22_0242ac150003row2_col2\" class=\"data row2 col2\" >650.000000</td>\n",
       "            </tr>\n",
       "            <tr>\n",
       "                                <td id=\"T_994ab2d4_11f5_11eb_9c22_0242ac150003row3_col0\" class=\"data row3 col0\" >Есенин С.А.</td>\n",
       "                        <td id=\"T_994ab2d4_11f5_11eb_9c22_0242ac150003row3_col1\" class=\"data row3 col1\" >Черный человек</td>\n",
       "                        <td id=\"T_994ab2d4_11f5_11eb_9c22_0242ac150003row3_col2\" class=\"data row3 col2\" >541.690000</td>\n",
       "            </tr>\n",
       "    </tbody></table>"
      ],
      "text/plain": [
       "<pandas.io.formats.style.Styler at 0x7fa9cfb8d8b0>"
      ]
     },
     "execution_count": 37,
     "metadata": {},
     "output_type": "execute_result"
    }
   ],
   "source": [
    "query = '''\n",
    "        SELECT author, title, price\n",
    "        FROM book\n",
    "        WHERE author = ANY (SELECT author FROM book GROUP BY author HAVING AVG(price) > (SELECT AVG(price) FROM book));\n",
    "        '''\n",
    "\n",
    "select_data(query).style.hide_index()"
   ]
  },
  {
   "cell_type": "code",
   "execution_count": 38,
   "metadata": {},
   "outputs": [
    {
     "data": {
      "text/html": [
       "<style  type=\"text/css\" >\n",
       "</style><table id=\"T_994c2ca4_11f5_11eb_9c22_0242ac150003\" ><thead>    <tr>        <th class=\"col_heading level0 col0\" >title</th>        <th class=\"col_heading level0 col1\" >author</th>        <th class=\"col_heading level0 col2\" >amount</th>        <th class=\"col_heading level0 col3\" >Заказ</th>    </tr></thead><tbody>\n",
       "                <tr>\n",
       "                                <td id=\"T_994c2ca4_11f5_11eb_9c22_0242ac150003row0_col0\" class=\"data row0 col0\" >Мастер и Маргарита</td>\n",
       "                        <td id=\"T_994c2ca4_11f5_11eb_9c22_0242ac150003row0_col1\" class=\"data row0 col1\" >Булгаков М.А.</td>\n",
       "                        <td id=\"T_994c2ca4_11f5_11eb_9c22_0242ac150003row0_col2\" class=\"data row0 col2\" >3</td>\n",
       "                        <td id=\"T_994c2ca4_11f5_11eb_9c22_0242ac150003row0_col3\" class=\"data row0 col3\" >12</td>\n",
       "            </tr>\n",
       "            <tr>\n",
       "                                <td id=\"T_994c2ca4_11f5_11eb_9c22_0242ac150003row1_col0\" class=\"data row1 col0\" >Белая гвардия</td>\n",
       "                        <td id=\"T_994c2ca4_11f5_11eb_9c22_0242ac150003row1_col1\" class=\"data row1 col1\" >Булгаков М.А.</td>\n",
       "                        <td id=\"T_994c2ca4_11f5_11eb_9c22_0242ac150003row1_col2\" class=\"data row1 col2\" >12</td>\n",
       "                        <td id=\"T_994c2ca4_11f5_11eb_9c22_0242ac150003row1_col3\" class=\"data row1 col3\" >3</td>\n",
       "            </tr>\n",
       "            <tr>\n",
       "                                <td id=\"T_994c2ca4_11f5_11eb_9c22_0242ac150003row2_col0\" class=\"data row2 col0\" >Идиот</td>\n",
       "                        <td id=\"T_994c2ca4_11f5_11eb_9c22_0242ac150003row2_col1\" class=\"data row2 col1\" >Достоевский Ф.М.</td>\n",
       "                        <td id=\"T_994c2ca4_11f5_11eb_9c22_0242ac150003row2_col2\" class=\"data row2 col2\" >13</td>\n",
       "                        <td id=\"T_994c2ca4_11f5_11eb_9c22_0242ac150003row2_col3\" class=\"data row2 col3\" >2</td>\n",
       "            </tr>\n",
       "            <tr>\n",
       "                                <td id=\"T_994c2ca4_11f5_11eb_9c22_0242ac150003row3_col0\" class=\"data row3 col0\" >Братья Карамазовы</td>\n",
       "                        <td id=\"T_994c2ca4_11f5_11eb_9c22_0242ac150003row3_col1\" class=\"data row3 col1\" >Достоевский Ф.М.</td>\n",
       "                        <td id=\"T_994c2ca4_11f5_11eb_9c22_0242ac150003row3_col2\" class=\"data row3 col2\" >2</td>\n",
       "                        <td id=\"T_994c2ca4_11f5_11eb_9c22_0242ac150003row3_col3\" class=\"data row3 col3\" >13</td>\n",
       "            </tr>\n",
       "            <tr>\n",
       "                                <td id=\"T_994c2ca4_11f5_11eb_9c22_0242ac150003row4_col0\" class=\"data row4 col0\" >Игрок</td>\n",
       "                        <td id=\"T_994c2ca4_11f5_11eb_9c22_0242ac150003row4_col1\" class=\"data row4 col1\" >Достоевский Ф.М.</td>\n",
       "                        <td id=\"T_994c2ca4_11f5_11eb_9c22_0242ac150003row4_col2\" class=\"data row4 col2\" >10</td>\n",
       "                        <td id=\"T_994c2ca4_11f5_11eb_9c22_0242ac150003row4_col3\" class=\"data row4 col3\" >5</td>\n",
       "            </tr>\n",
       "            <tr>\n",
       "                                <td id=\"T_994c2ca4_11f5_11eb_9c22_0242ac150003row5_col0\" class=\"data row5 col0\" >Лирика</td>\n",
       "                        <td id=\"T_994c2ca4_11f5_11eb_9c22_0242ac150003row5_col1\" class=\"data row5 col1\" >Пастернак Б.Л.</td>\n",
       "                        <td id=\"T_994c2ca4_11f5_11eb_9c22_0242ac150003row5_col2\" class=\"data row5 col2\" >4</td>\n",
       "                        <td id=\"T_994c2ca4_11f5_11eb_9c22_0242ac150003row5_col3\" class=\"data row5 col3\" >11</td>\n",
       "            </tr>\n",
       "            <tr>\n",
       "                                <td id=\"T_994c2ca4_11f5_11eb_9c22_0242ac150003row6_col0\" class=\"data row6 col0\" >Черный человек</td>\n",
       "                        <td id=\"T_994c2ca4_11f5_11eb_9c22_0242ac150003row6_col1\" class=\"data row6 col1\" >Есенин С.А.</td>\n",
       "                        <td id=\"T_994c2ca4_11f5_11eb_9c22_0242ac150003row6_col2\" class=\"data row6 col2\" >12</td>\n",
       "                        <td id=\"T_994c2ca4_11f5_11eb_9c22_0242ac150003row6_col3\" class=\"data row6 col3\" >3</td>\n",
       "            </tr>\n",
       "    </tbody></table>"
      ],
      "text/plain": [
       "<pandas.io.formats.style.Styler at 0x7fa9cfb99df0>"
      ]
     },
     "execution_count": 38,
     "metadata": {},
     "output_type": "execute_result"
    }
   ],
   "source": [
    "query = '''\n",
    "        SELECT title, author, amount, (SELECT MAX(amount) FROM book) - amount AS 'Заказ'\n",
    "        FROM book\n",
    "        WHERE amount <> (SELECT MAX(amount) FROM book);\n",
    "        '''\n",
    "\n",
    "select_data(query).style.hide_index()"
   ]
  },
  {
   "cell_type": "code",
   "execution_count": 39,
   "metadata": {},
   "outputs": [
    {
     "data": {
      "text/html": [
       "<style  type=\"text/css\" >\n",
       "</style><table id=\"T_994e08d0_11f5_11eb_9c22_0242ac150003\" ><thead>    <tr>        <th class=\"col_heading level0 col0\" >title</th>        <th class=\"col_heading level0 col1\" >author</th>        <th class=\"col_heading level0 col2\" >amount</th>        <th class=\"col_heading level0 col3\" >Заказ</th>    </tr></thead><tbody>\n",
       "                <tr>\n",
       "                                <td id=\"T_994e08d0_11f5_11eb_9c22_0242ac150003row0_col0\" class=\"data row0 col0\" >Мастер и Маргарита</td>\n",
       "                        <td id=\"T_994e08d0_11f5_11eb_9c22_0242ac150003row0_col1\" class=\"data row0 col1\" >Булгаков М.А.</td>\n",
       "                        <td id=\"T_994e08d0_11f5_11eb_9c22_0242ac150003row0_col2\" class=\"data row0 col2\" >3</td>\n",
       "                        <td id=\"T_994e08d0_11f5_11eb_9c22_0242ac150003row0_col3\" class=\"data row0 col3\" >12</td>\n",
       "            </tr>\n",
       "            <tr>\n",
       "                                <td id=\"T_994e08d0_11f5_11eb_9c22_0242ac150003row1_col0\" class=\"data row1 col0\" >Белая гвардия</td>\n",
       "                        <td id=\"T_994e08d0_11f5_11eb_9c22_0242ac150003row1_col1\" class=\"data row1 col1\" >Булгаков М.А.</td>\n",
       "                        <td id=\"T_994e08d0_11f5_11eb_9c22_0242ac150003row1_col2\" class=\"data row1 col2\" >12</td>\n",
       "                        <td id=\"T_994e08d0_11f5_11eb_9c22_0242ac150003row1_col3\" class=\"data row1 col3\" >3</td>\n",
       "            </tr>\n",
       "            <tr>\n",
       "                                <td id=\"T_994e08d0_11f5_11eb_9c22_0242ac150003row2_col0\" class=\"data row2 col0\" >Идиот</td>\n",
       "                        <td id=\"T_994e08d0_11f5_11eb_9c22_0242ac150003row2_col1\" class=\"data row2 col1\" >Достоевский Ф.М.</td>\n",
       "                        <td id=\"T_994e08d0_11f5_11eb_9c22_0242ac150003row2_col2\" class=\"data row2 col2\" >13</td>\n",
       "                        <td id=\"T_994e08d0_11f5_11eb_9c22_0242ac150003row2_col3\" class=\"data row2 col3\" >2</td>\n",
       "            </tr>\n",
       "            <tr>\n",
       "                                <td id=\"T_994e08d0_11f5_11eb_9c22_0242ac150003row3_col0\" class=\"data row3 col0\" >Братья Карамазовы</td>\n",
       "                        <td id=\"T_994e08d0_11f5_11eb_9c22_0242ac150003row3_col1\" class=\"data row3 col1\" >Достоевский Ф.М.</td>\n",
       "                        <td id=\"T_994e08d0_11f5_11eb_9c22_0242ac150003row3_col2\" class=\"data row3 col2\" >2</td>\n",
       "                        <td id=\"T_994e08d0_11f5_11eb_9c22_0242ac150003row3_col3\" class=\"data row3 col3\" >13</td>\n",
       "            </tr>\n",
       "            <tr>\n",
       "                                <td id=\"T_994e08d0_11f5_11eb_9c22_0242ac150003row4_col0\" class=\"data row4 col0\" >Игрок</td>\n",
       "                        <td id=\"T_994e08d0_11f5_11eb_9c22_0242ac150003row4_col1\" class=\"data row4 col1\" >Достоевский Ф.М.</td>\n",
       "                        <td id=\"T_994e08d0_11f5_11eb_9c22_0242ac150003row4_col2\" class=\"data row4 col2\" >10</td>\n",
       "                        <td id=\"T_994e08d0_11f5_11eb_9c22_0242ac150003row4_col3\" class=\"data row4 col3\" >5</td>\n",
       "            </tr>\n",
       "            <tr>\n",
       "                                <td id=\"T_994e08d0_11f5_11eb_9c22_0242ac150003row5_col0\" class=\"data row5 col0\" >Лирика</td>\n",
       "                        <td id=\"T_994e08d0_11f5_11eb_9c22_0242ac150003row5_col1\" class=\"data row5 col1\" >Пастернак Б.Л.</td>\n",
       "                        <td id=\"T_994e08d0_11f5_11eb_9c22_0242ac150003row5_col2\" class=\"data row5 col2\" >4</td>\n",
       "                        <td id=\"T_994e08d0_11f5_11eb_9c22_0242ac150003row5_col3\" class=\"data row5 col3\" >11</td>\n",
       "            </tr>\n",
       "            <tr>\n",
       "                                <td id=\"T_994e08d0_11f5_11eb_9c22_0242ac150003row6_col0\" class=\"data row6 col0\" >Черный человек</td>\n",
       "                        <td id=\"T_994e08d0_11f5_11eb_9c22_0242ac150003row6_col1\" class=\"data row6 col1\" >Есенин С.А.</td>\n",
       "                        <td id=\"T_994e08d0_11f5_11eb_9c22_0242ac150003row6_col2\" class=\"data row6 col2\" >12</td>\n",
       "                        <td id=\"T_994e08d0_11f5_11eb_9c22_0242ac150003row6_col3\" class=\"data row6 col3\" >3</td>\n",
       "            </tr>\n",
       "    </tbody></table>"
      ],
      "text/plain": [
       "<pandas.io.formats.style.Styler at 0x7fa9cfb99dc0>"
      ]
     },
     "execution_count": 39,
     "metadata": {},
     "output_type": "execute_result"
    }
   ],
   "source": [
    "query = '''\n",
    "        SELECT title, author, amount, (SELECT MAX(amount) FROM book) - amount AS 'Заказ'\n",
    "        FROM book\n",
    "        WHERE amount <> (SELECT MAX(amount) FROM book);\n",
    "        '''\n",
    "\n",
    "select_data(query).style.hide_index()"
   ]
  },
  {
   "cell_type": "markdown",
   "metadata": {},
   "source": [
    "## Запросы корректировки данных"
   ]
  },
  {
   "cell_type": "code",
   "execution_count": 40,
   "metadata": {},
   "outputs": [],
   "source": [
    "# query = '''\n",
    "#         CREATE TABLE supply(supply_id INT PRIMARY KEY AUTO_INCREMENT,\n",
    "#                             title VARCHAR(50),\n",
    "#                             author VARCHAR(30),\n",
    "#                             price DECIMAL(8, 2),\n",
    "#                             amount INT);\n",
    "#         '''\n",
    "# create_table(query)"
   ]
  },
  {
   "cell_type": "code",
   "execution_count": 41,
   "metadata": {},
   "outputs": [],
   "source": [
    "# query = '''\n",
    "#         INSERT INTO supply (title, author, price, amount) VALUES ('Лирика', 'Пастернак Б.Л.', 518.99, 2),\n",
    "#                                                                  ('Черный человек', 'Есенин С.А.', 570.20, 6),\n",
    "#                                                                  ('Белая гвардия', 'Булгаков М.А.', 540.50, 7),\n",
    "#                                                                  ('Идиот', 'Достоевский Ф.М.', 360.80, 3);\n",
    "#         '''\n",
    "# insert_values(query)"
   ]
  },
  {
   "cell_type": "code",
   "execution_count": 42,
   "metadata": {},
   "outputs": [
    {
     "data": {
      "text/html": [
       "<style  type=\"text/css\" >\n",
       "</style><table id=\"T_99516ba6_11f5_11eb_9c22_0242ac150003\" ><thead>    <tr>        <th class=\"col_heading level0 col0\" >title</th>        <th class=\"col_heading level0 col1\" >author</th>        <th class=\"col_heading level0 col2\" >price</th>        <th class=\"col_heading level0 col3\" >amount</th>    </tr></thead><tbody>\n",
       "                <tr>\n",
       "                                <td id=\"T_99516ba6_11f5_11eb_9c22_0242ac150003row0_col0\" class=\"data row0 col0\" >Черный человек</td>\n",
       "                        <td id=\"T_99516ba6_11f5_11eb_9c22_0242ac150003row0_col1\" class=\"data row0 col1\" >Есенин С.А.</td>\n",
       "                        <td id=\"T_99516ba6_11f5_11eb_9c22_0242ac150003row0_col2\" class=\"data row0 col2\" >570.200000</td>\n",
       "                        <td id=\"T_99516ba6_11f5_11eb_9c22_0242ac150003row0_col3\" class=\"data row0 col3\" >6</td>\n",
       "            </tr>\n",
       "            <tr>\n",
       "                                <td id=\"T_99516ba6_11f5_11eb_9c22_0242ac150003row1_col0\" class=\"data row1 col0\" >Белая гвардия</td>\n",
       "                        <td id=\"T_99516ba6_11f5_11eb_9c22_0242ac150003row1_col1\" class=\"data row1 col1\" >Булгаков М.А.</td>\n",
       "                        <td id=\"T_99516ba6_11f5_11eb_9c22_0242ac150003row1_col2\" class=\"data row1 col2\" >540.500000</td>\n",
       "                        <td id=\"T_99516ba6_11f5_11eb_9c22_0242ac150003row1_col3\" class=\"data row1 col3\" >7</td>\n",
       "            </tr>\n",
       "            <tr>\n",
       "                                <td id=\"T_99516ba6_11f5_11eb_9c22_0242ac150003row2_col0\" class=\"data row2 col0\" >Идиот</td>\n",
       "                        <td id=\"T_99516ba6_11f5_11eb_9c22_0242ac150003row2_col1\" class=\"data row2 col1\" >Достоевский Ф.М.</td>\n",
       "                        <td id=\"T_99516ba6_11f5_11eb_9c22_0242ac150003row2_col2\" class=\"data row2 col2\" >360.800000</td>\n",
       "                        <td id=\"T_99516ba6_11f5_11eb_9c22_0242ac150003row2_col3\" class=\"data row2 col3\" >3</td>\n",
       "            </tr>\n",
       "    </tbody></table>"
      ],
      "text/plain": [
       "<pandas.io.formats.style.Styler at 0x7fa9cfbac160>"
      ]
     },
     "execution_count": 42,
     "metadata": {},
     "output_type": "execute_result"
    }
   ],
   "source": [
    "query = '''\n",
    "        SELECT title, author, price, amount\n",
    "        FROM supply\n",
    "        '''\n",
    "\n",
    "select_data(query).style.hide_index()"
   ]
  },
  {
   "cell_type": "code",
   "execution_count": 43,
   "metadata": {},
   "outputs": [],
   "source": [
    "query = '''\n",
    "        INSERT INTO book (title, author, price, amount)\n",
    "            SELECT title, author, price, amount\n",
    "            FROM supply\n",
    "            WHERE author NOT IN ('Булгаков М.А.', 'Достоевский Ф.М.');\n",
    "        '''\n",
    "\n",
    "insert_values(query)"
   ]
  },
  {
   "cell_type": "code",
   "execution_count": 44,
   "metadata": {},
   "outputs": [
    {
     "data": {
      "text/html": [
       "<style  type=\"text/css\" >\n",
       "</style><table id=\"T_99544808_11f5_11eb_9c22_0242ac150003\" ><thead>    <tr>        <th class=\"col_heading level0 col0\" >title</th>        <th class=\"col_heading level0 col1\" >author</th>        <th class=\"col_heading level0 col2\" >price</th>        <th class=\"col_heading level0 col3\" >amount</th>    </tr></thead><tbody>\n",
       "                <tr>\n",
       "                                <td id=\"T_99544808_11f5_11eb_9c22_0242ac150003row0_col0\" class=\"data row0 col0\" >Мастер и Маргарита</td>\n",
       "                        <td id=\"T_99544808_11f5_11eb_9c22_0242ac150003row0_col1\" class=\"data row0 col1\" >Булгаков М.А.</td>\n",
       "                        <td id=\"T_99544808_11f5_11eb_9c22_0242ac150003row0_col2\" class=\"data row0 col2\" >670.990000</td>\n",
       "                        <td id=\"T_99544808_11f5_11eb_9c22_0242ac150003row0_col3\" class=\"data row0 col3\" >3</td>\n",
       "            </tr>\n",
       "            <tr>\n",
       "                                <td id=\"T_99544808_11f5_11eb_9c22_0242ac150003row1_col0\" class=\"data row1 col0\" >Белая гвардия</td>\n",
       "                        <td id=\"T_99544808_11f5_11eb_9c22_0242ac150003row1_col1\" class=\"data row1 col1\" >Булгаков М.А.</td>\n",
       "                        <td id=\"T_99544808_11f5_11eb_9c22_0242ac150003row1_col2\" class=\"data row1 col2\" >513.480000</td>\n",
       "                        <td id=\"T_99544808_11f5_11eb_9c22_0242ac150003row1_col3\" class=\"data row1 col3\" >12</td>\n",
       "            </tr>\n",
       "            <tr>\n",
       "                                <td id=\"T_99544808_11f5_11eb_9c22_0242ac150003row2_col0\" class=\"data row2 col0\" >Идиот</td>\n",
       "                        <td id=\"T_99544808_11f5_11eb_9c22_0242ac150003row2_col1\" class=\"data row2 col1\" >Достоевский Ф.М.</td>\n",
       "                        <td id=\"T_99544808_11f5_11eb_9c22_0242ac150003row2_col2\" class=\"data row2 col2\" >387.400000</td>\n",
       "                        <td id=\"T_99544808_11f5_11eb_9c22_0242ac150003row2_col3\" class=\"data row2 col3\" >13</td>\n",
       "            </tr>\n",
       "            <tr>\n",
       "                                <td id=\"T_99544808_11f5_11eb_9c22_0242ac150003row3_col0\" class=\"data row3 col0\" >Братья Карамазовы</td>\n",
       "                        <td id=\"T_99544808_11f5_11eb_9c22_0242ac150003row3_col1\" class=\"data row3 col1\" >Достоевский Ф.М.</td>\n",
       "                        <td id=\"T_99544808_11f5_11eb_9c22_0242ac150003row3_col2\" class=\"data row3 col2\" >799.010000</td>\n",
       "                        <td id=\"T_99544808_11f5_11eb_9c22_0242ac150003row3_col3\" class=\"data row3 col3\" >2</td>\n",
       "            </tr>\n",
       "            <tr>\n",
       "                                <td id=\"T_99544808_11f5_11eb_9c22_0242ac150003row4_col0\" class=\"data row4 col0\" >Игрок</td>\n",
       "                        <td id=\"T_99544808_11f5_11eb_9c22_0242ac150003row4_col1\" class=\"data row4 col1\" >Достоевский Ф.М.</td>\n",
       "                        <td id=\"T_99544808_11f5_11eb_9c22_0242ac150003row4_col2\" class=\"data row4 col2\" >432.450000</td>\n",
       "                        <td id=\"T_99544808_11f5_11eb_9c22_0242ac150003row4_col3\" class=\"data row4 col3\" >10</td>\n",
       "            </tr>\n",
       "            <tr>\n",
       "                                <td id=\"T_99544808_11f5_11eb_9c22_0242ac150003row5_col0\" class=\"data row5 col0\" >Стихотворения и поэмы</td>\n",
       "                        <td id=\"T_99544808_11f5_11eb_9c22_0242ac150003row5_col1\" class=\"data row5 col1\" >Есенин С.А.</td>\n",
       "                        <td id=\"T_99544808_11f5_11eb_9c22_0242ac150003row5_col2\" class=\"data row5 col2\" >650.000000</td>\n",
       "                        <td id=\"T_99544808_11f5_11eb_9c22_0242ac150003row5_col3\" class=\"data row5 col3\" >15</td>\n",
       "            </tr>\n",
       "            <tr>\n",
       "                                <td id=\"T_99544808_11f5_11eb_9c22_0242ac150003row6_col0\" class=\"data row6 col0\" >Лирика</td>\n",
       "                        <td id=\"T_99544808_11f5_11eb_9c22_0242ac150003row6_col1\" class=\"data row6 col1\" >Пастернак Б.Л.</td>\n",
       "                        <td id=\"T_99544808_11f5_11eb_9c22_0242ac150003row6_col2\" class=\"data row6 col2\" >518.990000</td>\n",
       "                        <td id=\"T_99544808_11f5_11eb_9c22_0242ac150003row6_col3\" class=\"data row6 col3\" >4</td>\n",
       "            </tr>\n",
       "            <tr>\n",
       "                                <td id=\"T_99544808_11f5_11eb_9c22_0242ac150003row7_col0\" class=\"data row7 col0\" >Черный человек</td>\n",
       "                        <td id=\"T_99544808_11f5_11eb_9c22_0242ac150003row7_col1\" class=\"data row7 col1\" >Есенин С.А.</td>\n",
       "                        <td id=\"T_99544808_11f5_11eb_9c22_0242ac150003row7_col2\" class=\"data row7 col2\" >541.690000</td>\n",
       "                        <td id=\"T_99544808_11f5_11eb_9c22_0242ac150003row7_col3\" class=\"data row7 col3\" >12</td>\n",
       "            </tr>\n",
       "            <tr>\n",
       "                                <td id=\"T_99544808_11f5_11eb_9c22_0242ac150003row8_col0\" class=\"data row8 col0\" >Черный человек</td>\n",
       "                        <td id=\"T_99544808_11f5_11eb_9c22_0242ac150003row8_col1\" class=\"data row8 col1\" >Есенин С.А.</td>\n",
       "                        <td id=\"T_99544808_11f5_11eb_9c22_0242ac150003row8_col2\" class=\"data row8 col2\" >570.200000</td>\n",
       "                        <td id=\"T_99544808_11f5_11eb_9c22_0242ac150003row8_col3\" class=\"data row8 col3\" >6</td>\n",
       "            </tr>\n",
       "    </tbody></table>"
      ],
      "text/plain": [
       "<pandas.io.formats.style.Styler at 0x7fa9cfba2820>"
      ]
     },
     "execution_count": 44,
     "metadata": {},
     "output_type": "execute_result"
    }
   ],
   "source": [
    "query = '''\n",
    "        SELECT title, author, price, amount\n",
    "        FROM book\n",
    "        '''\n",
    "\n",
    "select_data(query).style.hide_index()"
   ]
  },
  {
   "cell_type": "code",
   "execution_count": 45,
   "metadata": {},
   "outputs": [],
   "source": [
    "query = '''\n",
    "        INSERT INTO book (title, author, price, amount)\n",
    "               SELECT title, author, price, amount\n",
    "               FROM supply\n",
    "               WHERE author NOT IN (SELECT author FROM book);\n",
    "        '''\n",
    "\n",
    "insert_values(query)"
   ]
  },
  {
   "cell_type": "code",
   "execution_count": 46,
   "metadata": {},
   "outputs": [
    {
     "data": {
      "text/html": [
       "<style  type=\"text/css\" >\n",
       "</style><table id=\"T_99570822_11f5_11eb_9c22_0242ac150003\" ><thead>    <tr>        <th class=\"col_heading level0 col0\" >title</th>        <th class=\"col_heading level0 col1\" >author</th>        <th class=\"col_heading level0 col2\" >price</th>        <th class=\"col_heading level0 col3\" >amount</th>    </tr></thead><tbody>\n",
       "                <tr>\n",
       "                                <td id=\"T_99570822_11f5_11eb_9c22_0242ac150003row0_col0\" class=\"data row0 col0\" >Мастер и Маргарита</td>\n",
       "                        <td id=\"T_99570822_11f5_11eb_9c22_0242ac150003row0_col1\" class=\"data row0 col1\" >Булгаков М.А.</td>\n",
       "                        <td id=\"T_99570822_11f5_11eb_9c22_0242ac150003row0_col2\" class=\"data row0 col2\" >670.990000</td>\n",
       "                        <td id=\"T_99570822_11f5_11eb_9c22_0242ac150003row0_col3\" class=\"data row0 col3\" >3</td>\n",
       "            </tr>\n",
       "            <tr>\n",
       "                                <td id=\"T_99570822_11f5_11eb_9c22_0242ac150003row1_col0\" class=\"data row1 col0\" >Белая гвардия</td>\n",
       "                        <td id=\"T_99570822_11f5_11eb_9c22_0242ac150003row1_col1\" class=\"data row1 col1\" >Булгаков М.А.</td>\n",
       "                        <td id=\"T_99570822_11f5_11eb_9c22_0242ac150003row1_col2\" class=\"data row1 col2\" >513.480000</td>\n",
       "                        <td id=\"T_99570822_11f5_11eb_9c22_0242ac150003row1_col3\" class=\"data row1 col3\" >12</td>\n",
       "            </tr>\n",
       "            <tr>\n",
       "                                <td id=\"T_99570822_11f5_11eb_9c22_0242ac150003row2_col0\" class=\"data row2 col0\" >Идиот</td>\n",
       "                        <td id=\"T_99570822_11f5_11eb_9c22_0242ac150003row2_col1\" class=\"data row2 col1\" >Достоевский Ф.М.</td>\n",
       "                        <td id=\"T_99570822_11f5_11eb_9c22_0242ac150003row2_col2\" class=\"data row2 col2\" >387.400000</td>\n",
       "                        <td id=\"T_99570822_11f5_11eb_9c22_0242ac150003row2_col3\" class=\"data row2 col3\" >13</td>\n",
       "            </tr>\n",
       "            <tr>\n",
       "                                <td id=\"T_99570822_11f5_11eb_9c22_0242ac150003row3_col0\" class=\"data row3 col0\" >Братья Карамазовы</td>\n",
       "                        <td id=\"T_99570822_11f5_11eb_9c22_0242ac150003row3_col1\" class=\"data row3 col1\" >Достоевский Ф.М.</td>\n",
       "                        <td id=\"T_99570822_11f5_11eb_9c22_0242ac150003row3_col2\" class=\"data row3 col2\" >799.010000</td>\n",
       "                        <td id=\"T_99570822_11f5_11eb_9c22_0242ac150003row3_col3\" class=\"data row3 col3\" >2</td>\n",
       "            </tr>\n",
       "            <tr>\n",
       "                                <td id=\"T_99570822_11f5_11eb_9c22_0242ac150003row4_col0\" class=\"data row4 col0\" >Игрок</td>\n",
       "                        <td id=\"T_99570822_11f5_11eb_9c22_0242ac150003row4_col1\" class=\"data row4 col1\" >Достоевский Ф.М.</td>\n",
       "                        <td id=\"T_99570822_11f5_11eb_9c22_0242ac150003row4_col2\" class=\"data row4 col2\" >432.450000</td>\n",
       "                        <td id=\"T_99570822_11f5_11eb_9c22_0242ac150003row4_col3\" class=\"data row4 col3\" >10</td>\n",
       "            </tr>\n",
       "            <tr>\n",
       "                                <td id=\"T_99570822_11f5_11eb_9c22_0242ac150003row5_col0\" class=\"data row5 col0\" >Стихотворения и поэмы</td>\n",
       "                        <td id=\"T_99570822_11f5_11eb_9c22_0242ac150003row5_col1\" class=\"data row5 col1\" >Есенин С.А.</td>\n",
       "                        <td id=\"T_99570822_11f5_11eb_9c22_0242ac150003row5_col2\" class=\"data row5 col2\" >650.000000</td>\n",
       "                        <td id=\"T_99570822_11f5_11eb_9c22_0242ac150003row5_col3\" class=\"data row5 col3\" >15</td>\n",
       "            </tr>\n",
       "            <tr>\n",
       "                                <td id=\"T_99570822_11f5_11eb_9c22_0242ac150003row6_col0\" class=\"data row6 col0\" >Лирика</td>\n",
       "                        <td id=\"T_99570822_11f5_11eb_9c22_0242ac150003row6_col1\" class=\"data row6 col1\" >Пастернак Б.Л.</td>\n",
       "                        <td id=\"T_99570822_11f5_11eb_9c22_0242ac150003row6_col2\" class=\"data row6 col2\" >518.990000</td>\n",
       "                        <td id=\"T_99570822_11f5_11eb_9c22_0242ac150003row6_col3\" class=\"data row6 col3\" >4</td>\n",
       "            </tr>\n",
       "            <tr>\n",
       "                                <td id=\"T_99570822_11f5_11eb_9c22_0242ac150003row7_col0\" class=\"data row7 col0\" >Черный человек</td>\n",
       "                        <td id=\"T_99570822_11f5_11eb_9c22_0242ac150003row7_col1\" class=\"data row7 col1\" >Есенин С.А.</td>\n",
       "                        <td id=\"T_99570822_11f5_11eb_9c22_0242ac150003row7_col2\" class=\"data row7 col2\" >541.690000</td>\n",
       "                        <td id=\"T_99570822_11f5_11eb_9c22_0242ac150003row7_col3\" class=\"data row7 col3\" >12</td>\n",
       "            </tr>\n",
       "            <tr>\n",
       "                                <td id=\"T_99570822_11f5_11eb_9c22_0242ac150003row8_col0\" class=\"data row8 col0\" >Черный человек</td>\n",
       "                        <td id=\"T_99570822_11f5_11eb_9c22_0242ac150003row8_col1\" class=\"data row8 col1\" >Есенин С.А.</td>\n",
       "                        <td id=\"T_99570822_11f5_11eb_9c22_0242ac150003row8_col2\" class=\"data row8 col2\" >570.200000</td>\n",
       "                        <td id=\"T_99570822_11f5_11eb_9c22_0242ac150003row8_col3\" class=\"data row8 col3\" >6</td>\n",
       "            </tr>\n",
       "    </tbody></table>"
      ],
      "text/plain": [
       "<pandas.io.formats.style.Styler at 0x7fa9cfbaca90>"
      ]
     },
     "execution_count": 46,
     "metadata": {},
     "output_type": "execute_result"
    }
   ],
   "source": [
    "query = '''\n",
    "        SELECT title, author, price, amount\n",
    "        FROM book\n",
    "        '''\n",
    "\n",
    "select_data(query).style.hide_index()"
   ]
  },
  {
   "cell_type": "code",
   "execution_count": 47,
   "metadata": {},
   "outputs": [],
   "source": [
    "query = '''\n",
    "        UPDATE book SET price = 0.9 * price\n",
    "                    WHERE amount BETWEEN 5 and 10;\n",
    "        '''\n",
    "\n",
    "insert_values(query)"
   ]
  },
  {
   "cell_type": "code",
   "execution_count": 48,
   "metadata": {},
   "outputs": [
    {
     "data": {
      "text/html": [
       "<style  type=\"text/css\" >\n",
       "</style><table id=\"T_995a5144_11f5_11eb_9c22_0242ac150003\" ><thead>    <tr>        <th class=\"col_heading level0 col0\" >title</th>        <th class=\"col_heading level0 col1\" >author</th>        <th class=\"col_heading level0 col2\" >price</th>        <th class=\"col_heading level0 col3\" >amount</th>    </tr></thead><tbody>\n",
       "                <tr>\n",
       "                                <td id=\"T_995a5144_11f5_11eb_9c22_0242ac150003row0_col0\" class=\"data row0 col0\" >Мастер и Маргарита</td>\n",
       "                        <td id=\"T_995a5144_11f5_11eb_9c22_0242ac150003row0_col1\" class=\"data row0 col1\" >Булгаков М.А.</td>\n",
       "                        <td id=\"T_995a5144_11f5_11eb_9c22_0242ac150003row0_col2\" class=\"data row0 col2\" >670.990000</td>\n",
       "                        <td id=\"T_995a5144_11f5_11eb_9c22_0242ac150003row0_col3\" class=\"data row0 col3\" >3</td>\n",
       "            </tr>\n",
       "            <tr>\n",
       "                                <td id=\"T_995a5144_11f5_11eb_9c22_0242ac150003row1_col0\" class=\"data row1 col0\" >Белая гвардия</td>\n",
       "                        <td id=\"T_995a5144_11f5_11eb_9c22_0242ac150003row1_col1\" class=\"data row1 col1\" >Булгаков М.А.</td>\n",
       "                        <td id=\"T_995a5144_11f5_11eb_9c22_0242ac150003row1_col2\" class=\"data row1 col2\" >513.480000</td>\n",
       "                        <td id=\"T_995a5144_11f5_11eb_9c22_0242ac150003row1_col3\" class=\"data row1 col3\" >12</td>\n",
       "            </tr>\n",
       "            <tr>\n",
       "                                <td id=\"T_995a5144_11f5_11eb_9c22_0242ac150003row2_col0\" class=\"data row2 col0\" >Идиот</td>\n",
       "                        <td id=\"T_995a5144_11f5_11eb_9c22_0242ac150003row2_col1\" class=\"data row2 col1\" >Достоевский Ф.М.</td>\n",
       "                        <td id=\"T_995a5144_11f5_11eb_9c22_0242ac150003row2_col2\" class=\"data row2 col2\" >387.400000</td>\n",
       "                        <td id=\"T_995a5144_11f5_11eb_9c22_0242ac150003row2_col3\" class=\"data row2 col3\" >13</td>\n",
       "            </tr>\n",
       "            <tr>\n",
       "                                <td id=\"T_995a5144_11f5_11eb_9c22_0242ac150003row3_col0\" class=\"data row3 col0\" >Братья Карамазовы</td>\n",
       "                        <td id=\"T_995a5144_11f5_11eb_9c22_0242ac150003row3_col1\" class=\"data row3 col1\" >Достоевский Ф.М.</td>\n",
       "                        <td id=\"T_995a5144_11f5_11eb_9c22_0242ac150003row3_col2\" class=\"data row3 col2\" >799.010000</td>\n",
       "                        <td id=\"T_995a5144_11f5_11eb_9c22_0242ac150003row3_col3\" class=\"data row3 col3\" >2</td>\n",
       "            </tr>\n",
       "            <tr>\n",
       "                                <td id=\"T_995a5144_11f5_11eb_9c22_0242ac150003row4_col0\" class=\"data row4 col0\" >Игрок</td>\n",
       "                        <td id=\"T_995a5144_11f5_11eb_9c22_0242ac150003row4_col1\" class=\"data row4 col1\" >Достоевский Ф.М.</td>\n",
       "                        <td id=\"T_995a5144_11f5_11eb_9c22_0242ac150003row4_col2\" class=\"data row4 col2\" >389.210000</td>\n",
       "                        <td id=\"T_995a5144_11f5_11eb_9c22_0242ac150003row4_col3\" class=\"data row4 col3\" >10</td>\n",
       "            </tr>\n",
       "            <tr>\n",
       "                                <td id=\"T_995a5144_11f5_11eb_9c22_0242ac150003row5_col0\" class=\"data row5 col0\" >Стихотворения и поэмы</td>\n",
       "                        <td id=\"T_995a5144_11f5_11eb_9c22_0242ac150003row5_col1\" class=\"data row5 col1\" >Есенин С.А.</td>\n",
       "                        <td id=\"T_995a5144_11f5_11eb_9c22_0242ac150003row5_col2\" class=\"data row5 col2\" >650.000000</td>\n",
       "                        <td id=\"T_995a5144_11f5_11eb_9c22_0242ac150003row5_col3\" class=\"data row5 col3\" >15</td>\n",
       "            </tr>\n",
       "            <tr>\n",
       "                                <td id=\"T_995a5144_11f5_11eb_9c22_0242ac150003row6_col0\" class=\"data row6 col0\" >Лирика</td>\n",
       "                        <td id=\"T_995a5144_11f5_11eb_9c22_0242ac150003row6_col1\" class=\"data row6 col1\" >Пастернак Б.Л.</td>\n",
       "                        <td id=\"T_995a5144_11f5_11eb_9c22_0242ac150003row6_col2\" class=\"data row6 col2\" >518.990000</td>\n",
       "                        <td id=\"T_995a5144_11f5_11eb_9c22_0242ac150003row6_col3\" class=\"data row6 col3\" >4</td>\n",
       "            </tr>\n",
       "            <tr>\n",
       "                                <td id=\"T_995a5144_11f5_11eb_9c22_0242ac150003row7_col0\" class=\"data row7 col0\" >Черный человек</td>\n",
       "                        <td id=\"T_995a5144_11f5_11eb_9c22_0242ac150003row7_col1\" class=\"data row7 col1\" >Есенин С.А.</td>\n",
       "                        <td id=\"T_995a5144_11f5_11eb_9c22_0242ac150003row7_col2\" class=\"data row7 col2\" >541.690000</td>\n",
       "                        <td id=\"T_995a5144_11f5_11eb_9c22_0242ac150003row7_col3\" class=\"data row7 col3\" >12</td>\n",
       "            </tr>\n",
       "            <tr>\n",
       "                                <td id=\"T_995a5144_11f5_11eb_9c22_0242ac150003row8_col0\" class=\"data row8 col0\" >Черный человек</td>\n",
       "                        <td id=\"T_995a5144_11f5_11eb_9c22_0242ac150003row8_col1\" class=\"data row8 col1\" >Есенин С.А.</td>\n",
       "                        <td id=\"T_995a5144_11f5_11eb_9c22_0242ac150003row8_col2\" class=\"data row8 col2\" >513.180000</td>\n",
       "                        <td id=\"T_995a5144_11f5_11eb_9c22_0242ac150003row8_col3\" class=\"data row8 col3\" >6</td>\n",
       "            </tr>\n",
       "    </tbody></table>"
      ],
      "text/plain": [
       "<pandas.io.formats.style.Styler at 0x7fa9cfbb6d00>"
      ]
     },
     "execution_count": 48,
     "metadata": {},
     "output_type": "execute_result"
    }
   ],
   "source": [
    "query = '''\n",
    "        SELECT title, author, price, amount\n",
    "        FROM book\n",
    "        '''\n",
    "\n",
    "select_data(query).style.hide_index()"
   ]
  },
  {
   "cell_type": "code",
   "execution_count": 49,
   "metadata": {},
   "outputs": [
    {
     "name": "stdout",
     "output_type": "stream",
     "text": [
      "ProgrammingError(1060, \"1060 (42S21): Duplicate column name 'buy'\", '42S21')\n"
     ]
    }
   ],
   "source": [
    "\n",
    "query = '''\n",
    "        ALTER TABLE book\n",
    "        ADD COLUMN buy INT DEFAULT 0;\n",
    "        '''\n",
    "\n",
    "insert_values(query)"
   ]
  },
  {
   "cell_type": "code",
   "execution_count": 50,
   "metadata": {},
   "outputs": [],
   "source": [
    "query = '''\n",
    "        UPDATE book SET buy = IF(title = 'Белая гвардия', 3, IF(title = 'Идиот', 8, IF(title = 'Стихотворения и поэмы', 15, buy)));\n",
    "        '''\n",
    "\n",
    "insert_values(query)"
   ]
  },
  {
   "cell_type": "code",
   "execution_count": 51,
   "metadata": {},
   "outputs": [],
   "source": [
    "query = '''\n",
    "        UPDATE book SET buy = IF(buy <= amount, buy, amount);\n",
    "        '''\n",
    "\n",
    "insert_values(query)"
   ]
  },
  {
   "cell_type": "code",
   "execution_count": 52,
   "metadata": {},
   "outputs": [
    {
     "data": {
      "text/html": [
       "<style  type=\"text/css\" >\n",
       "</style><table id=\"T_995fcb24_11f5_11eb_9c22_0242ac150003\" ><thead>    <tr>        <th class=\"col_heading level0 col0\" >title</th>        <th class=\"col_heading level0 col1\" >author</th>        <th class=\"col_heading level0 col2\" >price</th>        <th class=\"col_heading level0 col3\" >amount</th>        <th class=\"col_heading level0 col4\" >buy</th>    </tr></thead><tbody>\n",
       "                <tr>\n",
       "                                <td id=\"T_995fcb24_11f5_11eb_9c22_0242ac150003row0_col0\" class=\"data row0 col0\" >Мастер и Маргарита</td>\n",
       "                        <td id=\"T_995fcb24_11f5_11eb_9c22_0242ac150003row0_col1\" class=\"data row0 col1\" >Булгаков М.А.</td>\n",
       "                        <td id=\"T_995fcb24_11f5_11eb_9c22_0242ac150003row0_col2\" class=\"data row0 col2\" >670.990000</td>\n",
       "                        <td id=\"T_995fcb24_11f5_11eb_9c22_0242ac150003row0_col3\" class=\"data row0 col3\" >3</td>\n",
       "                        <td id=\"T_995fcb24_11f5_11eb_9c22_0242ac150003row0_col4\" class=\"data row0 col4\" >0</td>\n",
       "            </tr>\n",
       "            <tr>\n",
       "                                <td id=\"T_995fcb24_11f5_11eb_9c22_0242ac150003row1_col0\" class=\"data row1 col0\" >Белая гвардия</td>\n",
       "                        <td id=\"T_995fcb24_11f5_11eb_9c22_0242ac150003row1_col1\" class=\"data row1 col1\" >Булгаков М.А.</td>\n",
       "                        <td id=\"T_995fcb24_11f5_11eb_9c22_0242ac150003row1_col2\" class=\"data row1 col2\" >513.480000</td>\n",
       "                        <td id=\"T_995fcb24_11f5_11eb_9c22_0242ac150003row1_col3\" class=\"data row1 col3\" >12</td>\n",
       "                        <td id=\"T_995fcb24_11f5_11eb_9c22_0242ac150003row1_col4\" class=\"data row1 col4\" >3</td>\n",
       "            </tr>\n",
       "            <tr>\n",
       "                                <td id=\"T_995fcb24_11f5_11eb_9c22_0242ac150003row2_col0\" class=\"data row2 col0\" >Идиот</td>\n",
       "                        <td id=\"T_995fcb24_11f5_11eb_9c22_0242ac150003row2_col1\" class=\"data row2 col1\" >Достоевский Ф.М.</td>\n",
       "                        <td id=\"T_995fcb24_11f5_11eb_9c22_0242ac150003row2_col2\" class=\"data row2 col2\" >387.400000</td>\n",
       "                        <td id=\"T_995fcb24_11f5_11eb_9c22_0242ac150003row2_col3\" class=\"data row2 col3\" >13</td>\n",
       "                        <td id=\"T_995fcb24_11f5_11eb_9c22_0242ac150003row2_col4\" class=\"data row2 col4\" >8</td>\n",
       "            </tr>\n",
       "            <tr>\n",
       "                                <td id=\"T_995fcb24_11f5_11eb_9c22_0242ac150003row3_col0\" class=\"data row3 col0\" >Братья Карамазовы</td>\n",
       "                        <td id=\"T_995fcb24_11f5_11eb_9c22_0242ac150003row3_col1\" class=\"data row3 col1\" >Достоевский Ф.М.</td>\n",
       "                        <td id=\"T_995fcb24_11f5_11eb_9c22_0242ac150003row3_col2\" class=\"data row3 col2\" >799.010000</td>\n",
       "                        <td id=\"T_995fcb24_11f5_11eb_9c22_0242ac150003row3_col3\" class=\"data row3 col3\" >2</td>\n",
       "                        <td id=\"T_995fcb24_11f5_11eb_9c22_0242ac150003row3_col4\" class=\"data row3 col4\" >0</td>\n",
       "            </tr>\n",
       "            <tr>\n",
       "                                <td id=\"T_995fcb24_11f5_11eb_9c22_0242ac150003row4_col0\" class=\"data row4 col0\" >Игрок</td>\n",
       "                        <td id=\"T_995fcb24_11f5_11eb_9c22_0242ac150003row4_col1\" class=\"data row4 col1\" >Достоевский Ф.М.</td>\n",
       "                        <td id=\"T_995fcb24_11f5_11eb_9c22_0242ac150003row4_col2\" class=\"data row4 col2\" >389.210000</td>\n",
       "                        <td id=\"T_995fcb24_11f5_11eb_9c22_0242ac150003row4_col3\" class=\"data row4 col3\" >10</td>\n",
       "                        <td id=\"T_995fcb24_11f5_11eb_9c22_0242ac150003row4_col4\" class=\"data row4 col4\" >0</td>\n",
       "            </tr>\n",
       "            <tr>\n",
       "                                <td id=\"T_995fcb24_11f5_11eb_9c22_0242ac150003row5_col0\" class=\"data row5 col0\" >Стихотворения и поэмы</td>\n",
       "                        <td id=\"T_995fcb24_11f5_11eb_9c22_0242ac150003row5_col1\" class=\"data row5 col1\" >Есенин С.А.</td>\n",
       "                        <td id=\"T_995fcb24_11f5_11eb_9c22_0242ac150003row5_col2\" class=\"data row5 col2\" >650.000000</td>\n",
       "                        <td id=\"T_995fcb24_11f5_11eb_9c22_0242ac150003row5_col3\" class=\"data row5 col3\" >15</td>\n",
       "                        <td id=\"T_995fcb24_11f5_11eb_9c22_0242ac150003row5_col4\" class=\"data row5 col4\" >15</td>\n",
       "            </tr>\n",
       "            <tr>\n",
       "                                <td id=\"T_995fcb24_11f5_11eb_9c22_0242ac150003row6_col0\" class=\"data row6 col0\" >Лирика</td>\n",
       "                        <td id=\"T_995fcb24_11f5_11eb_9c22_0242ac150003row6_col1\" class=\"data row6 col1\" >Пастернак Б.Л.</td>\n",
       "                        <td id=\"T_995fcb24_11f5_11eb_9c22_0242ac150003row6_col2\" class=\"data row6 col2\" >518.990000</td>\n",
       "                        <td id=\"T_995fcb24_11f5_11eb_9c22_0242ac150003row6_col3\" class=\"data row6 col3\" >4</td>\n",
       "                        <td id=\"T_995fcb24_11f5_11eb_9c22_0242ac150003row6_col4\" class=\"data row6 col4\" >0</td>\n",
       "            </tr>\n",
       "            <tr>\n",
       "                                <td id=\"T_995fcb24_11f5_11eb_9c22_0242ac150003row7_col0\" class=\"data row7 col0\" >Черный человек</td>\n",
       "                        <td id=\"T_995fcb24_11f5_11eb_9c22_0242ac150003row7_col1\" class=\"data row7 col1\" >Есенин С.А.</td>\n",
       "                        <td id=\"T_995fcb24_11f5_11eb_9c22_0242ac150003row7_col2\" class=\"data row7 col2\" >541.690000</td>\n",
       "                        <td id=\"T_995fcb24_11f5_11eb_9c22_0242ac150003row7_col3\" class=\"data row7 col3\" >12</td>\n",
       "                        <td id=\"T_995fcb24_11f5_11eb_9c22_0242ac150003row7_col4\" class=\"data row7 col4\" >0</td>\n",
       "            </tr>\n",
       "            <tr>\n",
       "                                <td id=\"T_995fcb24_11f5_11eb_9c22_0242ac150003row8_col0\" class=\"data row8 col0\" >Черный человек</td>\n",
       "                        <td id=\"T_995fcb24_11f5_11eb_9c22_0242ac150003row8_col1\" class=\"data row8 col1\" >Есенин С.А.</td>\n",
       "                        <td id=\"T_995fcb24_11f5_11eb_9c22_0242ac150003row8_col2\" class=\"data row8 col2\" >513.180000</td>\n",
       "                        <td id=\"T_995fcb24_11f5_11eb_9c22_0242ac150003row8_col3\" class=\"data row8 col3\" >6</td>\n",
       "                        <td id=\"T_995fcb24_11f5_11eb_9c22_0242ac150003row8_col4\" class=\"data row8 col4\" >0</td>\n",
       "            </tr>\n",
       "    </tbody></table>"
      ],
      "text/plain": [
       "<pandas.io.formats.style.Styler at 0x7fa9cfbc2ee0>"
      ]
     },
     "execution_count": 52,
     "metadata": {},
     "output_type": "execute_result"
    }
   ],
   "source": [
    "query = '''\n",
    "        SELECT title, author, price, amount, buy\n",
    "        FROM book\n",
    "        '''\n",
    "\n",
    "select_data(query).style.hide_index()"
   ]
  },
  {
   "cell_type": "code",
   "execution_count": 53,
   "metadata": {},
   "outputs": [],
   "source": [
    "query = '''\n",
    "        UPDATE book, supply SET book.amount = book.amount + supply.amount,\n",
    "                                book.price = IF(book.price <> supply.price, round((book.price + supply.price) / 2, 2), book.price)\n",
    "        WHERE book.title = supply.title and book.author = supply.author;\n",
    "        '''\n",
    "\n",
    "insert_values(query)"
   ]
  },
  {
   "cell_type": "code",
   "execution_count": 54,
   "metadata": {},
   "outputs": [
    {
     "data": {
      "text/html": [
       "<style  type=\"text/css\" >\n",
       "</style><table id=\"T_9963260c_11f5_11eb_9c22_0242ac150003\" ><thead>    <tr>        <th class=\"col_heading level0 col0\" >title</th>        <th class=\"col_heading level0 col1\" >author</th>        <th class=\"col_heading level0 col2\" >price</th>        <th class=\"col_heading level0 col3\" >amount</th>        <th class=\"col_heading level0 col4\" >buy</th>    </tr></thead><tbody>\n",
       "                <tr>\n",
       "                                <td id=\"T_9963260c_11f5_11eb_9c22_0242ac150003row0_col0\" class=\"data row0 col0\" >Мастер и Маргарита</td>\n",
       "                        <td id=\"T_9963260c_11f5_11eb_9c22_0242ac150003row0_col1\" class=\"data row0 col1\" >Булгаков М.А.</td>\n",
       "                        <td id=\"T_9963260c_11f5_11eb_9c22_0242ac150003row0_col2\" class=\"data row0 col2\" >670.990000</td>\n",
       "                        <td id=\"T_9963260c_11f5_11eb_9c22_0242ac150003row0_col3\" class=\"data row0 col3\" >3</td>\n",
       "                        <td id=\"T_9963260c_11f5_11eb_9c22_0242ac150003row0_col4\" class=\"data row0 col4\" >0</td>\n",
       "            </tr>\n",
       "            <tr>\n",
       "                                <td id=\"T_9963260c_11f5_11eb_9c22_0242ac150003row1_col0\" class=\"data row1 col0\" >Белая гвардия</td>\n",
       "                        <td id=\"T_9963260c_11f5_11eb_9c22_0242ac150003row1_col1\" class=\"data row1 col1\" >Булгаков М.А.</td>\n",
       "                        <td id=\"T_9963260c_11f5_11eb_9c22_0242ac150003row1_col2\" class=\"data row1 col2\" >526.990000</td>\n",
       "                        <td id=\"T_9963260c_11f5_11eb_9c22_0242ac150003row1_col3\" class=\"data row1 col3\" >19</td>\n",
       "                        <td id=\"T_9963260c_11f5_11eb_9c22_0242ac150003row1_col4\" class=\"data row1 col4\" >3</td>\n",
       "            </tr>\n",
       "            <tr>\n",
       "                                <td id=\"T_9963260c_11f5_11eb_9c22_0242ac150003row2_col0\" class=\"data row2 col0\" >Идиот</td>\n",
       "                        <td id=\"T_9963260c_11f5_11eb_9c22_0242ac150003row2_col1\" class=\"data row2 col1\" >Достоевский Ф.М.</td>\n",
       "                        <td id=\"T_9963260c_11f5_11eb_9c22_0242ac150003row2_col2\" class=\"data row2 col2\" >374.100000</td>\n",
       "                        <td id=\"T_9963260c_11f5_11eb_9c22_0242ac150003row2_col3\" class=\"data row2 col3\" >16</td>\n",
       "                        <td id=\"T_9963260c_11f5_11eb_9c22_0242ac150003row2_col4\" class=\"data row2 col4\" >8</td>\n",
       "            </tr>\n",
       "            <tr>\n",
       "                                <td id=\"T_9963260c_11f5_11eb_9c22_0242ac150003row3_col0\" class=\"data row3 col0\" >Братья Карамазовы</td>\n",
       "                        <td id=\"T_9963260c_11f5_11eb_9c22_0242ac150003row3_col1\" class=\"data row3 col1\" >Достоевский Ф.М.</td>\n",
       "                        <td id=\"T_9963260c_11f5_11eb_9c22_0242ac150003row3_col2\" class=\"data row3 col2\" >799.010000</td>\n",
       "                        <td id=\"T_9963260c_11f5_11eb_9c22_0242ac150003row3_col3\" class=\"data row3 col3\" >2</td>\n",
       "                        <td id=\"T_9963260c_11f5_11eb_9c22_0242ac150003row3_col4\" class=\"data row3 col4\" >0</td>\n",
       "            </tr>\n",
       "            <tr>\n",
       "                                <td id=\"T_9963260c_11f5_11eb_9c22_0242ac150003row4_col0\" class=\"data row4 col0\" >Игрок</td>\n",
       "                        <td id=\"T_9963260c_11f5_11eb_9c22_0242ac150003row4_col1\" class=\"data row4 col1\" >Достоевский Ф.М.</td>\n",
       "                        <td id=\"T_9963260c_11f5_11eb_9c22_0242ac150003row4_col2\" class=\"data row4 col2\" >389.210000</td>\n",
       "                        <td id=\"T_9963260c_11f5_11eb_9c22_0242ac150003row4_col3\" class=\"data row4 col3\" >10</td>\n",
       "                        <td id=\"T_9963260c_11f5_11eb_9c22_0242ac150003row4_col4\" class=\"data row4 col4\" >0</td>\n",
       "            </tr>\n",
       "            <tr>\n",
       "                                <td id=\"T_9963260c_11f5_11eb_9c22_0242ac150003row5_col0\" class=\"data row5 col0\" >Стихотворения и поэмы</td>\n",
       "                        <td id=\"T_9963260c_11f5_11eb_9c22_0242ac150003row5_col1\" class=\"data row5 col1\" >Есенин С.А.</td>\n",
       "                        <td id=\"T_9963260c_11f5_11eb_9c22_0242ac150003row5_col2\" class=\"data row5 col2\" >650.000000</td>\n",
       "                        <td id=\"T_9963260c_11f5_11eb_9c22_0242ac150003row5_col3\" class=\"data row5 col3\" >15</td>\n",
       "                        <td id=\"T_9963260c_11f5_11eb_9c22_0242ac150003row5_col4\" class=\"data row5 col4\" >15</td>\n",
       "            </tr>\n",
       "            <tr>\n",
       "                                <td id=\"T_9963260c_11f5_11eb_9c22_0242ac150003row6_col0\" class=\"data row6 col0\" >Лирика</td>\n",
       "                        <td id=\"T_9963260c_11f5_11eb_9c22_0242ac150003row6_col1\" class=\"data row6 col1\" >Пастернак Б.Л.</td>\n",
       "                        <td id=\"T_9963260c_11f5_11eb_9c22_0242ac150003row6_col2\" class=\"data row6 col2\" >518.990000</td>\n",
       "                        <td id=\"T_9963260c_11f5_11eb_9c22_0242ac150003row6_col3\" class=\"data row6 col3\" >4</td>\n",
       "                        <td id=\"T_9963260c_11f5_11eb_9c22_0242ac150003row6_col4\" class=\"data row6 col4\" >0</td>\n",
       "            </tr>\n",
       "            <tr>\n",
       "                                <td id=\"T_9963260c_11f5_11eb_9c22_0242ac150003row7_col0\" class=\"data row7 col0\" >Черный человек</td>\n",
       "                        <td id=\"T_9963260c_11f5_11eb_9c22_0242ac150003row7_col1\" class=\"data row7 col1\" >Есенин С.А.</td>\n",
       "                        <td id=\"T_9963260c_11f5_11eb_9c22_0242ac150003row7_col2\" class=\"data row7 col2\" >555.950000</td>\n",
       "                        <td id=\"T_9963260c_11f5_11eb_9c22_0242ac150003row7_col3\" class=\"data row7 col3\" >18</td>\n",
       "                        <td id=\"T_9963260c_11f5_11eb_9c22_0242ac150003row7_col4\" class=\"data row7 col4\" >0</td>\n",
       "            </tr>\n",
       "            <tr>\n",
       "                                <td id=\"T_9963260c_11f5_11eb_9c22_0242ac150003row8_col0\" class=\"data row8 col0\" >Черный человек</td>\n",
       "                        <td id=\"T_9963260c_11f5_11eb_9c22_0242ac150003row8_col1\" class=\"data row8 col1\" >Есенин С.А.</td>\n",
       "                        <td id=\"T_9963260c_11f5_11eb_9c22_0242ac150003row8_col2\" class=\"data row8 col2\" >541.690000</td>\n",
       "                        <td id=\"T_9963260c_11f5_11eb_9c22_0242ac150003row8_col3\" class=\"data row8 col3\" >12</td>\n",
       "                        <td id=\"T_9963260c_11f5_11eb_9c22_0242ac150003row8_col4\" class=\"data row8 col4\" >0</td>\n",
       "            </tr>\n",
       "    </tbody></table>"
      ],
      "text/plain": [
       "<pandas.io.formats.style.Styler at 0x7fa9cfbb6160>"
      ]
     },
     "execution_count": 54,
     "metadata": {},
     "output_type": "execute_result"
    }
   ],
   "source": [
    "query = '''\n",
    "        SELECT title, author, price, amount, buy\n",
    "        FROM book\n",
    "        '''\n",
    "\n",
    "select_data(query).style.hide_index()"
   ]
  },
  {
   "cell_type": "code",
   "execution_count": 55,
   "metadata": {},
   "outputs": [],
   "source": [
    "query = '''\n",
    "        DELETE FROM supply\n",
    "        WHERE title IN (SELECT title FROM book WHERE book.price = supply.price);\n",
    "        '''\n",
    "\n",
    "insert_values(query)"
   ]
  },
  {
   "cell_type": "code",
   "execution_count": 56,
   "metadata": {},
   "outputs": [
    {
     "data": {
      "text/html": [
       "<style  type=\"text/css\" >\n",
       "</style><table id=\"T_99664a62_11f5_11eb_9c22_0242ac150003\" ><thead>    <tr>        <th class=\"col_heading level0 col0\" >title</th>        <th class=\"col_heading level0 col1\" >author</th>        <th class=\"col_heading level0 col2\" >price</th>        <th class=\"col_heading level0 col3\" >amount</th>    </tr></thead><tbody>\n",
       "                <tr>\n",
       "                                <td id=\"T_99664a62_11f5_11eb_9c22_0242ac150003row0_col0\" class=\"data row0 col0\" >Черный человек</td>\n",
       "                        <td id=\"T_99664a62_11f5_11eb_9c22_0242ac150003row0_col1\" class=\"data row0 col1\" >Есенин С.А.</td>\n",
       "                        <td id=\"T_99664a62_11f5_11eb_9c22_0242ac150003row0_col2\" class=\"data row0 col2\" >570.200000</td>\n",
       "                        <td id=\"T_99664a62_11f5_11eb_9c22_0242ac150003row0_col3\" class=\"data row0 col3\" >6</td>\n",
       "            </tr>\n",
       "            <tr>\n",
       "                                <td id=\"T_99664a62_11f5_11eb_9c22_0242ac150003row1_col0\" class=\"data row1 col0\" >Белая гвардия</td>\n",
       "                        <td id=\"T_99664a62_11f5_11eb_9c22_0242ac150003row1_col1\" class=\"data row1 col1\" >Булгаков М.А.</td>\n",
       "                        <td id=\"T_99664a62_11f5_11eb_9c22_0242ac150003row1_col2\" class=\"data row1 col2\" >540.500000</td>\n",
       "                        <td id=\"T_99664a62_11f5_11eb_9c22_0242ac150003row1_col3\" class=\"data row1 col3\" >7</td>\n",
       "            </tr>\n",
       "            <tr>\n",
       "                                <td id=\"T_99664a62_11f5_11eb_9c22_0242ac150003row2_col0\" class=\"data row2 col0\" >Идиот</td>\n",
       "                        <td id=\"T_99664a62_11f5_11eb_9c22_0242ac150003row2_col1\" class=\"data row2 col1\" >Достоевский Ф.М.</td>\n",
       "                        <td id=\"T_99664a62_11f5_11eb_9c22_0242ac150003row2_col2\" class=\"data row2 col2\" >360.800000</td>\n",
       "                        <td id=\"T_99664a62_11f5_11eb_9c22_0242ac150003row2_col3\" class=\"data row2 col3\" >3</td>\n",
       "            </tr>\n",
       "    </tbody></table>"
      ],
      "text/plain": [
       "<pandas.io.formats.style.Styler at 0x7fa9cfb49730>"
      ]
     },
     "execution_count": 56,
     "metadata": {},
     "output_type": "execute_result"
    }
   ],
   "source": [
    "query = '''\n",
    "        SELECT title, author, price, amount\n",
    "        FROM supply\n",
    "        '''\n",
    "\n",
    "select_data(query).style.hide_index()"
   ]
  },
  {
   "cell_type": "code",
   "execution_count": 51,
   "metadata": {},
   "outputs": [],
   "source": [
    "# query = '''\n",
    "#         CREATE TABLE ordering AS\n",
    "#                 SELECT author, title, \n",
    "#                        (SELECT round(AVG(amount)) FROM book) AS amount\n",
    "#                 FROM book\n",
    "#                 WHERE amount < (SELECT round(AVG(amount)) FROM book);\n",
    "#         '''\n",
    "\n",
    "# create_table(query)"
   ]
  },
  {
   "cell_type": "code",
   "execution_count": 57,
   "metadata": {},
   "outputs": [
    {
     "data": {
      "text/html": [
       "<style  type=\"text/css\" >\n",
       "</style><table id=\"T_a409a2d4_11f5_11eb_9c22_0242ac150003\" ><thead>    <tr>        <th class=\"col_heading level0 col0\" >author</th>        <th class=\"col_heading level0 col1\" >title</th>        <th class=\"col_heading level0 col2\" >amount</th>    </tr></thead><tbody>\n",
       "                <tr>\n",
       "                                <td id=\"T_a409a2d4_11f5_11eb_9c22_0242ac150003row0_col0\" class=\"data row0 col0\" >Булгаков М.А.</td>\n",
       "                        <td id=\"T_a409a2d4_11f5_11eb_9c22_0242ac150003row0_col1\" class=\"data row0 col1\" >Мастер и Маргарита</td>\n",
       "                        <td id=\"T_a409a2d4_11f5_11eb_9c22_0242ac150003row0_col2\" class=\"data row0 col2\" >9.000000</td>\n",
       "            </tr>\n",
       "            <tr>\n",
       "                                <td id=\"T_a409a2d4_11f5_11eb_9c22_0242ac150003row1_col0\" class=\"data row1 col0\" >Достоевский Ф.М.</td>\n",
       "                        <td id=\"T_a409a2d4_11f5_11eb_9c22_0242ac150003row1_col1\" class=\"data row1 col1\" >Братья Карамазовы</td>\n",
       "                        <td id=\"T_a409a2d4_11f5_11eb_9c22_0242ac150003row1_col2\" class=\"data row1 col2\" >9.000000</td>\n",
       "            </tr>\n",
       "            <tr>\n",
       "                                <td id=\"T_a409a2d4_11f5_11eb_9c22_0242ac150003row2_col0\" class=\"data row2 col0\" >Пастернак Б.Л.</td>\n",
       "                        <td id=\"T_a409a2d4_11f5_11eb_9c22_0242ac150003row2_col1\" class=\"data row2 col1\" >Лирика</td>\n",
       "                        <td id=\"T_a409a2d4_11f5_11eb_9c22_0242ac150003row2_col2\" class=\"data row2 col2\" >9.000000</td>\n",
       "            </tr>\n",
       "    </tbody></table>"
      ],
      "text/plain": [
       "<pandas.io.formats.style.Styler at 0x7fa9cfbc26a0>"
      ]
     },
     "execution_count": 57,
     "metadata": {},
     "output_type": "execute_result"
    }
   ],
   "source": [
    "query = '''\n",
    "        SELECT *\n",
    "        FROM ordering;\n",
    "        '''\n",
    "\n",
    "select_data(query).style.hide_index()"
   ]
  },
  {
   "cell_type": "markdown",
   "metadata": {},
   "source": [
    "## Таблица \"Командировки\", запросы на выборку"
   ]
  },
  {
   "cell_type": "code",
   "execution_count": 53,
   "metadata": {},
   "outputs": [],
   "source": [
    "# query = '''\n",
    "#         CREATE TABLE trip (\n",
    "#                              trip_id INT PRIMARY KEY AUTO_INCREMENT, \n",
    "#                              name VARCHAR(30), \n",
    "#                              city VARCHAR(25), \n",
    "#                              per_diem DECIMAL (8,2), \n",
    "#                              date_first DATE, \n",
    "#                              date_last DATE \n",
    "#                           );\n",
    "#         '''\n",
    "\n",
    "# create_table(query)"
   ]
  },
  {
   "cell_type": "code",
   "execution_count": 56,
   "metadata": {},
   "outputs": [],
   "source": [
    "# query = '''\n",
    "#         INSERT INTO trip (name, city, per_diem, date_first, date_last)\n",
    "#         VALUES ('Абрамова К.А.', 'Владивосток', 450.00, STR_TO_DATE('2020-07-02', '%Y-%m-%d'), STR_TO_DATE('2020-07-13', '%Y-%m-%d')),\n",
    "#                ('Федорова А.Ю.', 'Томск', 450.00, STR_TO_DATE('2020-06-20', '%Y-%m-%d'), STR_TO_DATE('2020-06-26', '%Y-%m-%d')),\n",
    "#                ('Абрамова К.А.', 'Санкт-Петербург', 700.00, STR_TO_DATE('2020-05-28', '%Y-%m-%d'), STR_TO_DATE('2020-06-04', '%Y-%m-%d')),\n",
    "#                ('Федорова А.Ю.', 'Новосибирск', 450.00, STR_TO_DATE('2020-05-25', '%Y-%m-%d'), STR_TO_DATE('2020-06-04', '%Y-%m-%d')),\n",
    "#                ('Абрамова К.А.', 'Москва', 700.00, STR_TO_DATE('2020-04-06', '%Y-%m-%d'), STR_TO_DATE('2020-04-14', '%Y-%m-%d')),\n",
    "#                ('Абрамова К.А.', 'Москва', 700.00, STR_TO_DATE('2020-02-23', '%Y-%m-%d'), STR_TO_DATE('2020-03-01', '%Y-%m-%d')),\n",
    "#                ('Абрамова К.А.', 'Владивосток', 450.00, STR_TO_DATE('2020-01-14', '%Y-%m-%d'), STR_TO_DATE('2020-01-27', '%Y-%m-%d'));\n",
    "#         '''\n",
    "\n",
    "# insert_values(query)"
   ]
  },
  {
   "cell_type": "code",
   "execution_count": 58,
   "metadata": {},
   "outputs": [],
   "source": [
    "# query = '''\n",
    "#         INSERT INTO trip (name, city, per_diem, date_first, date_last)\n",
    "#         VALUES ('Баранов П.Е.', 'Москва', 700.00, STR_TO_DATE('2020-01-12', '%Y-%m-%d'), STR_TO_DATE('2020-01-17', '%Y-%m-%d')),\n",
    "#                ('Семенов И.В.', 'Москва', 700.00, STR_TO_DATE('2020-01-23', '%Y-%m-%d'), STR_TO_DATE('2020-01-31', '%Y-%m-%d')),\n",
    "#                ('Ильиных Г.Р.', 'Владивосток', 450.00, STR_TO_DATE('2020-01-12', '%Y-%m-%d'), STR_TO_DATE('2020-02-02', '%Y-%m-%d')),\n",
    "#                ('Колесов С.П.', 'Москва', 700.00, STR_TO_DATE('2020-02-01', '%Y-%m-%d'), STR_TO_DATE('2020-02-06', '%Y-%m-%d')),\n",
    "#                ('Баранов П.Е.', 'Москва', 700.00, STR_TO_DATE('2020-02-14', '%Y-%m-%d'), STR_TO_DATE('2020-02-22', '%Y-%m-%d')),\n",
    "#                ('Лебедев Т.К.', 'Москва', 700.00, STR_TO_DATE('2020-03-03', '%Y-%m-%d'), STR_TO_DATE('2020-03-06', '%Y-%m-%d')),\n",
    "#                ('Колесов С.П.', 'Новосибирск', 450.00, STR_TO_DATE('2020-02-27', '%Y-%m-%d'), STR_TO_DATE('2020-03-12', '%Y-%m-%d')),\n",
    "#                ('Семенов И.В.', 'Санкт-Петербург', 700.00, STR_TO_DATE('2020-03-29', '%Y-%m-%d'), STR_TO_DATE('2020-04-05', '%Y-%m-%d')),\n",
    "#                ('Баранов П.Е.', 'Новосибирск', 450.00, STR_TO_DATE('2020-04-18', '%Y-%m-%d'), STR_TO_DATE('2020-05-04', '%Y-%m-%d')),\n",
    "#                ('Лебедев Т.К.', 'Томск', 450.00, STR_TO_DATE('2020-05-20', '%Y-%m-%d'), STR_TO_DATE('2020-05-31', '%Y-%m-%d')),\n",
    "#                ('Семенов И.В.', 'Санкт-Петербург', 700.00, STR_TO_DATE('2020-06-01', '%Y-%m-%d'), STR_TO_DATE('2020-06-03', '%Y-%m-%d')),\n",
    "#                ('Колесов С.П.', 'Новосибирск', 450.00, STR_TO_DATE('2020-06-03', '%Y-%m-%d'), STR_TO_DATE('2020-06-12', '%Y-%m-%d')),\n",
    "#                ('Баранов П.Е.', 'Воронеж', 450.00, STR_TO_DATE('2020-07-19', '%Y-%m-%d'), STR_TO_DATE('2020-07-25', '%Y-%m-%d'));\n",
    "               \n",
    "#         '''\n",
    "\n",
    "# insert_values(query)"
   ]
  },
  {
   "cell_type": "code",
   "execution_count": 59,
   "metadata": {},
   "outputs": [
    {
     "data": {
      "text/html": [
       "<style  type=\"text/css\" >\n",
       "</style><table id=\"T_0380defc_11f7_11eb_9c22_0242ac150003\" ><thead>    <tr>        <th class=\"col_heading level0 col0\" >name</th>        <th class=\"col_heading level0 col1\" >city</th>        <th class=\"col_heading level0 col2\" >per_diem</th>        <th class=\"col_heading level0 col3\" >date_first</th>        <th class=\"col_heading level0 col4\" >date_last</th>    </tr></thead><tbody>\n",
       "                <tr>\n",
       "                                <td id=\"T_0380defc_11f7_11eb_9c22_0242ac150003row0_col0\" class=\"data row0 col0\" >Абрамова К.А.</td>\n",
       "                        <td id=\"T_0380defc_11f7_11eb_9c22_0242ac150003row0_col1\" class=\"data row0 col1\" >Владивосток</td>\n",
       "                        <td id=\"T_0380defc_11f7_11eb_9c22_0242ac150003row0_col2\" class=\"data row0 col2\" >450.000000</td>\n",
       "                        <td id=\"T_0380defc_11f7_11eb_9c22_0242ac150003row0_col3\" class=\"data row0 col3\" >2020-07-02</td>\n",
       "                        <td id=\"T_0380defc_11f7_11eb_9c22_0242ac150003row0_col4\" class=\"data row0 col4\" >2020-07-13</td>\n",
       "            </tr>\n",
       "            <tr>\n",
       "                                <td id=\"T_0380defc_11f7_11eb_9c22_0242ac150003row1_col0\" class=\"data row1 col0\" >Федорова А.Ю.</td>\n",
       "                        <td id=\"T_0380defc_11f7_11eb_9c22_0242ac150003row1_col1\" class=\"data row1 col1\" >Томск</td>\n",
       "                        <td id=\"T_0380defc_11f7_11eb_9c22_0242ac150003row1_col2\" class=\"data row1 col2\" >450.000000</td>\n",
       "                        <td id=\"T_0380defc_11f7_11eb_9c22_0242ac150003row1_col3\" class=\"data row1 col3\" >2020-06-20</td>\n",
       "                        <td id=\"T_0380defc_11f7_11eb_9c22_0242ac150003row1_col4\" class=\"data row1 col4\" >2020-06-26</td>\n",
       "            </tr>\n",
       "            <tr>\n",
       "                                <td id=\"T_0380defc_11f7_11eb_9c22_0242ac150003row2_col0\" class=\"data row2 col0\" >Абрамова К.А.</td>\n",
       "                        <td id=\"T_0380defc_11f7_11eb_9c22_0242ac150003row2_col1\" class=\"data row2 col1\" >Санкт-Петербург</td>\n",
       "                        <td id=\"T_0380defc_11f7_11eb_9c22_0242ac150003row2_col2\" class=\"data row2 col2\" >700.000000</td>\n",
       "                        <td id=\"T_0380defc_11f7_11eb_9c22_0242ac150003row2_col3\" class=\"data row2 col3\" >2020-05-28</td>\n",
       "                        <td id=\"T_0380defc_11f7_11eb_9c22_0242ac150003row2_col4\" class=\"data row2 col4\" >2020-06-04</td>\n",
       "            </tr>\n",
       "            <tr>\n",
       "                                <td id=\"T_0380defc_11f7_11eb_9c22_0242ac150003row3_col0\" class=\"data row3 col0\" >Федорова А.Ю.</td>\n",
       "                        <td id=\"T_0380defc_11f7_11eb_9c22_0242ac150003row3_col1\" class=\"data row3 col1\" >Новосибирск</td>\n",
       "                        <td id=\"T_0380defc_11f7_11eb_9c22_0242ac150003row3_col2\" class=\"data row3 col2\" >450.000000</td>\n",
       "                        <td id=\"T_0380defc_11f7_11eb_9c22_0242ac150003row3_col3\" class=\"data row3 col3\" >2020-05-25</td>\n",
       "                        <td id=\"T_0380defc_11f7_11eb_9c22_0242ac150003row3_col4\" class=\"data row3 col4\" >2020-06-04</td>\n",
       "            </tr>\n",
       "            <tr>\n",
       "                                <td id=\"T_0380defc_11f7_11eb_9c22_0242ac150003row4_col0\" class=\"data row4 col0\" >Абрамова К.А.</td>\n",
       "                        <td id=\"T_0380defc_11f7_11eb_9c22_0242ac150003row4_col1\" class=\"data row4 col1\" >Москва</td>\n",
       "                        <td id=\"T_0380defc_11f7_11eb_9c22_0242ac150003row4_col2\" class=\"data row4 col2\" >700.000000</td>\n",
       "                        <td id=\"T_0380defc_11f7_11eb_9c22_0242ac150003row4_col3\" class=\"data row4 col3\" >2020-04-06</td>\n",
       "                        <td id=\"T_0380defc_11f7_11eb_9c22_0242ac150003row4_col4\" class=\"data row4 col4\" >2020-04-14</td>\n",
       "            </tr>\n",
       "            <tr>\n",
       "                                <td id=\"T_0380defc_11f7_11eb_9c22_0242ac150003row5_col0\" class=\"data row5 col0\" >Абрамова К.А.</td>\n",
       "                        <td id=\"T_0380defc_11f7_11eb_9c22_0242ac150003row5_col1\" class=\"data row5 col1\" >Москва</td>\n",
       "                        <td id=\"T_0380defc_11f7_11eb_9c22_0242ac150003row5_col2\" class=\"data row5 col2\" >700.000000</td>\n",
       "                        <td id=\"T_0380defc_11f7_11eb_9c22_0242ac150003row5_col3\" class=\"data row5 col3\" >2020-02-23</td>\n",
       "                        <td id=\"T_0380defc_11f7_11eb_9c22_0242ac150003row5_col4\" class=\"data row5 col4\" >2020-03-01</td>\n",
       "            </tr>\n",
       "            <tr>\n",
       "                                <td id=\"T_0380defc_11f7_11eb_9c22_0242ac150003row6_col0\" class=\"data row6 col0\" >Абрамова К.А.</td>\n",
       "                        <td id=\"T_0380defc_11f7_11eb_9c22_0242ac150003row6_col1\" class=\"data row6 col1\" >Владивосток</td>\n",
       "                        <td id=\"T_0380defc_11f7_11eb_9c22_0242ac150003row6_col2\" class=\"data row6 col2\" >450.000000</td>\n",
       "                        <td id=\"T_0380defc_11f7_11eb_9c22_0242ac150003row6_col3\" class=\"data row6 col3\" >2020-01-14</td>\n",
       "                        <td id=\"T_0380defc_11f7_11eb_9c22_0242ac150003row6_col4\" class=\"data row6 col4\" >2020-01-27</td>\n",
       "            </tr>\n",
       "    </tbody></table>"
      ],
      "text/plain": [
       "<pandas.io.formats.style.Styler at 0x7fa9cfbc2730>"
      ]
     },
     "execution_count": 59,
     "metadata": {},
     "output_type": "execute_result"
    }
   ],
   "source": [
    "query = '''\n",
    "        SELECT name, city, per_diem, date_first, date_last\n",
    "        FROM trip\n",
    "        WHERE name LIKE '%а %'\n",
    "        ORDER BY date_last DESC;\n",
    "        '''\n",
    "\n",
    "select_data(query).style.hide_index()"
   ]
  },
  {
   "cell_type": "code",
   "execution_count": 60,
   "metadata": {},
   "outputs": [
    {
     "data": {
      "text/html": [
       "<style  type=\"text/css\" >\n",
       "</style><table id=\"T_111baa1a_11f7_11eb_9c22_0242ac150003\" ><thead>    <tr>        <th class=\"col_heading level0 col0\" >name</th>    </tr></thead><tbody>\n",
       "                <tr>\n",
       "                                <td id=\"T_111baa1a_11f7_11eb_9c22_0242ac150003row0_col0\" class=\"data row0 col0\" >Абрамова К.А.</td>\n",
       "            </tr>\n",
       "            <tr>\n",
       "                                <td id=\"T_111baa1a_11f7_11eb_9c22_0242ac150003row1_col0\" class=\"data row1 col0\" >Баранов П.Е.</td>\n",
       "            </tr>\n",
       "            <tr>\n",
       "                                <td id=\"T_111baa1a_11f7_11eb_9c22_0242ac150003row2_col0\" class=\"data row2 col0\" >Колесов С.П.</td>\n",
       "            </tr>\n",
       "            <tr>\n",
       "                                <td id=\"T_111baa1a_11f7_11eb_9c22_0242ac150003row3_col0\" class=\"data row3 col0\" >Лебедев Т.К.</td>\n",
       "            </tr>\n",
       "            <tr>\n",
       "                                <td id=\"T_111baa1a_11f7_11eb_9c22_0242ac150003row4_col0\" class=\"data row4 col0\" >Семенов И.В.</td>\n",
       "            </tr>\n",
       "    </tbody></table>"
      ],
      "text/plain": [
       "<pandas.io.formats.style.Styler at 0x7fa9cfbac2b0>"
      ]
     },
     "execution_count": 60,
     "metadata": {},
     "output_type": "execute_result"
    }
   ],
   "source": [
    "query = '''\n",
    "        SELECT name\n",
    "        FROM trip\n",
    "        WHERE city = 'Москва'\n",
    "        GROUP BY name\n",
    "        ORDER BY name;\n",
    "        '''\n",
    "\n",
    "select_data(query).style.hide_index()"
   ]
  },
  {
   "cell_type": "code",
   "execution_count": 61,
   "metadata": {},
   "outputs": [
    {
     "data": {
      "text/html": [
       "<style  type=\"text/css\" >\n",
       "</style><table id=\"T_2f60a3cc_11f7_11eb_9c22_0242ac150003\" ><thead>    <tr>        <th class=\"col_heading level0 col0\" >city</th>        <th class=\"col_heading level0 col1\" >Количество</th>    </tr></thead><tbody>\n",
       "                <tr>\n",
       "                                <td id=\"T_2f60a3cc_11f7_11eb_9c22_0242ac150003row0_col0\" class=\"data row0 col0\" >Владивосток</td>\n",
       "                        <td id=\"T_2f60a3cc_11f7_11eb_9c22_0242ac150003row0_col1\" class=\"data row0 col1\" >3</td>\n",
       "            </tr>\n",
       "            <tr>\n",
       "                                <td id=\"T_2f60a3cc_11f7_11eb_9c22_0242ac150003row1_col0\" class=\"data row1 col0\" >Воронеж</td>\n",
       "                        <td id=\"T_2f60a3cc_11f7_11eb_9c22_0242ac150003row1_col1\" class=\"data row1 col1\" >1</td>\n",
       "            </tr>\n",
       "            <tr>\n",
       "                                <td id=\"T_2f60a3cc_11f7_11eb_9c22_0242ac150003row2_col0\" class=\"data row2 col0\" >Москва</td>\n",
       "                        <td id=\"T_2f60a3cc_11f7_11eb_9c22_0242ac150003row2_col1\" class=\"data row2 col1\" >7</td>\n",
       "            </tr>\n",
       "            <tr>\n",
       "                                <td id=\"T_2f60a3cc_11f7_11eb_9c22_0242ac150003row3_col0\" class=\"data row3 col0\" >Новосибирск</td>\n",
       "                        <td id=\"T_2f60a3cc_11f7_11eb_9c22_0242ac150003row3_col1\" class=\"data row3 col1\" >4</td>\n",
       "            </tr>\n",
       "            <tr>\n",
       "                                <td id=\"T_2f60a3cc_11f7_11eb_9c22_0242ac150003row4_col0\" class=\"data row4 col0\" >Санкт-Петербург</td>\n",
       "                        <td id=\"T_2f60a3cc_11f7_11eb_9c22_0242ac150003row4_col1\" class=\"data row4 col1\" >3</td>\n",
       "            </tr>\n",
       "            <tr>\n",
       "                                <td id=\"T_2f60a3cc_11f7_11eb_9c22_0242ac150003row5_col0\" class=\"data row5 col0\" >Томск</td>\n",
       "                        <td id=\"T_2f60a3cc_11f7_11eb_9c22_0242ac150003row5_col1\" class=\"data row5 col1\" >2</td>\n",
       "            </tr>\n",
       "    </tbody></table>"
      ],
      "text/plain": [
       "<pandas.io.formats.style.Styler at 0x7fa9cfbac1c0>"
      ]
     },
     "execution_count": 61,
     "metadata": {},
     "output_type": "execute_result"
    }
   ],
   "source": [
    "query = '''\n",
    "        SELECT city, COUNT(city) AS 'Количество'\n",
    "        FROM trip\n",
    "        GROUP BY city\n",
    "        ORDER BY city;\n",
    "        '''\n",
    "\n",
    "select_data(query).style.hide_index()"
   ]
  },
  {
   "cell_type": "code",
   "execution_count": 62,
   "metadata": {},
   "outputs": [
    {
     "data": {
      "text/html": [
       "<style  type=\"text/css\" >\n",
       "</style><table id=\"T_478afe84_11f7_11eb_9c22_0242ac150003\" ><thead>    <tr>        <th class=\"col_heading level0 col0\" >city</th>        <th class=\"col_heading level0 col1\" >Количество</th>    </tr></thead><tbody>\n",
       "                <tr>\n",
       "                                <td id=\"T_478afe84_11f7_11eb_9c22_0242ac150003row0_col0\" class=\"data row0 col0\" >Москва</td>\n",
       "                        <td id=\"T_478afe84_11f7_11eb_9c22_0242ac150003row0_col1\" class=\"data row0 col1\" >7</td>\n",
       "            </tr>\n",
       "            <tr>\n",
       "                                <td id=\"T_478afe84_11f7_11eb_9c22_0242ac150003row1_col0\" class=\"data row1 col0\" >Новосибирск</td>\n",
       "                        <td id=\"T_478afe84_11f7_11eb_9c22_0242ac150003row1_col1\" class=\"data row1 col1\" >4</td>\n",
       "            </tr>\n",
       "    </tbody></table>"
      ],
      "text/plain": [
       "<pandas.io.formats.style.Styler at 0x7fa9cfbacfd0>"
      ]
     },
     "execution_count": 62,
     "metadata": {},
     "output_type": "execute_result"
    }
   ],
   "source": [
    "query = '''\n",
    "        SELECT city, COUNT(city) AS 'Количество'\n",
    "        FROM trip\n",
    "        GROUP BY city\n",
    "        ORDER BY COUNT(city) DESC\n",
    "        LIMIT 2;\n",
    "        '''\n",
    "\n",
    "select_data(query).style.hide_index()"
   ]
  },
  {
   "cell_type": "code",
   "execution_count": 63,
   "metadata": {},
   "outputs": [
    {
     "data": {
      "text/html": [
       "<style  type=\"text/css\" >\n",
       "</style><table id=\"T_5bfaf3ba_11f7_11eb_9c22_0242ac150003\" ><thead>    <tr>        <th class=\"col_heading level0 col0\" >name</th>        <th class=\"col_heading level0 col1\" >city</th>        <th class=\"col_heading level0 col2\" >Длительность</th>    </tr></thead><tbody>\n",
       "                <tr>\n",
       "                                <td id=\"T_5bfaf3ba_11f7_11eb_9c22_0242ac150003row0_col0\" class=\"data row0 col0\" >Ильиных Г.Р.</td>\n",
       "                        <td id=\"T_5bfaf3ba_11f7_11eb_9c22_0242ac150003row0_col1\" class=\"data row0 col1\" >Владивосток</td>\n",
       "                        <td id=\"T_5bfaf3ba_11f7_11eb_9c22_0242ac150003row0_col2\" class=\"data row0 col2\" >22</td>\n",
       "            </tr>\n",
       "            <tr>\n",
       "                                <td id=\"T_5bfaf3ba_11f7_11eb_9c22_0242ac150003row1_col0\" class=\"data row1 col0\" >Баранов П.Е.</td>\n",
       "                        <td id=\"T_5bfaf3ba_11f7_11eb_9c22_0242ac150003row1_col1\" class=\"data row1 col1\" >Новосибирск</td>\n",
       "                        <td id=\"T_5bfaf3ba_11f7_11eb_9c22_0242ac150003row1_col2\" class=\"data row1 col2\" >17</td>\n",
       "            </tr>\n",
       "            <tr>\n",
       "                                <td id=\"T_5bfaf3ba_11f7_11eb_9c22_0242ac150003row2_col0\" class=\"data row2 col0\" >Колесов С.П.</td>\n",
       "                        <td id=\"T_5bfaf3ba_11f7_11eb_9c22_0242ac150003row2_col1\" class=\"data row2 col1\" >Новосибирск</td>\n",
       "                        <td id=\"T_5bfaf3ba_11f7_11eb_9c22_0242ac150003row2_col2\" class=\"data row2 col2\" >15</td>\n",
       "            </tr>\n",
       "            <tr>\n",
       "                                <td id=\"T_5bfaf3ba_11f7_11eb_9c22_0242ac150003row3_col0\" class=\"data row3 col0\" >Абрамова К.А.</td>\n",
       "                        <td id=\"T_5bfaf3ba_11f7_11eb_9c22_0242ac150003row3_col1\" class=\"data row3 col1\" >Владивосток</td>\n",
       "                        <td id=\"T_5bfaf3ba_11f7_11eb_9c22_0242ac150003row3_col2\" class=\"data row3 col2\" >14</td>\n",
       "            </tr>\n",
       "            <tr>\n",
       "                                <td id=\"T_5bfaf3ba_11f7_11eb_9c22_0242ac150003row4_col0\" class=\"data row4 col0\" >Лебедев Т.К.</td>\n",
       "                        <td id=\"T_5bfaf3ba_11f7_11eb_9c22_0242ac150003row4_col1\" class=\"data row4 col1\" >Томск</td>\n",
       "                        <td id=\"T_5bfaf3ba_11f7_11eb_9c22_0242ac150003row4_col2\" class=\"data row4 col2\" >12</td>\n",
       "            </tr>\n",
       "            <tr>\n",
       "                                <td id=\"T_5bfaf3ba_11f7_11eb_9c22_0242ac150003row5_col0\" class=\"data row5 col0\" >Абрамова К.А.</td>\n",
       "                        <td id=\"T_5bfaf3ba_11f7_11eb_9c22_0242ac150003row5_col1\" class=\"data row5 col1\" >Владивосток</td>\n",
       "                        <td id=\"T_5bfaf3ba_11f7_11eb_9c22_0242ac150003row5_col2\" class=\"data row5 col2\" >12</td>\n",
       "            </tr>\n",
       "            <tr>\n",
       "                                <td id=\"T_5bfaf3ba_11f7_11eb_9c22_0242ac150003row6_col0\" class=\"data row6 col0\" >Федорова А.Ю.</td>\n",
       "                        <td id=\"T_5bfaf3ba_11f7_11eb_9c22_0242ac150003row6_col1\" class=\"data row6 col1\" >Новосибирск</td>\n",
       "                        <td id=\"T_5bfaf3ba_11f7_11eb_9c22_0242ac150003row6_col2\" class=\"data row6 col2\" >11</td>\n",
       "            </tr>\n",
       "            <tr>\n",
       "                                <td id=\"T_5bfaf3ba_11f7_11eb_9c22_0242ac150003row7_col0\" class=\"data row7 col0\" >Колесов С.П.</td>\n",
       "                        <td id=\"T_5bfaf3ba_11f7_11eb_9c22_0242ac150003row7_col1\" class=\"data row7 col1\" >Новосибирск</td>\n",
       "                        <td id=\"T_5bfaf3ba_11f7_11eb_9c22_0242ac150003row7_col2\" class=\"data row7 col2\" >10</td>\n",
       "            </tr>\n",
       "            <tr>\n",
       "                                <td id=\"T_5bfaf3ba_11f7_11eb_9c22_0242ac150003row8_col0\" class=\"data row8 col0\" >Федорова А.Ю.</td>\n",
       "                        <td id=\"T_5bfaf3ba_11f7_11eb_9c22_0242ac150003row8_col1\" class=\"data row8 col1\" >Томск</td>\n",
       "                        <td id=\"T_5bfaf3ba_11f7_11eb_9c22_0242ac150003row8_col2\" class=\"data row8 col2\" >7</td>\n",
       "            </tr>\n",
       "            <tr>\n",
       "                                <td id=\"T_5bfaf3ba_11f7_11eb_9c22_0242ac150003row9_col0\" class=\"data row9 col0\" >Баранов П.Е.</td>\n",
       "                        <td id=\"T_5bfaf3ba_11f7_11eb_9c22_0242ac150003row9_col1\" class=\"data row9 col1\" >Воронеж</td>\n",
       "                        <td id=\"T_5bfaf3ba_11f7_11eb_9c22_0242ac150003row9_col2\" class=\"data row9 col2\" >7</td>\n",
       "            </tr>\n",
       "    </tbody></table>"
      ],
      "text/plain": [
       "<pandas.io.formats.style.Styler at 0x7fa9cfb49040>"
      ]
     },
     "execution_count": 63,
     "metadata": {},
     "output_type": "execute_result"
    }
   ],
   "source": [
    "query = '''\n",
    "        SELECT name, city, DATEDIFF(date_last, date_first) + 1 AS 'Длительность'\n",
    "        FROM trip\n",
    "        WHERE city NOT IN ('Москва', 'Санкт-Петербург')\n",
    "        ORDER BY DATEDIFF(date_last, date_first) + 1 DESC, city DESC;\n",
    "        '''\n",
    "\n",
    "select_data(query).style.hide_index()"
   ]
  },
  {
   "cell_type": "code",
   "execution_count": 64,
   "metadata": {},
   "outputs": [
    {
     "data": {
      "text/html": [
       "<style  type=\"text/css\" >\n",
       "</style><table id=\"T_7bf3aea0_11f7_11eb_9c22_0242ac150003\" ><thead>    <tr>        <th class=\"col_heading level0 col0\" >name</th>        <th class=\"col_heading level0 col1\" >city</th>        <th class=\"col_heading level0 col2\" >date_first</th>        <th class=\"col_heading level0 col3\" >date_last</th>    </tr></thead><tbody>\n",
       "                <tr>\n",
       "                                <td id=\"T_7bf3aea0_11f7_11eb_9c22_0242ac150003row0_col0\" class=\"data row0 col0\" >Семенов И.В.</td>\n",
       "                        <td id=\"T_7bf3aea0_11f7_11eb_9c22_0242ac150003row0_col1\" class=\"data row0 col1\" >Санкт-Петербург</td>\n",
       "                        <td id=\"T_7bf3aea0_11f7_11eb_9c22_0242ac150003row0_col2\" class=\"data row0 col2\" >2020-06-01</td>\n",
       "                        <td id=\"T_7bf3aea0_11f7_11eb_9c22_0242ac150003row0_col3\" class=\"data row0 col3\" >2020-06-03</td>\n",
       "            </tr>\n",
       "    </tbody></table>"
      ],
      "text/plain": [
       "<pandas.io.formats.style.Styler at 0x7fa9cfb49c40>"
      ]
     },
     "execution_count": 64,
     "metadata": {},
     "output_type": "execute_result"
    }
   ],
   "source": [
    "query = '''\n",
    "        SELECT name, city, date_first, date_last\n",
    "        FROM trip\n",
    "        WHERE DATEDIFF(date_last, date_first) + 1 = (SELECT MIN(DATEDIFF(date_last, date_first) + 1) FROM trip);\n",
    "        '''\n",
    "\n",
    "select_data(query).style.hide_index()"
   ]
  },
  {
   "cell_type": "code",
   "execution_count": 65,
   "metadata": {},
   "outputs": [
    {
     "data": {
      "text/html": [
       "<style  type=\"text/css\" >\n",
       "</style><table id=\"T_9ab2d190_11f7_11eb_9c22_0242ac150003\" ><thead>    <tr>        <th class=\"col_heading level0 col0\" >name</th>        <th class=\"col_heading level0 col1\" >city</th>        <th class=\"col_heading level0 col2\" >date_first</th>        <th class=\"col_heading level0 col3\" >date_last</th>    </tr></thead><tbody>\n",
       "                <tr>\n",
       "                                <td id=\"T_9ab2d190_11f7_11eb_9c22_0242ac150003row0_col0\" class=\"data row0 col0\" >Абрамова К.А.</td>\n",
       "                        <td id=\"T_9ab2d190_11f7_11eb_9c22_0242ac150003row0_col1\" class=\"data row0 col1\" >Владивосток</td>\n",
       "                        <td id=\"T_9ab2d190_11f7_11eb_9c22_0242ac150003row0_col2\" class=\"data row0 col2\" >2020-07-02</td>\n",
       "                        <td id=\"T_9ab2d190_11f7_11eb_9c22_0242ac150003row0_col3\" class=\"data row0 col3\" >2020-07-13</td>\n",
       "            </tr>\n",
       "            <tr>\n",
       "                                <td id=\"T_9ab2d190_11f7_11eb_9c22_0242ac150003row1_col0\" class=\"data row1 col0\" >Абрамова К.А.</td>\n",
       "                        <td id=\"T_9ab2d190_11f7_11eb_9c22_0242ac150003row1_col1\" class=\"data row1 col1\" >Владивосток</td>\n",
       "                        <td id=\"T_9ab2d190_11f7_11eb_9c22_0242ac150003row1_col2\" class=\"data row1 col2\" >2020-01-14</td>\n",
       "                        <td id=\"T_9ab2d190_11f7_11eb_9c22_0242ac150003row1_col3\" class=\"data row1 col3\" >2020-01-27</td>\n",
       "            </tr>\n",
       "            <tr>\n",
       "                                <td id=\"T_9ab2d190_11f7_11eb_9c22_0242ac150003row2_col0\" class=\"data row2 col0\" >Баранов П.Е.</td>\n",
       "                        <td id=\"T_9ab2d190_11f7_11eb_9c22_0242ac150003row2_col1\" class=\"data row2 col1\" >Воронеж</td>\n",
       "                        <td id=\"T_9ab2d190_11f7_11eb_9c22_0242ac150003row2_col2\" class=\"data row2 col2\" >2020-07-19</td>\n",
       "                        <td id=\"T_9ab2d190_11f7_11eb_9c22_0242ac150003row2_col3\" class=\"data row2 col3\" >2020-07-25</td>\n",
       "            </tr>\n",
       "            <tr>\n",
       "                                <td id=\"T_9ab2d190_11f7_11eb_9c22_0242ac150003row3_col0\" class=\"data row3 col0\" >Абрамова К.А.</td>\n",
       "                        <td id=\"T_9ab2d190_11f7_11eb_9c22_0242ac150003row3_col1\" class=\"data row3 col1\" >Москва</td>\n",
       "                        <td id=\"T_9ab2d190_11f7_11eb_9c22_0242ac150003row3_col2\" class=\"data row3 col2\" >2020-04-06</td>\n",
       "                        <td id=\"T_9ab2d190_11f7_11eb_9c22_0242ac150003row3_col3\" class=\"data row3 col3\" >2020-04-14</td>\n",
       "            </tr>\n",
       "            <tr>\n",
       "                                <td id=\"T_9ab2d190_11f7_11eb_9c22_0242ac150003row4_col0\" class=\"data row4 col0\" >Баранов П.Е.</td>\n",
       "                        <td id=\"T_9ab2d190_11f7_11eb_9c22_0242ac150003row4_col1\" class=\"data row4 col1\" >Москва</td>\n",
       "                        <td id=\"T_9ab2d190_11f7_11eb_9c22_0242ac150003row4_col2\" class=\"data row4 col2\" >2020-01-12</td>\n",
       "                        <td id=\"T_9ab2d190_11f7_11eb_9c22_0242ac150003row4_col3\" class=\"data row4 col3\" >2020-01-17</td>\n",
       "            </tr>\n",
       "            <tr>\n",
       "                                <td id=\"T_9ab2d190_11f7_11eb_9c22_0242ac150003row5_col0\" class=\"data row5 col0\" >Баранов П.Е.</td>\n",
       "                        <td id=\"T_9ab2d190_11f7_11eb_9c22_0242ac150003row5_col1\" class=\"data row5 col1\" >Москва</td>\n",
       "                        <td id=\"T_9ab2d190_11f7_11eb_9c22_0242ac150003row5_col2\" class=\"data row5 col2\" >2020-02-14</td>\n",
       "                        <td id=\"T_9ab2d190_11f7_11eb_9c22_0242ac150003row5_col3\" class=\"data row5 col3\" >2020-02-22</td>\n",
       "            </tr>\n",
       "            <tr>\n",
       "                                <td id=\"T_9ab2d190_11f7_11eb_9c22_0242ac150003row6_col0\" class=\"data row6 col0\" >Колесов С.П.</td>\n",
       "                        <td id=\"T_9ab2d190_11f7_11eb_9c22_0242ac150003row6_col1\" class=\"data row6 col1\" >Москва</td>\n",
       "                        <td id=\"T_9ab2d190_11f7_11eb_9c22_0242ac150003row6_col2\" class=\"data row6 col2\" >2020-02-01</td>\n",
       "                        <td id=\"T_9ab2d190_11f7_11eb_9c22_0242ac150003row6_col3\" class=\"data row6 col3\" >2020-02-06</td>\n",
       "            </tr>\n",
       "            <tr>\n",
       "                                <td id=\"T_9ab2d190_11f7_11eb_9c22_0242ac150003row7_col0\" class=\"data row7 col0\" >Лебедев Т.К.</td>\n",
       "                        <td id=\"T_9ab2d190_11f7_11eb_9c22_0242ac150003row7_col1\" class=\"data row7 col1\" >Москва</td>\n",
       "                        <td id=\"T_9ab2d190_11f7_11eb_9c22_0242ac150003row7_col2\" class=\"data row7 col2\" >2020-03-03</td>\n",
       "                        <td id=\"T_9ab2d190_11f7_11eb_9c22_0242ac150003row7_col3\" class=\"data row7 col3\" >2020-03-06</td>\n",
       "            </tr>\n",
       "            <tr>\n",
       "                                <td id=\"T_9ab2d190_11f7_11eb_9c22_0242ac150003row8_col0\" class=\"data row8 col0\" >Семенов И.В.</td>\n",
       "                        <td id=\"T_9ab2d190_11f7_11eb_9c22_0242ac150003row8_col1\" class=\"data row8 col1\" >Москва</td>\n",
       "                        <td id=\"T_9ab2d190_11f7_11eb_9c22_0242ac150003row8_col2\" class=\"data row8 col2\" >2020-01-23</td>\n",
       "                        <td id=\"T_9ab2d190_11f7_11eb_9c22_0242ac150003row8_col3\" class=\"data row8 col3\" >2020-01-31</td>\n",
       "            </tr>\n",
       "            <tr>\n",
       "                                <td id=\"T_9ab2d190_11f7_11eb_9c22_0242ac150003row9_col0\" class=\"data row9 col0\" >Колесов С.П.</td>\n",
       "                        <td id=\"T_9ab2d190_11f7_11eb_9c22_0242ac150003row9_col1\" class=\"data row9 col1\" >Новосибирск</td>\n",
       "                        <td id=\"T_9ab2d190_11f7_11eb_9c22_0242ac150003row9_col2\" class=\"data row9 col2\" >2020-06-03</td>\n",
       "                        <td id=\"T_9ab2d190_11f7_11eb_9c22_0242ac150003row9_col3\" class=\"data row9 col3\" >2020-06-12</td>\n",
       "            </tr>\n",
       "            <tr>\n",
       "                                <td id=\"T_9ab2d190_11f7_11eb_9c22_0242ac150003row10_col0\" class=\"data row10 col0\" >Семенов И.В.</td>\n",
       "                        <td id=\"T_9ab2d190_11f7_11eb_9c22_0242ac150003row10_col1\" class=\"data row10 col1\" >Санкт-Петербург</td>\n",
       "                        <td id=\"T_9ab2d190_11f7_11eb_9c22_0242ac150003row10_col2\" class=\"data row10 col2\" >2020-06-01</td>\n",
       "                        <td id=\"T_9ab2d190_11f7_11eb_9c22_0242ac150003row10_col3\" class=\"data row10 col3\" >2020-06-03</td>\n",
       "            </tr>\n",
       "            <tr>\n",
       "                                <td id=\"T_9ab2d190_11f7_11eb_9c22_0242ac150003row11_col0\" class=\"data row11 col0\" >Лебедев Т.К.</td>\n",
       "                        <td id=\"T_9ab2d190_11f7_11eb_9c22_0242ac150003row11_col1\" class=\"data row11 col1\" >Томск</td>\n",
       "                        <td id=\"T_9ab2d190_11f7_11eb_9c22_0242ac150003row11_col2\" class=\"data row11 col2\" >2020-05-20</td>\n",
       "                        <td id=\"T_9ab2d190_11f7_11eb_9c22_0242ac150003row11_col3\" class=\"data row11 col3\" >2020-05-31</td>\n",
       "            </tr>\n",
       "            <tr>\n",
       "                                <td id=\"T_9ab2d190_11f7_11eb_9c22_0242ac150003row12_col0\" class=\"data row12 col0\" >Федорова А.Ю.</td>\n",
       "                        <td id=\"T_9ab2d190_11f7_11eb_9c22_0242ac150003row12_col1\" class=\"data row12 col1\" >Томск</td>\n",
       "                        <td id=\"T_9ab2d190_11f7_11eb_9c22_0242ac150003row12_col2\" class=\"data row12 col2\" >2020-06-20</td>\n",
       "                        <td id=\"T_9ab2d190_11f7_11eb_9c22_0242ac150003row12_col3\" class=\"data row12 col3\" >2020-06-26</td>\n",
       "            </tr>\n",
       "    </tbody></table>"
      ],
      "text/plain": [
       "<pandas.io.formats.style.Styler at 0x7fa9cfbecbb0>"
      ]
     },
     "execution_count": 65,
     "metadata": {},
     "output_type": "execute_result"
    }
   ],
   "source": [
    "query = '''\n",
    "        SELECT name, city, date_first, date_last\n",
    "        FROM trip\n",
    "        WHERE MONTH(date_last) = MONTH(date_first)\n",
    "        ORDER BY city, name;\n",
    "        '''\n",
    "\n",
    "select_data(query).style.hide_index()"
   ]
  },
  {
   "cell_type": "code",
   "execution_count": 66,
   "metadata": {},
   "outputs": [
    {
     "data": {
      "text/html": [
       "<style  type=\"text/css\" >\n",
       "</style><table id=\"T_b19777da_11f7_11eb_9c22_0242ac150003\" ><thead>    <tr>        <th class=\"col_heading level0 col0\" >Месяц</th>        <th class=\"col_heading level0 col1\" >Количество</th>    </tr></thead><tbody>\n",
       "                <tr>\n",
       "                                <td id=\"T_b19777da_11f7_11eb_9c22_0242ac150003row0_col0\" class=\"data row0 col0\" >February</td>\n",
       "                        <td id=\"T_b19777da_11f7_11eb_9c22_0242ac150003row0_col1\" class=\"data row0 col1\" >4</td>\n",
       "            </tr>\n",
       "            <tr>\n",
       "                                <td id=\"T_b19777da_11f7_11eb_9c22_0242ac150003row1_col0\" class=\"data row1 col0\" >January</td>\n",
       "                        <td id=\"T_b19777da_11f7_11eb_9c22_0242ac150003row1_col1\" class=\"data row1 col1\" >4</td>\n",
       "            </tr>\n",
       "            <tr>\n",
       "                                <td id=\"T_b19777da_11f7_11eb_9c22_0242ac150003row2_col0\" class=\"data row2 col0\" >June</td>\n",
       "                        <td id=\"T_b19777da_11f7_11eb_9c22_0242ac150003row2_col1\" class=\"data row2 col1\" >3</td>\n",
       "            </tr>\n",
       "            <tr>\n",
       "                                <td id=\"T_b19777da_11f7_11eb_9c22_0242ac150003row3_col0\" class=\"data row3 col0\" >May</td>\n",
       "                        <td id=\"T_b19777da_11f7_11eb_9c22_0242ac150003row3_col1\" class=\"data row3 col1\" >3</td>\n",
       "            </tr>\n",
       "            <tr>\n",
       "                                <td id=\"T_b19777da_11f7_11eb_9c22_0242ac150003row4_col0\" class=\"data row4 col0\" >April</td>\n",
       "                        <td id=\"T_b19777da_11f7_11eb_9c22_0242ac150003row4_col1\" class=\"data row4 col1\" >2</td>\n",
       "            </tr>\n",
       "            <tr>\n",
       "                                <td id=\"T_b19777da_11f7_11eb_9c22_0242ac150003row5_col0\" class=\"data row5 col0\" >July</td>\n",
       "                        <td id=\"T_b19777da_11f7_11eb_9c22_0242ac150003row5_col1\" class=\"data row5 col1\" >2</td>\n",
       "            </tr>\n",
       "            <tr>\n",
       "                                <td id=\"T_b19777da_11f7_11eb_9c22_0242ac150003row6_col0\" class=\"data row6 col0\" >March</td>\n",
       "                        <td id=\"T_b19777da_11f7_11eb_9c22_0242ac150003row6_col1\" class=\"data row6 col1\" >2</td>\n",
       "            </tr>\n",
       "    </tbody></table>"
      ],
      "text/plain": [
       "<pandas.io.formats.style.Styler at 0x7fa9cfc363a0>"
      ]
     },
     "execution_count": 66,
     "metadata": {},
     "output_type": "execute_result"
    }
   ],
   "source": [
    "query = '''\n",
    "        SELECT MONTHNAME(date_first) AS 'Месяц', COUNT(MONTH(date_first)) AS 'Количество'\n",
    "        FROM trip\n",
    "        GROUP BY Месяц\n",
    "        ORDER BY Количество DESC, Месяц ASC;\n",
    "        '''\n",
    "\n",
    "select_data(query).style.hide_index()"
   ]
  },
  {
   "cell_type": "code",
   "execution_count": 67,
   "metadata": {},
   "outputs": [
    {
     "data": {
      "text/html": [
       "<style  type=\"text/css\" >\n",
       "</style><table id=\"T_668e20da_11f8_11eb_9c22_0242ac150003\" ><thead>    <tr>        <th class=\"col_heading level0 col0\" >name</th>        <th class=\"col_heading level0 col1\" >city</th>        <th class=\"col_heading level0 col2\" >date_first</th>        <th class=\"col_heading level0 col3\" >Сумма</th>    </tr></thead><tbody>\n",
       "                <tr>\n",
       "                                <td id=\"T_668e20da_11f8_11eb_9c22_0242ac150003row0_col0\" class=\"data row0 col0\" >Абрамова К.А.</td>\n",
       "                        <td id=\"T_668e20da_11f8_11eb_9c22_0242ac150003row0_col1\" class=\"data row0 col1\" >Москва</td>\n",
       "                        <td id=\"T_668e20da_11f8_11eb_9c22_0242ac150003row0_col2\" class=\"data row0 col2\" >2020-02-23</td>\n",
       "                        <td id=\"T_668e20da_11f8_11eb_9c22_0242ac150003row0_col3\" class=\"data row0 col3\" >5600.000000</td>\n",
       "            </tr>\n",
       "            <tr>\n",
       "                                <td id=\"T_668e20da_11f8_11eb_9c22_0242ac150003row1_col0\" class=\"data row1 col0\" >Баранов П.Е.</td>\n",
       "                        <td id=\"T_668e20da_11f8_11eb_9c22_0242ac150003row1_col1\" class=\"data row1 col1\" >Москва</td>\n",
       "                        <td id=\"T_668e20da_11f8_11eb_9c22_0242ac150003row1_col2\" class=\"data row1 col2\" >2020-02-14</td>\n",
       "                        <td id=\"T_668e20da_11f8_11eb_9c22_0242ac150003row1_col3\" class=\"data row1 col3\" >6300.000000</td>\n",
       "            </tr>\n",
       "            <tr>\n",
       "                                <td id=\"T_668e20da_11f8_11eb_9c22_0242ac150003row2_col0\" class=\"data row2 col0\" >Колесов С.П.</td>\n",
       "                        <td id=\"T_668e20da_11f8_11eb_9c22_0242ac150003row2_col1\" class=\"data row2 col1\" >Новосибирск</td>\n",
       "                        <td id=\"T_668e20da_11f8_11eb_9c22_0242ac150003row2_col2\" class=\"data row2 col2\" >2020-02-27</td>\n",
       "                        <td id=\"T_668e20da_11f8_11eb_9c22_0242ac150003row2_col3\" class=\"data row2 col3\" >6750.000000</td>\n",
       "            </tr>\n",
       "            <tr>\n",
       "                                <td id=\"T_668e20da_11f8_11eb_9c22_0242ac150003row3_col0\" class=\"data row3 col0\" >Колесов С.П.</td>\n",
       "                        <td id=\"T_668e20da_11f8_11eb_9c22_0242ac150003row3_col1\" class=\"data row3 col1\" >Москва</td>\n",
       "                        <td id=\"T_668e20da_11f8_11eb_9c22_0242ac150003row3_col2\" class=\"data row3 col2\" >2020-02-01</td>\n",
       "                        <td id=\"T_668e20da_11f8_11eb_9c22_0242ac150003row3_col3\" class=\"data row3 col3\" >4200.000000</td>\n",
       "            </tr>\n",
       "            <tr>\n",
       "                                <td id=\"T_668e20da_11f8_11eb_9c22_0242ac150003row4_col0\" class=\"data row4 col0\" >Лебедев Т.К.</td>\n",
       "                        <td id=\"T_668e20da_11f8_11eb_9c22_0242ac150003row4_col1\" class=\"data row4 col1\" >Москва</td>\n",
       "                        <td id=\"T_668e20da_11f8_11eb_9c22_0242ac150003row4_col2\" class=\"data row4 col2\" >2020-03-03</td>\n",
       "                        <td id=\"T_668e20da_11f8_11eb_9c22_0242ac150003row4_col3\" class=\"data row4 col3\" >2800.000000</td>\n",
       "            </tr>\n",
       "            <tr>\n",
       "                                <td id=\"T_668e20da_11f8_11eb_9c22_0242ac150003row5_col0\" class=\"data row5 col0\" >Семенов И.В.</td>\n",
       "                        <td id=\"T_668e20da_11f8_11eb_9c22_0242ac150003row5_col1\" class=\"data row5 col1\" >Санкт-Петербург</td>\n",
       "                        <td id=\"T_668e20da_11f8_11eb_9c22_0242ac150003row5_col2\" class=\"data row5 col2\" >2020-03-29</td>\n",
       "                        <td id=\"T_668e20da_11f8_11eb_9c22_0242ac150003row5_col3\" class=\"data row5 col3\" >5600.000000</td>\n",
       "            </tr>\n",
       "    </tbody></table>"
      ],
      "text/plain": [
       "<pandas.io.formats.style.Styler at 0x7fa9cfb8d850>"
      ]
     },
     "execution_count": 67,
     "metadata": {},
     "output_type": "execute_result"
    }
   ],
   "source": [
    "query = '''\n",
    "        SELECT name, city, date_first, (DATEDIFF(date_last, date_first) + 1) * per_diem AS 'Сумма'\n",
    "        FROM trip\n",
    "        WHERE MONTH(date_first) IN (2, 3) AND YEAR(date_first) = 2020\n",
    "        ORDER BY name, Сумма DESC;\n",
    "        '''\n",
    "\n",
    "select_data(query).style.hide_index()"
   ]
  },
  {
   "cell_type": "code",
   "execution_count": 68,
   "metadata": {},
   "outputs": [
    {
     "data": {
      "text/html": [
       "<style  type=\"text/css\" >\n",
       "</style><table id=\"T_7f8849da_11f8_11eb_9c22_0242ac150003\" ><thead>    <tr>        <th class=\"col_heading level0 col0\" >name</th>        <th class=\"col_heading level0 col1\" >Сумма</th>    </tr></thead><tbody>\n",
       "                <tr>\n",
       "                                <td id=\"T_7f8849da_11f8_11eb_9c22_0242ac150003row0_col0\" class=\"data row0 col0\" >Абрамова К.А.</td>\n",
       "                        <td id=\"T_7f8849da_11f8_11eb_9c22_0242ac150003row0_col1\" class=\"data row0 col1\" >29200.000000</td>\n",
       "            </tr>\n",
       "            <tr>\n",
       "                                <td id=\"T_7f8849da_11f8_11eb_9c22_0242ac150003row1_col0\" class=\"data row1 col0\" >Баранов П.Е.</td>\n",
       "                        <td id=\"T_7f8849da_11f8_11eb_9c22_0242ac150003row1_col1\" class=\"data row1 col1\" >21300.000000</td>\n",
       "            </tr>\n",
       "    </tbody></table>"
      ],
      "text/plain": [
       "<pandas.io.formats.style.Styler at 0x7faa1899de80>"
      ]
     },
     "execution_count": 68,
     "metadata": {},
     "output_type": "execute_result"
    }
   ],
   "source": [
    "query = '''\n",
    "        SELECT name, SUM((DATEDIFF(date_last, date_first) + 1) * per_diem) AS 'Сумма'\n",
    "        FROM trip\n",
    "        WHERE name IN (SELECT name FROM trip GROUP BY name HAVING COUNT(name) > 3)\n",
    "        GROUP BY name\n",
    "        ORDER BY Сумма DESC;\n",
    "        '''\n",
    "\n",
    "select_data(query).style.hide_index()"
   ]
  },
  {
   "cell_type": "markdown",
   "metadata": {},
   "source": [
    "## Таблица \"Нарушения ПДД\", запросы корректировки"
   ]
  },
  {
   "cell_type": "code",
   "execution_count": 73,
   "metadata": {},
   "outputs": [],
   "source": [
    "# query = '''\n",
    "#         CREATE TABLE fine (\n",
    "#                              fine_id INT PRIMARY KEY AUTO_INCREMENT, \n",
    "#                              name VARCHAR(30), \n",
    "#                              number_plate VARCHAR(6),\n",
    "#                              violation VARCHAR(50),\n",
    "#                              sum_fine DECIMAL (8,2), \n",
    "#                              date_violation DATE, \n",
    "#                              date_payment DATE \n",
    "#                           );\n",
    "#         '''\n",
    "\n",
    "# create_table(query)"
   ]
  },
  {
   "cell_type": "code",
   "execution_count": 74,
   "metadata": {},
   "outputs": [],
   "source": [
    "query = '''\n",
    "        INSERT INTO fine (name, number_plate, violation, sum_fine, date_violation, date_payment)\n",
    "        VALUES ('Баранов П.Е.', 'Р523ВТ', 'Превышение скорости (от 40 до 60)', 500.00, STR_TO_DATE('2020-01-12', '%Y-%m-%d'), STR_TO_DATE('2020-01-17', '%Y-%m-%d')),\n",
    "               ('Абрамова К.А.', 'О111АВ', 'Проезд на запрещающий сигнал', 1000.00, STR_TO_DATE('2020-01-14', '%Y-%m-%d'), STR_TO_DATE('2020-02-27', '%Y-%m-%d')),\n",
    "               ('Яковлев Г.Р.', 'Т330ТТ', 'Превышение скорости (от 20 до 40)', 500.00, STR_TO_DATE('2020-01-23', '%Y-%m-%d'), STR_TO_DATE('2020-02-23', '%Y-%m-%d')),\n",
    "               ('Яковлев Г.Р.', 'М701АА', 'Превышение скорости (от 20 до 40)', NULL, STR_TO_DATE('2020-01-12', '%Y-%m-%d'), NULL),\n",
    "               ('Колесов С.П.', 'К892АХ', 'Превышение скорости (от 20 до 40)', NULL, STR_TO_DATE('2020-02-01', '%Y-%m-%d'), NULL),\n",
    "               ('Баранов П.Е.', 'Р523ВТ', 'Превышение скорости (от 40 до 60)', NULL, STR_TO_DATE('2020-02-14', '%Y-%m-%d'), NULL),\n",
    "               ('Абрамова К.А.', 'О111АВ', 'Проезд на запрещающий сигнал', NULL, STR_TO_DATE('2020-02-23', '%Y-%m-%d'), NULL),\n",
    "               ('Яковлев Г.Р.', 'Т330ТТ', 'Проезд на запрещающий сигнал', NULL, STR_TO_DATE('2020-03-03', '%Y-%m-%d'), NULL);\n",
    "        '''\n",
    "\n",
    "insert_values(query)"
   ]
  },
  {
   "cell_type": "code",
   "execution_count": 76,
   "metadata": {},
   "outputs": [],
   "source": [
    "# query = '''\n",
    "#         CREATE TABLE traffic_violation (\n",
    "#                              violation_id INT PRIMARY KEY AUTO_INCREMENT, \n",
    "#                              violation VARCHAR(50), \n",
    "#                              sum_fine DECIMAL (8,2)\n",
    "#                           );\n",
    "#         '''\n",
    "\n",
    "# create_table(query)"
   ]
  },
  {
   "cell_type": "code",
   "execution_count": 77,
   "metadata": {},
   "outputs": [],
   "source": [
    "# query = '''\n",
    "#         INSERT INTO traffic_violation (violation, sum_fine)\n",
    "#         VALUES ('Превышение скорости (от 20 до 40)', 500.00),\n",
    "#                ('Превышение скорости (от 40 до 60)', 1000.00),\n",
    "#                ('Проезд на запрещающий сигнал', 1000.00);\n",
    "#         '''\n",
    "\n",
    "# insert_values(query)"
   ]
  },
  {
   "cell_type": "code",
   "execution_count": 79,
   "metadata": {},
   "outputs": [
    {
     "data": {
      "text/html": [
       "<style  type=\"text/css\" >\n",
       "</style><table id=\"T_265fc8f6_11fd_11eb_9c22_0242ac150003\" ><thead>    <tr>        <th class=\"col_heading level0 col0\" >fine_id</th>        <th class=\"col_heading level0 col1\" >name</th>        <th class=\"col_heading level0 col2\" >number_plate</th>        <th class=\"col_heading level0 col3\" >violation</th>        <th class=\"col_heading level0 col4\" >sum_fine</th>        <th class=\"col_heading level0 col5\" >date_violation</th>        <th class=\"col_heading level0 col6\" >date_payment</th>    </tr></thead><tbody>\n",
       "                <tr>\n",
       "                                <td id=\"T_265fc8f6_11fd_11eb_9c22_0242ac150003row0_col0\" class=\"data row0 col0\" >1</td>\n",
       "                        <td id=\"T_265fc8f6_11fd_11eb_9c22_0242ac150003row0_col1\" class=\"data row0 col1\" >Баранов П.Е.</td>\n",
       "                        <td id=\"T_265fc8f6_11fd_11eb_9c22_0242ac150003row0_col2\" class=\"data row0 col2\" >Р523ВТ</td>\n",
       "                        <td id=\"T_265fc8f6_11fd_11eb_9c22_0242ac150003row0_col3\" class=\"data row0 col3\" >Превышение скорости (от 40 до 60)</td>\n",
       "                        <td id=\"T_265fc8f6_11fd_11eb_9c22_0242ac150003row0_col4\" class=\"data row0 col4\" >500.000000</td>\n",
       "                        <td id=\"T_265fc8f6_11fd_11eb_9c22_0242ac150003row0_col5\" class=\"data row0 col5\" >2020-01-12</td>\n",
       "                        <td id=\"T_265fc8f6_11fd_11eb_9c22_0242ac150003row0_col6\" class=\"data row0 col6\" >2020-01-17</td>\n",
       "            </tr>\n",
       "            <tr>\n",
       "                                <td id=\"T_265fc8f6_11fd_11eb_9c22_0242ac150003row1_col0\" class=\"data row1 col0\" >2</td>\n",
       "                        <td id=\"T_265fc8f6_11fd_11eb_9c22_0242ac150003row1_col1\" class=\"data row1 col1\" >Абрамова К.А.</td>\n",
       "                        <td id=\"T_265fc8f6_11fd_11eb_9c22_0242ac150003row1_col2\" class=\"data row1 col2\" >О111АВ</td>\n",
       "                        <td id=\"T_265fc8f6_11fd_11eb_9c22_0242ac150003row1_col3\" class=\"data row1 col3\" >Проезд на запрещающий сигнал</td>\n",
       "                        <td id=\"T_265fc8f6_11fd_11eb_9c22_0242ac150003row1_col4\" class=\"data row1 col4\" >1000.000000</td>\n",
       "                        <td id=\"T_265fc8f6_11fd_11eb_9c22_0242ac150003row1_col5\" class=\"data row1 col5\" >2020-01-14</td>\n",
       "                        <td id=\"T_265fc8f6_11fd_11eb_9c22_0242ac150003row1_col6\" class=\"data row1 col6\" >2020-02-27</td>\n",
       "            </tr>\n",
       "            <tr>\n",
       "                                <td id=\"T_265fc8f6_11fd_11eb_9c22_0242ac150003row2_col0\" class=\"data row2 col0\" >3</td>\n",
       "                        <td id=\"T_265fc8f6_11fd_11eb_9c22_0242ac150003row2_col1\" class=\"data row2 col1\" >Яковлев Г.Р.</td>\n",
       "                        <td id=\"T_265fc8f6_11fd_11eb_9c22_0242ac150003row2_col2\" class=\"data row2 col2\" >Т330ТТ</td>\n",
       "                        <td id=\"T_265fc8f6_11fd_11eb_9c22_0242ac150003row2_col3\" class=\"data row2 col3\" >Превышение скорости (от 20 до 40)</td>\n",
       "                        <td id=\"T_265fc8f6_11fd_11eb_9c22_0242ac150003row2_col4\" class=\"data row2 col4\" >500.000000</td>\n",
       "                        <td id=\"T_265fc8f6_11fd_11eb_9c22_0242ac150003row2_col5\" class=\"data row2 col5\" >2020-01-23</td>\n",
       "                        <td id=\"T_265fc8f6_11fd_11eb_9c22_0242ac150003row2_col6\" class=\"data row2 col6\" >2020-02-23</td>\n",
       "            </tr>\n",
       "            <tr>\n",
       "                                <td id=\"T_265fc8f6_11fd_11eb_9c22_0242ac150003row3_col0\" class=\"data row3 col0\" >4</td>\n",
       "                        <td id=\"T_265fc8f6_11fd_11eb_9c22_0242ac150003row3_col1\" class=\"data row3 col1\" >Яковлев Г.Р.</td>\n",
       "                        <td id=\"T_265fc8f6_11fd_11eb_9c22_0242ac150003row3_col2\" class=\"data row3 col2\" >М701АА</td>\n",
       "                        <td id=\"T_265fc8f6_11fd_11eb_9c22_0242ac150003row3_col3\" class=\"data row3 col3\" >Превышение скорости (от 20 до 40)</td>\n",
       "                        <td id=\"T_265fc8f6_11fd_11eb_9c22_0242ac150003row3_col4\" class=\"data row3 col4\" >nan</td>\n",
       "                        <td id=\"T_265fc8f6_11fd_11eb_9c22_0242ac150003row3_col5\" class=\"data row3 col5\" >2020-01-12</td>\n",
       "                        <td id=\"T_265fc8f6_11fd_11eb_9c22_0242ac150003row3_col6\" class=\"data row3 col6\" >None</td>\n",
       "            </tr>\n",
       "            <tr>\n",
       "                                <td id=\"T_265fc8f6_11fd_11eb_9c22_0242ac150003row4_col0\" class=\"data row4 col0\" >5</td>\n",
       "                        <td id=\"T_265fc8f6_11fd_11eb_9c22_0242ac150003row4_col1\" class=\"data row4 col1\" >Колесов С.П.</td>\n",
       "                        <td id=\"T_265fc8f6_11fd_11eb_9c22_0242ac150003row4_col2\" class=\"data row4 col2\" >К892АХ</td>\n",
       "                        <td id=\"T_265fc8f6_11fd_11eb_9c22_0242ac150003row4_col3\" class=\"data row4 col3\" >Превышение скорости (от 20 до 40)</td>\n",
       "                        <td id=\"T_265fc8f6_11fd_11eb_9c22_0242ac150003row4_col4\" class=\"data row4 col4\" >nan</td>\n",
       "                        <td id=\"T_265fc8f6_11fd_11eb_9c22_0242ac150003row4_col5\" class=\"data row4 col5\" >2020-02-01</td>\n",
       "                        <td id=\"T_265fc8f6_11fd_11eb_9c22_0242ac150003row4_col6\" class=\"data row4 col6\" >None</td>\n",
       "            </tr>\n",
       "            <tr>\n",
       "                                <td id=\"T_265fc8f6_11fd_11eb_9c22_0242ac150003row5_col0\" class=\"data row5 col0\" >6</td>\n",
       "                        <td id=\"T_265fc8f6_11fd_11eb_9c22_0242ac150003row5_col1\" class=\"data row5 col1\" >Баранов П.Е.</td>\n",
       "                        <td id=\"T_265fc8f6_11fd_11eb_9c22_0242ac150003row5_col2\" class=\"data row5 col2\" >Р523ВТ</td>\n",
       "                        <td id=\"T_265fc8f6_11fd_11eb_9c22_0242ac150003row5_col3\" class=\"data row5 col3\" >Превышение скорости (от 40 до 60)</td>\n",
       "                        <td id=\"T_265fc8f6_11fd_11eb_9c22_0242ac150003row5_col4\" class=\"data row5 col4\" >nan</td>\n",
       "                        <td id=\"T_265fc8f6_11fd_11eb_9c22_0242ac150003row5_col5\" class=\"data row5 col5\" >2020-02-14</td>\n",
       "                        <td id=\"T_265fc8f6_11fd_11eb_9c22_0242ac150003row5_col6\" class=\"data row5 col6\" >None</td>\n",
       "            </tr>\n",
       "            <tr>\n",
       "                                <td id=\"T_265fc8f6_11fd_11eb_9c22_0242ac150003row6_col0\" class=\"data row6 col0\" >7</td>\n",
       "                        <td id=\"T_265fc8f6_11fd_11eb_9c22_0242ac150003row6_col1\" class=\"data row6 col1\" >Абрамова К.А.</td>\n",
       "                        <td id=\"T_265fc8f6_11fd_11eb_9c22_0242ac150003row6_col2\" class=\"data row6 col2\" >О111АВ</td>\n",
       "                        <td id=\"T_265fc8f6_11fd_11eb_9c22_0242ac150003row6_col3\" class=\"data row6 col3\" >Проезд на запрещающий сигнал</td>\n",
       "                        <td id=\"T_265fc8f6_11fd_11eb_9c22_0242ac150003row6_col4\" class=\"data row6 col4\" >nan</td>\n",
       "                        <td id=\"T_265fc8f6_11fd_11eb_9c22_0242ac150003row6_col5\" class=\"data row6 col5\" >2020-02-23</td>\n",
       "                        <td id=\"T_265fc8f6_11fd_11eb_9c22_0242ac150003row6_col6\" class=\"data row6 col6\" >None</td>\n",
       "            </tr>\n",
       "            <tr>\n",
       "                                <td id=\"T_265fc8f6_11fd_11eb_9c22_0242ac150003row7_col0\" class=\"data row7 col0\" >8</td>\n",
       "                        <td id=\"T_265fc8f6_11fd_11eb_9c22_0242ac150003row7_col1\" class=\"data row7 col1\" >Яковлев Г.Р.</td>\n",
       "                        <td id=\"T_265fc8f6_11fd_11eb_9c22_0242ac150003row7_col2\" class=\"data row7 col2\" >Т330ТТ</td>\n",
       "                        <td id=\"T_265fc8f6_11fd_11eb_9c22_0242ac150003row7_col3\" class=\"data row7 col3\" >Проезд на запрещающий сигнал</td>\n",
       "                        <td id=\"T_265fc8f6_11fd_11eb_9c22_0242ac150003row7_col4\" class=\"data row7 col4\" >nan</td>\n",
       "                        <td id=\"T_265fc8f6_11fd_11eb_9c22_0242ac150003row7_col5\" class=\"data row7 col5\" >2020-03-03</td>\n",
       "                        <td id=\"T_265fc8f6_11fd_11eb_9c22_0242ac150003row7_col6\" class=\"data row7 col6\" >None</td>\n",
       "            </tr>\n",
       "    </tbody></table>"
      ],
      "text/plain": [
       "<pandas.io.formats.style.Styler at 0x7fa9cfb8dfa0>"
      ]
     },
     "execution_count": 79,
     "metadata": {},
     "output_type": "execute_result"
    }
   ],
   "source": [
    "query = '''\n",
    "        SELECT *\n",
    "        FROM fine\n",
    "        '''\n",
    "\n",
    "select_data(query).style.hide_index()"
   ]
  },
  {
   "cell_type": "code",
   "execution_count": 78,
   "metadata": {},
   "outputs": [
    {
     "data": {
      "text/html": [
       "<style  type=\"text/css\" >\n",
       "</style><table id=\"T_d0c840c6_11fc_11eb_9c22_0242ac150003\" ><thead>    <tr>        <th class=\"col_heading level0 col0\" >violation_id</th>        <th class=\"col_heading level0 col1\" >violation</th>        <th class=\"col_heading level0 col2\" >sum_fine</th>    </tr></thead><tbody>\n",
       "                <tr>\n",
       "                                <td id=\"T_d0c840c6_11fc_11eb_9c22_0242ac150003row0_col0\" class=\"data row0 col0\" >1</td>\n",
       "                        <td id=\"T_d0c840c6_11fc_11eb_9c22_0242ac150003row0_col1\" class=\"data row0 col1\" >Превышение скорости (от 20 до 40)</td>\n",
       "                        <td id=\"T_d0c840c6_11fc_11eb_9c22_0242ac150003row0_col2\" class=\"data row0 col2\" >500.000000</td>\n",
       "            </tr>\n",
       "            <tr>\n",
       "                                <td id=\"T_d0c840c6_11fc_11eb_9c22_0242ac150003row1_col0\" class=\"data row1 col0\" >2</td>\n",
       "                        <td id=\"T_d0c840c6_11fc_11eb_9c22_0242ac150003row1_col1\" class=\"data row1 col1\" >Превышение скорости (от 40 до 60)</td>\n",
       "                        <td id=\"T_d0c840c6_11fc_11eb_9c22_0242ac150003row1_col2\" class=\"data row1 col2\" >1000.000000</td>\n",
       "            </tr>\n",
       "            <tr>\n",
       "                                <td id=\"T_d0c840c6_11fc_11eb_9c22_0242ac150003row2_col0\" class=\"data row2 col0\" >3</td>\n",
       "                        <td id=\"T_d0c840c6_11fc_11eb_9c22_0242ac150003row2_col1\" class=\"data row2 col1\" >Проезд на запрещающий сигнал</td>\n",
       "                        <td id=\"T_d0c840c6_11fc_11eb_9c22_0242ac150003row2_col2\" class=\"data row2 col2\" >1000.000000</td>\n",
       "            </tr>\n",
       "    </tbody></table>"
      ],
      "text/plain": [
       "<pandas.io.formats.style.Styler at 0x7faa18977e80>"
      ]
     },
     "execution_count": 78,
     "metadata": {},
     "output_type": "execute_result"
    }
   ],
   "source": [
    "query = '''\n",
    "        SELECT *\n",
    "        FROM traffic_violation\n",
    "        '''\n",
    "\n",
    "select_data(query).style.hide_index()"
   ]
  },
  {
   "cell_type": "code",
   "execution_count": 80,
   "metadata": {},
   "outputs": [],
   "source": [
    "query = '''\n",
    "        UPDATE fine f, traffic_violation tv SET f.sum_fine = tv.sum_fine\n",
    "        WHERE f.sum_fine IS Null and f.violation = tv.violation;\n",
    "        '''\n",
    "\n",
    "insert_values(query)"
   ]
  },
  {
   "cell_type": "code",
   "execution_count": 81,
   "metadata": {},
   "outputs": [
    {
     "data": {
      "text/html": [
       "<style  type=\"text/css\" >\n",
       "</style><table id=\"T_43477efa_11fd_11eb_9c22_0242ac150003\" ><thead>    <tr>        <th class=\"col_heading level0 col0\" >fine_id</th>        <th class=\"col_heading level0 col1\" >name</th>        <th class=\"col_heading level0 col2\" >number_plate</th>        <th class=\"col_heading level0 col3\" >violation</th>        <th class=\"col_heading level0 col4\" >sum_fine</th>        <th class=\"col_heading level0 col5\" >date_violation</th>        <th class=\"col_heading level0 col6\" >date_payment</th>    </tr></thead><tbody>\n",
       "                <tr>\n",
       "                                <td id=\"T_43477efa_11fd_11eb_9c22_0242ac150003row0_col0\" class=\"data row0 col0\" >1</td>\n",
       "                        <td id=\"T_43477efa_11fd_11eb_9c22_0242ac150003row0_col1\" class=\"data row0 col1\" >Баранов П.Е.</td>\n",
       "                        <td id=\"T_43477efa_11fd_11eb_9c22_0242ac150003row0_col2\" class=\"data row0 col2\" >Р523ВТ</td>\n",
       "                        <td id=\"T_43477efa_11fd_11eb_9c22_0242ac150003row0_col3\" class=\"data row0 col3\" >Превышение скорости (от 40 до 60)</td>\n",
       "                        <td id=\"T_43477efa_11fd_11eb_9c22_0242ac150003row0_col4\" class=\"data row0 col4\" >500.000000</td>\n",
       "                        <td id=\"T_43477efa_11fd_11eb_9c22_0242ac150003row0_col5\" class=\"data row0 col5\" >2020-01-12</td>\n",
       "                        <td id=\"T_43477efa_11fd_11eb_9c22_0242ac150003row0_col6\" class=\"data row0 col6\" >2020-01-17</td>\n",
       "            </tr>\n",
       "            <tr>\n",
       "                                <td id=\"T_43477efa_11fd_11eb_9c22_0242ac150003row1_col0\" class=\"data row1 col0\" >2</td>\n",
       "                        <td id=\"T_43477efa_11fd_11eb_9c22_0242ac150003row1_col1\" class=\"data row1 col1\" >Абрамова К.А.</td>\n",
       "                        <td id=\"T_43477efa_11fd_11eb_9c22_0242ac150003row1_col2\" class=\"data row1 col2\" >О111АВ</td>\n",
       "                        <td id=\"T_43477efa_11fd_11eb_9c22_0242ac150003row1_col3\" class=\"data row1 col3\" >Проезд на запрещающий сигнал</td>\n",
       "                        <td id=\"T_43477efa_11fd_11eb_9c22_0242ac150003row1_col4\" class=\"data row1 col4\" >1000.000000</td>\n",
       "                        <td id=\"T_43477efa_11fd_11eb_9c22_0242ac150003row1_col5\" class=\"data row1 col5\" >2020-01-14</td>\n",
       "                        <td id=\"T_43477efa_11fd_11eb_9c22_0242ac150003row1_col6\" class=\"data row1 col6\" >2020-02-27</td>\n",
       "            </tr>\n",
       "            <tr>\n",
       "                                <td id=\"T_43477efa_11fd_11eb_9c22_0242ac150003row2_col0\" class=\"data row2 col0\" >3</td>\n",
       "                        <td id=\"T_43477efa_11fd_11eb_9c22_0242ac150003row2_col1\" class=\"data row2 col1\" >Яковлев Г.Р.</td>\n",
       "                        <td id=\"T_43477efa_11fd_11eb_9c22_0242ac150003row2_col2\" class=\"data row2 col2\" >Т330ТТ</td>\n",
       "                        <td id=\"T_43477efa_11fd_11eb_9c22_0242ac150003row2_col3\" class=\"data row2 col3\" >Превышение скорости (от 20 до 40)</td>\n",
       "                        <td id=\"T_43477efa_11fd_11eb_9c22_0242ac150003row2_col4\" class=\"data row2 col4\" >500.000000</td>\n",
       "                        <td id=\"T_43477efa_11fd_11eb_9c22_0242ac150003row2_col5\" class=\"data row2 col5\" >2020-01-23</td>\n",
       "                        <td id=\"T_43477efa_11fd_11eb_9c22_0242ac150003row2_col6\" class=\"data row2 col6\" >2020-02-23</td>\n",
       "            </tr>\n",
       "            <tr>\n",
       "                                <td id=\"T_43477efa_11fd_11eb_9c22_0242ac150003row3_col0\" class=\"data row3 col0\" >4</td>\n",
       "                        <td id=\"T_43477efa_11fd_11eb_9c22_0242ac150003row3_col1\" class=\"data row3 col1\" >Яковлев Г.Р.</td>\n",
       "                        <td id=\"T_43477efa_11fd_11eb_9c22_0242ac150003row3_col2\" class=\"data row3 col2\" >М701АА</td>\n",
       "                        <td id=\"T_43477efa_11fd_11eb_9c22_0242ac150003row3_col3\" class=\"data row3 col3\" >Превышение скорости (от 20 до 40)</td>\n",
       "                        <td id=\"T_43477efa_11fd_11eb_9c22_0242ac150003row3_col4\" class=\"data row3 col4\" >500.000000</td>\n",
       "                        <td id=\"T_43477efa_11fd_11eb_9c22_0242ac150003row3_col5\" class=\"data row3 col5\" >2020-01-12</td>\n",
       "                        <td id=\"T_43477efa_11fd_11eb_9c22_0242ac150003row3_col6\" class=\"data row3 col6\" >None</td>\n",
       "            </tr>\n",
       "            <tr>\n",
       "                                <td id=\"T_43477efa_11fd_11eb_9c22_0242ac150003row4_col0\" class=\"data row4 col0\" >5</td>\n",
       "                        <td id=\"T_43477efa_11fd_11eb_9c22_0242ac150003row4_col1\" class=\"data row4 col1\" >Колесов С.П.</td>\n",
       "                        <td id=\"T_43477efa_11fd_11eb_9c22_0242ac150003row4_col2\" class=\"data row4 col2\" >К892АХ</td>\n",
       "                        <td id=\"T_43477efa_11fd_11eb_9c22_0242ac150003row4_col3\" class=\"data row4 col3\" >Превышение скорости (от 20 до 40)</td>\n",
       "                        <td id=\"T_43477efa_11fd_11eb_9c22_0242ac150003row4_col4\" class=\"data row4 col4\" >500.000000</td>\n",
       "                        <td id=\"T_43477efa_11fd_11eb_9c22_0242ac150003row4_col5\" class=\"data row4 col5\" >2020-02-01</td>\n",
       "                        <td id=\"T_43477efa_11fd_11eb_9c22_0242ac150003row4_col6\" class=\"data row4 col6\" >None</td>\n",
       "            </tr>\n",
       "            <tr>\n",
       "                                <td id=\"T_43477efa_11fd_11eb_9c22_0242ac150003row5_col0\" class=\"data row5 col0\" >6</td>\n",
       "                        <td id=\"T_43477efa_11fd_11eb_9c22_0242ac150003row5_col1\" class=\"data row5 col1\" >Баранов П.Е.</td>\n",
       "                        <td id=\"T_43477efa_11fd_11eb_9c22_0242ac150003row5_col2\" class=\"data row5 col2\" >Р523ВТ</td>\n",
       "                        <td id=\"T_43477efa_11fd_11eb_9c22_0242ac150003row5_col3\" class=\"data row5 col3\" >Превышение скорости (от 40 до 60)</td>\n",
       "                        <td id=\"T_43477efa_11fd_11eb_9c22_0242ac150003row5_col4\" class=\"data row5 col4\" >1000.000000</td>\n",
       "                        <td id=\"T_43477efa_11fd_11eb_9c22_0242ac150003row5_col5\" class=\"data row5 col5\" >2020-02-14</td>\n",
       "                        <td id=\"T_43477efa_11fd_11eb_9c22_0242ac150003row5_col6\" class=\"data row5 col6\" >None</td>\n",
       "            </tr>\n",
       "            <tr>\n",
       "                                <td id=\"T_43477efa_11fd_11eb_9c22_0242ac150003row6_col0\" class=\"data row6 col0\" >7</td>\n",
       "                        <td id=\"T_43477efa_11fd_11eb_9c22_0242ac150003row6_col1\" class=\"data row6 col1\" >Абрамова К.А.</td>\n",
       "                        <td id=\"T_43477efa_11fd_11eb_9c22_0242ac150003row6_col2\" class=\"data row6 col2\" >О111АВ</td>\n",
       "                        <td id=\"T_43477efa_11fd_11eb_9c22_0242ac150003row6_col3\" class=\"data row6 col3\" >Проезд на запрещающий сигнал</td>\n",
       "                        <td id=\"T_43477efa_11fd_11eb_9c22_0242ac150003row6_col4\" class=\"data row6 col4\" >1000.000000</td>\n",
       "                        <td id=\"T_43477efa_11fd_11eb_9c22_0242ac150003row6_col5\" class=\"data row6 col5\" >2020-02-23</td>\n",
       "                        <td id=\"T_43477efa_11fd_11eb_9c22_0242ac150003row6_col6\" class=\"data row6 col6\" >None</td>\n",
       "            </tr>\n",
       "            <tr>\n",
       "                                <td id=\"T_43477efa_11fd_11eb_9c22_0242ac150003row7_col0\" class=\"data row7 col0\" >8</td>\n",
       "                        <td id=\"T_43477efa_11fd_11eb_9c22_0242ac150003row7_col1\" class=\"data row7 col1\" >Яковлев Г.Р.</td>\n",
       "                        <td id=\"T_43477efa_11fd_11eb_9c22_0242ac150003row7_col2\" class=\"data row7 col2\" >Т330ТТ</td>\n",
       "                        <td id=\"T_43477efa_11fd_11eb_9c22_0242ac150003row7_col3\" class=\"data row7 col3\" >Проезд на запрещающий сигнал</td>\n",
       "                        <td id=\"T_43477efa_11fd_11eb_9c22_0242ac150003row7_col4\" class=\"data row7 col4\" >1000.000000</td>\n",
       "                        <td id=\"T_43477efa_11fd_11eb_9c22_0242ac150003row7_col5\" class=\"data row7 col5\" >2020-03-03</td>\n",
       "                        <td id=\"T_43477efa_11fd_11eb_9c22_0242ac150003row7_col6\" class=\"data row7 col6\" >None</td>\n",
       "            </tr>\n",
       "    </tbody></table>"
      ],
      "text/plain": [
       "<pandas.io.formats.style.Styler at 0x7fa9cfb51fa0>"
      ]
     },
     "execution_count": 81,
     "metadata": {},
     "output_type": "execute_result"
    }
   ],
   "source": [
    "query = '''\n",
    "        SELECT *\n",
    "        FROM fine\n",
    "        '''\n",
    "\n",
    "select_data(query).style.hide_index()"
   ]
  },
  {
   "cell_type": "code",
   "execution_count": 82,
   "metadata": {},
   "outputs": [
    {
     "data": {
      "text/html": [
       "<style  type=\"text/css\" >\n",
       "</style><table id=\"T_59144baa_11fd_11eb_9c22_0242ac150003\" ><thead>    <tr>        <th class=\"col_heading level0 col0\" >name</th>        <th class=\"col_heading level0 col1\" >number_plate</th>        <th class=\"col_heading level0 col2\" >violation</th>    </tr></thead><tbody>\n",
       "                <tr>\n",
       "                                <td id=\"T_59144baa_11fd_11eb_9c22_0242ac150003row0_col0\" class=\"data row0 col0\" >Абрамова К.А.</td>\n",
       "                        <td id=\"T_59144baa_11fd_11eb_9c22_0242ac150003row0_col1\" class=\"data row0 col1\" >О111АВ</td>\n",
       "                        <td id=\"T_59144baa_11fd_11eb_9c22_0242ac150003row0_col2\" class=\"data row0 col2\" >Проезд на запрещающий сигнал</td>\n",
       "            </tr>\n",
       "            <tr>\n",
       "                                <td id=\"T_59144baa_11fd_11eb_9c22_0242ac150003row1_col0\" class=\"data row1 col0\" >Баранов П.Е.</td>\n",
       "                        <td id=\"T_59144baa_11fd_11eb_9c22_0242ac150003row1_col1\" class=\"data row1 col1\" >Р523ВТ</td>\n",
       "                        <td id=\"T_59144baa_11fd_11eb_9c22_0242ac150003row1_col2\" class=\"data row1 col2\" >Превышение скорости (от 40 до 60)</td>\n",
       "            </tr>\n",
       "    </tbody></table>"
      ],
      "text/plain": [
       "<pandas.io.formats.style.Styler at 0x7faa18977f40>"
      ]
     },
     "execution_count": 82,
     "metadata": {},
     "output_type": "execute_result"
    }
   ],
   "source": [
    "query = '''\n",
    "        SELECT name, number_plate, violation\n",
    "        FROM fine\n",
    "        GROUP BY name, number_plate, violation\n",
    "        HAVING COUNT(number_plate) > 1;\n",
    "        '''\n",
    "\n",
    "select_data(query).style.hide_index()"
   ]
  },
  {
   "cell_type": "code",
   "execution_count": 83,
   "metadata": {},
   "outputs": [],
   "source": [
    "query = '''\n",
    "        UPDATE fine, (SELECT name, number_plate, violation FROM fine GROUP BY name, number_plate, violation HAVING COUNT(number_plate) > 1) query_in\n",
    "        SET fine.sum_fine = 2 * fine.sum_fine\n",
    "        WHERE fine.date_payment IS Null and fine.name = query_in.name AND fine.number_plate = query_in.number_plate AND fine.violation = query_in.violation;\n",
    "        '''\n",
    "\n",
    "insert_values(query)"
   ]
  },
  {
   "cell_type": "code",
   "execution_count": 84,
   "metadata": {},
   "outputs": [
    {
     "data": {
      "text/html": [
       "<style  type=\"text/css\" >\n",
       "</style><table id=\"T_8b4229ee_11fd_11eb_9c22_0242ac150003\" ><thead>    <tr>        <th class=\"col_heading level0 col0\" >fine_id</th>        <th class=\"col_heading level0 col1\" >name</th>        <th class=\"col_heading level0 col2\" >number_plate</th>        <th class=\"col_heading level0 col3\" >violation</th>        <th class=\"col_heading level0 col4\" >sum_fine</th>        <th class=\"col_heading level0 col5\" >date_violation</th>        <th class=\"col_heading level0 col6\" >date_payment</th>    </tr></thead><tbody>\n",
       "                <tr>\n",
       "                                <td id=\"T_8b4229ee_11fd_11eb_9c22_0242ac150003row0_col0\" class=\"data row0 col0\" >1</td>\n",
       "                        <td id=\"T_8b4229ee_11fd_11eb_9c22_0242ac150003row0_col1\" class=\"data row0 col1\" >Баранов П.Е.</td>\n",
       "                        <td id=\"T_8b4229ee_11fd_11eb_9c22_0242ac150003row0_col2\" class=\"data row0 col2\" >Р523ВТ</td>\n",
       "                        <td id=\"T_8b4229ee_11fd_11eb_9c22_0242ac150003row0_col3\" class=\"data row0 col3\" >Превышение скорости (от 40 до 60)</td>\n",
       "                        <td id=\"T_8b4229ee_11fd_11eb_9c22_0242ac150003row0_col4\" class=\"data row0 col4\" >500.000000</td>\n",
       "                        <td id=\"T_8b4229ee_11fd_11eb_9c22_0242ac150003row0_col5\" class=\"data row0 col5\" >2020-01-12</td>\n",
       "                        <td id=\"T_8b4229ee_11fd_11eb_9c22_0242ac150003row0_col6\" class=\"data row0 col6\" >2020-01-17</td>\n",
       "            </tr>\n",
       "            <tr>\n",
       "                                <td id=\"T_8b4229ee_11fd_11eb_9c22_0242ac150003row1_col0\" class=\"data row1 col0\" >2</td>\n",
       "                        <td id=\"T_8b4229ee_11fd_11eb_9c22_0242ac150003row1_col1\" class=\"data row1 col1\" >Абрамова К.А.</td>\n",
       "                        <td id=\"T_8b4229ee_11fd_11eb_9c22_0242ac150003row1_col2\" class=\"data row1 col2\" >О111АВ</td>\n",
       "                        <td id=\"T_8b4229ee_11fd_11eb_9c22_0242ac150003row1_col3\" class=\"data row1 col3\" >Проезд на запрещающий сигнал</td>\n",
       "                        <td id=\"T_8b4229ee_11fd_11eb_9c22_0242ac150003row1_col4\" class=\"data row1 col4\" >1000.000000</td>\n",
       "                        <td id=\"T_8b4229ee_11fd_11eb_9c22_0242ac150003row1_col5\" class=\"data row1 col5\" >2020-01-14</td>\n",
       "                        <td id=\"T_8b4229ee_11fd_11eb_9c22_0242ac150003row1_col6\" class=\"data row1 col6\" >2020-02-27</td>\n",
       "            </tr>\n",
       "            <tr>\n",
       "                                <td id=\"T_8b4229ee_11fd_11eb_9c22_0242ac150003row2_col0\" class=\"data row2 col0\" >3</td>\n",
       "                        <td id=\"T_8b4229ee_11fd_11eb_9c22_0242ac150003row2_col1\" class=\"data row2 col1\" >Яковлев Г.Р.</td>\n",
       "                        <td id=\"T_8b4229ee_11fd_11eb_9c22_0242ac150003row2_col2\" class=\"data row2 col2\" >Т330ТТ</td>\n",
       "                        <td id=\"T_8b4229ee_11fd_11eb_9c22_0242ac150003row2_col3\" class=\"data row2 col3\" >Превышение скорости (от 20 до 40)</td>\n",
       "                        <td id=\"T_8b4229ee_11fd_11eb_9c22_0242ac150003row2_col4\" class=\"data row2 col4\" >500.000000</td>\n",
       "                        <td id=\"T_8b4229ee_11fd_11eb_9c22_0242ac150003row2_col5\" class=\"data row2 col5\" >2020-01-23</td>\n",
       "                        <td id=\"T_8b4229ee_11fd_11eb_9c22_0242ac150003row2_col6\" class=\"data row2 col6\" >2020-02-23</td>\n",
       "            </tr>\n",
       "            <tr>\n",
       "                                <td id=\"T_8b4229ee_11fd_11eb_9c22_0242ac150003row3_col0\" class=\"data row3 col0\" >4</td>\n",
       "                        <td id=\"T_8b4229ee_11fd_11eb_9c22_0242ac150003row3_col1\" class=\"data row3 col1\" >Яковлев Г.Р.</td>\n",
       "                        <td id=\"T_8b4229ee_11fd_11eb_9c22_0242ac150003row3_col2\" class=\"data row3 col2\" >М701АА</td>\n",
       "                        <td id=\"T_8b4229ee_11fd_11eb_9c22_0242ac150003row3_col3\" class=\"data row3 col3\" >Превышение скорости (от 20 до 40)</td>\n",
       "                        <td id=\"T_8b4229ee_11fd_11eb_9c22_0242ac150003row3_col4\" class=\"data row3 col4\" >500.000000</td>\n",
       "                        <td id=\"T_8b4229ee_11fd_11eb_9c22_0242ac150003row3_col5\" class=\"data row3 col5\" >2020-01-12</td>\n",
       "                        <td id=\"T_8b4229ee_11fd_11eb_9c22_0242ac150003row3_col6\" class=\"data row3 col6\" >None</td>\n",
       "            </tr>\n",
       "            <tr>\n",
       "                                <td id=\"T_8b4229ee_11fd_11eb_9c22_0242ac150003row4_col0\" class=\"data row4 col0\" >5</td>\n",
       "                        <td id=\"T_8b4229ee_11fd_11eb_9c22_0242ac150003row4_col1\" class=\"data row4 col1\" >Колесов С.П.</td>\n",
       "                        <td id=\"T_8b4229ee_11fd_11eb_9c22_0242ac150003row4_col2\" class=\"data row4 col2\" >К892АХ</td>\n",
       "                        <td id=\"T_8b4229ee_11fd_11eb_9c22_0242ac150003row4_col3\" class=\"data row4 col3\" >Превышение скорости (от 20 до 40)</td>\n",
       "                        <td id=\"T_8b4229ee_11fd_11eb_9c22_0242ac150003row4_col4\" class=\"data row4 col4\" >500.000000</td>\n",
       "                        <td id=\"T_8b4229ee_11fd_11eb_9c22_0242ac150003row4_col5\" class=\"data row4 col5\" >2020-02-01</td>\n",
       "                        <td id=\"T_8b4229ee_11fd_11eb_9c22_0242ac150003row4_col6\" class=\"data row4 col6\" >None</td>\n",
       "            </tr>\n",
       "            <tr>\n",
       "                                <td id=\"T_8b4229ee_11fd_11eb_9c22_0242ac150003row5_col0\" class=\"data row5 col0\" >6</td>\n",
       "                        <td id=\"T_8b4229ee_11fd_11eb_9c22_0242ac150003row5_col1\" class=\"data row5 col1\" >Баранов П.Е.</td>\n",
       "                        <td id=\"T_8b4229ee_11fd_11eb_9c22_0242ac150003row5_col2\" class=\"data row5 col2\" >Р523ВТ</td>\n",
       "                        <td id=\"T_8b4229ee_11fd_11eb_9c22_0242ac150003row5_col3\" class=\"data row5 col3\" >Превышение скорости (от 40 до 60)</td>\n",
       "                        <td id=\"T_8b4229ee_11fd_11eb_9c22_0242ac150003row5_col4\" class=\"data row5 col4\" >2000.000000</td>\n",
       "                        <td id=\"T_8b4229ee_11fd_11eb_9c22_0242ac150003row5_col5\" class=\"data row5 col5\" >2020-02-14</td>\n",
       "                        <td id=\"T_8b4229ee_11fd_11eb_9c22_0242ac150003row5_col6\" class=\"data row5 col6\" >None</td>\n",
       "            </tr>\n",
       "            <tr>\n",
       "                                <td id=\"T_8b4229ee_11fd_11eb_9c22_0242ac150003row6_col0\" class=\"data row6 col0\" >7</td>\n",
       "                        <td id=\"T_8b4229ee_11fd_11eb_9c22_0242ac150003row6_col1\" class=\"data row6 col1\" >Абрамова К.А.</td>\n",
       "                        <td id=\"T_8b4229ee_11fd_11eb_9c22_0242ac150003row6_col2\" class=\"data row6 col2\" >О111АВ</td>\n",
       "                        <td id=\"T_8b4229ee_11fd_11eb_9c22_0242ac150003row6_col3\" class=\"data row6 col3\" >Проезд на запрещающий сигнал</td>\n",
       "                        <td id=\"T_8b4229ee_11fd_11eb_9c22_0242ac150003row6_col4\" class=\"data row6 col4\" >2000.000000</td>\n",
       "                        <td id=\"T_8b4229ee_11fd_11eb_9c22_0242ac150003row6_col5\" class=\"data row6 col5\" >2020-02-23</td>\n",
       "                        <td id=\"T_8b4229ee_11fd_11eb_9c22_0242ac150003row6_col6\" class=\"data row6 col6\" >None</td>\n",
       "            </tr>\n",
       "            <tr>\n",
       "                                <td id=\"T_8b4229ee_11fd_11eb_9c22_0242ac150003row7_col0\" class=\"data row7 col0\" >8</td>\n",
       "                        <td id=\"T_8b4229ee_11fd_11eb_9c22_0242ac150003row7_col1\" class=\"data row7 col1\" >Яковлев Г.Р.</td>\n",
       "                        <td id=\"T_8b4229ee_11fd_11eb_9c22_0242ac150003row7_col2\" class=\"data row7 col2\" >Т330ТТ</td>\n",
       "                        <td id=\"T_8b4229ee_11fd_11eb_9c22_0242ac150003row7_col3\" class=\"data row7 col3\" >Проезд на запрещающий сигнал</td>\n",
       "                        <td id=\"T_8b4229ee_11fd_11eb_9c22_0242ac150003row7_col4\" class=\"data row7 col4\" >1000.000000</td>\n",
       "                        <td id=\"T_8b4229ee_11fd_11eb_9c22_0242ac150003row7_col5\" class=\"data row7 col5\" >2020-03-03</td>\n",
       "                        <td id=\"T_8b4229ee_11fd_11eb_9c22_0242ac150003row7_col6\" class=\"data row7 col6\" >None</td>\n",
       "            </tr>\n",
       "    </tbody></table>"
      ],
      "text/plain": [
       "<pandas.io.formats.style.Styler at 0x7faa1591f7c0>"
      ]
     },
     "execution_count": 84,
     "metadata": {},
     "output_type": "execute_result"
    }
   ],
   "source": [
    "query = '''\n",
    "        SELECT *\n",
    "        FROM fine\n",
    "        '''\n",
    "\n",
    "select_data(query).style.hide_index()"
   ]
  },
  {
   "cell_type": "code",
   "execution_count": 86,
   "metadata": {},
   "outputs": [],
   "source": [
    "# query = '''\n",
    "#         CREATE TABLE payment (\n",
    "#                              payment_id INT PRIMARY KEY AUTO_INCREMENT, \n",
    "#                              name VARCHAR(30), \n",
    "#                              number_plate VARCHAR(6),\n",
    "#                              violation VARCHAR(50),\n",
    "#                              date_violation DATE, \n",
    "#                              date_payment DATE \n",
    "#                           );\n",
    "#         '''\n",
    "\n",
    "# create_table(query)"
   ]
  },
  {
   "cell_type": "code",
   "execution_count": 87,
   "metadata": {},
   "outputs": [],
   "source": [
    "query = '''\n",
    "        INSERT INTO payment (name, number_plate, violation, date_violation, date_payment)\n",
    "        VALUES ('Яковлев Г.Р.', 'М701АА', 'Превышение скорости (от 20 до 40)', STR_TO_DATE('2020-01-12', '%Y-%m-%d'), STR_TO_DATE('2020-01-22', '%Y-%m-%d')),\n",
    "               ('Баранов П.Е.', 'Р523ВТ', 'Превышение скорости (от 40 до 60)', STR_TO_DATE('2020-02-14', '%Y-%m-%d'), STR_TO_DATE('2020-03-15', '%Y-%m-%d')),\n",
    "               ('Яковлев Г.Р.', 'Т330ТТ', 'Проезд на запрещающий сигнал', STR_TO_DATE('2020-03-03', '%Y-%m-%d'), STR_TO_DATE('2020-03-21', '%Y-%m-%d'));\n",
    "        '''\n",
    "\n",
    "insert_values(query)"
   ]
  },
  {
   "cell_type": "code",
   "execution_count": 88,
   "metadata": {},
   "outputs": [],
   "source": [
    "query = '''\n",
    "        UPDATE fine, payment SET fine.sum_fine = IF(DATEDIFF(payment.date_payment, payment.date_violation) + 1 < 20 , 0.5 * fine.sum_fine, fine.sum_fine), fine.date_payment = payment.date_payment\n",
    "        WHERE fine.date_payment IS Null and fine.name = payment.name AND fine.number_plate = payment.number_plate AND fine.violation = payment.violation;\n",
    "        '''\n",
    "\n",
    "insert_values(query)"
   ]
  },
  {
   "cell_type": "code",
   "execution_count": 89,
   "metadata": {},
   "outputs": [
    {
     "data": {
      "text/html": [
       "<style  type=\"text/css\" >\n",
       "</style><table id=\"T_c533507c_11ff_11eb_9c22_0242ac150003\" ><thead>    <tr>        <th class=\"col_heading level0 col0\" >fine_id</th>        <th class=\"col_heading level0 col1\" >name</th>        <th class=\"col_heading level0 col2\" >number_plate</th>        <th class=\"col_heading level0 col3\" >violation</th>        <th class=\"col_heading level0 col4\" >sum_fine</th>        <th class=\"col_heading level0 col5\" >date_violation</th>        <th class=\"col_heading level0 col6\" >date_payment</th>    </tr></thead><tbody>\n",
       "                <tr>\n",
       "                                <td id=\"T_c533507c_11ff_11eb_9c22_0242ac150003row0_col0\" class=\"data row0 col0\" >1</td>\n",
       "                        <td id=\"T_c533507c_11ff_11eb_9c22_0242ac150003row0_col1\" class=\"data row0 col1\" >Баранов П.Е.</td>\n",
       "                        <td id=\"T_c533507c_11ff_11eb_9c22_0242ac150003row0_col2\" class=\"data row0 col2\" >Р523ВТ</td>\n",
       "                        <td id=\"T_c533507c_11ff_11eb_9c22_0242ac150003row0_col3\" class=\"data row0 col3\" >Превышение скорости (от 40 до 60)</td>\n",
       "                        <td id=\"T_c533507c_11ff_11eb_9c22_0242ac150003row0_col4\" class=\"data row0 col4\" >500.000000</td>\n",
       "                        <td id=\"T_c533507c_11ff_11eb_9c22_0242ac150003row0_col5\" class=\"data row0 col5\" >2020-01-12</td>\n",
       "                        <td id=\"T_c533507c_11ff_11eb_9c22_0242ac150003row0_col6\" class=\"data row0 col6\" >2020-01-17</td>\n",
       "            </tr>\n",
       "            <tr>\n",
       "                                <td id=\"T_c533507c_11ff_11eb_9c22_0242ac150003row1_col0\" class=\"data row1 col0\" >2</td>\n",
       "                        <td id=\"T_c533507c_11ff_11eb_9c22_0242ac150003row1_col1\" class=\"data row1 col1\" >Абрамова К.А.</td>\n",
       "                        <td id=\"T_c533507c_11ff_11eb_9c22_0242ac150003row1_col2\" class=\"data row1 col2\" >О111АВ</td>\n",
       "                        <td id=\"T_c533507c_11ff_11eb_9c22_0242ac150003row1_col3\" class=\"data row1 col3\" >Проезд на запрещающий сигнал</td>\n",
       "                        <td id=\"T_c533507c_11ff_11eb_9c22_0242ac150003row1_col4\" class=\"data row1 col4\" >1000.000000</td>\n",
       "                        <td id=\"T_c533507c_11ff_11eb_9c22_0242ac150003row1_col5\" class=\"data row1 col5\" >2020-01-14</td>\n",
       "                        <td id=\"T_c533507c_11ff_11eb_9c22_0242ac150003row1_col6\" class=\"data row1 col6\" >2020-02-27</td>\n",
       "            </tr>\n",
       "            <tr>\n",
       "                                <td id=\"T_c533507c_11ff_11eb_9c22_0242ac150003row2_col0\" class=\"data row2 col0\" >3</td>\n",
       "                        <td id=\"T_c533507c_11ff_11eb_9c22_0242ac150003row2_col1\" class=\"data row2 col1\" >Яковлев Г.Р.</td>\n",
       "                        <td id=\"T_c533507c_11ff_11eb_9c22_0242ac150003row2_col2\" class=\"data row2 col2\" >Т330ТТ</td>\n",
       "                        <td id=\"T_c533507c_11ff_11eb_9c22_0242ac150003row2_col3\" class=\"data row2 col3\" >Превышение скорости (от 20 до 40)</td>\n",
       "                        <td id=\"T_c533507c_11ff_11eb_9c22_0242ac150003row2_col4\" class=\"data row2 col4\" >500.000000</td>\n",
       "                        <td id=\"T_c533507c_11ff_11eb_9c22_0242ac150003row2_col5\" class=\"data row2 col5\" >2020-01-23</td>\n",
       "                        <td id=\"T_c533507c_11ff_11eb_9c22_0242ac150003row2_col6\" class=\"data row2 col6\" >2020-02-23</td>\n",
       "            </tr>\n",
       "            <tr>\n",
       "                                <td id=\"T_c533507c_11ff_11eb_9c22_0242ac150003row3_col0\" class=\"data row3 col0\" >4</td>\n",
       "                        <td id=\"T_c533507c_11ff_11eb_9c22_0242ac150003row3_col1\" class=\"data row3 col1\" >Яковлев Г.Р.</td>\n",
       "                        <td id=\"T_c533507c_11ff_11eb_9c22_0242ac150003row3_col2\" class=\"data row3 col2\" >М701АА</td>\n",
       "                        <td id=\"T_c533507c_11ff_11eb_9c22_0242ac150003row3_col3\" class=\"data row3 col3\" >Превышение скорости (от 20 до 40)</td>\n",
       "                        <td id=\"T_c533507c_11ff_11eb_9c22_0242ac150003row3_col4\" class=\"data row3 col4\" >250.000000</td>\n",
       "                        <td id=\"T_c533507c_11ff_11eb_9c22_0242ac150003row3_col5\" class=\"data row3 col5\" >2020-01-12</td>\n",
       "                        <td id=\"T_c533507c_11ff_11eb_9c22_0242ac150003row3_col6\" class=\"data row3 col6\" >2020-01-22</td>\n",
       "            </tr>\n",
       "            <tr>\n",
       "                                <td id=\"T_c533507c_11ff_11eb_9c22_0242ac150003row4_col0\" class=\"data row4 col0\" >5</td>\n",
       "                        <td id=\"T_c533507c_11ff_11eb_9c22_0242ac150003row4_col1\" class=\"data row4 col1\" >Колесов С.П.</td>\n",
       "                        <td id=\"T_c533507c_11ff_11eb_9c22_0242ac150003row4_col2\" class=\"data row4 col2\" >К892АХ</td>\n",
       "                        <td id=\"T_c533507c_11ff_11eb_9c22_0242ac150003row4_col3\" class=\"data row4 col3\" >Превышение скорости (от 20 до 40)</td>\n",
       "                        <td id=\"T_c533507c_11ff_11eb_9c22_0242ac150003row4_col4\" class=\"data row4 col4\" >500.000000</td>\n",
       "                        <td id=\"T_c533507c_11ff_11eb_9c22_0242ac150003row4_col5\" class=\"data row4 col5\" >2020-02-01</td>\n",
       "                        <td id=\"T_c533507c_11ff_11eb_9c22_0242ac150003row4_col6\" class=\"data row4 col6\" >None</td>\n",
       "            </tr>\n",
       "            <tr>\n",
       "                                <td id=\"T_c533507c_11ff_11eb_9c22_0242ac150003row5_col0\" class=\"data row5 col0\" >6</td>\n",
       "                        <td id=\"T_c533507c_11ff_11eb_9c22_0242ac150003row5_col1\" class=\"data row5 col1\" >Баранов П.Е.</td>\n",
       "                        <td id=\"T_c533507c_11ff_11eb_9c22_0242ac150003row5_col2\" class=\"data row5 col2\" >Р523ВТ</td>\n",
       "                        <td id=\"T_c533507c_11ff_11eb_9c22_0242ac150003row5_col3\" class=\"data row5 col3\" >Превышение скорости (от 40 до 60)</td>\n",
       "                        <td id=\"T_c533507c_11ff_11eb_9c22_0242ac150003row5_col4\" class=\"data row5 col4\" >2000.000000</td>\n",
       "                        <td id=\"T_c533507c_11ff_11eb_9c22_0242ac150003row5_col5\" class=\"data row5 col5\" >2020-02-14</td>\n",
       "                        <td id=\"T_c533507c_11ff_11eb_9c22_0242ac150003row5_col6\" class=\"data row5 col6\" >2020-03-15</td>\n",
       "            </tr>\n",
       "            <tr>\n",
       "                                <td id=\"T_c533507c_11ff_11eb_9c22_0242ac150003row6_col0\" class=\"data row6 col0\" >7</td>\n",
       "                        <td id=\"T_c533507c_11ff_11eb_9c22_0242ac150003row6_col1\" class=\"data row6 col1\" >Абрамова К.А.</td>\n",
       "                        <td id=\"T_c533507c_11ff_11eb_9c22_0242ac150003row6_col2\" class=\"data row6 col2\" >О111АВ</td>\n",
       "                        <td id=\"T_c533507c_11ff_11eb_9c22_0242ac150003row6_col3\" class=\"data row6 col3\" >Проезд на запрещающий сигнал</td>\n",
       "                        <td id=\"T_c533507c_11ff_11eb_9c22_0242ac150003row6_col4\" class=\"data row6 col4\" >2000.000000</td>\n",
       "                        <td id=\"T_c533507c_11ff_11eb_9c22_0242ac150003row6_col5\" class=\"data row6 col5\" >2020-02-23</td>\n",
       "                        <td id=\"T_c533507c_11ff_11eb_9c22_0242ac150003row6_col6\" class=\"data row6 col6\" >None</td>\n",
       "            </tr>\n",
       "            <tr>\n",
       "                                <td id=\"T_c533507c_11ff_11eb_9c22_0242ac150003row7_col0\" class=\"data row7 col0\" >8</td>\n",
       "                        <td id=\"T_c533507c_11ff_11eb_9c22_0242ac150003row7_col1\" class=\"data row7 col1\" >Яковлев Г.Р.</td>\n",
       "                        <td id=\"T_c533507c_11ff_11eb_9c22_0242ac150003row7_col2\" class=\"data row7 col2\" >Т330ТТ</td>\n",
       "                        <td id=\"T_c533507c_11ff_11eb_9c22_0242ac150003row7_col3\" class=\"data row7 col3\" >Проезд на запрещающий сигнал</td>\n",
       "                        <td id=\"T_c533507c_11ff_11eb_9c22_0242ac150003row7_col4\" class=\"data row7 col4\" >500.000000</td>\n",
       "                        <td id=\"T_c533507c_11ff_11eb_9c22_0242ac150003row7_col5\" class=\"data row7 col5\" >2020-03-03</td>\n",
       "                        <td id=\"T_c533507c_11ff_11eb_9c22_0242ac150003row7_col6\" class=\"data row7 col6\" >2020-03-21</td>\n",
       "            </tr>\n",
       "    </tbody></table>"
      ],
      "text/plain": [
       "<pandas.io.formats.style.Styler at 0x7fa9cfb51df0>"
      ]
     },
     "execution_count": 89,
     "metadata": {},
     "output_type": "execute_result"
    }
   ],
   "source": [
    "query = '''\n",
    "        SELECT *\n",
    "        FROM fine\n",
    "        '''\n",
    "\n",
    "select_data(query).style.hide_index()"
   ]
  },
  {
   "cell_type": "code",
   "execution_count": 90,
   "metadata": {},
   "outputs": [],
   "source": [
    "# query = '''\n",
    "#         CREATE TABLE back_payment AS\n",
    "#             SELECT name, number_plate, violation, sum_fine, date_violation\n",
    "#             FROM fine\n",
    "#             WHERE date_payment IS Null;\n",
    "#         '''\n",
    "\n",
    "# create_table(query)"
   ]
  },
  {
   "cell_type": "code",
   "execution_count": 91,
   "metadata": {},
   "outputs": [
    {
     "data": {
      "text/html": [
       "<style  type=\"text/css\" >\n",
       "</style><table id=\"T_ff95346a_11ff_11eb_9c22_0242ac150003\" ><thead>    <tr>        <th class=\"col_heading level0 col0\" >name</th>        <th class=\"col_heading level0 col1\" >number_plate</th>        <th class=\"col_heading level0 col2\" >violation</th>        <th class=\"col_heading level0 col3\" >sum_fine</th>        <th class=\"col_heading level0 col4\" >date_violation</th>    </tr></thead><tbody>\n",
       "                <tr>\n",
       "                                <td id=\"T_ff95346a_11ff_11eb_9c22_0242ac150003row0_col0\" class=\"data row0 col0\" >Колесов С.П.</td>\n",
       "                        <td id=\"T_ff95346a_11ff_11eb_9c22_0242ac150003row0_col1\" class=\"data row0 col1\" >К892АХ</td>\n",
       "                        <td id=\"T_ff95346a_11ff_11eb_9c22_0242ac150003row0_col2\" class=\"data row0 col2\" >Превышение скорости (от 20 до 40)</td>\n",
       "                        <td id=\"T_ff95346a_11ff_11eb_9c22_0242ac150003row0_col3\" class=\"data row0 col3\" >500.000000</td>\n",
       "                        <td id=\"T_ff95346a_11ff_11eb_9c22_0242ac150003row0_col4\" class=\"data row0 col4\" >2020-02-01</td>\n",
       "            </tr>\n",
       "            <tr>\n",
       "                                <td id=\"T_ff95346a_11ff_11eb_9c22_0242ac150003row1_col0\" class=\"data row1 col0\" >Абрамова К.А.</td>\n",
       "                        <td id=\"T_ff95346a_11ff_11eb_9c22_0242ac150003row1_col1\" class=\"data row1 col1\" >О111АВ</td>\n",
       "                        <td id=\"T_ff95346a_11ff_11eb_9c22_0242ac150003row1_col2\" class=\"data row1 col2\" >Проезд на запрещающий сигнал</td>\n",
       "                        <td id=\"T_ff95346a_11ff_11eb_9c22_0242ac150003row1_col3\" class=\"data row1 col3\" >2000.000000</td>\n",
       "                        <td id=\"T_ff95346a_11ff_11eb_9c22_0242ac150003row1_col4\" class=\"data row1 col4\" >2020-02-23</td>\n",
       "            </tr>\n",
       "    </tbody></table>"
      ],
      "text/plain": [
       "<pandas.io.formats.style.Styler at 0x7fa9cfbe6a90>"
      ]
     },
     "execution_count": 91,
     "metadata": {},
     "output_type": "execute_result"
    }
   ],
   "source": [
    "query = '''\n",
    "        SELECT *\n",
    "        FROM back_payment;\n",
    "        '''\n",
    "\n",
    "select_data(query).style.hide_index()"
   ]
  },
  {
   "cell_type": "code",
   "execution_count": 92,
   "metadata": {},
   "outputs": [],
   "source": [
    "query = '''\n",
    "        DELETE FROM fine\n",
    "        WHERE date_violation < '2020-02-01';\n",
    "        '''\n",
    "\n",
    "insert_values(query)"
   ]
  },
  {
   "cell_type": "code",
   "execution_count": 93,
   "metadata": {},
   "outputs": [
    {
     "data": {
      "text/html": [
       "<style  type=\"text/css\" >\n",
       "</style><table id=\"T_25730da6_1200_11eb_9c22_0242ac150003\" ><thead>    <tr>        <th class=\"col_heading level0 col0\" >fine_id</th>        <th class=\"col_heading level0 col1\" >name</th>        <th class=\"col_heading level0 col2\" >number_plate</th>        <th class=\"col_heading level0 col3\" >violation</th>        <th class=\"col_heading level0 col4\" >sum_fine</th>        <th class=\"col_heading level0 col5\" >date_violation</th>        <th class=\"col_heading level0 col6\" >date_payment</th>    </tr></thead><tbody>\n",
       "                <tr>\n",
       "                                <td id=\"T_25730da6_1200_11eb_9c22_0242ac150003row0_col0\" class=\"data row0 col0\" >5</td>\n",
       "                        <td id=\"T_25730da6_1200_11eb_9c22_0242ac150003row0_col1\" class=\"data row0 col1\" >Колесов С.П.</td>\n",
       "                        <td id=\"T_25730da6_1200_11eb_9c22_0242ac150003row0_col2\" class=\"data row0 col2\" >К892АХ</td>\n",
       "                        <td id=\"T_25730da6_1200_11eb_9c22_0242ac150003row0_col3\" class=\"data row0 col3\" >Превышение скорости (от 20 до 40)</td>\n",
       "                        <td id=\"T_25730da6_1200_11eb_9c22_0242ac150003row0_col4\" class=\"data row0 col4\" >500.000000</td>\n",
       "                        <td id=\"T_25730da6_1200_11eb_9c22_0242ac150003row0_col5\" class=\"data row0 col5\" >2020-02-01</td>\n",
       "                        <td id=\"T_25730da6_1200_11eb_9c22_0242ac150003row0_col6\" class=\"data row0 col6\" >None</td>\n",
       "            </tr>\n",
       "            <tr>\n",
       "                                <td id=\"T_25730da6_1200_11eb_9c22_0242ac150003row1_col0\" class=\"data row1 col0\" >6</td>\n",
       "                        <td id=\"T_25730da6_1200_11eb_9c22_0242ac150003row1_col1\" class=\"data row1 col1\" >Баранов П.Е.</td>\n",
       "                        <td id=\"T_25730da6_1200_11eb_9c22_0242ac150003row1_col2\" class=\"data row1 col2\" >Р523ВТ</td>\n",
       "                        <td id=\"T_25730da6_1200_11eb_9c22_0242ac150003row1_col3\" class=\"data row1 col3\" >Превышение скорости (от 40 до 60)</td>\n",
       "                        <td id=\"T_25730da6_1200_11eb_9c22_0242ac150003row1_col4\" class=\"data row1 col4\" >2000.000000</td>\n",
       "                        <td id=\"T_25730da6_1200_11eb_9c22_0242ac150003row1_col5\" class=\"data row1 col5\" >2020-02-14</td>\n",
       "                        <td id=\"T_25730da6_1200_11eb_9c22_0242ac150003row1_col6\" class=\"data row1 col6\" >2020-03-15</td>\n",
       "            </tr>\n",
       "            <tr>\n",
       "                                <td id=\"T_25730da6_1200_11eb_9c22_0242ac150003row2_col0\" class=\"data row2 col0\" >7</td>\n",
       "                        <td id=\"T_25730da6_1200_11eb_9c22_0242ac150003row2_col1\" class=\"data row2 col1\" >Абрамова К.А.</td>\n",
       "                        <td id=\"T_25730da6_1200_11eb_9c22_0242ac150003row2_col2\" class=\"data row2 col2\" >О111АВ</td>\n",
       "                        <td id=\"T_25730da6_1200_11eb_9c22_0242ac150003row2_col3\" class=\"data row2 col3\" >Проезд на запрещающий сигнал</td>\n",
       "                        <td id=\"T_25730da6_1200_11eb_9c22_0242ac150003row2_col4\" class=\"data row2 col4\" >2000.000000</td>\n",
       "                        <td id=\"T_25730da6_1200_11eb_9c22_0242ac150003row2_col5\" class=\"data row2 col5\" >2020-02-23</td>\n",
       "                        <td id=\"T_25730da6_1200_11eb_9c22_0242ac150003row2_col6\" class=\"data row2 col6\" >None</td>\n",
       "            </tr>\n",
       "            <tr>\n",
       "                                <td id=\"T_25730da6_1200_11eb_9c22_0242ac150003row3_col0\" class=\"data row3 col0\" >8</td>\n",
       "                        <td id=\"T_25730da6_1200_11eb_9c22_0242ac150003row3_col1\" class=\"data row3 col1\" >Яковлев Г.Р.</td>\n",
       "                        <td id=\"T_25730da6_1200_11eb_9c22_0242ac150003row3_col2\" class=\"data row3 col2\" >Т330ТТ</td>\n",
       "                        <td id=\"T_25730da6_1200_11eb_9c22_0242ac150003row3_col3\" class=\"data row3 col3\" >Проезд на запрещающий сигнал</td>\n",
       "                        <td id=\"T_25730da6_1200_11eb_9c22_0242ac150003row3_col4\" class=\"data row3 col4\" >500.000000</td>\n",
       "                        <td id=\"T_25730da6_1200_11eb_9c22_0242ac150003row3_col5\" class=\"data row3 col5\" >2020-03-03</td>\n",
       "                        <td id=\"T_25730da6_1200_11eb_9c22_0242ac150003row3_col6\" class=\"data row3 col6\" >2020-03-21</td>\n",
       "            </tr>\n",
       "    </tbody></table>"
      ],
      "text/plain": [
       "<pandas.io.formats.style.Styler at 0x7fa9cfabbeb0>"
      ]
     },
     "execution_count": 93,
     "metadata": {},
     "output_type": "execute_result"
    }
   ],
   "source": [
    "query = '''\n",
    "        SELECT *\n",
    "        FROM fine;\n",
    "        '''\n",
    "\n",
    "select_data(query).style.hide_index()"
   ]
  }
 ],
 "metadata": {
  "kernelspec": {
   "display_name": "Python 3",
   "language": "python",
   "name": "python3"
  },
  "language_info": {
   "codemirror_mode": {
    "name": "ipython",
    "version": 3
   },
   "file_extension": ".py",
   "mimetype": "text/x-python",
   "name": "python",
   "nbconvert_exporter": "python",
   "pygments_lexer": "ipython3",
   "version": "3.8.5"
  }
 },
 "nbformat": 4,
 "nbformat_minor": 4
}
